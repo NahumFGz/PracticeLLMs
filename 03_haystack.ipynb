{
 "cells": [
  {
   "cell_type": "markdown",
   "metadata": {},
   "source": [
    "### Caso: \n",
    "\n",
    "* Ejemplo básico con Haystack utilizando los datasets que mencionaste. La idea será:\n",
    "    * Cargar el dataset.\n",
    "    * Configurar un índice simple con Elasticsearch o FAISS.\n",
    "    * Implementar un pipeline básico para preguntas y respuestas.\n",
    "\n",
    "Para este ejemplo, usaremos Elasticsearch como el backend de búsqueda y un modelo preentrenado de Hugging Face para extraer respuestas."
   ]
  },
  {
   "cell_type": "code",
   "execution_count": 14,
   "metadata": {},
   "outputs": [
    {
     "name": "stderr",
     "output_type": "stream",
     "text": [
      "Writing Documents: 10000it [00:01, 9183.18it/s]            \n",
      "Documents Processed: 10000 docs [00:04, 2195.55 docs/s]         \n",
      "Inferencing Samples: 100%|██████████| 1/1 [00:00<00:00, 38.24 Batches/s]"
     ]
    },
    {
     "name": "stdout",
     "output_type": "stream",
     "text": [
      "Respuesta: France (score: 0.15677842497825623)\n",
      "Contexto: in the 10th and 11th centuries gave their name to Normandy, a region in France. They were descended from Norse (\"Norman\" comes from \"Norseman\") raider\n",
      "\n",
      "Respuesta: Normandy (score: 0.06987866014242172)\n",
      "Contexto: tura and El Hierro off the Atlantic coast of Africa. Their troops were gathered in Normandy, Gascony and were later reinforced by Castilian colonists.\n",
      "\n",
      "Respuesta: Jersey and Guernsey in the Channel Islands (score: 0.04388099163770676)\n",
      "Contexto: uries and survives today through the legal systems of Jersey and Guernsey in the Channel Islands. Norman customary law was transcribed in two customar\n",
      "\n"
     ]
    },
    {
     "name": "stderr",
     "output_type": "stream",
     "text": [
      "\n"
     ]
    }
   ],
   "source": [
    "from haystack.document_stores import FAISSDocumentStore\n",
    "from haystack.nodes import DensePassageRetriever, FARMReader\n",
    "from haystack.pipelines import ExtractiveQAPipeline\n",
    "import json\n",
    "\n",
    "# Configuración de FAISS Document Store\n",
    "document_store = FAISSDocumentStore(embedding_dim=768)\n",
    "\n",
    "# Función para cargar datos del JSON con el formato SQuAD\n",
    "def load_squad_data(file_path):\n",
    "    with open(file_path, \"r\", encoding=\"utf-8\") as file:\n",
    "        squad_data = json.load(file)\n",
    "    documents = []\n",
    "    for data in squad_data['data']:\n",
    "        title = data.get(\"title\", \"Unknown\")\n",
    "        for paragraph in data[\"paragraphs\"]:\n",
    "            context = paragraph[\"context\"]\n",
    "            # Agregar cada contexto como un documento\n",
    "            documents.append({\n",
    "                \"content\": context,\n",
    "                \"meta\": {\"source\": title}\n",
    "            })\n",
    "    return documents\n",
    "\n",
    "# Cargar los datos de SQuAD\n",
    "squad_docs = load_squad_data(\"data/squad/squad-dev-v2.0.json\")\n",
    "\n",
    "# Agregar documentos al document store\n",
    "document_store.write_documents(squad_docs)\n",
    "\n",
    "# Configurar el DensePassageRetriever\n",
    "retriever = DensePassageRetriever(\n",
    "    document_store=document_store,\n",
    "    query_embedding_model=\"facebook/dpr-question_encoder-single-nq-base\",\n",
    "    passage_embedding_model=\"facebook/dpr-ctx_encoder-single-nq-base\",\n",
    "    use_gpu=True\n",
    ")\n",
    "\n",
    "# Generar y almacenar embeddings\n",
    "document_store.update_embeddings(retriever)\n",
    "\n",
    "# Configurar el modelo lector\n",
    "reader = FARMReader(model_name_or_path=\"deepset/roberta-base-squad2\", use_gpu=True)\n",
    "\n",
    "# Crear un pipeline de Preguntas y Respuestas\n",
    "pipeline = ExtractiveQAPipeline(reader=reader, retriever=retriever)\n",
    "\n",
    "# Ejemplo de consulta\n",
    "query = \"¿En qué país se encuentra Normandía?\"\n",
    "prediction = pipeline.run(query=query, params={\"Retriever\": {\"top_k\": 5}, \"Reader\": {\"top_k\": 3}})\n",
    "\n",
    "# Mostrar los resultados\n",
    "for answer in prediction[\"answers\"]:\n",
    "    print(f\"Respuesta: {answer.answer} (score: {answer.score})\")\n",
    "    print(f\"Contexto: {answer.context}\")\n",
    "    print()\n"
   ]
  },
  {
   "cell_type": "code",
   "execution_count": null,
   "metadata": {},
   "outputs": [],
   "source": []
  }
 ],
 "metadata": {
  "kernelspec": {
   "display_name": "venv_haystack",
   "language": "python",
   "name": "python3"
  },
  "language_info": {
   "codemirror_mode": {
    "name": "ipython",
    "version": 3
   },
   "file_extension": ".py",
   "mimetype": "text/x-python",
   "name": "python",
   "nbconvert_exporter": "python",
   "pygments_lexer": "ipython3",
   "version": "3.12.3"
  }
 },
 "nbformat": 4,
 "nbformat_minor": 2
}
