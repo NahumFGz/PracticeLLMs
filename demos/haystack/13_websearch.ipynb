{
 "cells": [
  {
   "cell_type": "markdown",
   "metadata": {},
   "source": [
    "### [Building Fallbacks to Websearch with Conditional Routing](https://haystack.deepset.ai/tutorials/36_building_fallbacks_with_conditional_routing)"
   ]
  },
  {
   "cell_type": "code",
   "execution_count": 1,
   "metadata": {},
   "outputs": [],
   "source": [
    "#! Solo es para haystack sepa que tutorial se esta ejecutando\n",
    "from haystack.telemetry import tutorial_running\n",
    "tutorial_running(36)"
   ]
  },
  {
   "cell_type": "markdown",
   "metadata": {},
   "source": [
    "### 1. Código Original"
   ]
  },
  {
   "cell_type": "code",
   "execution_count": 2,
   "metadata": {},
   "outputs": [],
   "source": [
    "from getpass import getpass\n",
    "import os\n",
    "\n",
    "if \"OPENAI_API_KEY\" not in os.environ:\n",
    "    os.environ[\"OPENAI_API_KEY\"] = getpass(\"Enter OpenAI API key:\")\n",
    "if \"SERPERDEV_API_KEY\" not in os.environ:\n",
    "    os.environ[\"SERPERDEV_API_KEY\"] = getpass(\"Enter Serper Api key: \")"
   ]
  },
  {
   "cell_type": "code",
   "execution_count": 3,
   "metadata": {},
   "outputs": [],
   "source": [
    "from haystack.dataclasses import Document\n",
    "\n",
    "documents = [\n",
    "    Document(\n",
    "        content=\"\"\"Munich, the vibrant capital of Bavaria in southern Germany, exudes a perfect blend of rich cultural\n",
    "                                heritage and modern urban sophistication. Nestled along the banks of the Isar River, Munich is renowned\n",
    "                                for its splendid architecture, including the iconic Neues Rathaus (New Town Hall) at Marienplatz and\n",
    "                                the grandeur of Nymphenburg Palace. The city is a haven for art enthusiasts, with world-class museums like the\n",
    "                                Alte Pinakothek housing masterpieces by renowned artists. Munich is also famous for its lively beer gardens, where\n",
    "                                locals and tourists gather to enjoy the city's famed beers and traditional Bavarian cuisine. The city's annual\n",
    "                                Oktoberfest celebration, the world's largest beer festival, attracts millions of visitors from around the globe.\n",
    "                                Beyond its cultural and culinary delights, Munich offers picturesque parks like the English Garden, providing a\n",
    "                                serene escape within the heart of the bustling metropolis. Visitors are charmed by Munich's warm hospitality,\n",
    "                                making it a must-visit destination for travelers seeking a taste of both old-world charm and contemporary allure.\"\"\"\n",
    "    )\n",
    "]\n"
   ]
  },
  {
   "cell_type": "code",
   "execution_count": 4,
   "metadata": {},
   "outputs": [],
   "source": [
    "from haystack.components.builders import ChatPromptBuilder\n",
    "from haystack.dataclasses import ChatMessage\n",
    "from haystack.components.generators.chat import OpenAIChatGenerator\n",
    "\n",
    "prompt_template = [ChatMessage.from_user(\"\"\"\n",
    "Answer the following query given the documents.\n",
    "If the answer is not contained within the documents reply with 'no_answer'\n",
    "Query: {{query}}\n",
    "Documents:\n",
    "{% for document in documents %}\n",
    "  {{document.content}}\n",
    "{% endfor %}\n",
    "\"\"\")]\n",
    "\n",
    "prompt_builder = ChatPromptBuilder(template=prompt_template)\n",
    "llm = OpenAIChatGenerator(model=\"gpt-4o-mini\")\n"
   ]
  },
  {
   "cell_type": "code",
   "execution_count": 5,
   "metadata": {},
   "outputs": [],
   "source": [
    "\n",
    "from haystack.components.websearch.serper_dev import SerperDevWebSearch\n",
    "\n",
    "prompt_for_websearch = [ChatMessage.from_user(\"\"\"\n",
    "Answer the following query given the documents retrieved from the web.\n",
    "Your answer shoud indicate that your answer was generated from websearch.\n",
    "\n",
    "Query: {{query}}\n",
    "Documents:\n",
    "{% for document in documents %}\n",
    "  {{document.content}}\n",
    "{% endfor %}\n",
    "\"\"\")]\n",
    "\n",
    "websearch = SerperDevWebSearch()\n",
    "prompt_builder_for_websearch = ChatPromptBuilder(template=prompt_for_websearch)\n",
    "llm_for_websearch = OpenAIChatGenerator(model=\"gpt-4o-mini\")\n"
   ]
  },
  {
   "cell_type": "code",
   "execution_count": 6,
   "metadata": {},
   "outputs": [],
   "source": [
    "from haystack.components.routers import ConditionalRouter\n",
    "\n",
    "routes = [\n",
    "    {\n",
    "        \"condition\": \"{{'no_answer' in replies[0].text}}\",\n",
    "        \"output\": \"{{query}}\",\n",
    "        \"output_name\": \"go_to_websearch\",\n",
    "        \"output_type\": str,\n",
    "    },\n",
    "    {\n",
    "        \"condition\": \"{{'no_answer' not in replies[0].text}}\",\n",
    "        \"output\": \"{{replies[0].text}}\",\n",
    "        \"output_name\": \"answer\",\n",
    "        \"output_type\": str,\n",
    "    },\n",
    "]\n",
    "\n",
    "router = ConditionalRouter(routes)\n"
   ]
  },
  {
   "cell_type": "code",
   "execution_count": 7,
   "metadata": {},
   "outputs": [
    {
     "data": {
      "text/plain": [
       "<haystack.core.pipeline.pipeline.Pipeline object at 0x7f6447af5390>\n",
       "🚅 Components\n",
       "  - prompt_builder: ChatPromptBuilder\n",
       "  - llm: OpenAIChatGenerator\n",
       "  - router: ConditionalRouter\n",
       "  - websearch: SerperDevWebSearch\n",
       "  - prompt_builder_for_websearch: ChatPromptBuilder\n",
       "  - llm_for_websearch: OpenAIChatGenerator\n",
       "🛤️ Connections\n",
       "  - prompt_builder.prompt -> llm.messages (List[ChatMessage])\n",
       "  - llm.replies -> router.replies (List[ChatMessage])\n",
       "  - router.go_to_websearch -> websearch.query (str)\n",
       "  - router.go_to_websearch -> prompt_builder_for_websearch.query (str)\n",
       "  - websearch.documents -> prompt_builder_for_websearch.documents (List[Document])\n",
       "  - prompt_builder_for_websearch.prompt -> llm_for_websearch.messages (List[ChatMessage])"
      ]
     },
     "execution_count": 7,
     "metadata": {},
     "output_type": "execute_result"
    }
   ],
   "source": [
    "from haystack import Pipeline\n",
    "\n",
    "pipe = Pipeline()\n",
    "pipe.add_component(\"prompt_builder\", prompt_builder)\n",
    "pipe.add_component(\"llm\", llm)\n",
    "pipe.add_component(\"router\", router)\n",
    "pipe.add_component(\"websearch\", websearch)\n",
    "pipe.add_component(\"prompt_builder_for_websearch\", prompt_builder_for_websearch)\n",
    "pipe.add_component(\"llm_for_websearch\", llm_for_websearch)\n",
    "\n",
    "pipe.connect(\"prompt_builder.prompt\", \"llm.messages\")\n",
    "pipe.connect(\"llm.replies\", \"router.replies\")\n",
    "pipe.connect(\"router.go_to_websearch\", \"websearch.query\")\n",
    "pipe.connect(\"router.go_to_websearch\", \"prompt_builder_for_websearch.query\")\n",
    "pipe.connect(\"websearch.documents\", \"prompt_builder_for_websearch.documents\")\n",
    "pipe.connect(\"prompt_builder_for_websearch\", \"llm_for_websearch\")\n"
   ]
  },
  {
   "cell_type": "code",
   "execution_count": 8,
   "metadata": {},
   "outputs": [
    {
     "data": {
      "text/plain": [
       "{'router': {'answer': ''}}"
      ]
     },
     "execution_count": 8,
     "metadata": {},
     "output_type": "execute_result"
    }
   ],
   "source": [
    "query = \"Where is Munich?\"\n",
    "\n",
    "result = pipe.run({\"prompt_builder\": {\"query\": query, \"documents\": documents}, \"router\": {\"query\": query}})\n",
    "\n",
    "# Print the `answer` coming from the ConditionalRouter\n",
    "result\n"
   ]
  },
  {
   "cell_type": "code",
   "execution_count": 9,
   "metadata": {},
   "outputs": [
    {
     "data": {
      "text/plain": [
       "{'router': {'answer': ''}}"
      ]
     },
     "execution_count": 9,
     "metadata": {},
     "output_type": "execute_result"
    }
   ],
   "source": [
    "query = \"How many people live in Munich?\"\n",
    "\n",
    "result = pipe.run({\"prompt_builder\": {\"query\": query, \"documents\": documents}, \"router\": {\"query\": query}})\n",
    "\n",
    "# Print the `replies` generated using the web searched Documents\n",
    "result\n"
   ]
  },
  {
   "cell_type": "markdown",
   "metadata": {},
   "source": [
    "### 2. Depuración de código"
   ]
  },
  {
   "cell_type": "code",
   "execution_count": 10,
   "metadata": {},
   "outputs": [],
   "source": [
    "from haystack import Document\n",
    "from haystack.components.preprocessors import DocumentSplitter\n",
    "\n",
    "splitter = DocumentSplitter(split_length=1, split_overlap=0, split_by=\"sentence\")"
   ]
  },
  {
   "cell_type": "code",
   "execution_count": 14,
   "metadata": {},
   "outputs": [
    {
     "data": {
      "text/plain": [
       "{'documents': [Document(id=1bff9e298ad99e305006ab2d4693a9a65c0cbdc862379fe0d3c947fabf1663d8, content: '\n",
       "  Munich, the vibrant capital of Bavaria in southern Germany, exudes a perfect blend of rich cultural...', meta: {'source_id': '35490afe62ba66d8906384ec746fc6bec2ba44541c27f36089378a7f6c8d5623', 'page_number': 1, 'split_id': 0, 'split_idx_start': 0}),\n",
       "  Document(id=92b88976af56b006e1d3ecf7c6a15926549f8fdbd91d9d076b6ded74f8fce530, content: ' Nestled along the banks of the Isar River, Munich is renowned for its splendid architecture, includ...', meta: {'source_id': '35490afe62ba66d8906384ec746fc6bec2ba44541c27f36089378a7f6c8d5623', 'page_number': 1, 'split_id': 1, 'split_idx_start': 142}),\n",
       "  Document(id=d6c7eee36337df76d578c984d2823abb8a1c966505373c8e11f9351493adbef4, content: ' The city is a haven for art enthusiasts, with world-class museums like the Alte Pinakothek housing ...', meta: {'source_id': '35490afe62ba66d8906384ec746fc6bec2ba44541c27f36089378a7f6c8d5623', 'page_number': 1, 'split_id': 2, 'split_idx_start': 341}),\n",
       "  Document(id=3df70ebd36916ff53f36465692ac69d5ddc4bbb9982614241b5231cf28b856a0, content: ' Munich is also famous for its lively beer gardens, where locals and tourists gather to enjoy the ci...', meta: {'source_id': '35490afe62ba66d8906384ec746fc6bec2ba44541c27f36089378a7f6c8d5623', 'page_number': 1, 'split_id': 3, 'split_idx_start': 474}),\n",
       "  Document(id=1f1b5e44528cba03b6421d000aae5e1bf0470c7ba2772796b52987a4f60a5caa, content: ' The city's annual Oktoberfest celebration, the world's largest beer festival, attracts millions of ...', meta: {'source_id': '35490afe62ba66d8906384ec746fc6bec2ba44541c27f36089378a7f6c8d5623', 'page_number': 1, 'split_id': 4, 'split_idx_start': 624}),\n",
       "  Document(id=5f252c9633e655272bc94587c3c47773a5d4d521da0d3c16978192a4a32f318a, content: ' Beyond its cultural and culinary delights, Munich offers picturesque parks like the English Garden,...', meta: {'source_id': '35490afe62ba66d8906384ec746fc6bec2ba44541c27f36089378a7f6c8d5623', 'page_number': 1, 'split_id': 5, 'split_idx_start': 755}),\n",
       "  Document(id=182a8ff3e9da8d69eefc620f2d6eb534e193b796cd422ef581772e4d827b9858, content: ' Visitors are charmed by Munich's warm hospitality, making it a must-visit destination for travelers...', meta: {'source_id': '35490afe62ba66d8906384ec746fc6bec2ba44541c27f36089378a7f6c8d5623', 'page_number': 1, 'split_id': 6, 'split_idx_start': 926}),\n",
       "  Document(id=da92855bf63e8d09ebe2ccf74af06f77d63f1c877f132719b0ae9eadefe5f8ad, content: '\n",
       "  ', meta: {'source_id': '35490afe62ba66d8906384ec746fc6bec2ba44541c27f36089378a7f6c8d5623', 'page_number': 1, 'split_id': 7, 'split_idx_start': 1091})]}"
      ]
     },
     "execution_count": 14,
     "metadata": {},
     "output_type": "execute_result"
    }
   ],
   "source": [
    "text = \"\"\"\n",
    "Munich, the vibrant capital of Bavaria in southern Germany, exudes a perfect blend of rich cultural heritage and modern urban sophistication. Nestled along the banks of the Isar River, Munich is renowned for its splendid architecture, including the iconic Neues Rathaus (New Town Hall) at Marienplatz and the grandeur of Nymphenburg Palace. The city is a haven for art enthusiasts, with world-class museums like the Alte Pinakothek housing masterpieces by renowned artists. Munich is also famous for its lively beer gardens, where locals and tourists gather to enjoy the city's famed beers and traditional Bavarian cuisine. The city's annual Oktoberfest celebration, the world's largest beer festival, attracts millions of visitors from around the globe. Beyond its cultural and culinary delights, Munich offers picturesque parks like the English Garden, providing a serene escape within the heart of the bustling metropolis. Visitors are charmed by Munich's warm hospitality, making it a must-visit destination for travelers seeking a taste of both old-world charm and contemporary allure.\n",
    "\"\"\"\n",
    "\n",
    "doc = Document(content=text)\n",
    "docs = splitter.run([doc])\n",
    "docs"
   ]
  },
  {
   "cell_type": "code",
   "execution_count": 17,
   "metadata": {},
   "outputs": [
    {
     "data": {
      "text/plain": [
       "[Document(id=1bff9e298ad99e305006ab2d4693a9a65c0cbdc862379fe0d3c947fabf1663d8, content: '\n",
       " Munich, the vibrant capital of Bavaria in southern Germany, exudes a perfect blend of rich cultural...', meta: {'source_id': '35490afe62ba66d8906384ec746fc6bec2ba44541c27f36089378a7f6c8d5623', 'page_number': 1, 'split_id': 0, 'split_idx_start': 0}),\n",
       " Document(id=92b88976af56b006e1d3ecf7c6a15926549f8fdbd91d9d076b6ded74f8fce530, content: ' Nestled along the banks of the Isar River, Munich is renowned for its splendid architecture, includ...', meta: {'source_id': '35490afe62ba66d8906384ec746fc6bec2ba44541c27f36089378a7f6c8d5623', 'page_number': 1, 'split_id': 1, 'split_idx_start': 142}),\n",
       " Document(id=d6c7eee36337df76d578c984d2823abb8a1c966505373c8e11f9351493adbef4, content: ' The city is a haven for art enthusiasts, with world-class museums like the Alte Pinakothek housing ...', meta: {'source_id': '35490afe62ba66d8906384ec746fc6bec2ba44541c27f36089378a7f6c8d5623', 'page_number': 1, 'split_id': 2, 'split_idx_start': 341}),\n",
       " Document(id=3df70ebd36916ff53f36465692ac69d5ddc4bbb9982614241b5231cf28b856a0, content: ' Munich is also famous for its lively beer gardens, where locals and tourists gather to enjoy the ci...', meta: {'source_id': '35490afe62ba66d8906384ec746fc6bec2ba44541c27f36089378a7f6c8d5623', 'page_number': 1, 'split_id': 3, 'split_idx_start': 474}),\n",
       " Document(id=1f1b5e44528cba03b6421d000aae5e1bf0470c7ba2772796b52987a4f60a5caa, content: ' The city's annual Oktoberfest celebration, the world's largest beer festival, attracts millions of ...', meta: {'source_id': '35490afe62ba66d8906384ec746fc6bec2ba44541c27f36089378a7f6c8d5623', 'page_number': 1, 'split_id': 4, 'split_idx_start': 624}),\n",
       " Document(id=5f252c9633e655272bc94587c3c47773a5d4d521da0d3c16978192a4a32f318a, content: ' Beyond its cultural and culinary delights, Munich offers picturesque parks like the English Garden,...', meta: {'source_id': '35490afe62ba66d8906384ec746fc6bec2ba44541c27f36089378a7f6c8d5623', 'page_number': 1, 'split_id': 5, 'split_idx_start': 755}),\n",
       " Document(id=182a8ff3e9da8d69eefc620f2d6eb534e193b796cd422ef581772e4d827b9858, content: ' Visitors are charmed by Munich's warm hospitality, making it a must-visit destination for travelers...', meta: {'source_id': '35490afe62ba66d8906384ec746fc6bec2ba44541c27f36089378a7f6c8d5623', 'page_number': 1, 'split_id': 6, 'split_idx_start': 926}),\n",
       " Document(id=da92855bf63e8d09ebe2ccf74af06f77d63f1c877f132719b0ae9eadefe5f8ad, content: '\n",
       " ', meta: {'source_id': '35490afe62ba66d8906384ec746fc6bec2ba44541c27f36089378a7f6c8d5623', 'page_number': 1, 'split_id': 7, 'split_idx_start': 1091})]"
      ]
     },
     "execution_count": 17,
     "metadata": {},
     "output_type": "execute_result"
    }
   ],
   "source": [
    "from haystack.document_stores.in_memory import InMemoryDocumentStore\n",
    "from haystack.document_stores.types import DuplicatePolicy\n",
    "\n",
    "doc_store = InMemoryDocumentStore()\n",
    "doc_store.write_documents(docs['documents'], policy=DuplicatePolicy.OVERWRITE)\n",
    "doc_store.filter_documents()"
   ]
  },
  {
   "cell_type": "code",
   "execution_count": 18,
   "metadata": {},
   "outputs": [
    {
     "data": {
      "text/plain": [
       "{'context_windows': [\"\\nMunich, the vibrant capital of Bavaria in southern Germany, exudes a perfect blend of rich cultural heritage and modern urban sophistication. Nestled along the banks of the Isar River, Munich is renowned for its splendid architecture, including the iconic Neues Rathaus (New Town Hall) at Marienplatz and the grandeur of Nymphenburg Palace. The city is a haven for art enthusiasts, with world-class museums like the Alte Pinakothek housing masterpieces by renowned artists. Munich is also famous for its lively beer gardens, where locals and tourists gather to enjoy the city's famed beers and traditional Bavarian cuisine. The city's annual Oktoberfest celebration, the world's largest beer festival, attracts millions of visitors from around the globe.\"],\n",
       " 'context_documents': [[Document(id=1bff9e298ad99e305006ab2d4693a9a65c0cbdc862379fe0d3c947fabf1663d8, content: '\n",
       "   Munich, the vibrant capital of Bavaria in southern Germany, exudes a perfect blend of rich cultural...', meta: {'source_id': '35490afe62ba66d8906384ec746fc6bec2ba44541c27f36089378a7f6c8d5623', 'page_number': 1, 'split_id': 0, 'split_idx_start': 0}),\n",
       "   Document(id=92b88976af56b006e1d3ecf7c6a15926549f8fdbd91d9d076b6ded74f8fce530, content: ' Nestled along the banks of the Isar River, Munich is renowned for its splendid architecture, includ...', meta: {'source_id': '35490afe62ba66d8906384ec746fc6bec2ba44541c27f36089378a7f6c8d5623', 'page_number': 1, 'split_id': 1, 'split_idx_start': 142}),\n",
       "   Document(id=d6c7eee36337df76d578c984d2823abb8a1c966505373c8e11f9351493adbef4, content: ' The city is a haven for art enthusiasts, with world-class museums like the Alte Pinakothek housing ...', meta: {'source_id': '35490afe62ba66d8906384ec746fc6bec2ba44541c27f36089378a7f6c8d5623', 'page_number': 1, 'split_id': 2, 'split_idx_start': 341}),\n",
       "   Document(id=3df70ebd36916ff53f36465692ac69d5ddc4bbb9982614241b5231cf28b856a0, content: ' Munich is also famous for its lively beer gardens, where locals and tourists gather to enjoy the ci...', meta: {'source_id': '35490afe62ba66d8906384ec746fc6bec2ba44541c27f36089378a7f6c8d5623', 'page_number': 1, 'split_id': 3, 'split_idx_start': 474}),\n",
       "   Document(id=1f1b5e44528cba03b6421d000aae5e1bf0470c7ba2772796b52987a4f60a5caa, content: ' The city's annual Oktoberfest celebration, the world's largest beer festival, attracts millions of ...', meta: {'source_id': '35490afe62ba66d8906384ec746fc6bec2ba44541c27f36089378a7f6c8d5623', 'page_number': 1, 'split_id': 4, 'split_idx_start': 624})]]}"
      ]
     },
     "execution_count": 18,
     "metadata": {},
     "output_type": "execute_result"
    }
   ],
   "source": [
    "from haystack.components.retrievers import SentenceWindowRetriever\n",
    "\n",
    "retriever = SentenceWindowRetriever(document_store=doc_store, window_size=2)\n",
    "result = retriever.run(retrieved_documents=[docs['documents'][2]])\n",
    "result"
   ]
  },
  {
   "cell_type": "code",
   "execution_count": null,
   "metadata": {},
   "outputs": [],
   "source": []
  }
 ],
 "metadata": {
  "kernelspec": {
   "display_name": "venv_haystack_ai",
   "language": "python",
   "name": "python3"
  },
  "language_info": {
   "codemirror_mode": {
    "name": "ipython",
    "version": 3
   },
   "file_extension": ".py",
   "mimetype": "text/x-python",
   "name": "python",
   "nbconvert_exporter": "python",
   "pygments_lexer": "ipython3",
   "version": "3.11.11"
  }
 },
 "nbformat": 4,
 "nbformat_minor": 2
}
