{
 "cells": [
  {
   "cell_type": "markdown",
   "metadata": {},
   "source": [
    "### Replica 9: RAG con recuperación por extracción + generador"
   ]
  },
  {
   "cell_type": "markdown",
   "metadata": {},
   "source": [
    "#### A. Indexar documentos con un cleaner"
   ]
  },
  {
   "cell_type": "code",
   "execution_count": 1,
   "metadata": {},
   "outputs": [
    {
     "name": "stdout",
     "output_type": "stream",
     "text": [
      "Dataset({\n",
      "    features: ['id', 'content', 'content_type', 'meta', 'id_hash_keys', 'score', 'embedding'],\n",
      "    num_rows: 151\n",
      "})\n",
      "\n",
      " The Colossus of Rhodes (Ancient Greek: ὁ Κολοσσὸς Ῥόδιος, romanized: ho Kolossòs Rhódios Greek: Κολοσσός της Ρόδου, romanized: Kolossós tes Rhódou)[a] was a statue of the Greek sun-god Helios, erected in the city of Rhodes, on the Greek island of the same name, by Chares of Lindos in 280 BC. One of the Seven Wonders of the Ancient World, it was constructed to celebrate the successful defence of Rhodes city against an attack by Demetrius Poliorcetes, who had besieged it for a year with a large army and navy.\n",
      "According to most contemporary descriptions, the Colossus stood approximately 70 cubits, or 33 metres (108 feet) high – approximately the height of the modern Statue of Liberty from feet to crown – making it the tallest statue in the ancient world.[2] It collapsed during the earthquake of 226 BC, although parts of it were preserved. In accordance with a certain oracle, the Rhodians did not build it again.[3] John Malalas wrote that Hadrian in his reign re-erected the Colossus,[4] but he was mistaken.[5] According to the Suda, the Rhodians were called Colossaeans (Κολοσσαεῖς), because they erected the statue on the island.\n"
     ]
    }
   ],
   "source": [
    "from pprint import pprint\n",
    "from datasets import load_dataset\n",
    "from haystack.dataclasses import Document\n",
    "\n",
    "#! Preparar documentos\n",
    "dataset = load_dataset(\"bilgeyucel/seven-wonders\", split=\"train\")\n",
    "pprint(dataset)\n",
    "\n",
    "documents = [Document(content=doc[\"content\"], meta=doc['meta']) for doc in dataset]\n",
    "print('\\n', documents[0].content)"
   ]
  },
  {
   "cell_type": "code",
   "execution_count": 2,
   "metadata": {},
   "outputs": [
    {
     "name": "stderr",
     "output_type": "stream",
     "text": [
      "/home/nahumfg/GithubProjects/TesisMaestria/TesisHaystack/venv_haystack_ai/lib/python3.11/site-packages/sentence_transformers/SentenceTransformer.py:195: FutureWarning: The `use_auth_token` argument is deprecated and will be removed in v4 of SentenceTransformers.\n",
      "  warnings.warn(\n"
     ]
    },
    {
     "data": {
      "application/vnd.jupyter.widget-view+json": {
       "model_id": "f46f3d9ab11e4b3c869af4dc72aa8b50",
       "version_major": 2,
       "version_minor": 0
      },
      "text/plain": [
       "Batches:   0%|          | 0/5 [00:00<?, ?it/s]"
      ]
     },
     "metadata": {},
     "output_type": "display_data"
    },
    {
     "name": "stdout",
     "output_type": "stream",
     "text": [
      "{'writer': {'documents_written': 151}}\n"
     ]
    }
   ],
   "source": [
    "from haystack import Pipeline\n",
    "from haystack.components.preprocessors import DocumentSplitter, DocumentCleaner\n",
    "from haystack.components.embedders import SentenceTransformersDocumentEmbedder\n",
    "from haystack.components.writers import DocumentWriter\n",
    "from haystack.document_stores.types import DuplicatePolicy\n",
    "from haystack.document_stores.in_memory import InMemoryDocumentStore\n",
    "\n",
    "#! Definir componentes del pipeline\n",
    "document_store = InMemoryDocumentStore(embedding_similarity_function='cosine')\n",
    "document_cleaner = DocumentCleaner()\n",
    "document_splitter = DocumentSplitter(split_length=200, split_overlap=50, split_by=\"sentence\")\n",
    "document_embedder = SentenceTransformersDocumentEmbedder(model=\"sentence-transformers/multi-qa-mpnet-base-dot-v1\")\n",
    "document_writer = DocumentWriter(document_store=document_store, policy=DuplicatePolicy.OVERWRITE)\n",
    "\n",
    "#! Construir pipeline\n",
    "index_pipeline = Pipeline()\n",
    "index_pipeline.add_component(\"cleaner\", document_cleaner)\n",
    "index_pipeline.add_component(\"splitter\", document_splitter)\n",
    "index_pipeline.add_component(\"embedder\", document_embedder)\n",
    "index_pipeline.add_component(\"writer\", document_writer)\n",
    "\n",
    "#! Conectar pipeline\n",
    "index_pipeline.connect(\"cleaner\", \"splitter\")\n",
    "index_pipeline.connect(\"splitter\", \"embedder\")\n",
    "index_pipeline.connect(\"embedder\", \"writer\")\n",
    "\n",
    "#! Ejecutar pipeline\n",
    "result = index_pipeline.run({\"cleaner\": {\"documents\": documents}})\n",
    "pprint(result)"
   ]
  },
  {
   "cell_type": "markdown",
   "metadata": {},
   "source": [
    "### B. Pipeline del generador"
   ]
  },
  {
   "cell_type": "code",
   "execution_count": 3,
   "metadata": {},
   "outputs": [],
   "source": [
    "from haystack.components.builders import PromptBuilder\n",
    "from haystack.components.retrievers.in_memory import InMemoryEmbeddingRetriever\n",
    "from haystack.components.embedders import SentenceTransformersTextEmbedder\n",
    "from haystack.components.readers import ExtractiveReader\n",
    "from haystack.components.generators import OpenAIGenerator\n",
    "from haystack.utils import Secret\n",
    "\n",
    "#! Definir componentes del pipeline\n",
    "text_embedder = SentenceTransformersTextEmbedder(model=\"sentence-transformers/multi-qa-mpnet-base-dot-v1\")\n",
    "retriever = InMemoryEmbeddingRetriever(document_store=document_store)\n",
    "reader = ExtractiveReader()\n",
    "reader.warm_up()\n",
    "\n",
    "template = \"\"\"\n",
    "You are a helpful assistant. Use the extracted answers and additional context provided to answer the question.\n",
    "\n",
    "Question: {{question}}\n",
    "\n",
    "Extracted Answers:\n",
    "{% for answer in answers if answer.score > 0.5 %}\n",
    "- {{ answer.data }} (Score: {{ answer.score }})\n",
    "{% endfor %}\n",
    "\n",
    "Context:\n",
    "{% for document in documents %}\n",
    "{{ document.content }}\n",
    "{% endfor %}\n",
    "\n",
    "Answer:\n",
    "\"\"\"\n",
    "prompt_builder = PromptBuilder(template=template)\n",
    "\n",
    "\n",
    "generator = OpenAIGenerator(\n",
    "    api_key= Secret.from_env_var(\"OPENAI_API_KEY\"),\n",
    "    model=\"gpt-4o-mini-2024-07-18\"\n",
    ") "
   ]
  },
  {
   "cell_type": "code",
   "execution_count": 4,
   "metadata": {},
   "outputs": [
    {
     "data": {
      "text/plain": [
       "<haystack.core.pipeline.pipeline.Pipeline object at 0x7fa6942040d0>\n",
       "🚅 Components\n",
       "  - text_embedder: SentenceTransformersTextEmbedder\n",
       "  - retriever: InMemoryEmbeddingRetriever\n",
       "  - reader: ExtractiveReader\n",
       "  - prompt_builder: PromptBuilder\n",
       "  - generator: OpenAIGenerator\n",
       "🛤️ Connections\n",
       "  - text_embedder.embedding -> retriever.query_embedding (List[float])\n",
       "  - retriever.documents -> reader.documents (List[Document])\n",
       "  - retriever.documents -> prompt_builder.documents (List[Document])\n",
       "  - reader.answers -> prompt_builder.answers (List[ExtractedAnswer])\n",
       "  - prompt_builder.prompt -> generator.prompt (str)"
      ]
     },
     "execution_count": 4,
     "metadata": {},
     "output_type": "execute_result"
    }
   ],
   "source": [
    "from haystack import Pipeline\n",
    "\n",
    "#! Construir pipeline\n",
    "query_pipeline = Pipeline()\n",
    "query_pipeline.add_component(\"text_embedder\", text_embedder)\n",
    "query_pipeline.add_component(\"retriever\", retriever)\n",
    "query_pipeline.add_component(\"reader\", reader)\n",
    "query_pipeline.add_component(\"prompt_builder\", prompt_builder)\n",
    "query_pipeline.add_component(\"generator\", generator)\n",
    "\n",
    "#! Conectar pipeline\n",
    "query_pipeline.connect(\"text_embedder.embedding\", \"retriever.query_embedding\")\n",
    "query_pipeline.connect(\"retriever.documents\", \"reader.documents\")\n",
    "query_pipeline.connect(\"reader.answers\", \"prompt_builder.answers\")\n",
    "query_pipeline.connect(\"retriever.documents\", \"prompt_builder.documents\")\n",
    "query_pipeline.connect(\"prompt_builder.prompt\", \"generator.prompt\")"
   ]
  },
  {
   "cell_type": "code",
   "execution_count": 7,
   "metadata": {},
   "outputs": [],
   "source": [
    "# query_pipeline.show()"
   ]
  },
  {
   "cell_type": "code",
   "execution_count": 5,
   "metadata": {},
   "outputs": [
    {
     "data": {
      "application/vnd.jupyter.widget-view+json": {
       "model_id": "5a3db52c007c41e992adece5525f318e",
       "version_major": 2,
       "version_minor": 0
      },
      "text/plain": [
       "Batches:   0%|          | 0/1 [00:00<?, ?it/s]"
      ]
     },
     "metadata": {},
     "output_type": "display_data"
    },
    {
     "name": "stdout",
     "output_type": "stream",
     "text": [
      "{'generator': {'meta': [{'finish_reason': 'stop',\n",
      "                         'index': 0,\n",
      "                         'model': 'gpt-4o-mini-2024-07-18',\n",
      "                         'usage': {'completion_tokens': 57,\n",
      "                                   'completion_tokens_details': CompletionTokensDetails(accepted_prediction_tokens=0, audio_tokens=0, reasoning_tokens=0, rejected_prediction_tokens=0),\n",
      "                                   'prompt_tokens': 551,\n",
      "                                   'prompt_tokens_details': PromptTokensDetails(audio_tokens=0, cached_tokens=0),\n",
      "                                   'total_tokens': 608}}],\n",
      "               'replies': ['Pliny the Elder was a Roman author known for his '\n",
      "                           'extensive work, the Naturalis Historia, which '\n",
      "                           'covered a wide range of knowledge and has survived '\n",
      "                           'from the Roman Empire. He is often recognized as a '\n",
      "                           'significant Roman writer and natural philosopher, '\n",
      "                           'contributing to various fields during the early '\n",
      "                           'Roman Empire.']}}\n"
     ]
    }
   ],
   "source": [
    "query = \"Who was Pliny the Elder?\"\n",
    "result = query_pipeline.run(\n",
    "    data={\"text_embedder\": {\"text\": query}, \"retriever\": {\"top_k\": 2}, \"reader\": {\"query\": query, \"top_k\": 2}}\n",
    ")\n",
    "pprint(result)"
   ]
  },
  {
   "cell_type": "code",
   "execution_count": null,
   "metadata": {},
   "outputs": [],
   "source": []
  }
 ],
 "metadata": {
  "kernelspec": {
   "display_name": "venv_haystack_ai",
   "language": "python",
   "name": "python3"
  },
  "language_info": {
   "codemirror_mode": {
    "name": "ipython",
    "version": 3
   },
   "file_extension": ".py",
   "mimetype": "text/x-python",
   "name": "python",
   "nbconvert_exporter": "python",
   "pygments_lexer": "ipython3",
   "version": "3.11.11"
  }
 },
 "nbformat": 4,
 "nbformat_minor": 2
}
