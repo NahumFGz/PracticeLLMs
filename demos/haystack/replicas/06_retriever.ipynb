{
 "cells": [
  {
   "cell_type": "markdown",
   "metadata": {},
   "source": [
    "### Replica 6: Retriever, recuperar despues de indexar"
   ]
  },
  {
   "cell_type": "markdown",
   "metadata": {},
   "source": [
    "#### A. Indexar documentos"
   ]
  },
  {
   "cell_type": "code",
   "execution_count": 1,
   "metadata": {},
   "outputs": [
    {
     "data": {
      "text/plain": [
       "{'documents': [Document(id=af7526f937460d9eb010c476df74c405f82906aa015dac714b193d94d5e67ebe, content: 'Munich, the vibrant capital of Bavaria in southern Germany, exudes a perfect blend of rich cultural ...', meta: {'source_id': 'f2d45a0dcb080e4ded436659c9a2c497dd55a46213b1c3903eab752c9ac4ca48', 'page_number': 1, 'split_id': 0, 'split_idx_start': 0}),\n",
       "  Document(id=f2ba80a4c91151abdd8a1895c7ac1bab4651e58ccceaf524319e93dc3341da4b, content: ' Nestled along the banks of the Isar River, Munich is renowned for its splendid architecture, includ...', meta: {'source_id': 'f2d45a0dcb080e4ded436659c9a2c497dd55a46213b1c3903eab752c9ac4ca48', 'page_number': 1, 'split_id': 1, 'split_idx_start': 141}),\n",
       "  Document(id=2f76b2eabc919e4d2fc8145777e724652c94d2d4ce018b584cee898565cce184, content: ' The city is a haven for art enthusiasts, with world-class museums like the Alte Pinakothek housing ...', meta: {'source_id': 'f2d45a0dcb080e4ded436659c9a2c497dd55a46213b1c3903eab752c9ac4ca48', 'page_number': 1, 'split_id': 2, 'split_idx_start': 340}),\n",
       "  Document(id=e5004a8f2c428bf144ab75af32180e0b101be9471166bf8da69a290a7dbc3f93, content: ' Munich is also famous for its lively beer gardens, where locals and tourists gather to enjoy the ci...', meta: {'source_id': 'f2d45a0dcb080e4ded436659c9a2c497dd55a46213b1c3903eab752c9ac4ca48', 'page_number': 1, 'split_id': 3, 'split_idx_start': 473}),\n",
       "  Document(id=6aa442481f1c53ca1457526af49ad2d8a18716a7e132bfe976bffdfdb0aa265e, content: ' The city's annual Oktoberfest celebration, the world's largest beer festival, attracts millions of ...', meta: {'source_id': 'f2d45a0dcb080e4ded436659c9a2c497dd55a46213b1c3903eab752c9ac4ca48', 'page_number': 1, 'split_id': 4, 'split_idx_start': 623}),\n",
       "  Document(id=185fa6fa84300da0d1e4c9480cf248e3590242a010dbb6382b00104fa5c322a8, content: ' Beyond its cultural and culinary delights, Munich offers picturesque parks like the English Garden,...', meta: {'source_id': 'f2d45a0dcb080e4ded436659c9a2c497dd55a46213b1c3903eab752c9ac4ca48', 'page_number': 1, 'split_id': 5, 'split_idx_start': 754}),\n",
       "  Document(id=915e7aa37c265bdd0eaf66cc2b998c18531f0c2de9e1a666c9a91b654a87975c, content: ' Visitors are charmed by Munich's warm hospitality, making it a must-visit destination for travelers...', meta: {'source_id': 'f2d45a0dcb080e4ded436659c9a2c497dd55a46213b1c3903eab752c9ac4ca48', 'page_number': 1, 'split_id': 6, 'split_idx_start': 925})]}"
      ]
     },
     "execution_count": 1,
     "metadata": {},
     "output_type": "execute_result"
    }
   ],
   "source": [
    "from haystack.dataclasses import Document\n",
    "\n",
    "documents = [\n",
    "    Document(\n",
    "        content=\"\"\"Munich, the vibrant capital of Bavaria in southern Germany, exudes a perfect blend of rich cultural heritage and modern urban sophistication. Nestled along the banks of the Isar River, Munich is renowned for its splendid architecture, including the iconic Neues Rathaus (New Town Hall) at Marienplatz and the grandeur of Nymphenburg Palace. The city is a haven for art enthusiasts, with world-class museums like the Alte Pinakothek housing masterpieces by renowned artists. Munich is also famous for its lively beer gardens, where locals and tourists gather to enjoy the city's famed beers and traditional Bavarian cuisine. The city's annual Oktoberfest celebration, the world's largest beer festival, attracts millions of visitors from around the globe. Beyond its cultural and culinary delights, Munich offers picturesque parks like the English Garden, providing a serene escape within the heart of the bustling metropolis. Visitors are charmed by Munich's warm hospitality, making it a must-visit destination for travelers seeking a taste of both old-world charm and contemporary allure.\"\"\"\n",
    "    )\n",
    "]\n",
    "\n",
    "from haystack.components.preprocessors import DocumentSplitter\n",
    "\n",
    "splitter = DocumentSplitter(split_length=1, split_overlap=0, split_by=\"sentence\")\n",
    "documents = splitter.run(documents)\n",
    "documents"
   ]
  },
  {
   "cell_type": "code",
   "execution_count": 2,
   "metadata": {},
   "outputs": [
    {
     "data": {
      "text/plain": [
       "<haystack.core.pipeline.pipeline.Pipeline object at 0x7f907fb12d10>\n",
       "🚅 Components\n",
       "  - embedder: SentenceTransformersDocumentEmbedder\n",
       "  - writter: DocumentWriter\n",
       "🛤️ Connections\n",
       "  - embedder.documents -> writter.documents (List[Document])"
      ]
     },
     "execution_count": 2,
     "metadata": {},
     "output_type": "execute_result"
    }
   ],
   "source": [
    "from haystack.document_stores.in_memory import InMemoryDocumentStore\n",
    "from haystack.components.embedders import SentenceTransformersDocumentEmbedder\n",
    "from haystack.components.writers import DocumentWriter\n",
    "from haystack import Pipeline\n",
    "\n",
    "embedder_pipeline = Pipeline()\n",
    "document_store = InMemoryDocumentStore()\n",
    "\n",
    "embedder_pipeline.add_component(\"embedder\",SentenceTransformersDocumentEmbedder(model=\"sentence-transformers/all-MiniLM-L6-v2\"))\n",
    "embedder_pipeline.add_component(\"writter\",DocumentWriter(document_store=document_store))\n",
    "\n",
    "embedder_pipeline.connect(\"embedder\",\"writter\")"
   ]
  },
  {
   "cell_type": "code",
   "execution_count": 3,
   "metadata": {},
   "outputs": [
    {
     "name": "stderr",
     "output_type": "stream",
     "text": [
      "/home/nahumfg/GithubProjects/TesisMaestria/TesisHaystack/venv_haystack_ai/lib/python3.11/site-packages/sentence_transformers/SentenceTransformer.py:195: FutureWarning: The `use_auth_token` argument is deprecated and will be removed in v4 of SentenceTransformers.\n",
      "  warnings.warn(\n"
     ]
    },
    {
     "data": {
      "application/vnd.jupyter.widget-view+json": {
       "model_id": "072d366d0fe54717a984e80f829ba8d7",
       "version_major": 2,
       "version_minor": 0
      },
      "text/plain": [
       "Batches:   0%|          | 0/1 [00:00<?, ?it/s]"
      ]
     },
     "metadata": {},
     "output_type": "display_data"
    },
    {
     "data": {
      "text/plain": [
       "{'writter': {'documents_written': 7}}"
      ]
     },
     "execution_count": 3,
     "metadata": {},
     "output_type": "execute_result"
    }
   ],
   "source": [
    "embedder_pipeline.run({\"embedder\":documents})"
   ]
  },
  {
   "cell_type": "markdown",
   "metadata": {},
   "source": [
    "#### B. Retriever"
   ]
  },
  {
   "cell_type": "code",
   "execution_count": 4,
   "metadata": {},
   "outputs": [],
   "source": [
    "from haystack.components.embedders import SentenceTransformersTextEmbedder\n",
    "from haystack.components.retrievers.in_memory import InMemoryEmbeddingRetriever\n",
    "\n",
    "text_embedder = SentenceTransformersTextEmbedder(model=\"sentence-transformers/all-MiniLM-L6-v2\")\n",
    "retriever = InMemoryEmbeddingRetriever(document_store=document_store)"
   ]
  },
  {
   "cell_type": "code",
   "execution_count": 5,
   "metadata": {},
   "outputs": [
    {
     "data": {
      "text/plain": [
       "<haystack.components.builders.prompt_builder.PromptBuilder object at 0x7f917eac4d10>\n",
       "Inputs:\n",
       "  - documents: Any\n",
       "  - question: Any\n",
       "  - template: Optional[str]\n",
       "  - template_variables: Optional[Dict[str, Any]]\n",
       "Outputs:\n",
       "  - prompt: str"
      ]
     },
     "execution_count": 5,
     "metadata": {},
     "output_type": "execute_result"
    }
   ],
   "source": [
    "from haystack.components.builders import PromptBuilder\n",
    "\n",
    "template = \"\"\"\n",
    "Given the following information, answer the question.\n",
    "\n",
    "Context:\n",
    "{% for document in documents %}\n",
    "    {{ document.content }}\n",
    "{% endfor %}\n",
    "\n",
    "Question: {{question}}\n",
    "Answer:\n",
    "\"\"\"\n",
    "prompt_builder = PromptBuilder(template=template)\n",
    "prompt_builder"
   ]
  },
  {
   "cell_type": "code",
   "execution_count": 6,
   "metadata": {},
   "outputs": [
    {
     "data": {
      "text/plain": [
       "<haystack.core.pipeline.pipeline.Pipeline object at 0x7f9033edbbd0>\n",
       "🚅 Components\n",
       "  - text_embedder: SentenceTransformersTextEmbedder\n",
       "  - retriever: InMemoryEmbeddingRetriever\n",
       "  - prompt_builder: PromptBuilder\n",
       "🛤️ Connections\n",
       "  - text_embedder.embedding -> retriever.query_embedding (List[float])\n",
       "  - retriever.documents -> prompt_builder.documents (List[Document])"
      ]
     },
     "execution_count": 6,
     "metadata": {},
     "output_type": "execute_result"
    }
   ],
   "source": [
    "from haystack import Pipeline\n",
    "\n",
    "ret_pipeline = Pipeline()\n",
    "ret_pipeline.add_component(\"text_embedder\", text_embedder)\n",
    "ret_pipeline.add_component(\"retriever\", retriever)\n",
    "ret_pipeline.add_component(\"prompt_builder\", prompt_builder)\n",
    "\n",
    "ret_pipeline.connect(\"text_embedder.embedding\", \"retriever.query_embedding\")\n",
    "ret_pipeline.connect(\"retriever\", \"prompt_builder.documents\")"
   ]
  },
  {
   "cell_type": "code",
   "execution_count": 7,
   "metadata": {},
   "outputs": [
    {
     "data": {
      "application/vnd.jupyter.widget-view+json": {
       "model_id": "7bda2496032148a3a28a288a05ec9a8f",
       "version_major": 2,
       "version_minor": 0
      },
      "text/plain": [
       "Batches:   0%|          | 0/1 [00:00<?, ?it/s]"
      ]
     },
     "metadata": {},
     "output_type": "display_data"
    },
    {
     "name": "stdout",
     "output_type": "stream",
     "text": [
      "{'prompt_builder': {'prompt': '\\n'\n",
      "                              'Given the following information, answer the '\n",
      "                              'question.\\n'\n",
      "                              '\\n'\n",
      "                              'Context:\\n'\n",
      "                              '\\n'\n",
      "                              '    Munich, the vibrant capital of Bavaria in '\n",
      "                              'southern Germany, exudes a perfect blend of '\n",
      "                              'rich cultural heritage and modern urban '\n",
      "                              'sophistication.\\n'\n",
      "                              '\\n'\n",
      "                              '     Nestled along the banks of the Isar River, '\n",
      "                              'Munich is renowned for its splendid '\n",
      "                              'architecture, including the iconic Neues '\n",
      "                              'Rathaus (New Town Hall) at Marienplatz and the '\n",
      "                              'grandeur of Nymphenburg Palace.\\n'\n",
      "                              '\\n'\n",
      "                              '     Beyond its cultural and culinary delights, '\n",
      "                              'Munich offers picturesque parks like the '\n",
      "                              'English Garden, providing a serene escape '\n",
      "                              'within the heart of the bustling metropolis.\\n'\n",
      "                              '\\n'\n",
      "                              '     Munich is also famous for its lively beer '\n",
      "                              'gardens, where locals and tourists gather to '\n",
      "                              \"enjoy the city's famed beers and traditional \"\n",
      "                              'Bavarian cuisine.\\n'\n",
      "                              '\\n'\n",
      "                              \"     Visitors are charmed by Munich's warm \"\n",
      "                              'hospitality, making it a must-visit destination '\n",
      "                              'for travelers seeking a taste of both old-world '\n",
      "                              'charm and contemporary allure.\\n'\n",
      "                              '\\n'\n",
      "                              \"     The city's annual Oktoberfest celebration, \"\n",
      "                              \"the world's largest beer festival, attracts \"\n",
      "                              'millions of visitors from around the globe.\\n'\n",
      "                              '\\n'\n",
      "                              '     The city is a haven for art enthusiasts, '\n",
      "                              'with world-class museums like the Alte '\n",
      "                              'Pinakothek housing masterpieces by renowned '\n",
      "                              'artists.\\n'\n",
      "                              '\\n'\n",
      "                              '\\n'\n",
      "                              'Question: Where is Munich?\\n'\n",
      "                              'Answer:'}}\n"
     ]
    }
   ],
   "source": [
    "from pprint import pprint\n",
    "\n",
    "question = \"Where is Munich?\"\n",
    "\n",
    "response = ret_pipeline.run({\"text_embedder\": {\"text\": question}, \"prompt_builder\": {\"question\": question}})\n",
    "pprint(response)"
   ]
  },
  {
   "cell_type": "code",
   "execution_count": null,
   "metadata": {},
   "outputs": [],
   "source": []
  },
  {
   "cell_type": "code",
   "execution_count": null,
   "metadata": {},
   "outputs": [],
   "source": []
  }
 ],
 "metadata": {
  "kernelspec": {
   "display_name": "venv_haystack_ai",
   "language": "python",
   "name": "python3"
  },
  "language_info": {
   "codemirror_mode": {
    "name": "ipython",
    "version": 3
   },
   "file_extension": ".py",
   "mimetype": "text/x-python",
   "name": "python",
   "nbconvert_exporter": "python",
   "pygments_lexer": "ipython3",
   "version": "3.11.11"
  }
 },
 "nbformat": 4,
 "nbformat_minor": 2
}
