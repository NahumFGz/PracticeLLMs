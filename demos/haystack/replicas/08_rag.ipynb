{
 "cells": [
  {
   "cell_type": "markdown",
   "metadata": {},
   "source": [
    "### Replica 8: RAG con recuperación por extracción"
   ]
  },
  {
   "cell_type": "markdown",
   "metadata": {},
   "source": [
    "#### A. Indexar documentos con un cleaner"
   ]
  },
  {
   "cell_type": "code",
   "execution_count": 1,
   "metadata": {},
   "outputs": [
    {
     "name": "stdout",
     "output_type": "stream",
     "text": [
      "Dataset({\n",
      "    features: ['id', 'content', 'content_type', 'meta', 'id_hash_keys', 'score', 'embedding'],\n",
      "    num_rows: 151\n",
      "})\n",
      "\n",
      " The Colossus of Rhodes (Ancient Greek: ὁ Κολοσσὸς Ῥόδιος, romanized: ho Kolossòs Rhódios Greek: Κολοσσός της Ρόδου, romanized: Kolossós tes Rhódou)[a] was a statue of the Greek sun-god Helios, erected in the city of Rhodes, on the Greek island of the same name, by Chares of Lindos in 280 BC. One of the Seven Wonders of the Ancient World, it was constructed to celebrate the successful defence of Rhodes city against an attack by Demetrius Poliorcetes, who had besieged it for a year with a large army and navy.\n",
      "According to most contemporary descriptions, the Colossus stood approximately 70 cubits, or 33 metres (108 feet) high – approximately the height of the modern Statue of Liberty from feet to crown – making it the tallest statue in the ancient world.[2] It collapsed during the earthquake of 226 BC, although parts of it were preserved. In accordance with a certain oracle, the Rhodians did not build it again.[3] John Malalas wrote that Hadrian in his reign re-erected the Colossus,[4] but he was mistaken.[5] According to the Suda, the Rhodians were called Colossaeans (Κολοσσαεῖς), because they erected the statue on the island.\n"
     ]
    }
   ],
   "source": [
    "from pprint import pprint\n",
    "from datasets import load_dataset\n",
    "from haystack.dataclasses import Document\n",
    "\n",
    "#! Preparar documentos\n",
    "dataset = load_dataset(\"bilgeyucel/seven-wonders\", split=\"train\")\n",
    "pprint(dataset)\n",
    "\n",
    "documents = [Document(content=doc[\"content\"], meta=doc[\"meta\"]) for doc in dataset]\n",
    "print('\\n',documents[0].content)"
   ]
  },
  {
   "cell_type": "code",
   "execution_count": 2,
   "metadata": {},
   "outputs": [
    {
     "name": "stderr",
     "output_type": "stream",
     "text": [
      "/home/nahumfg/GithubProjects/TesisMaestria/TesisHaystack/venv_haystack_ai/lib/python3.11/site-packages/sentence_transformers/SentenceTransformer.py:195: FutureWarning: The `use_auth_token` argument is deprecated and will be removed in v4 of SentenceTransformers.\n",
      "  warnings.warn(\n"
     ]
    },
    {
     "data": {
      "application/vnd.jupyter.widget-view+json": {
       "model_id": "e2d9a300a90f48deb310395b03251fe6",
       "version_major": 2,
       "version_minor": 0
      },
      "text/plain": [
       "Batches:   0%|          | 0/5 [00:00<?, ?it/s]"
      ]
     },
     "metadata": {},
     "output_type": "display_data"
    },
    {
     "name": "stdout",
     "output_type": "stream",
     "text": [
      "{'writer': {'documents_written': 151}}\n"
     ]
    }
   ],
   "source": [
    "from haystack import Pipeline\n",
    "from haystack.components.preprocessors import DocumentCleaner, DocumentSplitter\n",
    "from haystack.components.embedders import SentenceTransformersDocumentEmbedder\n",
    "from haystack.components.writers import DocumentWriter\n",
    "from haystack.document_stores.types import DuplicatePolicy\n",
    "from haystack.document_stores.in_memory import InMemoryDocumentStore\n",
    "\n",
    "#! Definir componentes del pipeline\n",
    "document_store = InMemoryDocumentStore(embedding_similarity_function='cosine')\n",
    "document_cleaner = DocumentCleaner()\n",
    "document_splitter = DocumentSplitter(split_length=200, split_overlap=50, split_by=\"sentence\")\n",
    "document_embedder = SentenceTransformersDocumentEmbedder(model=\"sentence-transformers/multi-qa-mpnet-base-dot-v1\")\n",
    "document_writer = DocumentWriter(document_store=document_store, policy=DuplicatePolicy.OVERWRITE)\n",
    "\n",
    "#! Construir pipeline\n",
    "pipeline = Pipeline()\n",
    "pipeline.add_component(\"cleaner\", document_cleaner)\n",
    "pipeline.add_component(\"splitter\", document_splitter)\n",
    "pipeline.add_component(\"embedder\", document_embedder)\n",
    "pipeline.add_component(\"writer\", document_writer)\n",
    "\n",
    "#! Conecar pipeline\n",
    "pipeline.connect(\"cleaner\", \"splitter\")\n",
    "pipeline.connect(\"splitter\", \"embedder\")\n",
    "pipeline.connect(\"embedder\", \"writer\")\n",
    "\n",
    "#! Ejecutar pipeline\n",
    "result = pipeline.run({\"cleaner\": {\"documents\": documents}})\n",
    "pprint(result)\n"
   ]
  },
  {
   "cell_type": "markdown",
   "metadata": {},
   "source": [
    "#### B. Construir un pipeline para extraer por similitud"
   ]
  },
  {
   "cell_type": "code",
   "execution_count": 3,
   "metadata": {},
   "outputs": [
    {
     "data": {
      "text/plain": [
       "<haystack.core.pipeline.pipeline.Pipeline object at 0x7f3bf64d0210>\n",
       "🚅 Components\n",
       "  - embedder: SentenceTransformersTextEmbedder\n",
       "  - retriever: InMemoryEmbeddingRetriever\n",
       "  - reader: ExtractiveReader\n",
       "🛤️ Connections\n",
       "  - embedder.embedding -> retriever.query_embedding (List[float])\n",
       "  - retriever.documents -> reader.documents (List[Document])"
      ]
     },
     "execution_count": 3,
     "metadata": {},
     "output_type": "execute_result"
    }
   ],
   "source": [
    "from haystack.components.retrievers.in_memory import InMemoryEmbeddingRetriever\n",
    "from haystack.components.readers import ExtractiveReader\n",
    "from haystack.components.embedders import SentenceTransformersTextEmbedder\n",
    "\n",
    "#! Definir componentes del pipeline\n",
    "text_embedder = SentenceTransformersTextEmbedder(model=\"sentence-transformers/multi-qa-mpnet-base-dot-v1\")\n",
    "retriever = InMemoryEmbeddingRetriever(document_store=document_store)\n",
    "reader = ExtractiveReader()\n",
    "reader.warm_up()\n",
    "\n",
    "#! Construir pipeline\n",
    "qa_pipeline = Pipeline()\n",
    "qa_pipeline.add_component(\"embedder\", text_embedder)\n",
    "qa_pipeline.add_component(\"retriever\", retriever)\n",
    "qa_pipeline.add_component(\"reader\", reader)\n",
    "\n",
    "#! Conecar pipeline\n",
    "qa_pipeline.connect(\"embedder.embedding\", \"retriever.query_embedding\")\n",
    "qa_pipeline.connect(\"retriever.documents\", \"reader.documents\")"
   ]
  },
  {
   "cell_type": "code",
   "execution_count": 4,
   "metadata": {},
   "outputs": [
    {
     "data": {
      "application/vnd.jupyter.widget-view+json": {
       "model_id": "df29cced81a244759290b31e73871004",
       "version_major": 2,
       "version_minor": 0
      },
      "text/plain": [
       "Batches:   0%|          | 0/1 [00:00<?, ?it/s]"
      ]
     },
     "metadata": {},
     "output_type": "display_data"
    },
    {
     "name": "stdout",
     "output_type": "stream",
     "text": [
      "{'reader': {'answers': [ExtractedAnswer(query='Who was Pliny the Elder?',\n",
      "                                        score=0.8304970860481262,\n",
      "                                        data='Roman writer',\n",
      "                                        document=Document(id=b29ec3cdee4191168d2654d66e72a6e5a2a3a32c35a78751ff7df67a86962968, content: 'The Roman writer Pliny the Elder, writing in the first century AD, argued that the Great Pyramid had...', meta: {'url': 'https://en.wikipedia.org/wiki/Great_Pyramid_of_Giza', '_split_id': 16, 'source_id': 'f442d4b35d66aa01ba9aef22155dbecb0711cd430fd31da92a0b752dc9c93f85', 'page_number': 1, 'split_id': 0, 'split_idx_start': 0, '_split_overlap': []}, score: 0.5954216479225498),\n",
      "                                        context=None,\n",
      "                                        document_offset=Span(start=4,\n",
      "                                                             end=16),\n",
      "                                        context_offset=None,\n",
      "                                        meta={'answer_page_number': 1}),\n",
      "                        ExtractedAnswer(query='Who was Pliny the Elder?',\n",
      "                                        score=0.7340795993804932,\n",
      "                                        data='a Roman author',\n",
      "                                        document=Document(id=6e15d111c94f58b916a29d2e9876c04aa8caa4b899c5b56bf854ccbca6a2d9ad, content: '[21]\n",
      "Pliny the Elder (AD 23/24 – 79) was a Roman author, a naturalist and natural philosopher, a nav...', meta: {'url': 'https://en.wikipedia.org/wiki/Colossus_of_Rhodes', '_split_id': 8, 'source_id': '0edbaf3dc9b5f467d9da1560ee99363bac17c4868b62d9eb27d7d81240f311c2', 'page_number': 1, 'split_id': 0, 'split_idx_start': 0, '_split_overlap': []}, score: 0.7316702661410317),\n",
      "                                        context=None,\n",
      "                                        document_offset=Span(start=41,\n",
      "                                                             end=55),\n",
      "                                        context_offset=None,\n",
      "                                        meta={'answer_page_number': 1}),\n",
      "                        ExtractedAnswer(query='Who was Pliny the Elder?',\n",
      "                                        score=0.04507428278425607,\n",
      "                                        data=None,\n",
      "                                        document=None,\n",
      "                                        context=None,\n",
      "                                        document_offset=None,\n",
      "                                        context_offset=None,\n",
      "                                        meta={})]}}\n"
     ]
    }
   ],
   "source": [
    "query = \"Who was Pliny the Elder?\"\n",
    "result = qa_pipeline.run(\n",
    "    data={\"embedder\": {\"text\": query}, \"retriever\": {\"top_k\": 3}, \"reader\": {\"query\": query, \"top_k\": 2}}\n",
    ")\n",
    "pprint(result)"
   ]
  },
  {
   "cell_type": "code",
   "execution_count": 5,
   "metadata": {},
   "outputs": [
    {
     "name": "stdout",
     "output_type": "stream",
     "text": [
      "Answer: Roman writer, Score: 0.8304970860481262\n",
      "Answer: a Roman author, Score: 0.7340795993804932\n"
     ]
    }
   ],
   "source": [
    "valid_answers = [\n",
    "    answer for answer in result[\"reader\"][\"answers\"]\n",
    "    if answer.data is not None and answer.score > 0.1  # Ajusta el umbral según sea necesario\n",
    "]\n",
    "\n",
    "for ans in valid_answers:\n",
    "    print(f\"Answer: {ans.data}, Score: {ans.score}\")\n"
   ]
  },
  {
   "cell_type": "markdown",
   "metadata": {},
   "source": [
    "#### C. Construir una query para el generador"
   ]
  },
  {
   "cell_type": "code",
   "execution_count": 6,
   "metadata": {},
   "outputs": [
    {
     "data": {
      "text/plain": [
       "<haystack.components.builders.prompt_builder.PromptBuilder object at 0x7f3c0033e310>\n",
       "Inputs:\n",
       "  - answers: Any\n",
       "  - documents: Any\n",
       "  - question: Any\n",
       "  - template: Optional[str]\n",
       "  - template_variables: Optional[Dict[str, Any]]\n",
       "Outputs:\n",
       "  - prompt: str"
      ]
     },
     "execution_count": 6,
     "metadata": {},
     "output_type": "execute_result"
    }
   ],
   "source": [
    "from haystack.components.builders import PromptBuilder\n",
    "\n",
    "text_embedder_c = SentenceTransformersTextEmbedder(model=\"sentence-transformers/multi-qa-mpnet-base-dot-v1\")\n",
    "retriever_c = InMemoryEmbeddingRetriever(document_store=document_store)\n",
    "reader_c = ExtractiveReader()\n",
    "reader_c.warm_up()\n",
    "\n",
    "template_c = \"\"\"\n",
    "You are a helpful assistant. Use the extracted answers and additional context provided to answer the question.\n",
    "\n",
    "Question: {{question}}\n",
    "\n",
    "Extracted Answers:\n",
    "{% for answer in answers if answer.score > 0.5 %}\n",
    "- {{ answer.data }} (Score: {{ answer.score }})\n",
    "{% endfor %}\n",
    "\n",
    "Context:\n",
    "{% for document in documents %}\n",
    "{{ document.content }}\n",
    "{% endfor %}\n",
    "\n",
    "Answer:\n",
    "\"\"\"\n",
    "prompt_builder_c = PromptBuilder(template=template_c)\n",
    "prompt_builder_c"
   ]
  },
  {
   "cell_type": "code",
   "execution_count": 7,
   "metadata": {},
   "outputs": [
    {
     "data": {
      "text/plain": [
       "<haystack.core.pipeline.pipeline.Pipeline object at 0x7f3ba445f450>\n",
       "🚅 Components\n",
       "  - text_embedder: SentenceTransformersTextEmbedder\n",
       "  - retriever: InMemoryEmbeddingRetriever\n",
       "  - reader: ExtractiveReader\n",
       "  - prompt_builder: PromptBuilder\n",
       "🛤️ Connections\n",
       "  - text_embedder.embedding -> retriever.query_embedding (List[float])\n",
       "  - retriever.documents -> reader.documents (List[Document])\n",
       "  - retriever.documents -> prompt_builder.documents (List[Document])\n",
       "  - reader.answers -> prompt_builder.answers (List[ExtractedAnswer])"
      ]
     },
     "execution_count": 7,
     "metadata": {},
     "output_type": "execute_result"
    }
   ],
   "source": [
    "from haystack import Pipeline\n",
    "\n",
    "pipeline_c = Pipeline()\n",
    "pipeline_c.add_component(\"text_embedder\", text_embedder_c)\n",
    "pipeline_c.add_component(\"retriever\", retriever_c)\n",
    "pipeline_c.add_component(\"reader\", reader_c)\n",
    "pipeline_c.add_component(\"prompt_builder\", prompt_builder_c)\n",
    "\n",
    "pipeline_c.connect(\"text_embedder.embedding\", \"retriever.query_embedding\")\n",
    "pipeline_c.connect(\"retriever.documents\", \"reader.documents\")\n",
    "pipeline_c.connect(\"reader\", \"prompt_builder.answers\")  # Respuestas extraídas al PromptBuilder\n",
    "pipeline_c.connect(\"retriever.documents\", \"prompt_builder.documents\")  # Contexto al PromptBuilder"
   ]
  },
  {
   "cell_type": "code",
   "execution_count": 8,
   "metadata": {},
   "outputs": [
    {
     "data": {
      "application/vnd.jupyter.widget-view+json": {
       "model_id": "1f5add9eb07845b9b9ccde52e8cd38e3",
       "version_major": 2,
       "version_minor": 0
      },
      "text/plain": [
       "Batches:   0%|          | 0/1 [00:00<?, ?it/s]"
      ]
     },
     "metadata": {},
     "output_type": "display_data"
    },
    {
     "name": "stdout",
     "output_type": "stream",
     "text": [
      "{'prompt_builder': {'prompt': '\\n'\n",
      "                              'You are a helpful assistant. Use the extracted '\n",
      "                              'answers and additional context provided to '\n",
      "                              'answer the question.\\n'\n",
      "                              '\\n'\n",
      "                              'Question: \\n'\n",
      "                              '\\n'\n",
      "                              'Extracted Answers:\\n'\n",
      "                              '\\n'\n",
      "                              '- Roman writer (Score: 0.8304970860481262)\\n'\n",
      "                              '\\n'\n",
      "                              '- a Roman author (Score: 0.7340795993804932)\\n'\n",
      "                              '\\n'\n",
      "                              '\\n'\n",
      "                              'Context:\\n'\n",
      "                              '\\n'\n",
      "                              '[21]\\n'\n",
      "                              'Pliny the Elder (AD 23/24 – 79) was a Roman '\n",
      "                              'author, a naturalist and natural philosopher, a '\n",
      "                              'naval and army commander of the early Roman '\n",
      "                              'Empire, and a friend of emperor Vespasian. '\n",
      "                              'Pliny wrote the encyclopedic Naturalis Historia '\n",
      "                              '(Natural History), which became an editorial '\n",
      "                              'model for encyclopedias. The Naturalis Historia '\n",
      "                              'is one of the largest single works to have '\n",
      "                              'survived from the Roman Empire to the modern '\n",
      "                              'day and purports to cover the entire field of '\n",
      "                              'ancient knowledge. Pliny remarked: But that '\n",
      "                              'which is by far the most worthy of our '\n",
      "                              'admiration, is the colossal statue of the Sun, '\n",
      "                              'which stood formerly at Rhodes, and was the '\n",
      "                              'work of Chares the Lindian, a pupil of the '\n",
      "                              'above-named Lysippus; no less than seventy '\n",
      "                              'cubits in height. This statue fifty-six years '\n",
      "                              'after it was erected, was thrown down by an '\n",
      "                              'earthquake; but even as it lies, it excites our '\n",
      "                              'wonder and admiration. Few men can clasp the '\n",
      "                              'thumb in their arms, and its fingers are larger '\n",
      "                              'than most statues. Where the limbs are broken '\n",
      "                              'asunder, vast caverns are seen yawning in the '\n",
      "                              'interior.\\n'\n",
      "                              '\\n'\n",
      "                              'The Roman writer Pliny the Elder, writing in '\n",
      "                              'the first century AD, argued that the Great '\n",
      "                              'Pyramid had been raised, either \"to prevent the '\n",
      "                              'lower classes from remaining unoccupied\", or as '\n",
      "                              \"a measure to prevent the pharaoh's riches from \"\n",
      "                              'falling into the hands of his rivals or '\n",
      "                              'successors.[60] Pliny does not speculate as to '\n",
      "                              'the pharaoh in question, explicitly noting that '\n",
      "                              '\"accident [has] consigned to oblivion the names '\n",
      "                              'of those who erected such stupendous memorials '\n",
      "                              'of their vanity\".[61]\\n'\n",
      "                              'In pondering how the stones could be '\n",
      "                              'transported to such a vast height he gives two '\n",
      "                              'explanations: That either vast mounds of nitre '\n",
      "                              'and salt were heaped up against the pyramid '\n",
      "                              'which were then melted away with water '\n",
      "                              'redirected from the river. Or, that \"bridges\" '\n",
      "                              'were constructed, their bricks afterwards '\n",
      "                              'distributed for erecting houses of private '\n",
      "                              'individuals, arguing that the level of the '\n",
      "                              'river is too low for canals to ever bring water '\n",
      "                              'up to the pyramid. Pliny also recounts how \"in '\n",
      "                              'the interior of the largest Pyramid there is a '\n",
      "                              'well, eighty-six cubits [45.1\\xa0m; 147.8\\xa0'\n",
      "                              'ft] deep, which communicates with the river, it '\n",
      "                              'is thought\".\\n'\n",
      "                              '\\n'\n",
      "                              'The remains were described briefly by Strabo '\n",
      "                              '(64 or 63\\xa0BC – c. 24\\xa0AD), in his work '\n",
      "                              'Geography (Book XIV, Chapter 2.5). Strabo was a '\n",
      "                              'Greek geographer, philosopher, and historian '\n",
      "                              'who lived in Asia Minor during the transitional '\n",
      "                              'period of the Roman Republic into the Roman '\n",
      "                              'Empire.\\n'\n",
      "                              'Strabo is best known for his work Geographica '\n",
      "                              '(\"Geography\"), which presented a descriptive '\n",
      "                              'history of people and places from different '\n",
      "                              'regions of the world known during his '\n",
      "                              'lifetime.[20] Strabo states that: The city of '\n",
      "                              'the Rhodians lies on the eastern promontory of '\n",
      "                              'Rhodes; and it is so far superior to all others '\n",
      "                              'in harbours and roads and walls and '\n",
      "                              'improvements in general that I am unable to '\n",
      "                              'speak of any other city as equal to it, or even '\n",
      "                              'as almost equal to it, much less superior to '\n",
      "                              'it.\\n'\n",
      "                              '\\n'\n",
      "                              '\\n'\n",
      "                              'Answer:'}}\n"
     ]
    }
   ],
   "source": [
    "query = \"Who was Pliny the Elder?\"\n",
    "result = pipeline_c.run(\n",
    "    data={\"text_embedder\": {\"text\": query}, \"retriever\": {\"top_k\": 3}, \"reader\": {\"query\": query, \"top_k\": 2}}\n",
    ")\n",
    "pprint(result)"
   ]
  },
  {
   "cell_type": "code",
   "execution_count": null,
   "metadata": {},
   "outputs": [],
   "source": []
  }
 ],
 "metadata": {
  "kernelspec": {
   "display_name": "venv_haystack_ai",
   "language": "python",
   "name": "python3"
  },
  "language_info": {
   "codemirror_mode": {
    "name": "ipython",
    "version": 3
   },
   "file_extension": ".py",
   "mimetype": "text/x-python",
   "name": "python",
   "nbconvert_exporter": "python",
   "pygments_lexer": "ipython3",
   "version": "3.9.20"
  }
 },
 "nbformat": 4,
 "nbformat_minor": 2
}
