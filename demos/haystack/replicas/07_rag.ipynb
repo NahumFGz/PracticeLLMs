{
 "cells": [
  {
   "cell_type": "markdown",
   "metadata": {},
   "source": [
    "### Replica 7: Réplica de RAG"
   ]
  },
  {
   "cell_type": "markdown",
   "metadata": {},
   "source": [
    "#### A. Indexar documentos con un cleaner"
   ]
  },
  {
   "cell_type": "code",
   "execution_count": 2,
   "metadata": {},
   "outputs": [],
   "source": [
    "from haystack.dataclasses import Document\n",
    "\n",
    "documents = [\n",
    "    Document(\n",
    "        content=\"\"\"Munich, the vibrant capital of Bavaria in southern Germany, exudes a perfect blend of rich cultural heritage and modern urban sophistication. Nestled along the banks of the Isar River, Munich is renowned for its splendid architecture, including the iconic Neues Rathaus (New Town Hall) at Marienplatz and the grandeur of Nymphenburg Palace. The city is a haven for art enthusiasts, with world-class museums like the Alte Pinakothek housing masterpieces by renowned artists. Munich is also famous for its lively beer gardens, where locals and tourists gather to enjoy the city's famed beers and traditional Bavarian cuisine. The city's annual Oktoberfest celebration, the world's largest beer festival, attracts millions of visitors from around the globe. Beyond its cultural and culinary delights, Munich offers picturesque parks like the English Garden, providing a serene escape within the heart of the bustling metropolis. Visitors are charmed by Munich's warm hospitality, making it a must-visit destination for travelers seeking a taste of both old-world charm and contemporary allure.\"\"\"\n",
    "    )\n",
    "]"
   ]
  },
  {
   "cell_type": "code",
   "execution_count": 3,
   "metadata": {},
   "outputs": [
    {
     "data": {
      "text/plain": [
       "<haystack.core.pipeline.pipeline.Pipeline object at 0x7fdb787b5e10>\n",
       "🚅 Components\n",
       "  - cleaner: DocumentCleaner\n",
       "  - splitter: DocumentSplitter\n",
       "  - embedder: SentenceTransformersDocumentEmbedder\n",
       "  - writer: DocumentWriter\n",
       "🛤️ Connections\n",
       "  - cleaner.documents -> splitter.documents (List[Document])\n",
       "  - splitter.documents -> embedder.documents (List[Document])\n",
       "  - embedder.documents -> writer.documents (List[Document])"
      ]
     },
     "execution_count": 3,
     "metadata": {},
     "output_type": "execute_result"
    }
   ],
   "source": [
    "from haystack import Pipeline\n",
    "from haystack.components.preprocessors import DocumentCleaner, DocumentSplitter\n",
    "from haystack.components.embedders import SentenceTransformersDocumentEmbedder\n",
    "from haystack.components.writers import DocumentWriter\n",
    "from haystack.document_stores.types import DuplicatePolicy\n",
    "from haystack.document_stores.in_memory import InMemoryDocumentStore\n",
    "\n",
    "#! 1. Definir componentes del pipeline\n",
    "document_store = InMemoryDocumentStore(embedding_similarity_function=\"cosine\")\n",
    "document_cleaner = DocumentCleaner()\n",
    "document_splitter = DocumentSplitter(split_length=1, split_overlap=0, split_by=\"sentence\")\n",
    "document_embedder = SentenceTransformersDocumentEmbedder(model=\"sentence-transformers/all-MiniLM-L6-v2\")\n",
    "document_writer = DocumentWriter(document_store=document_store, policy=DuplicatePolicy.OVERWRITE)\n",
    "\n",
    "#! 2. Crear pipeline\n",
    "pipeline = Pipeline()\n",
    "pipeline.add_component(\"cleaner\", document_cleaner)\n",
    "pipeline.add_component(\"splitter\", document_splitter)\n",
    "pipeline.add_component(\"embedder\", document_embedder)\n",
    "pipeline.add_component(\"writer\", document_writer)\n",
    "\n",
    "#! 3. Conectar pipeline\n",
    "pipeline.connect(\"cleaner\", \"splitter\")\n",
    "pipeline.connect(\"splitter\", \"embedder\")\n",
    "pipeline.connect(\"embedder\", \"writer\")"
   ]
  },
  {
   "cell_type": "code",
   "execution_count": 4,
   "metadata": {},
   "outputs": [
    {
     "name": "stderr",
     "output_type": "stream",
     "text": [
      "/home/nahumfg/GithubProjects/TesisMaestria/TesisHaystack/venv_haystack_ai/lib/python3.11/site-packages/sentence_transformers/SentenceTransformer.py:195: FutureWarning: The `use_auth_token` argument is deprecated and will be removed in v4 of SentenceTransformers.\n",
      "  warnings.warn(\n"
     ]
    },
    {
     "data": {
      "application/vnd.jupyter.widget-view+json": {
       "model_id": "cfc837fbf0a44ebd977c3b7873ad8a28",
       "version_major": 2,
       "version_minor": 0
      },
      "text/plain": [
       "Batches:   0%|          | 0/1 [00:00<?, ?it/s]"
      ]
     },
     "metadata": {},
     "output_type": "display_data"
    },
    {
     "name": "stdout",
     "output_type": "stream",
     "text": [
      "{'writer': {'documents_written': 7}}\n"
     ]
    }
   ],
   "source": [
    "from pprint import pprint\n",
    "\n",
    "result = pipeline.run({\"cleaner\": {\"documents\": documents}})\n",
    "pprint(result)"
   ]
  },
  {
   "cell_type": "code",
   "execution_count": 5,
   "metadata": {},
   "outputs": [
    {
     "data": {
      "text/plain": [
       "[Document(id=af7526f937460d9eb010c476df74c405f82906aa015dac714b193d94d5e67ebe, content: 'Munich, the vibrant capital of Bavaria in southern Germany, exudes a perfect blend of rich cultural ...', meta: {'source_id': 'f2d45a0dcb080e4ded436659c9a2c497dd55a46213b1c3903eab752c9ac4ca48', 'page_number': 1, 'split_id': 0, 'split_idx_start': 0}, embedding: vector of size 384),\n",
       " Document(id=f2ba80a4c91151abdd8a1895c7ac1bab4651e58ccceaf524319e93dc3341da4b, content: ' Nestled along the banks of the Isar River, Munich is renowned for its splendid architecture, includ...', meta: {'source_id': 'f2d45a0dcb080e4ded436659c9a2c497dd55a46213b1c3903eab752c9ac4ca48', 'page_number': 1, 'split_id': 1, 'split_idx_start': 141}, embedding: vector of size 384),\n",
       " Document(id=2f76b2eabc919e4d2fc8145777e724652c94d2d4ce018b584cee898565cce184, content: ' The city is a haven for art enthusiasts, with world-class museums like the Alte Pinakothek housing ...', meta: {'source_id': 'f2d45a0dcb080e4ded436659c9a2c497dd55a46213b1c3903eab752c9ac4ca48', 'page_number': 1, 'split_id': 2, 'split_idx_start': 340}, embedding: vector of size 384),\n",
       " Document(id=e5004a8f2c428bf144ab75af32180e0b101be9471166bf8da69a290a7dbc3f93, content: ' Munich is also famous for its lively beer gardens, where locals and tourists gather to enjoy the ci...', meta: {'source_id': 'f2d45a0dcb080e4ded436659c9a2c497dd55a46213b1c3903eab752c9ac4ca48', 'page_number': 1, 'split_id': 3, 'split_idx_start': 473}, embedding: vector of size 384),\n",
       " Document(id=6aa442481f1c53ca1457526af49ad2d8a18716a7e132bfe976bffdfdb0aa265e, content: ' The city's annual Oktoberfest celebration, the world's largest beer festival, attracts millions of ...', meta: {'source_id': 'f2d45a0dcb080e4ded436659c9a2c497dd55a46213b1c3903eab752c9ac4ca48', 'page_number': 1, 'split_id': 4, 'split_idx_start': 623}, embedding: vector of size 384),\n",
       " Document(id=185fa6fa84300da0d1e4c9480cf248e3590242a010dbb6382b00104fa5c322a8, content: ' Beyond its cultural and culinary delights, Munich offers picturesque parks like the English Garden,...', meta: {'source_id': 'f2d45a0dcb080e4ded436659c9a2c497dd55a46213b1c3903eab752c9ac4ca48', 'page_number': 1, 'split_id': 5, 'split_idx_start': 754}, embedding: vector of size 384),\n",
       " Document(id=915e7aa37c265bdd0eaf66cc2b998c18531f0c2de9e1a666c9a91b654a87975c, content: ' Visitors are charmed by Munich's warm hospitality, making it a must-visit destination for travelers...', meta: {'source_id': 'f2d45a0dcb080e4ded436659c9a2c497dd55a46213b1c3903eab752c9ac4ca48', 'page_number': 1, 'split_id': 6, 'split_idx_start': 925}, embedding: vector of size 384)]"
      ]
     },
     "execution_count": 5,
     "metadata": {},
     "output_type": "execute_result"
    }
   ],
   "source": [
    "document_store.filter_documents()"
   ]
  },
  {
   "cell_type": "markdown",
   "metadata": {},
   "source": [
    "#### B. RAG pipeline"
   ]
  },
  {
   "cell_type": "code",
   "execution_count": 6,
   "metadata": {},
   "outputs": [],
   "source": [
    "from haystack.components.embedders import SentenceTransformersTextEmbedder\n",
    "from haystack.components.retrievers import InMemoryEmbeddingRetriever\n",
    "from haystack.components.builders import PromptBuilder\n",
    "from haystack.components.generators import OpenAIGenerator\n",
    "from haystack.utils import Secret\n",
    "\n",
    "#! 1. Definir componentes del pipeline\n",
    "text_embedder = SentenceTransformersTextEmbedder(model=\"sentence-transformers/all-MiniLM-L6-v2\")\n",
    "retriever = InMemoryEmbeddingRetriever(document_store=document_store)\n",
    "\n",
    "template = \"\"\"\n",
    "Given the following information, answer the question.\n",
    "\n",
    "Context:\n",
    "{% for document in documents %}\n",
    "    {{ document.content }}\n",
    "{% endfor %}\n",
    "\n",
    "Question: {{question}}\n",
    "Answer:\n",
    "\"\"\" \n",
    "prompt_builder = PromptBuilder(template=template)\n",
    "\n",
    "generator = OpenAIGenerator(\n",
    "    api_key= Secret.from_env_var(\"OPENAI_API_KEY\"),\n",
    "    model=\"gpt-4o-mini-2024-07-18\"\n",
    ") "
   ]
  },
  {
   "cell_type": "code",
   "execution_count": 7,
   "metadata": {},
   "outputs": [],
   "source": [
    "from haystack import Pipeline\n",
    "\n",
    "#! 2. Crear pipeline\n",
    "rag_pipeline = Pipeline()\n",
    "rag_pipeline.add_component(\"text_embedder\", text_embedder)\n",
    "rag_pipeline.add_component(\"retriever\", retriever)\n",
    "rag_pipeline.add_component(\"prompt_builder\", prompt_builder)\n",
    "rag_pipeline.add_component(\"generator\", generator)"
   ]
  },
  {
   "cell_type": "code",
   "execution_count": 11,
   "metadata": {},
   "outputs": [
    {
     "data": {
      "text/plain": [
       "<haystack.core.pipeline.pipeline.Pipeline object at 0x7fdb77bc3290>\n",
       "🚅 Components\n",
       "  - text_embedder: SentenceTransformersTextEmbedder\n",
       "  - retriever: InMemoryEmbeddingRetriever\n",
       "  - prompt_builder: PromptBuilder\n",
       "  - generator: OpenAIGenerator\n",
       "🛤️ Connections\n",
       "  - text_embedder.embedding -> retriever.query_embedding (List[float])\n",
       "  - retriever.documents -> prompt_builder.documents (List[Document])\n",
       "  - prompt_builder.prompt -> generator.prompt (str)"
      ]
     },
     "execution_count": 11,
     "metadata": {},
     "output_type": "execute_result"
    }
   ],
   "source": [
    "\n",
    "#! 3. Conectar pipeline\n",
    "rag_pipeline.connect(\"text_embedder.embedding\", \"retriever.query_embedding\")\n",
    "rag_pipeline.connect(\"retriever\", \"prompt_builder.documents\")\n",
    "rag_pipeline.connect(\"prompt_builder\", \"generator\")"
   ]
  },
  {
   "cell_type": "code",
   "execution_count": 12,
   "metadata": {},
   "outputs": [
    {
     "data": {
      "application/vnd.jupyter.widget-view+json": {
       "model_id": "0541262af2794dd8973313df4aa285ac",
       "version_major": 2,
       "version_minor": 0
      },
      "text/plain": [
       "Batches:   0%|          | 0/1 [00:00<?, ?it/s]"
      ]
     },
     "metadata": {},
     "output_type": "display_data"
    },
    {
     "name": "stdout",
     "output_type": "stream",
     "text": [
      "{'generator': {'meta': [{'finish_reason': 'stop',\n",
      "                         'index': 0,\n",
      "                         'model': 'gpt-4o-mini-2024-07-18',\n",
      "                         'usage': {'completion_tokens': 26,\n",
      "                                   'completion_tokens_details': CompletionTokensDetails(accepted_prediction_tokens=0, audio_tokens=0, reasoning_tokens=0, rejected_prediction_tokens=0),\n",
      "                                   'prompt_tokens': 235,\n",
      "                                   'prompt_tokens_details': PromptTokensDetails(audio_tokens=0, cached_tokens=0),\n",
      "                                   'total_tokens': 261}}],\n",
      "               'replies': ['Munich is located in southern Germany. It is the '\n",
      "                           'capital of Bavaria and is situated along the banks '\n",
      "                           'of the Isar River.']}}\n"
     ]
    }
   ],
   "source": [
    "from pprint import pprint\n",
    "\n",
    "question = \"Where is Munich?\"\n",
    "\n",
    "response = rag_pipeline.run({\"text_embedder\": {\"text\": question}, \"prompt_builder\": {\"question\": question}})\n",
    "pprint(response)"
   ]
  },
  {
   "cell_type": "code",
   "execution_count": null,
   "metadata": {},
   "outputs": [],
   "source": []
  }
 ],
 "metadata": {
  "kernelspec": {
   "display_name": "venv_haystack_ai",
   "language": "python",
   "name": "python3"
  },
  "language_info": {
   "codemirror_mode": {
    "name": "ipython",
    "version": 3
   },
   "file_extension": ".py",
   "mimetype": "text/x-python",
   "name": "python",
   "nbconvert_exporter": "python",
   "pygments_lexer": "ipython3",
   "version": "3.11.11"
  }
 },
 "nbformat": 4,
 "nbformat_minor": 2
}
