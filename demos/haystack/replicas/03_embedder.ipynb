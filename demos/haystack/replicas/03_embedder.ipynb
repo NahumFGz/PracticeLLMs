{
 "cells": [
  {
   "cell_type": "markdown",
   "metadata": {},
   "source": [
    "### Replica 3: Uso del split en documentos"
   ]
  },
  {
   "cell_type": "markdown",
   "metadata": {},
   "source": [
    "#### Por oraciones"
   ]
  },
  {
   "cell_type": "code",
   "execution_count": 5,
   "metadata": {},
   "outputs": [],
   "source": [
    "from haystack.dataclasses import Document\n",
    "\n",
    "documents = [\n",
    "    Document(\n",
    "        content=\"\"\"Munich, the vibrant capital of Bavaria in southern Germany, exudes a perfect blend of rich cultural heritage and modern urban sophistication. Nestled along the banks of the Isar River, Munich is renowned for its splendid architecture, including the iconic Neues Rathaus (New Town Hall) at Marienplatz and the grandeur of Nymphenburg Palace. The city is a haven for art enthusiasts, with world-class museums like the Alte Pinakothek housing masterpieces by renowned artists. Munich is also famous for its lively beer gardens, where locals and tourists gather to enjoy the city's famed beers and traditional Bavarian cuisine. The city's annual Oktoberfest celebration, the world's largest beer festival, attracts millions of visitors from around the globe. Beyond its cultural and culinary delights, Munich offers picturesque parks like the English Garden, providing a serene escape within the heart of the bustling metropolis. Visitors are charmed by Munich's warm hospitality, making it a must-visit destination for travelers seeking a taste of both old-world charm and contemporary allure.\"\"\"\n",
    "    )\n",
    "]"
   ]
  },
  {
   "cell_type": "code",
   "execution_count": 7,
   "metadata": {},
   "outputs": [
    {
     "data": {
      "text/plain": [
       "{'documents': [Document(id=af7526f937460d9eb010c476df74c405f82906aa015dac714b193d94d5e67ebe, content: 'Munich, the vibrant capital of Bavaria in southern Germany, exudes a perfect blend of rich cultural ...', meta: {'source_id': 'f2d45a0dcb080e4ded436659c9a2c497dd55a46213b1c3903eab752c9ac4ca48', 'page_number': 1, 'split_id': 0, 'split_idx_start': 0}),\n",
       "  Document(id=f2ba80a4c91151abdd8a1895c7ac1bab4651e58ccceaf524319e93dc3341da4b, content: ' Nestled along the banks of the Isar River, Munich is renowned for its splendid architecture, includ...', meta: {'source_id': 'f2d45a0dcb080e4ded436659c9a2c497dd55a46213b1c3903eab752c9ac4ca48', 'page_number': 1, 'split_id': 1, 'split_idx_start': 141}),\n",
       "  Document(id=2f76b2eabc919e4d2fc8145777e724652c94d2d4ce018b584cee898565cce184, content: ' The city is a haven for art enthusiasts, with world-class museums like the Alte Pinakothek housing ...', meta: {'source_id': 'f2d45a0dcb080e4ded436659c9a2c497dd55a46213b1c3903eab752c9ac4ca48', 'page_number': 1, 'split_id': 2, 'split_idx_start': 340}),\n",
       "  Document(id=e5004a8f2c428bf144ab75af32180e0b101be9471166bf8da69a290a7dbc3f93, content: ' Munich is also famous for its lively beer gardens, where locals and tourists gather to enjoy the ci...', meta: {'source_id': 'f2d45a0dcb080e4ded436659c9a2c497dd55a46213b1c3903eab752c9ac4ca48', 'page_number': 1, 'split_id': 3, 'split_idx_start': 473}),\n",
       "  Document(id=6aa442481f1c53ca1457526af49ad2d8a18716a7e132bfe976bffdfdb0aa265e, content: ' The city's annual Oktoberfest celebration, the world's largest beer festival, attracts millions of ...', meta: {'source_id': 'f2d45a0dcb080e4ded436659c9a2c497dd55a46213b1c3903eab752c9ac4ca48', 'page_number': 1, 'split_id': 4, 'split_idx_start': 623}),\n",
       "  Document(id=185fa6fa84300da0d1e4c9480cf248e3590242a010dbb6382b00104fa5c322a8, content: ' Beyond its cultural and culinary delights, Munich offers picturesque parks like the English Garden,...', meta: {'source_id': 'f2d45a0dcb080e4ded436659c9a2c497dd55a46213b1c3903eab752c9ac4ca48', 'page_number': 1, 'split_id': 5, 'split_idx_start': 754}),\n",
       "  Document(id=915e7aa37c265bdd0eaf66cc2b998c18531f0c2de9e1a666c9a91b654a87975c, content: ' Visitors are charmed by Munich's warm hospitality, making it a must-visit destination for travelers...', meta: {'source_id': 'f2d45a0dcb080e4ded436659c9a2c497dd55a46213b1c3903eab752c9ac4ca48', 'page_number': 1, 'split_id': 6, 'split_idx_start': 925})]}"
      ]
     },
     "execution_count": 7,
     "metadata": {},
     "output_type": "execute_result"
    }
   ],
   "source": [
    "from haystack.components.preprocessors import DocumentSplitter\n",
    "\n",
    "splitter = DocumentSplitter(split_length=1, split_overlap=0, split_by=\"sentence\")\n",
    "documents = splitter.run(documents)\n",
    "documents"
   ]
  },
  {
   "cell_type": "code",
   "execution_count": 9,
   "metadata": {},
   "outputs": [
    {
     "data": {
      "text/plain": [
       "<haystack.core.pipeline.pipeline.Pipeline object at 0x7fe498d15e10>\n",
       "🚅 Components\n",
       "  - embedder: SentenceTransformersDocumentEmbedder\n",
       "  - writer: DocumentWriter\n",
       "🛤️ Connections\n",
       "  - embedder.documents -> writer.documents (List[Document])"
      ]
     },
     "execution_count": 9,
     "metadata": {},
     "output_type": "execute_result"
    }
   ],
   "source": [
    "from haystack.document_stores.types import DuplicatePolicy\n",
    "from haystack.document_stores.in_memory import InMemoryDocumentStore\n",
    "from haystack.components.embedders import SentenceTransformersDocumentEmbedder\n",
    "from haystack.components.writers import DocumentWriter\n",
    "from haystack import Pipeline\n",
    "\n",
    "pipeline = Pipeline()\n",
    "document_store = InMemoryDocumentStore()\n",
    "\n",
    "pipeline.add_component(\"embedder\", SentenceTransformersDocumentEmbedder(model='sentence-transformers/all-MiniLM-L6-v2'))\n",
    "pipeline.add_component(\"writer\", DocumentWriter(document_store=document_store, policy=DuplicatePolicy.OVERWRITE))\n",
    "\n",
    "pipeline.connect(\"embedder\", \"writer\")"
   ]
  },
  {
   "cell_type": "code",
   "execution_count": 13,
   "metadata": {},
   "outputs": [
    {
     "data": {
      "application/vnd.jupyter.widget-view+json": {
       "model_id": "db5c54c11fa5490a80b0ace1cd177933",
       "version_major": 2,
       "version_minor": 0
      },
      "text/plain": [
       "Batches:   0%|          | 0/1 [00:00<?, ?it/s]"
      ]
     },
     "metadata": {},
     "output_type": "display_data"
    },
    {
     "data": {
      "text/plain": [
       "{'writer': {'documents_written': 7}}"
      ]
     },
     "execution_count": 13,
     "metadata": {},
     "output_type": "execute_result"
    }
   ],
   "source": [
    "pipeline.run({\"embedder\":documents})"
   ]
  },
  {
   "cell_type": "markdown",
   "metadata": {},
   "source": [
    "#### Por palabra"
   ]
  },
  {
   "cell_type": "code",
   "execution_count": 25,
   "metadata": {},
   "outputs": [
    {
     "data": {
      "text/plain": [
       "{'documents': [Document(id=7378ec4698f2ae86fcf2d53a02f4c8d61597581ec113e8ee900f47f60fbe1307, content: 'Munich, the vibrant capital of Bavaria in southern Germany, exudes a perfect blend of rich cultural ...', meta: {'source_id': 'f2d45a0dcb080e4ded436659c9a2c497dd55a46213b1c3903eab752c9ac4ca48', 'page_number': 1, 'split_id': 0, 'split_idx_start': 0, '_split_overlap': [{'doc_id': 'f31143b635a49e35e9bd136ae381dbf5d6e1ea1fc7fb1b8835b412ea1d7c1abb', 'range': (0, 59)}]}),\n",
       "  Document(id=f31143b635a49e35e9bd136ae381dbf5d6e1ea1fc7fb1b8835b412ea1d7c1abb, content: 'Rathaus (New Town Hall) at Marienplatz and the grandeur of Nymphenburg Palace. The city is a haven f...', meta: {'source_id': 'f2d45a0dcb080e4ded436659c9a2c497dd55a46213b1c3903eab752c9ac4ca48', 'page_number': 1, 'split_id': 1, 'split_idx_start': 262, '_split_overlap': [{'doc_id': '7378ec4698f2ae86fcf2d53a02f4c8d61597581ec113e8ee900f47f60fbe1307', 'range': (262, 321)}, {'doc_id': 'd03278492102cc19ddfac34c7b8f5c5da5651f3592382b6c48eb7a49217444fa', 'range': (0, 62)}]}),\n",
       "  Document(id=d03278492102cc19ddfac34c7b8f5c5da5651f3592382b6c48eb7a49217444fa, content: 'gardens, where locals and tourists gather to enjoy the city's famed beers and traditional Bavarian c...', meta: {'source_id': 'f2d45a0dcb080e4ded436659c9a2c497dd55a46213b1c3903eab752c9ac4ca48', 'page_number': 1, 'split_id': 2, 'split_idx_start': 516, '_split_overlap': [{'doc_id': 'f31143b635a49e35e9bd136ae381dbf5d6e1ea1fc7fb1b8835b412ea1d7c1abb', 'range': (254, 316)}, {'doc_id': '7877bac54be989bf603d19cc97986db0f144b27c5a18a78d9b60e842371ce9ef', 'range': (0, 69)}]}),\n",
       "  Document(id=7877bac54be989bf603d19cc97986db0f144b27c5a18a78d9b60e842371ce9ef, content: 'Munich offers picturesque parks like the English Garden, providing a serene escape within the heart ...', meta: {'source_id': 'f2d45a0dcb080e4ded436659c9a2c497dd55a46213b1c3903eab752c9ac4ca48', 'page_number': 1, 'split_id': 3, 'split_idx_start': 798, '_split_overlap': [{'doc_id': 'd03278492102cc19ddfac34c7b8f5c5da5651f3592382b6c48eb7a49217444fa', 'range': (282, 351)}]})]}"
      ]
     },
     "execution_count": 25,
     "metadata": {},
     "output_type": "execute_result"
    }
   ],
   "source": [
    "from haystack.dataclasses import Document\n",
    "from haystack.components.preprocessors import DocumentSplitter\n",
    "\n",
    "documents = [\n",
    "    Document(\n",
    "        content=\"\"\"Munich, the vibrant capital of Bavaria in southern Germany, exudes a perfect blend of rich cultural heritage and modern urban sophistication. Nestled along the banks of the Isar River, Munich is renowned for its splendid architecture, including the iconic Neues Rathaus (New Town Hall) at Marienplatz and the grandeur of Nymphenburg Palace. The city is a haven for art enthusiasts, with world-class museums like the Alte Pinakothek housing masterpieces by renowned artists. Munich is also famous for its lively beer gardens, where locals and tourists gather to enjoy the city's famed beers and traditional Bavarian cuisine. The city's annual Oktoberfest celebration, the world's largest beer festival, attracts millions of visitors from around the globe. Beyond its cultural and culinary delights, Munich offers picturesque parks like the English Garden, providing a serene escape within the heart of the bustling metropolis. Visitors are charmed by Munich's warm hospitality, making it a must-visit destination for travelers seeking a taste of both old-world charm and contemporary allure.\"\"\"\n",
    "    )\n",
    "]\n",
    "\n",
    "\n",
    "splitter = DocumentSplitter(split_length=50, split_overlap=10, split_by=\"word\")\n",
    "documents = splitter.run(documents)\n",
    "documents"
   ]
  },
  {
   "cell_type": "code",
   "execution_count": 26,
   "metadata": {},
   "outputs": [
    {
     "data": {
      "text/plain": [
       "<haystack.core.pipeline.pipeline.Pipeline object at 0x7fe498197410>\n",
       "🚅 Components\n",
       "  - embedder: SentenceTransformersDocumentEmbedder\n",
       "  - writer: DocumentWriter\n",
       "🛤️ Connections\n",
       "  - embedder.documents -> writer.documents (List[Document])"
      ]
     },
     "execution_count": 26,
     "metadata": {},
     "output_type": "execute_result"
    }
   ],
   "source": [
    "from haystack.document_stores.types import DuplicatePolicy\n",
    "from haystack.document_stores.in_memory import InMemoryDocumentStore\n",
    "from haystack.components.embedders import SentenceTransformersDocumentEmbedder\n",
    "from haystack.components.writers import DocumentWriter\n",
    "from haystack import Pipeline\n",
    "\n",
    "pipeline = Pipeline()\n",
    "document_store = InMemoryDocumentStore()\n",
    "\n",
    "pipeline.add_component(\"embedder\", SentenceTransformersDocumentEmbedder(model='sentence-transformers/all-MiniLM-L6-v2'))\n",
    "pipeline.add_component(\"writer\", DocumentWriter(document_store=document_store, policy=DuplicatePolicy.OVERWRITE))\n",
    "\n",
    "pipeline.connect(\"embedder\", \"writer\")"
   ]
  },
  {
   "cell_type": "code",
   "execution_count": 27,
   "metadata": {},
   "outputs": [
    {
     "data": {
      "application/vnd.jupyter.widget-view+json": {
       "model_id": "6ba3b9e0e8b5488cb0b7c9a2ff21e5a2",
       "version_major": 2,
       "version_minor": 0
      },
      "text/plain": [
       "Batches:   0%|          | 0/1 [00:00<?, ?it/s]"
      ]
     },
     "metadata": {},
     "output_type": "display_data"
    },
    {
     "data": {
      "text/plain": [
       "{'writer': {'documents_written': 4}}"
      ]
     },
     "execution_count": 27,
     "metadata": {},
     "output_type": "execute_result"
    }
   ],
   "source": [
    "pipeline.run({\"embedder\":documents})"
   ]
  },
  {
   "cell_type": "code",
   "execution_count": null,
   "metadata": {},
   "outputs": [],
   "source": []
  }
 ],
 "metadata": {
  "kernelspec": {
   "display_name": "venv_haystack_ai",
   "language": "python",
   "name": "python3"
  },
  "language_info": {
   "codemirror_mode": {
    "name": "ipython",
    "version": 3
   },
   "file_extension": ".py",
   "mimetype": "text/x-python",
   "name": "python",
   "nbconvert_exporter": "python",
   "pygments_lexer": "ipython3",
   "version": "3.11.11"
  }
 },
 "nbformat": 4,
 "nbformat_minor": 2
}
