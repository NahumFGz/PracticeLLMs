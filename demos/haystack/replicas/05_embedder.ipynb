{
 "cells": [
  {
   "cell_type": "markdown",
   "metadata": {},
   "source": [
    "### Replica 5: Preparación de documentos con metadata y embedding con metadata"
   ]
  },
  {
   "cell_type": "markdown",
   "metadata": {},
   "source": [
    "#### Indexación simple de metadatos"
   ]
  },
  {
   "cell_type": "code",
   "execution_count": 1,
   "metadata": {},
   "outputs": [],
   "source": [
    "from datetime import datetime\n",
    "from haystack import Document\n",
    "\n",
    "documents = [\n",
    "    Document(\n",
    "        content=\"Use pip to install a basic version of Haystack's latest release: pip install farm-haystack. All the core Haystack components live in the haystack repo. But there's also the haystack-extras repo which contains components that are not as widely used, and you need to install them separately.\",\n",
    "        meta={\"version\": 1.15, \"date\": datetime(2023, 3, 30)},\n",
    "    ),\n",
    "    Document(\n",
    "        content=\"Use pip to install a basic version of Haystack's latest release: pip install farm-haystack[inference]. All the core Haystack components live in the haystack repo. But there's also the haystack-extras repo which contains components that are not as widely used, and you need to install them separately.\",\n",
    "        meta={\"version\": 1.22, \"date\": datetime(2023, 11, 7)},\n",
    "    ),\n",
    "    Document(\n",
    "        content=\"Use pip to install only the Haystack 2.0 code: pip install haystack-ai. The haystack-ai package is built on the main branch which is an unstable beta version, but it's useful if you want to try the new features as soon as they are merged.\",\n",
    "        meta={\"version\": 2.0, \"date\": datetime(2023, 12, 4)},\n",
    "    ),\n",
    "]"
   ]
  },
  {
   "cell_type": "code",
   "execution_count": 2,
   "metadata": {},
   "outputs": [
    {
     "data": {
      "text/plain": [
       "<haystack.core.pipeline.pipeline.Pipeline object at 0x7f781cb2db10>\n",
       "🚅 Components\n",
       "  - embedder: SentenceTransformersDocumentEmbedder\n",
       "  - writer: DocumentWriter\n",
       "🛤️ Connections\n",
       "  - embedder.documents -> writer.documents (List[Document])"
      ]
     },
     "execution_count": 2,
     "metadata": {},
     "output_type": "execute_result"
    }
   ],
   "source": [
    "from haystack import Pipeline\n",
    "from haystack.document_stores.in_memory import InMemoryDocumentStore\n",
    "from haystack.components.embedders import SentenceTransformersDocumentEmbedder\n",
    "from haystack.components.writers import DocumentWriter\n",
    "\n",
    "pipeline = Pipeline()\n",
    "document_store = InMemoryDocumentStore()\n",
    "\n",
    "pipeline.add_component(\"embedder\", SentenceTransformersDocumentEmbedder(model='sentence-transformers/all-MiniLM-L6-v2'))\n",
    "pipeline.add_component(\"writer\", DocumentWriter(document_store=document_store))\n",
    "\n",
    "pipeline.connect(\"embedder\", \"writer\")"
   ]
  },
  {
   "cell_type": "code",
   "execution_count": 3,
   "metadata": {},
   "outputs": [
    {
     "name": "stderr",
     "output_type": "stream",
     "text": [
      "/home/nahumfg/GithubProjects/TesisMaestria/TesisHaystack/venv_haystack_ai/lib/python3.11/site-packages/sentence_transformers/SentenceTransformer.py:195: FutureWarning: The `use_auth_token` argument is deprecated and will be removed in v4 of SentenceTransformers.\n",
      "  warnings.warn(\n"
     ]
    },
    {
     "data": {
      "application/vnd.jupyter.widget-view+json": {
       "model_id": "27994c2b3eeb4be683b5048dc573c1d0",
       "version_major": 2,
       "version_minor": 0
      },
      "text/plain": [
       "Batches:   0%|          | 0/1 [00:00<?, ?it/s]"
      ]
     },
     "metadata": {},
     "output_type": "display_data"
    },
    {
     "data": {
      "text/plain": [
       "{'writer': {'documents_written': 3}}"
      ]
     },
     "execution_count": 3,
     "metadata": {},
     "output_type": "execute_result"
    }
   ],
   "source": [
    "pipeline.run({\"embedder\":{ \"documents\": documents}})"
   ]
  },
  {
   "cell_type": "markdown",
   "metadata": {},
   "source": [
    "#### Indexación **CON** y **SIN** metadatos"
   ]
  },
  {
   "cell_type": "code",
   "execution_count": 7,
   "metadata": {},
   "outputs": [],
   "source": [
    "from haystack import Pipeline\n",
    "from haystack.components.preprocessors import DocumentCleaner, DocumentSplitter\n",
    "from haystack.components.embedders import SentenceTransformersDocumentEmbedder\n",
    "from haystack.components.writers import DocumentWriter\n",
    "from haystack.document_stores.types import DuplicatePolicy\n",
    "\n",
    "def create_pipeline(document_store, metadata_fields_to_embed=None):\n",
    "    document_cleaner = DocumentCleaner()\n",
    "    document_splitter = DocumentSplitter(split_by=\"sentence\", split_length=2)\n",
    "    document_embedder = SentenceTransformersDocumentEmbedder(model=\"thenlper/gte-large\", meta_fields_to_embed=metadata_fields_to_embed)\n",
    "    document_writer = DocumentWriter(document_store=document_store, policy=DuplicatePolicy.OVERWRITE)\n",
    "    \n",
    "    pipeline = Pipeline()\n",
    "    pipeline.add_component(\"cleaner\", document_cleaner)\n",
    "    pipeline.add_component(\"splitter\", document_splitter)\n",
    "    pipeline.add_component(\"embedder\", document_embedder)\n",
    "    pipeline.add_component(\"writer\", document_writer)\n",
    "\n",
    "    pipeline.connect(\"cleaner\", \"splitter\")\n",
    "    pipeline.connect(\"splitter\", \"embedder\")\n",
    "    pipeline.connect(\"embedder\", \"writer\")\n",
    "\n",
    "    return pipeline"
   ]
  },
  {
   "cell_type": "code",
   "execution_count": 5,
   "metadata": {},
   "outputs": [
    {
     "data": {
      "text/plain": [
       "[Document(id=3bd51e0bccf9d0b49b0e428b403ff79a6d514cd4e75fcff000170e2bd82811e8, content: 'The Beatles were an English rock band formed in Liverpool in 1960. The core lineup of the band compr...', meta: {'title': 'The Beatles', 'url': 'https://en.wikipedia.org/wiki/The_Beatles'}),\n",
       " Document(id=42887854a14f7f08a00eeafb61dd668efdb4c12a87784066a2ef13a25e751ff9, content: 'The Cure are an English rock band formed in Crawley, West Sussex in 1976 by guitarist, lead vocalist...', meta: {'title': 'The Cure', 'url': 'https://en.wikipedia.org/wiki/The_Cure'})]"
      ]
     },
     "execution_count": 5,
     "metadata": {},
     "output_type": "execute_result"
    }
   ],
   "source": [
    "# Preparación de los documentos\n",
    "import wikipedia\n",
    "from haystack import Document\n",
    "\n",
    "some_bands = \"\"\"The Beatles,The Cure\"\"\".split(\",\")\n",
    "\n",
    "raw_docs = []\n",
    "for title in some_bands:\n",
    "    page = wikipedia.page(title=title, auto_suggest=False)\n",
    "    doc = Document(content=page.content, meta={\"title\": page.title, \"url\": page.url})\n",
    "    raw_docs.append(doc)\n",
    "\n",
    "raw_docs"
   ]
  },
  {
   "cell_type": "code",
   "execution_count": 8,
   "metadata": {},
   "outputs": [
    {
     "data": {
      "application/vnd.jupyter.widget-view+json": {
       "model_id": "b2b89b75b76e43b0831fd3ccc3620721",
       "version_major": 2,
       "version_minor": 0
      },
      "text/plain": [
       "Batches:   0%|          | 0/17 [00:00<?, ?it/s]"
      ]
     },
     "metadata": {},
     "output_type": "display_data"
    },
    {
     "data": {
      "text/plain": [
       "{'writer': {'documents_written': 542}}"
      ]
     },
     "execution_count": 8,
     "metadata": {},
     "output_type": "execute_result"
    }
   ],
   "source": [
    "# Indexación sin metadatos\n",
    "from haystack.document_stores.in_memory import InMemoryDocumentStore\n",
    "\n",
    "document_store = InMemoryDocumentStore(embedding_similarity_function=\"cosine\")\n",
    "indexing_pipeline = create_pipeline(document_store=document_store)\n",
    "\n",
    "indexing_pipeline.run({\"cleaner\": {\"documents\": raw_docs}})"
   ]
  },
  {
   "cell_type": "code",
   "execution_count": null,
   "metadata": {},
   "outputs": [
    {
     "data": {
      "application/vnd.jupyter.widget-view+json": {
       "model_id": "d8706f39fe1c4ee3845519621a366f18",
       "version_major": 2,
       "version_minor": 0
      },
      "text/plain": [
       "Batches:   0%|          | 0/17 [00:00<?, ?it/s]"
      ]
     },
     "metadata": {},
     "output_type": "display_data"
    },
    {
     "data": {
      "text/plain": [
       "{'writer': {'documents_written': 542}}"
      ]
     },
     "execution_count": 14,
     "metadata": {},
     "output_type": "execute_result"
    }
   ],
   "source": [
    "# Indexación con metadatos\n",
    "document_store = InMemoryDocumentStore(embedding_similarity_function=\"cosine\")\n",
    "indexing_with_metadata_pipeline = create_pipeline(document_store=document_store, metadata_fields_to_embed=[\"title\"])\n",
    "\n",
    "indexing_with_metadata_pipeline.run({\"cleaner\": {\"documents\": raw_docs}})"
   ]
  },
  {
   "cell_type": "markdown",
   "metadata": {},
   "source": [
    "#### Comparación de embeddings"
   ]
  },
  {
   "cell_type": "code",
   "execution_count": 25,
   "metadata": {},
   "outputs": [
    {
     "data": {
      "application/vnd.jupyter.widget-view+json": {
       "model_id": "cd63c785a936467f9c76680ea4938fd0",
       "version_major": 2,
       "version_minor": 0
      },
      "text/plain": [
       "Batches:   0%|          | 0/17 [00:00<?, ?it/s]"
      ]
     },
     "metadata": {},
     "output_type": "display_data"
    },
    {
     "name": "stdout",
     "output_type": "stream",
     "text": [
      "Content: The Beatles were an English rock band formed in Liverpool in 1960. The core lineup of the band comprised John Lennon, Paul McCartney, George Harrison, and Ringo Starr.\n",
      "Metadata: {'title': 'The Beatles', 'url': 'https://en.wikipedia.org/wiki/The_Beatles', 'source_id': 'd587551b97b66e9d0b407314a2f3a63583b4996b425a76aae4193d6e0a757a3c', 'page_number': 1, 'split_id': 0, 'split_idx_start': 0}\n",
      "Embedding (first 5 values): [-0.012269005179405212, -0.02238268032670021, 0.005331412423402071, -0.03672565519809723, 0.008923281915485859]\n",
      "\n",
      "Content:  They are widely regarded as the most influential band of all time and were integral to the development of 1960s counterculture and the recognition of popular music as an art form. Rooted in skiffle, beat, and 1950s rock 'n' roll, their sound incorporated elements of classical music and traditional pop in innovative ways.\n",
      "Metadata: {'title': 'The Beatles', 'url': 'https://en.wikipedia.org/wiki/The_Beatles', 'source_id': 'd587551b97b66e9d0b407314a2f3a63583b4996b425a76aae4193d6e0a757a3c', 'page_number': 1, 'split_id': 1, 'split_idx_start': 167}\n",
      "Embedding (first 5 values): [-0.0007577917422167957, -0.0029058060608804226, -0.01402402762323618, 0.0203429963439703, -0.0013342505553737283]\n",
      "\n",
      "Content:  The band also explored music styles ranging from folk and Indian music to psychedelia and hard rock. As pioneers in recording, songwriting, and artistic presentation, the Beatles revolutionised many aspects of the music industry and were often publicised as leaders of the era's youth and sociocultural movements.\n",
      "Metadata: {'title': 'The Beatles', 'url': 'https://en.wikipedia.org/wiki/The_Beatles', 'source_id': 'd587551b97b66e9d0b407314a2f3a63583b4996b425a76aae4193d6e0a757a3c', 'page_number': 1, 'split_id': 2, 'split_idx_start': 490}\n",
      "Embedding (first 5 values): [-0.03271379694342613, -0.020560115575790405, -0.013521518558263779, -0.032290488481521606, -0.0014887392753735185]\n",
      "\n",
      "Content: \n",
      "Led by primary songwriters Lennon and McCartney, the Beatles evolved from Lennon's previous group, the Quarrymen, and built their reputation by playing clubs in Liverpool and Hamburg, Germany, over three years from 1960, initially with Stuart Sutcliffe playing bass. The core trio of Lennon, McCartney, and Harrison, together since 1958, went through a succession of drummers, including Pete Best, before inviting Starr to join them in 1962.\n",
      "Metadata: {'title': 'The Beatles', 'url': 'https://en.wikipedia.org/wiki/The_Beatles', 'source_id': 'd587551b97b66e9d0b407314a2f3a63583b4996b425a76aae4193d6e0a757a3c', 'page_number': 1, 'split_id': 3, 'split_idx_start': 804}\n",
      "Embedding (first 5 values): [-0.00046896800631657243, -0.014341755770146847, -0.007889200933277607, -0.038006491959095, 0.012393924407660961]\n",
      "\n",
      "Content:  Manager Brian Epstein moulded them into a professional act, and producer George Martin guided and developed their recordings, greatly expanding their domestic success after they signed with EMI and achieved their first hit, \"Love Me Do\", in late 1962. As their popularity grew into the intense fan frenzy dubbed \"Beatlemania\", the band acquired the nickname \"the Fab Four\".\n",
      "Metadata: {'title': 'The Beatles', 'url': 'https://en.wikipedia.org/wiki/The_Beatles', 'source_id': 'd587551b97b66e9d0b407314a2f3a63583b4996b425a76aae4193d6e0a757a3c', 'page_number': 1, 'split_id': 4, 'split_idx_start': 1246}\n",
      "Embedding (first 5 values): [-0.010072603821754456, -0.028421372175216675, -0.014870899729430676, -0.027079416438937187, -0.022549841552972794]\n",
      "\n"
     ]
    }
   ],
   "source": [
    "# Indexación sin metadatos\n",
    "from haystack.document_stores.in_memory import InMemoryDocumentStore\n",
    "\n",
    "document_store = InMemoryDocumentStore(embedding_similarity_function=\"cosine\")\n",
    "indexing_pipeline = create_pipeline(document_store=document_store)\n",
    "\n",
    "indexing_pipeline.run({\"cleaner\": {\"documents\": raw_docs}})\n",
    "\n",
    "# Obtener los documentos\n",
    "stored_docs = document_store.filter_documents()\n",
    "\n",
    "# Inspeccionar los embeddings (primeros valores para simplicidad)\n",
    "for doc in stored_docs[:5]:\n",
    "    print(\"Content:\", doc.content)\n",
    "    print(\"Metadata:\", doc.meta)\n",
    "    print(\"Embedding (first 5 values):\", doc.embedding[:5] if doc.embedding is not None else \"No embedding\")\n",
    "    print()\n"
   ]
  },
  {
   "cell_type": "code",
   "execution_count": 26,
   "metadata": {},
   "outputs": [
    {
     "data": {
      "application/vnd.jupyter.widget-view+json": {
       "model_id": "7d6b1fc32044417f9ed1c915c7477fe8",
       "version_major": 2,
       "version_minor": 0
      },
      "text/plain": [
       "Batches:   0%|          | 0/17 [00:00<?, ?it/s]"
      ]
     },
     "metadata": {},
     "output_type": "display_data"
    },
    {
     "name": "stdout",
     "output_type": "stream",
     "text": [
      "Content: The Beatles were an English rock band formed in Liverpool in 1960. The core lineup of the band comprised John Lennon, Paul McCartney, George Harrison, and Ringo Starr.\n",
      "Metadata: {'title': 'The Beatles', 'url': 'https://en.wikipedia.org/wiki/The_Beatles', 'source_id': 'd587551b97b66e9d0b407314a2f3a63583b4996b425a76aae4193d6e0a757a3c', 'page_number': 1, 'split_id': 0, 'split_idx_start': 0}\n",
      "Embedding (first 5 values): [-0.014133794233202934, -0.021062562242150307, 0.0007249260088428855, -0.028358029201626778, 0.0006535885040648282]\n",
      "\n",
      "Content:  They are widely regarded as the most influential band of all time and were integral to the development of 1960s counterculture and the recognition of popular music as an art form. Rooted in skiffle, beat, and 1950s rock 'n' roll, their sound incorporated elements of classical music and traditional pop in innovative ways.\n",
      "Metadata: {'title': 'The Beatles', 'url': 'https://en.wikipedia.org/wiki/The_Beatles', 'source_id': 'd587551b97b66e9d0b407314a2f3a63583b4996b425a76aae4193d6e0a757a3c', 'page_number': 1, 'split_id': 1, 'split_idx_start': 167}\n",
      "Embedding (first 5 values): [-0.01059303805232048, -0.02162790112197399, -0.010762740857899189, 0.004541237372905016, 0.001274806447327137]\n",
      "\n",
      "Content:  The band also explored music styles ranging from folk and Indian music to psychedelia and hard rock. As pioneers in recording, songwriting, and artistic presentation, the Beatles revolutionised many aspects of the music industry and were often publicised as leaders of the era's youth and sociocultural movements.\n",
      "Metadata: {'title': 'The Beatles', 'url': 'https://en.wikipedia.org/wiki/The_Beatles', 'source_id': 'd587551b97b66e9d0b407314a2f3a63583b4996b425a76aae4193d6e0a757a3c', 'page_number': 1, 'split_id': 2, 'split_idx_start': 490}\n",
      "Embedding (first 5 values): [-0.029483620077371597, -0.01989244669675827, -0.006704172119498253, -0.026548217982053757, 0.003505681175738573]\n",
      "\n",
      "Content: \n",
      "Led by primary songwriters Lennon and McCartney, the Beatles evolved from Lennon's previous group, the Quarrymen, and built their reputation by playing clubs in Liverpool and Hamburg, Germany, over three years from 1960, initially with Stuart Sutcliffe playing bass. The core trio of Lennon, McCartney, and Harrison, together since 1958, went through a succession of drummers, including Pete Best, before inviting Starr to join them in 1962.\n",
      "Metadata: {'title': 'The Beatles', 'url': 'https://en.wikipedia.org/wiki/The_Beatles', 'source_id': 'd587551b97b66e9d0b407314a2f3a63583b4996b425a76aae4193d6e0a757a3c', 'page_number': 1, 'split_id': 3, 'split_idx_start': 804}\n",
      "Embedding (first 5 values): [0.0005277059972286224, -0.012702184729278088, 0.0012221591314300895, -0.03911221772432327, 0.013120338320732117]\n",
      "\n",
      "Content:  Manager Brian Epstein moulded them into a professional act, and producer George Martin guided and developed their recordings, greatly expanding their domestic success after they signed with EMI and achieved their first hit, \"Love Me Do\", in late 1962. As their popularity grew into the intense fan frenzy dubbed \"Beatlemania\", the band acquired the nickname \"the Fab Four\".\n",
      "Metadata: {'title': 'The Beatles', 'url': 'https://en.wikipedia.org/wiki/The_Beatles', 'source_id': 'd587551b97b66e9d0b407314a2f3a63583b4996b425a76aae4193d6e0a757a3c', 'page_number': 1, 'split_id': 4, 'split_idx_start': 1246}\n",
      "Embedding (first 5 values): [-0.012319972738623619, -0.02632499299943447, -0.012925714254379272, -0.03403966873884201, -0.013687269762158394]\n",
      "\n"
     ]
    }
   ],
   "source": [
    "# Indexación con metadatos\n",
    "document_store = InMemoryDocumentStore(embedding_similarity_function=\"cosine\")\n",
    "indexing_with_metadata_pipeline = create_pipeline(document_store=document_store, metadata_fields_to_embed=[\"title\"])\n",
    "\n",
    "indexing_with_metadata_pipeline.run({\"cleaner\": {\"documents\": raw_docs}})\n",
    "\n",
    "# Acceder a los embeddings en los documentos almacenados\n",
    "stored_docs = document_store.filter_documents()\n",
    "\n",
    "# Inspeccionar los embeddings (primeros valores para simplicidad)\n",
    "for doc in stored_docs[:5]:\n",
    "    print(\"Content:\", doc.content)\n",
    "    print(\"Metadata:\", doc.meta)\n",
    "    print(\"Embedding (first 5 values):\", doc.embedding[:5] if doc.embedding is not None else \"No embedding\")\n",
    "    print()\n"
   ]
  },
  {
   "cell_type": "code",
   "execution_count": 22,
   "metadata": {},
   "outputs": [
    {
     "data": {
      "application/vnd.jupyter.widget-view+json": {
       "model_id": "e5f1d9cca1254157b3419c8b3eadc992",
       "version_major": 2,
       "version_minor": 0
      },
      "text/plain": [
       "Batches:   0%|          | 0/17 [00:00<?, ?it/s]"
      ]
     },
     "metadata": {},
     "output_type": "display_data"
    },
    {
     "data": {
      "application/vnd.jupyter.widget-view+json": {
       "model_id": "66480e5183a148688a25e2db1dcfae43",
       "version_major": 2,
       "version_minor": 0
      },
      "text/plain": [
       "Batches:   0%|          | 0/17 [00:00<?, ?it/s]"
      ]
     },
     "metadata": {},
     "output_type": "display_data"
    },
    {
     "name": "stdout",
     "output_type": "stream",
     "text": [
      "Content: The Beatles were an English rock band formed in Liverpool in 1960. The core lineup of the band comprised John Lennon, Paul McCartney, George Harrison, and Ringo Starr.\n",
      "Metadata (no meta): {'title': 'The Beatles', 'url': 'https://en.wikipedia.org/wiki/The_Beatles', 'source_id': 'd587551b97b66e9d0b407314a2f3a63583b4996b425a76aae4193d6e0a757a3c', 'page_number': 1, 'split_id': 0, 'split_idx_start': 0}\n",
      "Metadata (with meta): {'title': 'The Beatles', 'url': 'https://en.wikipedia.org/wiki/The_Beatles', 'source_id': 'd587551b97b66e9d0b407314a2f3a63583b4996b425a76aae4193d6e0a757a3c', 'page_number': 1, 'split_id': 0, 'split_idx_start': 0}\n",
      "Embedding equal?: False\n",
      "\n",
      "Content:  They are widely regarded as the most influential band of all time and were integral to the development of 1960s counterculture and the recognition of popular music as an art form. Rooted in skiffle, beat, and 1950s rock 'n' roll, their sound incorporated elements of classical music and traditional pop in innovative ways.\n",
      "Metadata (no meta): {'title': 'The Beatles', 'url': 'https://en.wikipedia.org/wiki/The_Beatles', 'source_id': 'd587551b97b66e9d0b407314a2f3a63583b4996b425a76aae4193d6e0a757a3c', 'page_number': 1, 'split_id': 1, 'split_idx_start': 167}\n",
      "Metadata (with meta): {'title': 'The Beatles', 'url': 'https://en.wikipedia.org/wiki/The_Beatles', 'source_id': 'd587551b97b66e9d0b407314a2f3a63583b4996b425a76aae4193d6e0a757a3c', 'page_number': 1, 'split_id': 1, 'split_idx_start': 167}\n",
      "Embedding equal?: False\n",
      "\n",
      "Content:  The band also explored music styles ranging from folk and Indian music to psychedelia and hard rock. As pioneers in recording, songwriting, and artistic presentation, the Beatles revolutionised many aspects of the music industry and were often publicised as leaders of the era's youth and sociocultural movements.\n",
      "Metadata (no meta): {'title': 'The Beatles', 'url': 'https://en.wikipedia.org/wiki/The_Beatles', 'source_id': 'd587551b97b66e9d0b407314a2f3a63583b4996b425a76aae4193d6e0a757a3c', 'page_number': 1, 'split_id': 2, 'split_idx_start': 490}\n",
      "Metadata (with meta): {'title': 'The Beatles', 'url': 'https://en.wikipedia.org/wiki/The_Beatles', 'source_id': 'd587551b97b66e9d0b407314a2f3a63583b4996b425a76aae4193d6e0a757a3c', 'page_number': 1, 'split_id': 2, 'split_idx_start': 490}\n",
      "Embedding equal?: False\n",
      "\n",
      "Content: \n",
      "Led by primary songwriters Lennon and McCartney, the Beatles evolved from Lennon's previous group, the Quarrymen, and built their reputation by playing clubs in Liverpool and Hamburg, Germany, over three years from 1960, initially with Stuart Sutcliffe playing bass. The core trio of Lennon, McCartney, and Harrison, together since 1958, went through a succession of drummers, including Pete Best, before inviting Starr to join them in 1962.\n",
      "Metadata (no meta): {'title': 'The Beatles', 'url': 'https://en.wikipedia.org/wiki/The_Beatles', 'source_id': 'd587551b97b66e9d0b407314a2f3a63583b4996b425a76aae4193d6e0a757a3c', 'page_number': 1, 'split_id': 3, 'split_idx_start': 804}\n",
      "Metadata (with meta): {'title': 'The Beatles', 'url': 'https://en.wikipedia.org/wiki/The_Beatles', 'source_id': 'd587551b97b66e9d0b407314a2f3a63583b4996b425a76aae4193d6e0a757a3c', 'page_number': 1, 'split_id': 3, 'split_idx_start': 804}\n",
      "Embedding equal?: False\n",
      "\n",
      "Content:  Manager Brian Epstein moulded them into a professional act, and producer George Martin guided and developed their recordings, greatly expanding their domestic success after they signed with EMI and achieved their first hit, \"Love Me Do\", in late 1962. As their popularity grew into the intense fan frenzy dubbed \"Beatlemania\", the band acquired the nickname \"the Fab Four\".\n",
      "Metadata (no meta): {'title': 'The Beatles', 'url': 'https://en.wikipedia.org/wiki/The_Beatles', 'source_id': 'd587551b97b66e9d0b407314a2f3a63583b4996b425a76aae4193d6e0a757a3c', 'page_number': 1, 'split_id': 4, 'split_idx_start': 1246}\n",
      "Metadata (with meta): {'title': 'The Beatles', 'url': 'https://en.wikipedia.org/wiki/The_Beatles', 'source_id': 'd587551b97b66e9d0b407314a2f3a63583b4996b425a76aae4193d6e0a757a3c', 'page_number': 1, 'split_id': 4, 'split_idx_start': 1246}\n",
      "Embedding equal?: False\n",
      "\n"
     ]
    }
   ],
   "source": [
    "# Indexar sin metadatos\n",
    "document_store_no_meta = InMemoryDocumentStore(embedding_similarity_function=\"cosine\")\n",
    "pipeline_no_meta = create_pipeline(document_store=document_store_no_meta)\n",
    "pipeline_no_meta.run({\"cleaner\": {\"documents\": raw_docs}})\n",
    "\n",
    "# Indexar con metadatos\n",
    "document_store_with_meta = InMemoryDocumentStore(embedding_similarity_function=\"cosine\")\n",
    "pipeline_with_meta = create_pipeline(document_store=document_store_with_meta, metadata_fields_to_embed=[\"title\"])\n",
    "pipeline_with_meta.run({\"cleaner\": {\"documents\": raw_docs}})\n",
    "\n",
    "# Recuperar documentos\n",
    "docs_no_meta = document_store_no_meta.filter_documents()\n",
    "docs_with_meta = document_store_with_meta.filter_documents()\n",
    "\n",
    "# Comparar embeddings\n",
    "for doc_no_meta, doc_with_meta in zip(docs_no_meta[:5], docs_with_meta[:5]):\n",
    "    print(\"Content:\", doc_no_meta.content)\n",
    "    print(\"Metadata (no meta):\", doc_no_meta.meta)\n",
    "    print(\"Metadata (with meta):\", doc_with_meta.meta)\n",
    "    print(\"Embedding equal?:\", doc_no_meta.embedding == doc_with_meta.embedding)\n",
    "    print()\n"
   ]
  },
  {
   "cell_type": "code",
   "execution_count": null,
   "metadata": {},
   "outputs": [],
   "source": []
  }
 ],
 "metadata": {
  "kernelspec": {
   "display_name": "venv_haystack_ai",
   "language": "python",
   "name": "python3"
  },
  "language_info": {
   "codemirror_mode": {
    "name": "ipython",
    "version": 3
   },
   "file_extension": ".py",
   "mimetype": "text/x-python",
   "name": "python",
   "nbconvert_exporter": "python",
   "pygments_lexer": "ipython3",
   "version": "3.11.11"
  }
 },
 "nbformat": 4,
 "nbformat_minor": 2
}
