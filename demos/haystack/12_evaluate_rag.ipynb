{
 "cells": [
  {
   "cell_type": "markdown",
   "metadata": {},
   "source": [
    "### [Evaluating RAG Pipelines](https://haystack.deepset.ai/tutorials/35_evaluating_rag_pipelines)"
   ]
  },
  {
   "cell_type": "code",
   "execution_count": 1,
   "metadata": {},
   "outputs": [],
   "source": [
    "#! Solo es para haystack sepa que tutorial se esta ejecutando\n",
    "from haystack.telemetry import tutorial_running\n",
    "tutorial_running(35)"
   ]
  },
  {
   "cell_type": "markdown",
   "metadata": {},
   "source": [
    "### 1. Crear el pipeline RAG para evaluar\n"
   ]
  },
  {
   "cell_type": "code",
   "execution_count": 2,
   "metadata": {},
   "outputs": [
    {
     "data": {
      "application/vnd.jupyter.widget-view+json": {
       "model_id": "7cc17353f7af48ec8ffb6d47217d91c0",
       "version_major": 2,
       "version_minor": 0
      },
      "text/plain": [
       "README.md:   0%|          | 0.00/498 [00:00<?, ?B/s]"
      ]
     },
     "metadata": {},
     "output_type": "display_data"
    },
    {
     "data": {
      "application/vnd.jupyter.widget-view+json": {
       "model_id": "9184c1cc51e44349a200eb25cf54175c",
       "version_major": 2,
       "version_minor": 0
      },
      "text/plain": [
       "train-00000-of-00001.parquet:   0%|          | 0.00/274M [00:00<?, ?B/s]"
      ]
     },
     "metadata": {},
     "output_type": "display_data"
    },
    {
     "data": {
      "application/vnd.jupyter.widget-view+json": {
       "model_id": "e074a018cd1448709fd982301bbf54fc",
       "version_major": 2,
       "version_minor": 0
      },
      "text/plain": [
       "test-00000-of-00001.parquet:   0%|          | 0.00/986k [00:00<?, ?B/s]"
      ]
     },
     "metadata": {},
     "output_type": "display_data"
    },
    {
     "data": {
      "application/vnd.jupyter.widget-view+json": {
       "model_id": "07ffab0eb65d4beda252881d6bcc20d6",
       "version_major": 2,
       "version_minor": 0
      },
      "text/plain": [
       "Generating train split:   0%|          | 0/272458 [00:00<?, ? examples/s]"
      ]
     },
     "metadata": {},
     "output_type": "display_data"
    },
    {
     "data": {
      "application/vnd.jupyter.widget-view+json": {
       "model_id": "12425f9df4eb4f428e554ff82641410a",
       "version_major": 2,
       "version_minor": 0
      },
      "text/plain": [
       "Generating test split:   0%|          | 0/1000 [00:00<?, ? examples/s]"
      ]
     },
     "metadata": {},
     "output_type": "display_data"
    }
   ],
   "source": [
    "from datasets import load_dataset\n",
    "from haystack import Document\n",
    "\n",
    "dataset = load_dataset(\"vblagoje/PubMedQA_instruction\", split=\"train\")\n",
    "dataset = dataset.select(range(1000))\n",
    "\n",
    "all_documents = [Document(content=doc[\"context\"]) for doc in dataset]\n",
    "all_questions = [doc[\"instruction\"] for doc in dataset]\n",
    "all_ground_truth_answers = [doc[\"response\"] for doc in dataset]"
   ]
  },
  {
   "cell_type": "code",
   "execution_count": null,
   "metadata": {},
   "outputs": [
    {
     "name": "stderr",
     "output_type": "stream",
     "text": [
      "/home/nahumfg/GithubProjects/TesisMaestria/TesisHaystack/venv_haystack_ai/lib/python3.11/site-packages/sentence_transformers/SentenceTransformer.py:195: FutureWarning: The `use_auth_token` argument is deprecated and will be removed in v4 of SentenceTransformers.\n",
      "  warnings.warn(\n"
     ]
    },
    {
     "data": {
      "application/vnd.jupyter.widget-view+json": {
       "model_id": "c887b1f28ca34182b41aa630302461ee",
       "version_major": 2,
       "version_minor": 0
      },
      "text/plain": [
       "Batches:   0%|          | 0/32 [00:00<?, ?it/s]"
      ]
     },
     "metadata": {},
     "output_type": "display_data"
    },
    {
     "data": {
      "text/plain": [
       "{'document_writer': {'documents_written': 1000}}"
      ]
     },
     "execution_count": 3,
     "metadata": {},
     "output_type": "execute_result"
    }
   ],
   "source": [
    "# Crear el pipeline para indexar datos de forma sensilla\n",
    "\n",
    "from typing import List\n",
    "from haystack import Pipeline\n",
    "from haystack.components.embedders import SentenceTransformersDocumentEmbedder\n",
    "from haystack.components.writers import DocumentWriter\n",
    "from haystack.document_stores.in_memory import InMemoryDocumentStore\n",
    "from haystack.document_stores.types import DuplicatePolicy\n",
    "\n",
    "document_store = InMemoryDocumentStore()\n",
    "\n",
    "document_embedder = SentenceTransformersDocumentEmbedder(model=\"sentence-transformers/all-MiniLM-L6-v2\")\n",
    "document_writer = DocumentWriter(document_store=document_store, policy=DuplicatePolicy.SKIP)\n",
    "\n",
    "indexing = Pipeline()\n",
    "indexing.add_component(instance=document_embedder, name=\"document_embedder\")\n",
    "indexing.add_component(instance=document_writer, name=\"document_writer\")\n",
    "\n",
    "indexing.connect(\"document_embedder.documents\", \"document_writer.documents\")\n",
    "\n",
    "indexing.run({\"document_embedder\": {\"documents\": all_documents}})"
   ]
  },
  {
   "cell_type": "code",
   "execution_count": 5,
   "metadata": {},
   "outputs": [
    {
     "data": {
      "text/plain": [
       "<haystack.core.pipeline.pipeline.Pipeline object at 0x7ff7c863c6d0>\n",
       "🚅 Components\n",
       "  - query_embedder: SentenceTransformersTextEmbedder\n",
       "  - retriever: InMemoryEmbeddingRetriever\n",
       "  - prompt_builder: PromptBuilder\n",
       "  - generator: OpenAIGenerator\n",
       "  - answer_builder: AnswerBuilder\n",
       "🛤️ Connections\n",
       "  - query_embedder.embedding -> retriever.query_embedding (List[float])\n",
       "  - retriever.documents -> prompt_builder.documents (List[Document])\n",
       "  - retriever.documents -> answer_builder.documents (List[Document])\n",
       "  - prompt_builder.prompt -> generator.prompt (str)\n",
       "  - generator.replies -> answer_builder.replies (List[str])\n",
       "  - generator.meta -> answer_builder.meta (List[Dict[str, Any]])"
      ]
     },
     "execution_count": 5,
     "metadata": {},
     "output_type": "execute_result"
    }
   ],
   "source": [
    "# Ahora con los datos listos, crear un RAG simple\n",
    "import os\n",
    "from getpass import getpass\n",
    "from haystack.components.builders import AnswerBuilder, PromptBuilder\n",
    "from haystack.components.embedders import SentenceTransformersTextEmbedder\n",
    "from haystack.components.generators import OpenAIGenerator\n",
    "from haystack.components.retrievers.in_memory import InMemoryEmbeddingRetriever\n",
    "\n",
    "if \"OPENAI_API_KEY\" not in os.environ:\n",
    "    os.environ[\"OPENAI_API_KEY\"] = getpass(\"Enter OpenAI API key:\")\n",
    "\n",
    "template = \"\"\"\n",
    "        You have to answer the following question based on the given context information only.\n",
    "\n",
    "        Context:\n",
    "        {% for document in documents %}\n",
    "            {{ document.content }}\n",
    "        {% endfor %}\n",
    "\n",
    "        Question: {{question}}\n",
    "        Answer:\n",
    "        \"\"\"\n",
    "\n",
    "rag_pipeline = Pipeline()\n",
    "rag_pipeline.add_component(\n",
    "    \"query_embedder\", SentenceTransformersTextEmbedder(model=\"sentence-transformers/all-MiniLM-L6-v2\")\n",
    ")\n",
    "rag_pipeline.add_component(\"retriever\", InMemoryEmbeddingRetriever(document_store, top_k=3))\n",
    "rag_pipeline.add_component(\"prompt_builder\", PromptBuilder(template=template))\n",
    "rag_pipeline.add_component(\"generator\", OpenAIGenerator(model=\"gpt-4o-mini\"))\n",
    "rag_pipeline.add_component(\"answer_builder\", AnswerBuilder())\n",
    "\n",
    "rag_pipeline.connect(\"query_embedder\", \"retriever.query_embedding\")\n",
    "rag_pipeline.connect(\"retriever\", \"prompt_builder.documents\")\n",
    "rag_pipeline.connect(\"prompt_builder\", \"generator\")\n",
    "rag_pipeline.connect(\"generator.replies\", \"answer_builder.replies\")\n",
    "rag_pipeline.connect(\"generator.meta\", \"answer_builder.meta\")\n",
    "rag_pipeline.connect(\"retriever\", \"answer_builder.documents\")"
   ]
  },
  {
   "cell_type": "code",
   "execution_count": 6,
   "metadata": {},
   "outputs": [
    {
     "data": {
      "application/vnd.jupyter.widget-view+json": {
       "model_id": "653926dc18c549a390c32b6fe74d6c00",
       "version_major": 2,
       "version_minor": 0
      },
      "text/plain": [
       "Batches:   0%|          | 0/1 [00:00<?, ?it/s]"
      ]
     },
     "metadata": {},
     "output_type": "display_data"
    },
    {
     "name": "stdout",
     "output_type": "stream",
     "text": [
      "Yes, high levels of procalcitonin (PCT) in the early phase after pediatric liver transplantation are associated with poor postoperative outcomes. Patients with elevated PCT levels on postoperative day 2 had higher International Normalized Ratio values on postoperative day 5, experienced more primary graft non-function, had longer stays in the pediatric intensive care unit, and required more time on mechanical ventilation.\n"
     ]
    }
   ],
   "source": [
    "question = \"Do high levels of procalcitonin in the early phase after pediatric liver transplantation indicate poor postoperative outcome?\"\n",
    "\n",
    "response = rag_pipeline.run(\n",
    "    {\n",
    "        \"query_embedder\": {\"text\": question},\n",
    "        \"prompt_builder\": {\"question\": question},\n",
    "        \"answer_builder\": {\"query\": question},\n",
    "    }\n",
    ")\n",
    "print(response[\"answer_builder\"][\"answers\"][0].data)\n"
   ]
  },
  {
   "cell_type": "markdown",
   "metadata": {},
   "source": [
    "### 2. Evaluar el pipeline"
   ]
  },
  {
   "cell_type": "code",
   "execution_count": 7,
   "metadata": {},
   "outputs": [],
   "source": [
    "import random\n",
    "\n",
    "questions, ground_truth_answers, ground_truth_docs = zip(\n",
    "    *random.sample(list(zip(all_questions, all_ground_truth_answers, all_documents)), 25)\n",
    ")\n"
   ]
  },
  {
   "cell_type": "code",
   "execution_count": null,
   "metadata": {},
   "outputs": [
    {
     "data": {
      "application/vnd.jupyter.widget-view+json": {
       "model_id": "12530deda9714cbeaeaf09f3f516afa6",
       "version_major": 2,
       "version_minor": 0
      },
      "text/plain": [
       "Batches:   0%|          | 0/1 [00:00<?, ?it/s]"
      ]
     },
     "metadata": {},
     "output_type": "display_data"
    },
    {
     "name": "stdout",
     "output_type": "stream",
     "text": [
      "Question: Does ascorbic Acid ameliorate nicotine exposure induced impaired spatial memory performances in rats?\n",
      "Answer from pipeline:\n",
      "Yes, ascorbic acid ameliorates nicotine exposure induced impaired spatial memory performances in rats.\n",
      "\n",
      "-----------------------------------\n",
      "\n"
     ]
    },
    {
     "data": {
      "application/vnd.jupyter.widget-view+json": {
       "model_id": "401c4cc2676846239640abb4232b273f",
       "version_major": 2,
       "version_minor": 0
      },
      "text/plain": [
       "Batches:   0%|          | 0/1 [00:00<?, ?it/s]"
      ]
     },
     "metadata": {},
     "output_type": "display_data"
    },
    {
     "name": "stdout",
     "output_type": "stream",
     "text": [
      "Question: Do [ Recovery of maxillary tooth sensibility after Le Fort I osteotomy ]?\n",
      "Answer from pipeline:\n",
      "Yes, the recovery of maxillary tooth sensitivity after Le Fort I osteotomy was analyzed in the study. It was observed that sensitivity recovery was faster in younger patients (under 35 years of age) and for upper middle and superior alveolar nerves. Sensitivity percentages were recorded at different intervals: 91.9% were sensitive pre-surgery (D-1), which dropped to 12.7% at D2, and gradually increased to 61.8% by M6.\n",
      "\n",
      "-----------------------------------\n",
      "\n"
     ]
    },
    {
     "data": {
      "application/vnd.jupyter.widget-view+json": {
       "model_id": "9a4934b00669446091c48deed23f21f4",
       "version_major": 2,
       "version_minor": 0
      },
      "text/plain": [
       "Batches:   0%|          | 0/1 [00:00<?, ?it/s]"
      ]
     },
     "metadata": {},
     "output_type": "display_data"
    },
    {
     "name": "stdout",
     "output_type": "stream",
     "text": [
      "Question: Do apitherapy products enhance the recovery of CCL4-induced hepatic damages in rats?\n",
      "Answer from pipeline:\n",
      "Yes, apitherapy products, such as honeybee products from Turkey (including chestnut honey, pollen, propolis, and royal jelly), have been shown to enhance recovery from CCl4-induced hepatic damage in rats. The study monitored the development of liver damage and oxidative stress, and despite varying levels of antioxidant capacity among the bee products, they all played a significant role in the prevention of liver damage induced by CCl4.\n",
      "\n",
      "-----------------------------------\n",
      "\n"
     ]
    },
    {
     "data": {
      "application/vnd.jupyter.widget-view+json": {
       "model_id": "17d316d8253c4471a53f6af27f955893",
       "version_major": 2,
       "version_minor": 0
      },
      "text/plain": [
       "Batches:   0%|          | 0/1 [00:00<?, ?it/s]"
      ]
     },
     "metadata": {},
     "output_type": "display_data"
    },
    {
     "name": "stdout",
     "output_type": "stream",
     "text": [
      "Question: Are glutathione s-transferase m1 and t1 gene polymorphisms associated with increased risk of gestational diabetes mellitus development?\n",
      "Answer from pipeline:\n",
      "No, glutathione S-transferase M1 (GSTM1) and T1 (GSTT1) gene polymorphisms are not associated with an increased risk of gestational diabetes mellitus development, as the study found no statistically significant differences in the frequencies of GSTM1 and GSTT1 null genotypes between women with gestational diabetes mellitus and control individuals without it.\n",
      "\n",
      "-----------------------------------\n",
      "\n"
     ]
    },
    {
     "data": {
      "application/vnd.jupyter.widget-view+json": {
       "model_id": "24aafd1d2269444da9c31912707901e4",
       "version_major": 2,
       "version_minor": 0
      },
      "text/plain": [
       "Batches:   0%|          | 0/1 [00:00<?, ?it/s]"
      ]
     },
     "metadata": {},
     "output_type": "display_data"
    },
    {
     "name": "stdout",
     "output_type": "stream",
     "text": [
      "Question: Is bone marrow from blotchy mice dispensable to regulate blood copper and aortic pathologies but required for inflammatory mediator production in LDLR-deficient mice during chronic angiotensin II infusion?\n",
      "Answer from pipeline:\n",
      "Yes, bone marrow from blotchy mice is dispensable to regulate blood copper and aortic pathologies, as there was no significant difference in copper concentrations or aortic diameters between the blotchy marrow group and the control marrow group. However, it is required for inflammatory mediator production, as the blotchy marrow group showed significantly reduced levels of various inflammatory mediators compared to the control group.\n",
      "\n",
      "-----------------------------------\n",
      "\n"
     ]
    },
    {
     "data": {
      "application/vnd.jupyter.widget-view+json": {
       "model_id": "95b38bcbcbf646e796b04c5b5ca47539",
       "version_major": 2,
       "version_minor": 0
      },
      "text/plain": [
       "Batches:   0%|          | 0/1 [00:00<?, ?it/s]"
      ]
     },
     "metadata": {},
     "output_type": "display_data"
    },
    {
     "name": "stdout",
     "output_type": "stream",
     "text": [
      "Question: Do the effects of ifenprodil on the activity of antidepressant drugs in the forced swim test in mice?\n",
      "Answer from pipeline:\n",
      "Ifenprodil potentiated the antidepressant-like effect of imipramine (15mg/kg) and fluoxetine (5mg/kg) in the forced swim test in mice. However, it did not reduce the immobility time of animals that simultaneously received reboxetine (2.5mg/kg) or tianeptine (15mg/kg).\n",
      "\n",
      "-----------------------------------\n",
      "\n"
     ]
    },
    {
     "data": {
      "application/vnd.jupyter.widget-view+json": {
       "model_id": "6a202b46c83b476e88aab29225c38f8e",
       "version_major": 2,
       "version_minor": 0
      },
      "text/plain": [
       "Batches:   0%|          | 0/1 [00:00<?, ?it/s]"
      ]
     },
     "metadata": {},
     "output_type": "display_data"
    },
    {
     "name": "stdout",
     "output_type": "stream",
     "text": [
      "Question: Does concern for Lost Income Following Donation deter Some Patients From Talking to Potential Living Donors?\n",
      "Answer from pipeline:\n",
      "Yes, concern for lost income following donation does deter some patients from talking to potential living donors. The context indicates that many patients (42%) chose not to discuss living kidney donation with a family member or friend due to concerns about the impact of lost income on the donor. Additionally, one-third of patients reported that potential donors expressed concern about lost income, with a significant portion of those (64%) not initiating donation evaluation.\n",
      "\n",
      "-----------------------------------\n",
      "\n"
     ]
    },
    {
     "data": {
      "application/vnd.jupyter.widget-view+json": {
       "model_id": "8d77d7b6b0ec446c91f3bf75e8eb72af",
       "version_major": 2,
       "version_minor": 0
      },
      "text/plain": [
       "Batches:   0%|          | 0/1 [00:00<?, ?it/s]"
      ]
     },
     "metadata": {},
     "output_type": "display_data"
    },
    {
     "name": "stdout",
     "output_type": "stream",
     "text": [
      "Question: Is pseudomonas aeruginosa in CF and non-CF homes found predominantly in drains?\n",
      "Answer from pipeline:\n",
      "Yes, Pseudomonas aeruginosa is found predominantly in drains in both CF and non-CF homes, as 28% of sampled drains yielded the bacteria at least once, and a general mixed linear model estimated that 6.3% of samples from drains yield P. aeruginosa, which is significantly higher than that from any other type of household environment.\n",
      "\n",
      "-----------------------------------\n",
      "\n"
     ]
    },
    {
     "data": {
      "application/vnd.jupyter.widget-view+json": {
       "model_id": "9c12f5d2efc34f8cbf1e9032bac98024",
       "version_major": 2,
       "version_minor": 0
      },
      "text/plain": [
       "Batches:   0%|          | 0/1 [00:00<?, ?it/s]"
      ]
     },
     "metadata": {},
     "output_type": "display_data"
    },
    {
     "name": "stdout",
     "output_type": "stream",
     "text": [
      "Question: Do obese patients with idiopathic pulmonary fibrosis have a higher 90-day mortality risk with bilateral lung transplantation?\n",
      "Answer from pipeline:\n",
      "Yes, obese patients with idiopathic pulmonary fibrosis (IPF) who receive bilateral lung transplantation (BLT) are 1.71 times more likely to die within 90 days compared to BLT recipients with a body mass index (BMI) of 18.5 to 30 kg/m(2). This indicates a higher 90-day mortality risk for obese patients after BLT.\n",
      "\n",
      "-----------------------------------\n",
      "\n"
     ]
    },
    {
     "data": {
      "application/vnd.jupyter.widget-view+json": {
       "model_id": "c4cf330bf1f848c3a61a1a02ae78d96d",
       "version_major": 2,
       "version_minor": 0
      },
      "text/plain": [
       "Batches:   0%|          | 0/1 [00:00<?, ?it/s]"
      ]
     },
     "metadata": {},
     "output_type": "display_data"
    },
    {
     "name": "stdout",
     "output_type": "stream",
     "text": [
      "Question: Does introduction of an 8-aminooctanoic acid linker enhance uptake of 99mTc-labeled lactam bridge-cyclized α-MSH peptide in melanoma?\n",
      "Answer from pipeline:\n",
      "Yes, the introduction of an 8-aminooctanoic acid (Aoc) linker enhances the uptake of the 99mTc-labeled lactam bridge-cyclized α-MSH peptide in melanoma, as indicated by the high melanoma uptake observed with the peptide HYNIC-AocNle-CycMSHhex. This peptide displayed the highest melanoma uptake (22.3 ± 1.72 percentage injected dose/g) at 2 hours after injection compared to the other peptides tested.\n",
      "\n",
      "-----------------------------------\n",
      "\n"
     ]
    },
    {
     "data": {
      "application/vnd.jupyter.widget-view+json": {
       "model_id": "408e369f572d4d97a94a8c6369da7c38",
       "version_major": 2,
       "version_minor": 0
      },
      "text/plain": [
       "Batches:   0%|          | 0/1 [00:00<?, ?it/s]"
      ]
     },
     "metadata": {},
     "output_type": "display_data"
    },
    {
     "name": "stdout",
     "output_type": "stream",
     "text": [
      "Question: Does a HIF-1 network reveal characteristics of epithelial-mesenchymal transition in acute promyelocytic leukemia?\n",
      "Answer from pipeline:\n",
      "Yes, a HIF-1 network reveals characteristics of epithelial-mesenchymal transition (EMT) in acute promyelocytic leukemia (APL). The research indicates that genes within the HIF-1-dependent subnetwork specifically dysregulated in APL are involved in cell motility and invasion, with decreased expression of genes related to cell adhesion and increased expression of genes implicated in motility and invasion, which are characteristic features of EMT.\n",
      "\n",
      "-----------------------------------\n",
      "\n"
     ]
    },
    {
     "data": {
      "application/vnd.jupyter.widget-view+json": {
       "model_id": "36a6f4e7bd3a47bf8d8df1c16fa02370",
       "version_major": 2,
       "version_minor": 0
      },
      "text/plain": [
       "Batches:   0%|          | 0/1 [00:00<?, ?it/s]"
      ]
     },
     "metadata": {},
     "output_type": "display_data"
    },
    {
     "name": "stdout",
     "output_type": "stream",
     "text": [
      "Question: Is esophageal Mucosal Impedance Pattern Distinct in Patients With Extraesophageal Reflux Symptoms and Pathologic Acid Reflux?\n",
      "Answer from pipeline:\n",
      "Yes, the esophageal Mucosal Impedance (MI) pattern is distinct in patients with extraesophageal reflux (EER) symptoms and pathologic acid reflux. The study found significant differences in MI measurements among patients with erosive esophagitis (E+), those with normal EGD but abnormal pH (E-/pH+), and those with normal EGD and normal pH (E-/pH-). Specifically, MI was lowest for those with erosive esophagitis and greatest for those without reflux symptoms (E-/pH-). There was a trend of lower MI in patients with reflux (E+ and E-/pH+) compared to those without, suggesting that MI patterns can help differentiate between groups based on reflux status and provide insights into the presence of extraesophageal reflux symptoms.\n",
      "\n",
      "-----------------------------------\n",
      "\n"
     ]
    },
    {
     "data": {
      "application/vnd.jupyter.widget-view+json": {
       "model_id": "5eb9495f2a4e48cd9c1be1735bedcbff",
       "version_major": 2,
       "version_minor": 0
      },
      "text/plain": [
       "Batches:   0%|          | 0/1 [00:00<?, ?it/s]"
      ]
     },
     "metadata": {},
     "output_type": "display_data"
    },
    {
     "name": "stdout",
     "output_type": "stream",
     "text": [
      "Question: Does changes in lung sound during asthma progression in a guinea pig model?\n",
      "Answer from pipeline:\n",
      "Yes, changes in lung sound during asthma progression in a guinea pig model have been observed. Specifically, the study noted that the difference in inspiratory sound intensity between asthma models and controls was significant, with a correlation found between the ratio of airway wall thickness to total airway area in the terminal bronchioles and changes in inspiratory sound intensity in the 501-1000-Hz range.\n",
      "\n",
      "-----------------------------------\n",
      "\n"
     ]
    },
    {
     "data": {
      "application/vnd.jupyter.widget-view+json": {
       "model_id": "d0cab2ee67134b4bbda06a7bf7a39570",
       "version_major": 2,
       "version_minor": 0
      },
      "text/plain": [
       "Batches:   0%|          | 0/1 [00:00<?, ?it/s]"
      ]
     },
     "metadata": {},
     "output_type": "display_data"
    },
    {
     "name": "stdout",
     "output_type": "stream",
     "text": [
      "Question: Does endothelial Jag1-RBPJ signalling promote inflammatory leucocyte recruitment and atherosclerosis?\n",
      "Answer from pipeline:\n",
      "The provided context does not specifically address the role of endothelial Jag1-RBPJ signaling in promoting inflammatory leukocyte recruitment and atherosclerosis. It discusses the role of NOTCH and RBPJ in arterial injury response and chronic arterial-wall inflammation but does not provide conclusive evidence regarding the direct impact of Jag1-RBPJ signaling on inflammatory leukocyte recruitment or the progression of atherosclerosis. Therefore, based on the given context, it cannot be determined whether endothelial Jag1-RBPJ signaling promotes these processes.\n",
      "\n",
      "-----------------------------------\n",
      "\n"
     ]
    },
    {
     "data": {
      "application/vnd.jupyter.widget-view+json": {
       "model_id": "ecdab8c50c4440dfbbbe9e955c198e1c",
       "version_major": 2,
       "version_minor": 0
      },
      "text/plain": [
       "Batches:   0%|          | 0/1 [00:00<?, ?it/s]"
      ]
     },
     "metadata": {},
     "output_type": "display_data"
    },
    {
     "name": "stdout",
     "output_type": "stream",
     "text": [
      "Question: Do identification of UQCRB as an oxymatrine recognizing protein using a T7 phage display screen?\n",
      "Answer from pipeline:\n",
      "Yes, Ubiquinol-cytochrome c reductase binding protein (UQCRB) was identified as a candidate binding protein of oxymatrine using a T7 phage display cDNA library screened by affinity selection with oxymatrine as bait.\n",
      "\n",
      "-----------------------------------\n",
      "\n"
     ]
    },
    {
     "data": {
      "application/vnd.jupyter.widget-view+json": {
       "model_id": "b6a1872ada194ec9b00d2dee15b41b3b",
       "version_major": 2,
       "version_minor": 0
      },
      "text/plain": [
       "Batches:   0%|          | 0/1 [00:00<?, ?it/s]"
      ]
     },
     "metadata": {},
     "output_type": "display_data"
    },
    {
     "name": "stdout",
     "output_type": "stream",
     "text": [
      "Question: Do sLCO1B1 gene polymorphisms influence plasma rifampicin concentrations in a South Indian population?\n",
      "Answer from pipeline:\n",
      "No, SLCO1B1 gene polymorphisms do not influence plasma rifampicin concentrations in the South Indian population, as the study found no significant differences in RMP concentrations between the different genotypes of the three polymorphisms.\n",
      "\n",
      "-----------------------------------\n",
      "\n"
     ]
    },
    {
     "data": {
      "application/vnd.jupyter.widget-view+json": {
       "model_id": "93138dbe780343a88127959bbd2550ed",
       "version_major": 2,
       "version_minor": 0
      },
      "text/plain": [
       "Batches:   0%|          | 0/1 [00:00<?, ?it/s]"
      ]
     },
     "metadata": {},
     "output_type": "display_data"
    },
    {
     "name": "stdout",
     "output_type": "stream",
     "text": [
      "Question: Does stochastic modeling suggest that noise reduces differentiation efficiency by inducing a heterogeneous drug response in glioma differentiation therapy?\n",
      "Answer from pipeline:\n",
      "Yes, stochastic modeling suggests that noise reduces differentiation efficiency by inducing a heterogeneous drug response in glioma differentiation therapy. The study found that noise renders some glioma cells insensitive to cyclin D1 degradation during drug treatment and induces varied differentiation responses among individual glioma cells, modulating the ultrasensitive response of cyclin D1. This ultimately leads to decreased evolution of differentiation potential in the drug-treated glioma cell population.\n",
      "\n",
      "-----------------------------------\n",
      "\n"
     ]
    },
    {
     "data": {
      "application/vnd.jupyter.widget-view+json": {
       "model_id": "2638e2e5a43b4bdeb733b190e4845239",
       "version_major": 2,
       "version_minor": 0
      },
      "text/plain": [
       "Batches:   0%|          | 0/1 [00:00<?, ?it/s]"
      ]
     },
     "metadata": {},
     "output_type": "display_data"
    },
    {
     "name": "stdout",
     "output_type": "stream",
     "text": [
      "Question: Does identical ATP1A3 mutation cause alternating hemiplegia of childhood and rapid-onset dystonia parkinsonism phenotypes?\n",
      "Answer from pipeline:\n",
      "Yes, the identical ATP1A3 mutation can cause both alternating hemiplegia of childhood and rapid-onset dystonia parkinsonism phenotypes, as seen in the case of a child with alternating hemiplegia who was found to have the same ATP1A3 mutation as adults with rapid-onset dystonia parkinsonism.\n",
      "\n",
      "-----------------------------------\n",
      "\n"
     ]
    },
    {
     "data": {
      "application/vnd.jupyter.widget-view+json": {
       "model_id": "e4a1debd56404de7a7dca00b53ef0b4e",
       "version_major": 2,
       "version_minor": 0
      },
      "text/plain": [
       "Batches:   0%|          | 0/1 [00:00<?, ?it/s]"
      ]
     },
     "metadata": {},
     "output_type": "display_data"
    },
    {
     "name": "stdout",
     "output_type": "stream",
     "text": [
      "Question: Does surveillance provide insight into epidemiology and spectrum of culture-confirmed mycobacterial disease in children?\n",
      "Answer from pipeline:\n",
      "Yes, surveillance provides insight into the epidemiology and spectrum of culture-confirmed mycobacterial disease in children. In the context, a surveillance study conducted at the Tygerberg Children's Hospital in Cape Town, South Africa, gathered data on mycobacterial culture among children aged <13 years from March 2011 to February 2013. This study not only detailed the prevalence of drug resistance among children with culture-confirmed tuberculosis but also documented other mycobacterial isolates identified, thereby contributing to the understanding of the epidemiological landscape of mycobacterial diseases in this population.\n",
      "\n",
      "-----------------------------------\n",
      "\n"
     ]
    },
    {
     "data": {
      "application/vnd.jupyter.widget-view+json": {
       "model_id": "cd475802e89f4c11b5f9cfa2d3db6fac",
       "version_major": 2,
       "version_minor": 0
      },
      "text/plain": [
       "Batches:   0%|          | 0/1 [00:00<?, ?it/s]"
      ]
     },
     "metadata": {},
     "output_type": "display_data"
    },
    {
     "name": "stdout",
     "output_type": "stream",
     "text": [
      "Question: Does glioma-derived versican promote tumor expansion via glioma-associated microglial/macrophages Toll-like receptor 2 signaling?\n",
      "Answer from pipeline:\n",
      "Yes, glioma-derived versican promotes tumor expansion via glioma-associated microglial/macrophages Toll-like receptor 2 (TLR2) signaling. The context states that versican, particularly its splice variants, activates TLR2 in microglia, leading to the upregulation of membrane type 1 matrix metalloprotease (MT1-MMP) which promotes the degradation of extracellular matrix, thereby facilitating tumor invasion and growth. When versican was silenced in glioma cells, it resulted in decreased MT1-MMP expression in microglia, smaller tumors, and longer survival rates, indicating that versican's signaling through TLR2 is crucial for tumor expansion.\n",
      "\n",
      "-----------------------------------\n",
      "\n"
     ]
    },
    {
     "data": {
      "application/vnd.jupyter.widget-view+json": {
       "model_id": "7981bdbcac1744adad72783abb2c8bf3",
       "version_major": 2,
       "version_minor": 0
      },
      "text/plain": [
       "Batches:   0%|          | 0/1 [00:00<?, ?it/s]"
      ]
     },
     "metadata": {},
     "output_type": "display_data"
    },
    {
     "name": "stdout",
     "output_type": "stream",
     "text": [
      "Question: Do systematic Reviews Published in Emergency Medicine Journals Routinely Search Clinical Trials Registries : A Cross-Sectional Analysis?\n",
      "Answer from pipeline:\n",
      "No, systematic reviews published in emergency medicine journals do not routinely search clinical trials registries. In a study of 41 systematic reviews that assessed specific interventions, only 20% (8 reviews) included a search of a clinical trials registry, and only 4 of those identified relevant unpublished studies.\n",
      "\n",
      "-----------------------------------\n",
      "\n"
     ]
    },
    {
     "data": {
      "application/vnd.jupyter.widget-view+json": {
       "model_id": "85c68ecfd58c455ab7df46c796b3b198",
       "version_major": 2,
       "version_minor": 0
      },
      "text/plain": [
       "Batches:   0%|          | 0/1 [00:00<?, ?it/s]"
      ]
     },
     "metadata": {},
     "output_type": "display_data"
    },
    {
     "name": "stdout",
     "output_type": "stream",
     "text": [
      "Question: Is p63 more sensitive and specific than 34βE12 to differentiate adenocarcinoma of prostate from cancer mimickers?\n",
      "Answer from pipeline:\n",
      "The context does not provide a direct comparison of the sensitivity and specificity of p63 and 34βE12 in differentiating adenocarcinoma of the prostate from cancer mimickers. It states that both p63 and 34βE12 were negative in all prostate adenocarcinoma specimens, while all benign hyperplasia and high-grade intraepithelial neoplasia cases expressed them. However, it does not specify which marker is more sensitive or specific, nor does it imply a comparison between the two. Therefore, based on the provided context, it cannot be concluded whether p63 is more sensitive and specific than 34βE12 for this purpose.\n",
      "\n",
      "-----------------------------------\n",
      "\n"
     ]
    },
    {
     "data": {
      "application/vnd.jupyter.widget-view+json": {
       "model_id": "c518cef4f48545b2b1d096454603552a",
       "version_major": 2,
       "version_minor": 0
      },
      "text/plain": [
       "Batches:   0%|          | 0/1 [00:00<?, ?it/s]"
      ]
     },
     "metadata": {},
     "output_type": "display_data"
    },
    {
     "name": "stdout",
     "output_type": "stream",
     "text": [
      "Question: Does first registry result from the newly approved ACURATE TA™ TAVI system†?\n",
      "Answer from pipeline:\n",
      "The first registry results from the newly approved ACURATE TA™ TAVI system indicate a procedural success rate of 98% with 245 out of 250 patients experiencing successful implantation. The 30-day mortality rate was 6.8%, and the post-implant echocardiography showed a relevant paravalvular leak (moderate 2+) in 2.3% of patients. Additionally, the mean transvalvular gradient post-implantation was 12.4 ± 5.8 mmHg, and 85% of patients followed up presented in NYHA class I/II.\n",
      "\n",
      "-----------------------------------\n",
      "\n"
     ]
    },
    {
     "data": {
      "application/vnd.jupyter.widget-view+json": {
       "model_id": "d7104f9993754cc6ae2784b11b5ce23e",
       "version_major": 2,
       "version_minor": 0
      },
      "text/plain": [
       "Batches:   0%|          | 0/1 [00:00<?, ?it/s]"
      ]
     },
     "metadata": {},
     "output_type": "display_data"
    },
    {
     "name": "stdout",
     "output_type": "stream",
     "text": [
      "Question: Does qS-21 enhance the early antibody response to oil adjuvant foot-and-mouth disease vaccine in cattle?\n",
      "Answer from pipeline:\n",
      "Yes, the addition of QS-21 to the commercially available foot-and-mouth disease water-in-oil-in-water emulsion vaccine showed a significant early antibody increase in the QS-21 group after vaccination in cattle.\n",
      "\n",
      "-----------------------------------\n",
      "\n"
     ]
    },
    {
     "data": {
      "application/vnd.jupyter.widget-view+json": {
       "model_id": "9dd47eba0fb5439c9cdcb3c7c2f1340f",
       "version_major": 2,
       "version_minor": 0
      },
      "text/plain": [
       "Batches:   0%|          | 0/1 [00:00<?, ?it/s]"
      ]
     },
     "metadata": {},
     "output_type": "display_data"
    },
    {
     "name": "stdout",
     "output_type": "stream",
     "text": [
      "Question: Are lobar microbleeds associated with a decline in executive functioning in older adults?\n",
      "Answer from pipeline:\n",
      "Yes, lobar microbleeds are associated with a decline in executive functioning in older adults. The study found that participants with 2 or more lobar microbleeds had worse executive functioning at the visit closest to the MRI scan and exhibited a faster decline in executive function over time compared to those with fewer than 2 lobar microbleeds.\n",
      "\n",
      "-----------------------------------\n",
      "\n"
     ]
    }
   ],
   "source": [
    "# A continuación, ejecutemos nuestro pipeline y asegurémonos de realizar un seguimiento de lo que nuestro pipeline devuelve como respuestas y qué documentos recupera:\n",
    "rag_answers = []\n",
    "retrieved_docs = []\n",
    "\n",
    "for question in list(questions):\n",
    "    response = rag_pipeline.run(\n",
    "        {\n",
    "            \"query_embedder\": {\"text\": question},\n",
    "            \"prompt_builder\": {\"question\": question},\n",
    "            \"answer_builder\": {\"query\": question},\n",
    "        }\n",
    "    )\n",
    "    print(f\"Question: {question}\")\n",
    "    print(\"Answer from pipeline:\")\n",
    "    print(response[\"answer_builder\"][\"answers\"][0].data)\n",
    "    print(\"\\n-----------------------------------\\n\")\n",
    "\n",
    "    rag_answers.append(response[\"answer_builder\"][\"answers\"][0].data)\n",
    "    retrieved_docs.append(response[\"answer_builder\"][\"answers\"][0].documents)\n"
   ]
  },
  {
   "cell_type": "code",
   "execution_count": 9,
   "metadata": {},
   "outputs": [
    {
     "name": "stderr",
     "output_type": "stream",
     "text": [
      "/home/nahumfg/GithubProjects/TesisMaestria/TesisHaystack/venv_haystack_ai/lib/python3.11/site-packages/transformers/models/auto/configuration_auto.py:1006: FutureWarning: The `use_auth_token` argument is deprecated and will be removed in v5 of Transformers. Please use `token` instead.\n",
      "  warnings.warn(\n",
      "/home/nahumfg/GithubProjects/TesisMaestria/TesisHaystack/venv_haystack_ai/lib/python3.11/site-packages/sentence_transformers/SentenceTransformer.py:195: FutureWarning: The `use_auth_token` argument is deprecated and will be removed in v4 of SentenceTransformers.\n",
      "  warnings.warn(\n",
      "100%|██████████| 25/25 [00:53<00:00,  2.14s/it]\n"
     ]
    }
   ],
   "source": [
    "# Si bien cada evaluador es un componente que se puede ejecutar de forma individual en Haystack, también se pueden agregar a un pipeline. De esta manera, podemos construir un pipeline eval_pipelineque incluya todos los evaluadores para las métricas que queremos evaluar.\n",
    "\n",
    "from haystack.components.evaluators.document_mrr import DocumentMRREvaluator\n",
    "from haystack.components.evaluators.faithfulness import FaithfulnessEvaluator\n",
    "from haystack.components.evaluators.sas_evaluator import SASEvaluator\n",
    "\n",
    "eval_pipeline = Pipeline()\n",
    "eval_pipeline.add_component(\"doc_mrr_evaluator\", DocumentMRREvaluator())\n",
    "eval_pipeline.add_component(\"faithfulness\", FaithfulnessEvaluator())\n",
    "eval_pipeline.add_component(\"sas_evaluator\", SASEvaluator(model=\"sentence-transformers/all-MiniLM-L6-v2\"))\n",
    "\n",
    "results = eval_pipeline.run(\n",
    "    {\n",
    "        \"doc_mrr_evaluator\": {\n",
    "            \"ground_truth_documents\": list([d] for d in ground_truth_docs),\n",
    "            \"retrieved_documents\": retrieved_docs,\n",
    "        },\n",
    "        \"faithfulness\": {\n",
    "            \"questions\": list(questions),\n",
    "            \"contexts\": list([d.content] for d in ground_truth_docs),\n",
    "            \"predicted_answers\": rag_answers,\n",
    "        },\n",
    "        \"sas_evaluator\": {\"predicted_answers\": rag_answers, \"ground_truth_answers\": list(ground_truth_answers)},\n",
    "    }\n",
    ")\n"
   ]
  },
  {
   "cell_type": "code",
   "execution_count": 10,
   "metadata": {},
   "outputs": [
    {
     "data": {
      "text/html": [
       "<div>\n",
       "<style scoped>\n",
       "    .dataframe tbody tr th:only-of-type {\n",
       "        vertical-align: middle;\n",
       "    }\n",
       "\n",
       "    .dataframe tbody tr th {\n",
       "        vertical-align: top;\n",
       "    }\n",
       "\n",
       "    .dataframe thead th {\n",
       "        text-align: right;\n",
       "    }\n",
       "</style>\n",
       "<table border=\"1\" class=\"dataframe\">\n",
       "  <thead>\n",
       "    <tr style=\"text-align: right;\">\n",
       "      <th></th>\n",
       "      <th>metrics</th>\n",
       "      <th>score</th>\n",
       "    </tr>\n",
       "  </thead>\n",
       "  <tbody>\n",
       "    <tr>\n",
       "      <th>0</th>\n",
       "      <td>doc_mrr_evaluator</td>\n",
       "      <td>0.960000</td>\n",
       "    </tr>\n",
       "    <tr>\n",
       "      <th>1</th>\n",
       "      <td>faithfulness</td>\n",
       "      <td>0.976667</td>\n",
       "    </tr>\n",
       "    <tr>\n",
       "      <th>2</th>\n",
       "      <td>sas_evaluator</td>\n",
       "      <td>0.691143</td>\n",
       "    </tr>\n",
       "  </tbody>\n",
       "</table>\n",
       "</div>"
      ],
      "text/plain": [
       "             metrics     score\n",
       "0  doc_mrr_evaluator  0.960000\n",
       "1       faithfulness  0.976667\n",
       "2      sas_evaluator  0.691143"
      ]
     },
     "execution_count": 10,
     "metadata": {},
     "output_type": "execute_result"
    }
   ],
   "source": [
    "# Una vez que hayamos ejecutado nuestro proceso de evaluación, también podemos crear un informe de evaluación completo. Haystac proporciona un EvaluationRunResultque podemos usar para mostrar un score_report👇\n",
    "\n",
    "from haystack.evaluation.eval_run_result import EvaluationRunResult\n",
    "\n",
    "inputs = {\n",
    "    \"question\": list(questions),\n",
    "    \"contexts\": list([d.content] for d in ground_truth_docs),\n",
    "    \"answer\": list(ground_truth_answers),\n",
    "    \"predicted_answer\": rag_answers,\n",
    "}\n",
    "\n",
    "evaluation_result = EvaluationRunResult(run_name=\"pubmed_rag_pipeline\", inputs=inputs, results=results)\n",
    "evaluation_result.score_report()"
   ]
  },
  {
   "cell_type": "code",
   "execution_count": 11,
   "metadata": {},
   "outputs": [
    {
     "data": {
      "text/html": [
       "<div>\n",
       "<style scoped>\n",
       "    .dataframe tbody tr th:only-of-type {\n",
       "        vertical-align: middle;\n",
       "    }\n",
       "\n",
       "    .dataframe tbody tr th {\n",
       "        vertical-align: top;\n",
       "    }\n",
       "\n",
       "    .dataframe thead th {\n",
       "        text-align: right;\n",
       "    }\n",
       "</style>\n",
       "<table border=\"1\" class=\"dataframe\">\n",
       "  <thead>\n",
       "    <tr style=\"text-align: right;\">\n",
       "      <th></th>\n",
       "      <th>question</th>\n",
       "      <th>contexts</th>\n",
       "      <th>answer</th>\n",
       "      <th>predicted_answer</th>\n",
       "      <th>doc_mrr_evaluator</th>\n",
       "      <th>faithfulness</th>\n",
       "      <th>sas_evaluator</th>\n",
       "    </tr>\n",
       "  </thead>\n",
       "  <tbody>\n",
       "    <tr>\n",
       "      <th>0</th>\n",
       "      <td>Does ascorbic Acid ameliorate nicotine exposur...</td>\n",
       "      <td>[The long lasting behavioural and cognitive im...</td>\n",
       "      <td>Ascorbic acid supplementation was found to be ...</td>\n",
       "      <td>Yes, ascorbic acid ameliorates nicotine exposu...</td>\n",
       "      <td>1.0</td>\n",
       "      <td>1.000000</td>\n",
       "      <td>0.761964</td>\n",
       "    </tr>\n",
       "    <tr>\n",
       "      <th>1</th>\n",
       "      <td>Do [ Recovery of maxillary tooth sensibility a...</td>\n",
       "      <td>[Upper alveolar nerves, when injured during Le...</td>\n",
       "      <td>Among the teeth that were sensitive before sur...</td>\n",
       "      <td>Yes, the recovery of maxillary tooth sensitivi...</td>\n",
       "      <td>1.0</td>\n",
       "      <td>1.000000</td>\n",
       "      <td>0.775067</td>\n",
       "    </tr>\n",
       "    <tr>\n",
       "      <th>2</th>\n",
       "      <td>Do apitherapy products enhance the recovery of...</td>\n",
       "      <td>[Our objective was to identify the antioxidant...</td>\n",
       "      <td>Our results suggest that honey, propolis, poll...</td>\n",
       "      <td>Yes, apitherapy products, such as honeybee pro...</td>\n",
       "      <td>0.5</td>\n",
       "      <td>1.000000</td>\n",
       "      <td>0.829854</td>\n",
       "    </tr>\n",
       "    <tr>\n",
       "      <th>3</th>\n",
       "      <td>Are glutathione s-transferase m1 and t1 gene p...</td>\n",
       "      <td>[The aim of this study was to investigate whet...</td>\n",
       "      <td>This study shows no association between GST ge...</td>\n",
       "      <td>No, glutathione S-transferase M1 (GSTM1) and T...</td>\n",
       "      <td>1.0</td>\n",
       "      <td>1.000000</td>\n",
       "      <td>0.599473</td>\n",
       "    </tr>\n",
       "    <tr>\n",
       "      <th>4</th>\n",
       "      <td>Is bone marrow from blotchy mice dispensable t...</td>\n",
       "      <td>[The blotchy mouse caused by mutations of ATP7...</td>\n",
       "      <td>Overall, our study indicated that the effect o...</td>\n",
       "      <td>Yes, bone marrow from blotchy mice is dispensa...</td>\n",
       "      <td>1.0</td>\n",
       "      <td>1.000000</td>\n",
       "      <td>0.690724</td>\n",
       "    </tr>\n",
       "    <tr>\n",
       "      <th>5</th>\n",
       "      <td>Do the effects of ifenprodil on the activity o...</td>\n",
       "      <td>[According to reports in the literature, more ...</td>\n",
       "      <td>The concomitant administration of certain comm...</td>\n",
       "      <td>Ifenprodil potentiated the antidepressant-like...</td>\n",
       "      <td>1.0</td>\n",
       "      <td>1.000000</td>\n",
       "      <td>0.537249</td>\n",
       "    </tr>\n",
       "    <tr>\n",
       "      <th>6</th>\n",
       "      <td>Does concern for Lost Income Following Donatio...</td>\n",
       "      <td>[Some living kidney donors report lost income ...</td>\n",
       "      <td>Findings from the current study underscore how...</td>\n",
       "      <td>Yes, concern for lost income following donatio...</td>\n",
       "      <td>1.0</td>\n",
       "      <td>1.000000</td>\n",
       "      <td>0.701326</td>\n",
       "    </tr>\n",
       "    <tr>\n",
       "      <th>7</th>\n",
       "      <td>Is pseudomonas aeruginosa in CF and non-CF hom...</td>\n",
       "      <td>[For patients with cystic fibrosis (CF) Pseudo...</td>\n",
       "      <td>These findings implicate drains as important p...</td>\n",
       "      <td>Yes, Pseudomonas aeruginosa is found predomina...</td>\n",
       "      <td>1.0</td>\n",
       "      <td>1.000000</td>\n",
       "      <td>0.662766</td>\n",
       "    </tr>\n",
       "    <tr>\n",
       "      <th>8</th>\n",
       "      <td>Do obese patients with idiopathic pulmonary fi...</td>\n",
       "      <td>[Obese patients with idiopathic pulmonary fibr...</td>\n",
       "      <td>Our results suggest that obese patients who re...</td>\n",
       "      <td>Yes, obese patients with idiopathic pulmonary ...</td>\n",
       "      <td>1.0</td>\n",
       "      <td>1.000000</td>\n",
       "      <td>0.576158</td>\n",
       "    </tr>\n",
       "    <tr>\n",
       "      <th>9</th>\n",
       "      <td>Does introduction of an 8-aminooctanoic acid l...</td>\n",
       "      <td>[The purpose of this study was to examine the ...</td>\n",
       "      <td>High melanoma uptake and fast urinary clearanc...</td>\n",
       "      <td>Yes, the introduction of an 8-aminooctanoic ac...</td>\n",
       "      <td>1.0</td>\n",
       "      <td>1.000000</td>\n",
       "      <td>0.573848</td>\n",
       "    </tr>\n",
       "    <tr>\n",
       "      <th>10</th>\n",
       "      <td>Does a HIF-1 network reveal characteristics of...</td>\n",
       "      <td>[Acute promyelocytic leukemia (APL) is a sub-t...</td>\n",
       "      <td>Our data suggest that pathways related to EMT-...</td>\n",
       "      <td>Yes, a HIF-1 network reveals characteristics o...</td>\n",
       "      <td>1.0</td>\n",
       "      <td>1.000000</td>\n",
       "      <td>0.613202</td>\n",
       "    </tr>\n",
       "    <tr>\n",
       "      <th>11</th>\n",
       "      <td>Is esophageal Mucosal Impedance Pattern Distin...</td>\n",
       "      <td>[Current diagnostic tests for gastroesophageal...</td>\n",
       "      <td>Patients with symptoms of EER and evidence of ...</td>\n",
       "      <td>Yes, the esophageal Mucosal Impedance (MI) pat...</td>\n",
       "      <td>1.0</td>\n",
       "      <td>1.000000</td>\n",
       "      <td>0.649292</td>\n",
       "    </tr>\n",
       "    <tr>\n",
       "      <th>12</th>\n",
       "      <td>Does changes in lung sound during asthma progr...</td>\n",
       "      <td>[Lung sound analysis is useful for objectively...</td>\n",
       "      <td>Lung sound intensity in the middle frequency r...</td>\n",
       "      <td>Yes, changes in lung sound during asthma progr...</td>\n",
       "      <td>1.0</td>\n",
       "      <td>1.000000</td>\n",
       "      <td>0.796169</td>\n",
       "    </tr>\n",
       "    <tr>\n",
       "      <th>13</th>\n",
       "      <td>Does endothelial Jag1-RBPJ signalling promote ...</td>\n",
       "      <td>[To determine the role of NOTCH during the art...</td>\n",
       "      <td>Notch signalling pathway inactivation decrease...</td>\n",
       "      <td>The provided context does not specifically add...</td>\n",
       "      <td>1.0</td>\n",
       "      <td>0.750000</td>\n",
       "      <td>0.684225</td>\n",
       "    </tr>\n",
       "    <tr>\n",
       "      <th>14</th>\n",
       "      <td>Do identification of UQCRB as an oxymatrine re...</td>\n",
       "      <td>[Sophora flavescens Aiton (Radix Sophorae Flav...</td>\n",
       "      <td>In this study, using the T7 phage display syst...</td>\n",
       "      <td>Yes, Ubiquinol-cytochrome c reductase binding ...</td>\n",
       "      <td>1.0</td>\n",
       "      <td>1.000000</td>\n",
       "      <td>0.787110</td>\n",
       "    </tr>\n",
       "    <tr>\n",
       "      <th>15</th>\n",
       "      <td>Do sLCO1B1 gene polymorphisms influence plasma...</td>\n",
       "      <td>[To determine the effect of SLCO1B1 gene polym...</td>\n",
       "      <td>This is the first study to show that rs1104581...</td>\n",
       "      <td>No, SLCO1B1 gene polymorphisms do not influenc...</td>\n",
       "      <td>1.0</td>\n",
       "      <td>1.000000</td>\n",
       "      <td>0.785714</td>\n",
       "    </tr>\n",
       "    <tr>\n",
       "      <th>16</th>\n",
       "      <td>Does stochastic modeling suggest that noise re...</td>\n",
       "      <td>[Glioma differentiation therapy is a novel str...</td>\n",
       "      <td>Our results demonstrated that targeting the no...</td>\n",
       "      <td>Yes, stochastic modeling suggests that noise r...</td>\n",
       "      <td>1.0</td>\n",
       "      <td>1.000000</td>\n",
       "      <td>0.823585</td>\n",
       "    </tr>\n",
       "    <tr>\n",
       "      <th>17</th>\n",
       "      <td>Does identical ATP1A3 mutation cause alternati...</td>\n",
       "      <td>[Alternating hemiplegia of childhood and rapid...</td>\n",
       "      <td>The discordance of these phenotypes suggests t...</td>\n",
       "      <td>Yes, the identical ATP1A3 mutation can cause b...</td>\n",
       "      <td>1.0</td>\n",
       "      <td>1.000000</td>\n",
       "      <td>0.763400</td>\n",
       "    </tr>\n",
       "    <tr>\n",
       "      <th>18</th>\n",
       "      <td>Does surveillance provide insight into epidemi...</td>\n",
       "      <td>[Longer-term tuberculosis (TB) drug resistance...</td>\n",
       "      <td>There has been a significant reduction in bact...</td>\n",
       "      <td>Yes, surveillance provides insight into the ep...</td>\n",
       "      <td>0.5</td>\n",
       "      <td>1.000000</td>\n",
       "      <td>0.384376</td>\n",
       "    </tr>\n",
       "    <tr>\n",
       "      <th>19</th>\n",
       "      <td>Does glioma-derived versican promote tumor exp...</td>\n",
       "      <td>[Accumulation and infiltration of microglia/br...</td>\n",
       "      <td>Our results show that versican released from g...</td>\n",
       "      <td>Yes, glioma-derived versican promotes tumor ex...</td>\n",
       "      <td>1.0</td>\n",
       "      <td>1.000000</td>\n",
       "      <td>0.913509</td>\n",
       "    </tr>\n",
       "    <tr>\n",
       "      <th>20</th>\n",
       "      <td>Do systematic Reviews Published in Emergency M...</td>\n",
       "      <td>[Publication bias compromises the validity of ...</td>\n",
       "      <td>Systematic reviews published in emergency medi...</td>\n",
       "      <td>No, systematic reviews published in emergency ...</td>\n",
       "      <td>1.0</td>\n",
       "      <td>1.000000</td>\n",
       "      <td>0.935371</td>\n",
       "    </tr>\n",
       "    <tr>\n",
       "      <th>21</th>\n",
       "      <td>Is p63 more sensitive and specific than 34βE12...</td>\n",
       "      <td>[Prostate cancer is the world's leading cause ...</td>\n",
       "      <td>Basal cell markers can help to distinguish pro...</td>\n",
       "      <td>The context does not provide a direct comparis...</td>\n",
       "      <td>1.0</td>\n",
       "      <td>0.666667</td>\n",
       "      <td>0.544149</td>\n",
       "    </tr>\n",
       "    <tr>\n",
       "      <th>22</th>\n",
       "      <td>Does first registry result from the newly appr...</td>\n",
       "      <td>[The novel ACURATE TA™ transcatheter aortic va...</td>\n",
       "      <td>The short-term result of the registry shows a ...</td>\n",
       "      <td>The first registry results from the newly appr...</td>\n",
       "      <td>1.0</td>\n",
       "      <td>1.000000</td>\n",
       "      <td>0.675146</td>\n",
       "    </tr>\n",
       "    <tr>\n",
       "      <th>23</th>\n",
       "      <td>Does qS-21 enhance the early antibody response...</td>\n",
       "      <td>[One of the most important tools against foot-...</td>\n",
       "      <td>Strong early virus neutralizing antibody respo...</td>\n",
       "      <td>Yes, the addition of QS-21 to the commercially...</td>\n",
       "      <td>1.0</td>\n",
       "      <td>1.000000</td>\n",
       "      <td>0.545117</td>\n",
       "    </tr>\n",
       "    <tr>\n",
       "      <th>24</th>\n",
       "      <td>Are lobar microbleeds associated with a declin...</td>\n",
       "      <td>[Normal aging is associated with a decline in ...</td>\n",
       "      <td>Lobar microbleeds, a marker of cerebral amyloi...</td>\n",
       "      <td>Yes, lobar microbleeds are associated with a d...</td>\n",
       "      <td>1.0</td>\n",
       "      <td>1.000000</td>\n",
       "      <td>0.669772</td>\n",
       "    </tr>\n",
       "  </tbody>\n",
       "</table>\n",
       "</div>"
      ],
      "text/plain": [
       "                                             question  \\\n",
       "0   Does ascorbic Acid ameliorate nicotine exposur...   \n",
       "1   Do [ Recovery of maxillary tooth sensibility a...   \n",
       "2   Do apitherapy products enhance the recovery of...   \n",
       "3   Are glutathione s-transferase m1 and t1 gene p...   \n",
       "4   Is bone marrow from blotchy mice dispensable t...   \n",
       "5   Do the effects of ifenprodil on the activity o...   \n",
       "6   Does concern for Lost Income Following Donatio...   \n",
       "7   Is pseudomonas aeruginosa in CF and non-CF hom...   \n",
       "8   Do obese patients with idiopathic pulmonary fi...   \n",
       "9   Does introduction of an 8-aminooctanoic acid l...   \n",
       "10  Does a HIF-1 network reveal characteristics of...   \n",
       "11  Is esophageal Mucosal Impedance Pattern Distin...   \n",
       "12  Does changes in lung sound during asthma progr...   \n",
       "13  Does endothelial Jag1-RBPJ signalling promote ...   \n",
       "14  Do identification of UQCRB as an oxymatrine re...   \n",
       "15  Do sLCO1B1 gene polymorphisms influence plasma...   \n",
       "16  Does stochastic modeling suggest that noise re...   \n",
       "17  Does identical ATP1A3 mutation cause alternati...   \n",
       "18  Does surveillance provide insight into epidemi...   \n",
       "19  Does glioma-derived versican promote tumor exp...   \n",
       "20  Do systematic Reviews Published in Emergency M...   \n",
       "21  Is p63 more sensitive and specific than 34βE12...   \n",
       "22  Does first registry result from the newly appr...   \n",
       "23  Does qS-21 enhance the early antibody response...   \n",
       "24  Are lobar microbleeds associated with a declin...   \n",
       "\n",
       "                                             contexts  \\\n",
       "0   [The long lasting behavioural and cognitive im...   \n",
       "1   [Upper alveolar nerves, when injured during Le...   \n",
       "2   [Our objective was to identify the antioxidant...   \n",
       "3   [The aim of this study was to investigate whet...   \n",
       "4   [The blotchy mouse caused by mutations of ATP7...   \n",
       "5   [According to reports in the literature, more ...   \n",
       "6   [Some living kidney donors report lost income ...   \n",
       "7   [For patients with cystic fibrosis (CF) Pseudo...   \n",
       "8   [Obese patients with idiopathic pulmonary fibr...   \n",
       "9   [The purpose of this study was to examine the ...   \n",
       "10  [Acute promyelocytic leukemia (APL) is a sub-t...   \n",
       "11  [Current diagnostic tests for gastroesophageal...   \n",
       "12  [Lung sound analysis is useful for objectively...   \n",
       "13  [To determine the role of NOTCH during the art...   \n",
       "14  [Sophora flavescens Aiton (Radix Sophorae Flav...   \n",
       "15  [To determine the effect of SLCO1B1 gene polym...   \n",
       "16  [Glioma differentiation therapy is a novel str...   \n",
       "17  [Alternating hemiplegia of childhood and rapid...   \n",
       "18  [Longer-term tuberculosis (TB) drug resistance...   \n",
       "19  [Accumulation and infiltration of microglia/br...   \n",
       "20  [Publication bias compromises the validity of ...   \n",
       "21  [Prostate cancer is the world's leading cause ...   \n",
       "22  [The novel ACURATE TA™ transcatheter aortic va...   \n",
       "23  [One of the most important tools against foot-...   \n",
       "24  [Normal aging is associated with a decline in ...   \n",
       "\n",
       "                                               answer  \\\n",
       "0   Ascorbic acid supplementation was found to be ...   \n",
       "1   Among the teeth that were sensitive before sur...   \n",
       "2   Our results suggest that honey, propolis, poll...   \n",
       "3   This study shows no association between GST ge...   \n",
       "4   Overall, our study indicated that the effect o...   \n",
       "5   The concomitant administration of certain comm...   \n",
       "6   Findings from the current study underscore how...   \n",
       "7   These findings implicate drains as important p...   \n",
       "8   Our results suggest that obese patients who re...   \n",
       "9   High melanoma uptake and fast urinary clearanc...   \n",
       "10  Our data suggest that pathways related to EMT-...   \n",
       "11  Patients with symptoms of EER and evidence of ...   \n",
       "12  Lung sound intensity in the middle frequency r...   \n",
       "13  Notch signalling pathway inactivation decrease...   \n",
       "14  In this study, using the T7 phage display syst...   \n",
       "15  This is the first study to show that rs1104581...   \n",
       "16  Our results demonstrated that targeting the no...   \n",
       "17  The discordance of these phenotypes suggests t...   \n",
       "18  There has been a significant reduction in bact...   \n",
       "19  Our results show that versican released from g...   \n",
       "20  Systematic reviews published in emergency medi...   \n",
       "21  Basal cell markers can help to distinguish pro...   \n",
       "22  The short-term result of the registry shows a ...   \n",
       "23  Strong early virus neutralizing antibody respo...   \n",
       "24  Lobar microbleeds, a marker of cerebral amyloi...   \n",
       "\n",
       "                                     predicted_answer  doc_mrr_evaluator  \\\n",
       "0   Yes, ascorbic acid ameliorates nicotine exposu...                1.0   \n",
       "1   Yes, the recovery of maxillary tooth sensitivi...                1.0   \n",
       "2   Yes, apitherapy products, such as honeybee pro...                0.5   \n",
       "3   No, glutathione S-transferase M1 (GSTM1) and T...                1.0   \n",
       "4   Yes, bone marrow from blotchy mice is dispensa...                1.0   \n",
       "5   Ifenprodil potentiated the antidepressant-like...                1.0   \n",
       "6   Yes, concern for lost income following donatio...                1.0   \n",
       "7   Yes, Pseudomonas aeruginosa is found predomina...                1.0   \n",
       "8   Yes, obese patients with idiopathic pulmonary ...                1.0   \n",
       "9   Yes, the introduction of an 8-aminooctanoic ac...                1.0   \n",
       "10  Yes, a HIF-1 network reveals characteristics o...                1.0   \n",
       "11  Yes, the esophageal Mucosal Impedance (MI) pat...                1.0   \n",
       "12  Yes, changes in lung sound during asthma progr...                1.0   \n",
       "13  The provided context does not specifically add...                1.0   \n",
       "14  Yes, Ubiquinol-cytochrome c reductase binding ...                1.0   \n",
       "15  No, SLCO1B1 gene polymorphisms do not influenc...                1.0   \n",
       "16  Yes, stochastic modeling suggests that noise r...                1.0   \n",
       "17  Yes, the identical ATP1A3 mutation can cause b...                1.0   \n",
       "18  Yes, surveillance provides insight into the ep...                0.5   \n",
       "19  Yes, glioma-derived versican promotes tumor ex...                1.0   \n",
       "20  No, systematic reviews published in emergency ...                1.0   \n",
       "21  The context does not provide a direct comparis...                1.0   \n",
       "22  The first registry results from the newly appr...                1.0   \n",
       "23  Yes, the addition of QS-21 to the commercially...                1.0   \n",
       "24  Yes, lobar microbleeds are associated with a d...                1.0   \n",
       "\n",
       "    faithfulness  sas_evaluator  \n",
       "0       1.000000       0.761964  \n",
       "1       1.000000       0.775067  \n",
       "2       1.000000       0.829854  \n",
       "3       1.000000       0.599473  \n",
       "4       1.000000       0.690724  \n",
       "5       1.000000       0.537249  \n",
       "6       1.000000       0.701326  \n",
       "7       1.000000       0.662766  \n",
       "8       1.000000       0.576158  \n",
       "9       1.000000       0.573848  \n",
       "10      1.000000       0.613202  \n",
       "11      1.000000       0.649292  \n",
       "12      1.000000       0.796169  \n",
       "13      0.750000       0.684225  \n",
       "14      1.000000       0.787110  \n",
       "15      1.000000       0.785714  \n",
       "16      1.000000       0.823585  \n",
       "17      1.000000       0.763400  \n",
       "18      1.000000       0.384376  \n",
       "19      1.000000       0.913509  \n",
       "20      1.000000       0.935371  \n",
       "21      0.666667       0.544149  \n",
       "22      1.000000       0.675146  \n",
       "23      1.000000       0.545117  \n",
       "24      1.000000       0.669772  "
      ]
     },
     "execution_count": 11,
     "metadata": {},
     "output_type": "execute_result"
    }
   ],
   "source": [
    "# Convertir el informe en un Pandas DataFrame\n",
    "results_df = evaluation_result.to_pandas()\n",
    "results_df"
   ]
  },
  {
   "cell_type": "code",
   "execution_count": 12,
   "metadata": {},
   "outputs": [
    {
     "data": {
      "text/html": [
       "<div>\n",
       "<style scoped>\n",
       "    .dataframe tbody tr th:only-of-type {\n",
       "        vertical-align: middle;\n",
       "    }\n",
       "\n",
       "    .dataframe tbody tr th {\n",
       "        vertical-align: top;\n",
       "    }\n",
       "\n",
       "    .dataframe thead th {\n",
       "        text-align: right;\n",
       "    }\n",
       "</style>\n",
       "<table border=\"1\" class=\"dataframe\">\n",
       "  <thead>\n",
       "    <tr style=\"text-align: right;\">\n",
       "      <th></th>\n",
       "      <th>question</th>\n",
       "      <th>contexts</th>\n",
       "      <th>answer</th>\n",
       "      <th>predicted_answer</th>\n",
       "      <th>doc_mrr_evaluator</th>\n",
       "      <th>faithfulness</th>\n",
       "      <th>sas_evaluator</th>\n",
       "    </tr>\n",
       "  </thead>\n",
       "  <tbody>\n",
       "    <tr>\n",
       "      <th>20</th>\n",
       "      <td>Do systematic Reviews Published in Emergency M...</td>\n",
       "      <td>[Publication bias compromises the validity of ...</td>\n",
       "      <td>Systematic reviews published in emergency medi...</td>\n",
       "      <td>No, systematic reviews published in emergency ...</td>\n",
       "      <td>1.0</td>\n",
       "      <td>1.000000</td>\n",
       "      <td>0.935371</td>\n",
       "    </tr>\n",
       "    <tr>\n",
       "      <th>19</th>\n",
       "      <td>Does glioma-derived versican promote tumor exp...</td>\n",
       "      <td>[Accumulation and infiltration of microglia/br...</td>\n",
       "      <td>Our results show that versican released from g...</td>\n",
       "      <td>Yes, glioma-derived versican promotes tumor ex...</td>\n",
       "      <td>1.0</td>\n",
       "      <td>1.000000</td>\n",
       "      <td>0.913509</td>\n",
       "    </tr>\n",
       "    <tr>\n",
       "      <th>2</th>\n",
       "      <td>Do apitherapy products enhance the recovery of...</td>\n",
       "      <td>[Our objective was to identify the antioxidant...</td>\n",
       "      <td>Our results suggest that honey, propolis, poll...</td>\n",
       "      <td>Yes, apitherapy products, such as honeybee pro...</td>\n",
       "      <td>0.5</td>\n",
       "      <td>1.000000</td>\n",
       "      <td>0.829854</td>\n",
       "    </tr>\n",
       "    <tr>\n",
       "      <th>18</th>\n",
       "      <td>Does surveillance provide insight into epidemi...</td>\n",
       "      <td>[Longer-term tuberculosis (TB) drug resistance...</td>\n",
       "      <td>There has been a significant reduction in bact...</td>\n",
       "      <td>Yes, surveillance provides insight into the ep...</td>\n",
       "      <td>0.5</td>\n",
       "      <td>1.000000</td>\n",
       "      <td>0.384376</td>\n",
       "    </tr>\n",
       "    <tr>\n",
       "      <th>5</th>\n",
       "      <td>Do the effects of ifenprodil on the activity o...</td>\n",
       "      <td>[According to reports in the literature, more ...</td>\n",
       "      <td>The concomitant administration of certain comm...</td>\n",
       "      <td>Ifenprodil potentiated the antidepressant-like...</td>\n",
       "      <td>1.0</td>\n",
       "      <td>1.000000</td>\n",
       "      <td>0.537249</td>\n",
       "    </tr>\n",
       "    <tr>\n",
       "      <th>21</th>\n",
       "      <td>Is p63 more sensitive and specific than 34βE12...</td>\n",
       "      <td>[Prostate cancer is the world's leading cause ...</td>\n",
       "      <td>Basal cell markers can help to distinguish pro...</td>\n",
       "      <td>The context does not provide a direct comparis...</td>\n",
       "      <td>1.0</td>\n",
       "      <td>0.666667</td>\n",
       "      <td>0.544149</td>\n",
       "    </tr>\n",
       "  </tbody>\n",
       "</table>\n",
       "</div>"
      ],
      "text/plain": [
       "                                             question  \\\n",
       "20  Do systematic Reviews Published in Emergency M...   \n",
       "19  Does glioma-derived versican promote tumor exp...   \n",
       "2   Do apitherapy products enhance the recovery of...   \n",
       "18  Does surveillance provide insight into epidemi...   \n",
       "5   Do the effects of ifenprodil on the activity o...   \n",
       "21  Is p63 more sensitive and specific than 34βE12...   \n",
       "\n",
       "                                             contexts  \\\n",
       "20  [Publication bias compromises the validity of ...   \n",
       "19  [Accumulation and infiltration of microglia/br...   \n",
       "2   [Our objective was to identify the antioxidant...   \n",
       "18  [Longer-term tuberculosis (TB) drug resistance...   \n",
       "5   [According to reports in the literature, more ...   \n",
       "21  [Prostate cancer is the world's leading cause ...   \n",
       "\n",
       "                                               answer  \\\n",
       "20  Systematic reviews published in emergency medi...   \n",
       "19  Our results show that versican released from g...   \n",
       "2   Our results suggest that honey, propolis, poll...   \n",
       "18  There has been a significant reduction in bact...   \n",
       "5   The concomitant administration of certain comm...   \n",
       "21  Basal cell markers can help to distinguish pro...   \n",
       "\n",
       "                                     predicted_answer  doc_mrr_evaluator  \\\n",
       "20  No, systematic reviews published in emergency ...                1.0   \n",
       "19  Yes, glioma-derived versican promotes tumor ex...                1.0   \n",
       "2   Yes, apitherapy products, such as honeybee pro...                0.5   \n",
       "18  Yes, surveillance provides insight into the ep...                0.5   \n",
       "5   Ifenprodil potentiated the antidepressant-like...                1.0   \n",
       "21  The context does not provide a direct comparis...                1.0   \n",
       "\n",
       "    faithfulness  sas_evaluator  \n",
       "20      1.000000       0.935371  \n",
       "19      1.000000       0.913509  \n",
       "2       1.000000       0.829854  \n",
       "18      1.000000       0.384376  \n",
       "5       1.000000       0.537249  \n",
       "21      0.666667       0.544149  "
      ]
     },
     "execution_count": 12,
     "metadata": {},
     "output_type": "execute_result"
    }
   ],
   "source": [
    "import pandas as pd\n",
    "\n",
    "top_3 = results_df.nlargest(3, \"sas_evaluator\")\n",
    "bottom_3 = results_df.nsmallest(3, \"sas_evaluator\")\n",
    "pd.concat([top_3, bottom_3])\n"
   ]
  },
  {
   "cell_type": "code",
   "execution_count": null,
   "metadata": {},
   "outputs": [],
   "source": []
  }
 ],
 "metadata": {
  "kernelspec": {
   "display_name": "venv_haystack_ai",
   "language": "python",
   "name": "python3"
  },
  "language_info": {
   "codemirror_mode": {
    "name": "ipython",
    "version": 3
   },
   "file_extension": ".py",
   "mimetype": "text/x-python",
   "name": "python",
   "nbconvert_exporter": "python",
   "pygments_lexer": "ipython3",
   "version": "3.11.11"
  }
 },
 "nbformat": 4,
 "nbformat_minor": 2
}
