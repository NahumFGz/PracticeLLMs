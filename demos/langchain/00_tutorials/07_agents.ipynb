{
 "cells": [
  {
   "cell_type": "markdown",
   "metadata": {},
   "source": [
    "### [Build an Agent](https://python.langchain.com/docs/tutorials/agents/)"
   ]
  },
  {
   "cell_type": "code",
   "execution_count": 20,
   "metadata": {},
   "outputs": [],
   "source": [
    "import getpass\n",
    "import os\n",
    "\n",
    "if \"LANGCHAIN_API_KEY\" not in os.environ:\n",
    "    os.environ[\"LANGCHAIN_TRACING_V2\"] = \"true\"\n",
    "    os.environ[\"LANGCHAIN_API_KEY\"] = getpass.getpass()"
   ]
  },
  {
   "cell_type": "code",
   "execution_count": 21,
   "metadata": {},
   "outputs": [],
   "source": [
    "if not os.environ.get(\"OPENAI_API_KEY\"):\n",
    "    os.environ[\"OPENAI_API_KEY\"] = getpass.getpass()"
   ]
  },
  {
   "cell_type": "code",
   "execution_count": 22,
   "metadata": {},
   "outputs": [],
   "source": [
    "if not os.environ.get(\"TAVILY_API_KEY\"):\n",
    "    os.environ[\"TAVILY_API_KEY\"] = getpass.getpass()"
   ]
  },
  {
   "cell_type": "markdown",
   "metadata": {},
   "source": [
    "#### A. End-to-end agent"
   ]
  },
  {
   "cell_type": "code",
   "execution_count": 23,
   "metadata": {},
   "outputs": [
    {
     "name": "stdout",
     "output_type": "stream",
     "text": [
      "{'agent': {'messages': [AIMessage(content=\"Hi Bob! It's great to meet you. How's life in San Francisco?\", additional_kwargs={'refusal': None}, response_metadata={'token_usage': {'completion_tokens': 18, 'prompt_tokens': 88, 'total_tokens': 106, 'completion_tokens_details': {'accepted_prediction_tokens': 0, 'audio_tokens': 0, 'reasoning_tokens': 0, 'rejected_prediction_tokens': 0}, 'prompt_tokens_details': {'audio_tokens': 0, 'cached_tokens': 0}}, 'model_name': 'gpt-4o-mini-2024-07-18', 'system_fingerprint': 'fp_d02d531b47', 'finish_reason': 'stop', 'logprobs': None}, id='run-ea67584d-b82e-415e-9444-18cb3229f6d7-0', usage_metadata={'input_tokens': 88, 'output_tokens': 18, 'total_tokens': 106, 'input_token_details': {'audio': 0, 'cache_read': 0}, 'output_token_details': {'audio': 0, 'reasoning': 0}})]}}\n",
      "----\n",
      "{'agent': {'messages': [AIMessage(content='', additional_kwargs={'tool_calls': [{'id': 'call_TvHWxkrED4Qy47F76M4M37BM', 'function': {'arguments': '{\"query\":\"San Francisco weather\"}', 'name': 'tavily_search_results_json'}, 'type': 'function'}], 'refusal': None}, response_metadata={'token_usage': {'completion_tokens': 21, 'prompt_tokens': 120, 'total_tokens': 141, 'completion_tokens_details': {'accepted_prediction_tokens': 0, 'audio_tokens': 0, 'reasoning_tokens': 0, 'rejected_prediction_tokens': 0}, 'prompt_tokens_details': {'audio_tokens': 0, 'cached_tokens': 0}}, 'model_name': 'gpt-4o-mini-2024-07-18', 'system_fingerprint': 'fp_d02d531b47', 'finish_reason': 'tool_calls', 'logprobs': None}, id='run-3f48bb9e-ca71-44e7-8025-0054ac5175db-0', tool_calls=[{'name': 'tavily_search_results_json', 'args': {'query': 'San Francisco weather'}, 'id': 'call_TvHWxkrED4Qy47F76M4M37BM', 'type': 'tool_call'}], usage_metadata={'input_tokens': 120, 'output_tokens': 21, 'total_tokens': 141, 'input_token_details': {'audio': 0, 'cache_read': 0}, 'output_token_details': {'audio': 0, 'reasoning': 0}})]}}\n",
      "----\n",
      "{'tools': {'messages': [ToolMessage(content='[{\"url\": \"https://www.weatherapi.com/\", \"content\": \"{\\'location\\': {\\'name\\': \\'San Francisco\\', \\'region\\': \\'California\\', \\'country\\': \\'United States of America\\', \\'lat\\': 37.775, \\'lon\\': -122.4183, \\'tz_id\\': \\'America/Los_Angeles\\', \\'localtime_epoch\\': 1734644608, \\'localtime\\': \\'2024-12-19 13:43\\'}, \\'current\\': {\\'last_updated_epoch\\': 1734643800, \\'last_updated\\': \\'2024-12-19 13:30\\', \\'temp_c\\': 8.8, \\'temp_f\\': 47.9, \\'is_day\\': 1, \\'condition\\': {\\'text\\': \\'Overcast\\', \\'icon\\': \\'//cdn.weatherapi.com/weather/64x64/day/122.png\\', \\'code\\': 1009}, \\'wind_mph\\': 8.1, \\'wind_kph\\': 13.0, \\'wind_degree\\': 31, \\'wind_dir\\': \\'NNE\\', \\'pressure_mb\\': 1021.0, \\'pressure_in\\': 30.16, \\'precip_mm\\': 0.0, \\'precip_in\\': 0.0, \\'humidity\\': 97, \\'cloud\\': 99, \\'feelslike_c\\': 6.2, \\'feelslike_f\\': 43.2, \\'windchill_c\\': 6.2, \\'windchill_f\\': 43.2, \\'heatindex_c\\': 8.8, \\'heatindex_f\\': 47.9, \\'dewpoint_c\\': 8.2, \\'dewpoint_f\\': 46.7, \\'vis_km\\': 10.0, \\'vis_miles\\': 6.0, \\'uv\\': 2.2, \\'gust_mph\\': 11.5, \\'gust_kph\\': 18.5}}\"}, {\"url\": \"https://www.peoplesweather.com/weather/San+Francisco/?date=2024-12-19\", \"content\": \"Weather for San Francisco | People°s Weather Home Weather News MyPhoto Competitions Contact Us Home Weather Forecast News & Highlights MyPhoto Competitions Contact Us Get the weather for Johannesburg Weather for San Francisco Weather United States San Francisco Thursday 19 December 2024 14°C10°C0%Cloud Cover: 100%NNE / 8km/hLight BreezeOvercast Morning12°CPartly Cloudy. Cool Afternoon14°CSunny. Cool Night13°CMostly Cloudy. Cool 7 Day Forecast for San Francisco Weather Detailed Forecast SA National Parks iSimangaliso Popular Submit your Photo Contact us Careers News Room Newsletter Subscribe Now Terms of Use Privacy Sitemap © 2007-2024 People°s Weather Pty. Ltd., All rights reserved.\"}]', name='tavily_search_results_json', id='af5c7712-668c-4dc2-9fff-2e39a4fd62ad', tool_call_id='call_TvHWxkrED4Qy47F76M4M37BM', artifact={'query': 'San Francisco weather', 'follow_up_questions': None, 'answer': None, 'images': [], 'results': [{'title': 'Weather in San Francisco', 'url': 'https://www.weatherapi.com/', 'content': \"{'location': {'name': 'San Francisco', 'region': 'California', 'country': 'United States of America', 'lat': 37.775, 'lon': -122.4183, 'tz_id': 'America/Los_Angeles', 'localtime_epoch': 1734644608, 'localtime': '2024-12-19 13:43'}, 'current': {'last_updated_epoch': 1734643800, 'last_updated': '2024-12-19 13:30', 'temp_c': 8.8, 'temp_f': 47.9, 'is_day': 1, 'condition': {'text': 'Overcast', 'icon': '//cdn.weatherapi.com/weather/64x64/day/122.png', 'code': 1009}, 'wind_mph': 8.1, 'wind_kph': 13.0, 'wind_degree': 31, 'wind_dir': 'NNE', 'pressure_mb': 1021.0, 'pressure_in': 30.16, 'precip_mm': 0.0, 'precip_in': 0.0, 'humidity': 97, 'cloud': 99, 'feelslike_c': 6.2, 'feelslike_f': 43.2, 'windchill_c': 6.2, 'windchill_f': 43.2, 'heatindex_c': 8.8, 'heatindex_f': 47.9, 'dewpoint_c': 8.2, 'dewpoint_f': 46.7, 'vis_km': 10.0, 'vis_miles': 6.0, 'uv': 2.2, 'gust_mph': 11.5, 'gust_kph': 18.5}}\", 'score': 0.9690449, 'raw_content': None}, {'title': 'Weather for San Francisco | People°s Weather', 'url': 'https://www.peoplesweather.com/weather/San+Francisco/?date=2024-12-19', 'content': 'Weather for San Francisco | People°s Weather Home Weather News MyPhoto Competitions Contact Us Home Weather Forecast News & Highlights MyPhoto Competitions Contact Us Get the weather for Johannesburg Weather for San Francisco Weather United States San Francisco Thursday 19 December 2024 14°C10°C0%Cloud Cover: 100%NNE / 8km/hLight BreezeOvercast Morning12°CPartly Cloudy. Cool Afternoon14°CSunny. Cool Night13°CMostly Cloudy. Cool 7 Day Forecast for San Francisco Weather Detailed Forecast SA National Parks iSimangaliso Popular Submit your Photo Contact us Careers News Room Newsletter Subscribe Now Terms of Use Privacy Sitemap © 2007-2024 People°s Weather Pty. Ltd., All rights reserved.', 'score': 0.96162415, 'raw_content': None}], 'response_time': 2.84})]}}\n",
      "----\n",
      "{'agent': {'messages': [AIMessage(content=\"The current weather in San Francisco is as follows:\\n\\n- **Temperature**: 8.8°C (47.9°F)\\n- **Condition**: Overcast\\n- **Wind**: NNE at 8.1 mph (13.0 kph)\\n- **Humidity**: 97%\\n- **Cloud Cover**: 100%\\n- **Visibility**: 10 km (6 miles)\\n\\nIt's a cool day, so you might want to dress warmly if you're heading outside! \\n\\nFor more details, you can check out [WeatherAPI](https://www.weatherapi.com/) or [People's Weather](https://www.peoplesweather.com/weather/San+Francisco/?date=2024-12-19).\", additional_kwargs={'refusal': None}, response_metadata={'token_usage': {'completion_tokens': 151, 'prompt_tokens': 741, 'total_tokens': 892, 'completion_tokens_details': {'accepted_prediction_tokens': 0, 'audio_tokens': 0, 'reasoning_tokens': 0, 'rejected_prediction_tokens': 0}, 'prompt_tokens_details': {'audio_tokens': 0, 'cached_tokens': 0}}, 'model_name': 'gpt-4o-mini-2024-07-18', 'system_fingerprint': 'fp_d02d531b47', 'finish_reason': 'stop', 'logprobs': None}, id='run-1f387be0-d871-43b7-8412-1ec49ec6dc19-0', usage_metadata={'input_tokens': 741, 'output_tokens': 151, 'total_tokens': 892, 'input_token_details': {'audio': 0, 'cache_read': 0}, 'output_token_details': {'audio': 0, 'reasoning': 0}})]}}\n",
      "----\n"
     ]
    }
   ],
   "source": [
    "# Import relevant functionality\n",
    "from langchain_openai import ChatOpenAI\n",
    "from langchain_community.tools.tavily_search import TavilySearchResults\n",
    "from langchain_core.messages import HumanMessage\n",
    "from langgraph.checkpoint.memory import MemorySaver\n",
    "from langgraph.prebuilt import create_react_agent\n",
    "\n",
    "# Create the agent\n",
    "memory = MemorySaver()\n",
    "model = ChatOpenAI(model_name=\"gpt-4o-mini\")\n",
    "search = TavilySearchResults(max_results=2)\n",
    "tools = [search]\n",
    "agent_executor = create_react_agent(model, tools, checkpointer=memory)\n",
    "\n",
    "# Use the agent\n",
    "config = {\"configurable\": {\"thread_id\": \"abc123\"}}\n",
    "for chunk in agent_executor.stream(\n",
    "    {\"messages\": [HumanMessage(content=\"hi im bob! and i live in sf\")]}, config\n",
    "):\n",
    "    print(chunk)\n",
    "    print(\"----\")\n",
    "\n",
    "for chunk in agent_executor.stream(\n",
    "    {\"messages\": [HumanMessage(content=\"whats the weather where I live?\")]}, config\n",
    "):\n",
    "    print(chunk)\n",
    "    print(\"----\")"
   ]
  },
  {
   "cell_type": "markdown",
   "metadata": {},
   "source": [
    "#### B. Define tools"
   ]
  },
  {
   "cell_type": "code",
   "execution_count": 24,
   "metadata": {},
   "outputs": [
    {
     "name": "stdout",
     "output_type": "stream",
     "text": [
      "[{'url': 'https://www.weatherapi.com/', 'content': \"{'location': {'name': 'San Francisco', 'region': 'California', 'country': 'United States of America', 'lat': 37.775, 'lon': -122.4183, 'tz_id': 'America/Los_Angeles', 'localtime_epoch': 1734644608, 'localtime': '2024-12-19 13:43'}, 'current': {'last_updated_epoch': 1734643800, 'last_updated': '2024-12-19 13:30', 'temp_c': 8.8, 'temp_f': 47.9, 'is_day': 1, 'condition': {'text': 'Overcast', 'icon': '//cdn.weatherapi.com/weather/64x64/day/122.png', 'code': 1009}, 'wind_mph': 8.1, 'wind_kph': 13.0, 'wind_degree': 31, 'wind_dir': 'NNE', 'pressure_mb': 1021.0, 'pressure_in': 30.16, 'precip_mm': 0.0, 'precip_in': 0.0, 'humidity': 97, 'cloud': 99, 'feelslike_c': 6.2, 'feelslike_f': 43.2, 'windchill_c': 6.2, 'windchill_f': 43.2, 'heatindex_c': 8.8, 'heatindex_f': 47.9, 'dewpoint_c': 8.2, 'dewpoint_f': 46.7, 'vis_km': 10.0, 'vis_miles': 6.0, 'uv': 2.2, 'gust_mph': 11.5, 'gust_kph': 18.5}}\"}, {'url': 'https://www.msn.com/en-us/weather/topstories/december-19-2024-san-francisco-bay-area-weather-forecast/vi-AA1waa2B', 'content': 'KRON San Francisco. December 19, 2024 San Francisco Bay Area weather forecast. Posted: December 19, 2024 | Last updated: December 19, 2024. KRON4 Meteorologist John Shrable has the latest weather'}]\n"
     ]
    }
   ],
   "source": [
    "from langchain_community.tools.tavily_search import TavilySearchResults\n",
    "\n",
    "search = TavilySearchResults(max_results=2)\n",
    "search_results = search.invoke(\"what is the weather in SF\")\n",
    "print(search_results)\n",
    "# If we want, we can create other tools.\n",
    "# Once we have all the tools we want, we can put them in a list that we will reference later.\n",
    "tools = [search]"
   ]
  },
  {
   "cell_type": "code",
   "execution_count": 25,
   "metadata": {},
   "outputs": [],
   "source": [
    "from langchain_openai import ChatOpenAI\n",
    "\n",
    "model = ChatOpenAI(model=\"gpt-4o-mini\")"
   ]
  },
  {
   "cell_type": "code",
   "execution_count": 26,
   "metadata": {},
   "outputs": [
    {
     "data": {
      "text/plain": [
       "'Hello! How can I assist you today?'"
      ]
     },
     "execution_count": 26,
     "metadata": {},
     "output_type": "execute_result"
    }
   ],
   "source": [
    "from langchain_core.messages import HumanMessage\n",
    "\n",
    "response = model.invoke([HumanMessage(content=\"hi!\")])\n",
    "response.content"
   ]
  },
  {
   "cell_type": "code",
   "execution_count": 27,
   "metadata": {},
   "outputs": [],
   "source": [
    "model_with_tools = model.bind_tools(tools)"
   ]
  },
  {
   "cell_type": "code",
   "execution_count": 28,
   "metadata": {},
   "outputs": [
    {
     "name": "stdout",
     "output_type": "stream",
     "text": [
      "ContentString: Hello! How can I assist you today?\n",
      "ToolCalls: []\n"
     ]
    }
   ],
   "source": [
    "response = model_with_tools.invoke([HumanMessage(content=\"Hi!\")])\n",
    "\n",
    "print(f\"ContentString: {response.content}\")\n",
    "print(f\"ToolCalls: {response.tool_calls}\")"
   ]
  },
  {
   "cell_type": "code",
   "execution_count": 29,
   "metadata": {},
   "outputs": [
    {
     "name": "stdout",
     "output_type": "stream",
     "text": [
      "ContentString: \n",
      "ToolCalls: [{'name': 'tavily_search_results_json', 'args': {'query': 'San Francisco weather'}, 'id': 'call_UBkUAhEoY45MULA73OPsgKES', 'type': 'tool_call'}]\n"
     ]
    }
   ],
   "source": [
    "response = model_with_tools.invoke([HumanMessage(content=\"What's the weather in SF?\")])\n",
    "\n",
    "print(f\"ContentString: {response.content}\")\n",
    "print(f\"ToolCalls: {response.tool_calls}\")"
   ]
  },
  {
   "cell_type": "markdown",
   "metadata": {},
   "source": [
    "#### C. Agent"
   ]
  },
  {
   "cell_type": "code",
   "execution_count": 30,
   "metadata": {},
   "outputs": [],
   "source": [
    "from langgraph.prebuilt import create_react_agent\n",
    "\n",
    "agent_executor = create_react_agent(model_with_tools, tools)"
   ]
  },
  {
   "cell_type": "code",
   "execution_count": 31,
   "metadata": {},
   "outputs": [
    {
     "data": {
      "text/plain": [
       "[HumanMessage(content='hi!', additional_kwargs={}, response_metadata={}, id='67f83505-98e0-4571-be08-38c4a71825e9'),\n",
       " AIMessage(content='Hello! How can I assist you today?', additional_kwargs={'refusal': None}, response_metadata={'token_usage': {'completion_tokens': 11, 'prompt_tokens': 81, 'total_tokens': 92, 'completion_tokens_details': {'accepted_prediction_tokens': 0, 'audio_tokens': 0, 'reasoning_tokens': 0, 'rejected_prediction_tokens': 0}, 'prompt_tokens_details': {'audio_tokens': 0, 'cached_tokens': 0}}, 'model_name': 'gpt-4o-mini-2024-07-18', 'system_fingerprint': 'fp_0aa8d3e20b', 'finish_reason': 'stop', 'logprobs': None}, id='run-a1e0e074-2529-444a-9517-d8fea085091f-0', usage_metadata={'input_tokens': 81, 'output_tokens': 11, 'total_tokens': 92, 'input_token_details': {'audio': 0, 'cache_read': 0}, 'output_token_details': {'audio': 0, 'reasoning': 0}})]"
      ]
     },
     "execution_count": 31,
     "metadata": {},
     "output_type": "execute_result"
    }
   ],
   "source": [
    "response = agent_executor.invoke({\"messages\": [HumanMessage(content=\"hi!\")]})\n",
    "response[\"messages\"]"
   ]
  },
  {
   "cell_type": "code",
   "execution_count": 32,
   "metadata": {},
   "outputs": [
    {
     "data": {
      "text/plain": [
       "[HumanMessage(content='whats the weather in sf?', additional_kwargs={}, response_metadata={}, id='4f7a431b-6129-481e-bd44-57d10cc97599'),\n",
       " AIMessage(content='', additional_kwargs={'tool_calls': [{'id': 'call_6SudrjAQs2pP6TMYKm2jyIa7', 'function': {'arguments': '{\"query\":\"current weather in San Francisco\"}', 'name': 'tavily_search_results_json'}, 'type': 'function'}], 'refusal': None}, response_metadata={'token_usage': {'completion_tokens': 23, 'prompt_tokens': 86, 'total_tokens': 109, 'completion_tokens_details': {'accepted_prediction_tokens': 0, 'audio_tokens': 0, 'reasoning_tokens': 0, 'rejected_prediction_tokens': 0}, 'prompt_tokens_details': {'audio_tokens': 0, 'cached_tokens': 0}}, 'model_name': 'gpt-4o-mini-2024-07-18', 'system_fingerprint': 'fp_0aa8d3e20b', 'finish_reason': 'tool_calls', 'logprobs': None}, id='run-3284dd76-bfef-4bd5-b125-1e94c71ed282-0', tool_calls=[{'name': 'tavily_search_results_json', 'args': {'query': 'current weather in San Francisco'}, 'id': 'call_6SudrjAQs2pP6TMYKm2jyIa7', 'type': 'tool_call'}], usage_metadata={'input_tokens': 86, 'output_tokens': 23, 'total_tokens': 109, 'input_token_details': {'audio': 0, 'cache_read': 0}, 'output_token_details': {'audio': 0, 'reasoning': 0}}),\n",
       " ToolMessage(content='[{\"url\": \"https://www.weatherapi.com/\", \"content\": \"{\\'location\\': {\\'name\\': \\'San Francisco\\', \\'region\\': \\'California\\', \\'country\\': \\'United States of America\\', \\'lat\\': 37.775, \\'lon\\': -122.4183, \\'tz_id\\': \\'America/Los_Angeles\\', \\'localtime_epoch\\': 1734644608, \\'localtime\\': \\'2024-12-19 13:43\\'}, \\'current\\': {\\'last_updated_epoch\\': 1734643800, \\'last_updated\\': \\'2024-12-19 13:30\\', \\'temp_c\\': 8.8, \\'temp_f\\': 47.9, \\'is_day\\': 1, \\'condition\\': {\\'text\\': \\'Overcast\\', \\'icon\\': \\'//cdn.weatherapi.com/weather/64x64/day/122.png\\', \\'code\\': 1009}, \\'wind_mph\\': 8.1, \\'wind_kph\\': 13.0, \\'wind_degree\\': 31, \\'wind_dir\\': \\'NNE\\', \\'pressure_mb\\': 1021.0, \\'pressure_in\\': 30.16, \\'precip_mm\\': 0.0, \\'precip_in\\': 0.0, \\'humidity\\': 97, \\'cloud\\': 99, \\'feelslike_c\\': 6.2, \\'feelslike_f\\': 43.2, \\'windchill_c\\': 6.2, \\'windchill_f\\': 43.2, \\'heatindex_c\\': 8.8, \\'heatindex_f\\': 47.9, \\'dewpoint_c\\': 8.2, \\'dewpoint_f\\': 46.7, \\'vis_km\\': 10.0, \\'vis_miles\\': 6.0, \\'uv\\': 2.2, \\'gust_mph\\': 11.5, \\'gust_kph\\': 18.5}}\"}, {\"url\": \"https://world-weather.info/forecast/usa/san_francisco/19-december/\", \"content\": \"Weather Weather in San Francisco Weather in San Francisco, December 19 Weather Forecast for December 19 in San Francisco, California - temperature, wind, atmospheric pressure, humidity and precipitations. and temperature °F  RealFeel °F Atmospheric Night   +46°    +46°    30.1    3.4 90% Day +59°    +59°    30  4.9 71% and temperature °F  RealFeel °F Atmospheric Night   +59°    +59°    29.7    13.6    93% Day +61°    +61°    29.7    12.5    83% Meteorological sensitivity index    3   Meteosensitive people are likely to experience weather-related symptoms. Geomagnetic conditions  2   Solar activity may affect some sensitive people. Night   +43°    +43°    30.1    2.7 93% Day +46°    +45°    30.2    3.8 78% Meteorological sensitivity index    1   Weather situation is generally favorable to meteosensitive people. Geomagnetic conditions  1   Weak solar activity may affect some highly sensitive people.\"}]', name='tavily_search_results_json', id='9aa86d0e-e48b-48d9-a8a9-41268952a41d', tool_call_id='call_6SudrjAQs2pP6TMYKm2jyIa7', artifact={'query': 'current weather in San Francisco', 'follow_up_questions': None, 'answer': None, 'images': [], 'results': [{'title': 'Weather in San Francisco', 'url': 'https://www.weatherapi.com/', 'content': \"{'location': {'name': 'San Francisco', 'region': 'California', 'country': 'United States of America', 'lat': 37.775, 'lon': -122.4183, 'tz_id': 'America/Los_Angeles', 'localtime_epoch': 1734644608, 'localtime': '2024-12-19 13:43'}, 'current': {'last_updated_epoch': 1734643800, 'last_updated': '2024-12-19 13:30', 'temp_c': 8.8, 'temp_f': 47.9, 'is_day': 1, 'condition': {'text': 'Overcast', 'icon': '//cdn.weatherapi.com/weather/64x64/day/122.png', 'code': 1009}, 'wind_mph': 8.1, 'wind_kph': 13.0, 'wind_degree': 31, 'wind_dir': 'NNE', 'pressure_mb': 1021.0, 'pressure_in': 30.16, 'precip_mm': 0.0, 'precip_in': 0.0, 'humidity': 97, 'cloud': 99, 'feelslike_c': 6.2, 'feelslike_f': 43.2, 'windchill_c': 6.2, 'windchill_f': 43.2, 'heatindex_c': 8.8, 'heatindex_f': 47.9, 'dewpoint_c': 8.2, 'dewpoint_f': 46.7, 'vis_km': 10.0, 'vis_miles': 6.0, 'uv': 2.2, 'gust_mph': 11.5, 'gust_kph': 18.5}}\", 'score': 0.9518563, 'raw_content': None}, {'title': 'Weather in San Francisco, December 19', 'url': 'https://world-weather.info/forecast/usa/san_francisco/19-december/', 'content': 'Weather Weather in San Francisco Weather in San Francisco, December 19 Weather Forecast for December 19 in San Francisco, California - temperature, wind, atmospheric pressure, humidity and precipitations. and temperature °F  RealFeel °F Atmospheric Night   +46°    +46°    30.1    3.4 90% Day +59°    +59°    30  4.9 71% and temperature °F  RealFeel °F Atmospheric Night   +59°    +59°    29.7    13.6    93% Day +61°    +61°    29.7    12.5    83% Meteorological sensitivity index    3   Meteosensitive people are likely to experience weather-related symptoms. Geomagnetic conditions  2   Solar activity may affect some sensitive people. Night   +43°    +43°    30.1    2.7 93% Day +46°    +45°    30.2    3.8 78% Meteorological sensitivity index    1   Weather situation is generally favorable to meteosensitive people. Geomagnetic conditions  1   Weak solar activity may affect some highly sensitive people.', 'score': 0.80014634, 'raw_content': None}], 'response_time': 2.56}),\n",
       " AIMessage(content='The current weather in San Francisco is as follows:\\n\\n- **Temperature**: 8.8°C (47.9°F)\\n- **Condition**: Overcast\\n- **Humidity**: 97%\\n- **Wind**: 8.1 mph (13.0 kph) from the NNE\\n- **Pressure**: 1021 mb (30.16 in)\\n- **Visibility**: 10 km (6 miles)\\n\\nThe temperature feels like 6.2°C (43.2°F) due to wind chill. There has been no precipitation reported.\\n\\nFor more detailed forecasts, you can check [WeatherAPI](https://www.weatherapi.com/) or [World Weather](https://world-weather.info/forecast/usa/san_francisco/19-december/).', additional_kwargs={'refusal': None}, response_metadata={'token_usage': {'completion_tokens': 164, 'prompt_tokens': 812, 'total_tokens': 976, 'completion_tokens_details': {'accepted_prediction_tokens': 0, 'audio_tokens': 0, 'reasoning_tokens': 0, 'rejected_prediction_tokens': 0}, 'prompt_tokens_details': {'audio_tokens': 0, 'cached_tokens': 0}}, 'model_name': 'gpt-4o-mini-2024-07-18', 'system_fingerprint': 'fp_d02d531b47', 'finish_reason': 'stop', 'logprobs': None}, id='run-b30a2613-121c-468e-a002-7fe3235323dc-0', usage_metadata={'input_tokens': 812, 'output_tokens': 164, 'total_tokens': 976, 'input_token_details': {'audio': 0, 'cache_read': 0}, 'output_token_details': {'audio': 0, 'reasoning': 0}})]"
      ]
     },
     "execution_count": 32,
     "metadata": {},
     "output_type": "execute_result"
    }
   ],
   "source": [
    "response = agent_executor.invoke({\"messages\": [HumanMessage(content=\"whats the weather in sf?\")]})\n",
    "response[\"messages\"]"
   ]
  },
  {
   "cell_type": "markdown",
   "metadata": {},
   "source": [
    "#### D. Streaming"
   ]
  },
  {
   "cell_type": "code",
   "execution_count": 33,
   "metadata": {},
   "outputs": [
    {
     "name": "stdout",
     "output_type": "stream",
     "text": [
      "{'agent': {'messages': [AIMessage(content='', additional_kwargs={'tool_calls': [{'id': 'call_8QGhEPAyoQoi7OKoFViyefsO', 'function': {'arguments': '{\"query\":\"current weather San Francisco\"}', 'name': 'tavily_search_results_json'}, 'type': 'function'}], 'refusal': None}, response_metadata={'token_usage': {'completion_tokens': 22, 'prompt_tokens': 86, 'total_tokens': 108, 'completion_tokens_details': {'accepted_prediction_tokens': 0, 'audio_tokens': 0, 'reasoning_tokens': 0, 'rejected_prediction_tokens': 0}, 'prompt_tokens_details': {'audio_tokens': 0, 'cached_tokens': 0}}, 'model_name': 'gpt-4o-mini-2024-07-18', 'system_fingerprint': 'fp_d02d531b47', 'finish_reason': 'tool_calls', 'logprobs': None}, id='run-da85be64-8e7d-4100-9728-0d32998aca3a-0', tool_calls=[{'name': 'tavily_search_results_json', 'args': {'query': 'current weather San Francisco'}, 'id': 'call_8QGhEPAyoQoi7OKoFViyefsO', 'type': 'tool_call'}], usage_metadata={'input_tokens': 86, 'output_tokens': 22, 'total_tokens': 108, 'input_token_details': {'audio': 0, 'cache_read': 0}, 'output_token_details': {'audio': 0, 'reasoning': 0}})]}}\n",
      "----\n",
      "{'tools': {'messages': [ToolMessage(content='[{\"url\": \"https://www.weatherapi.com/\", \"content\": \"{\\'location\\': {\\'name\\': \\'San Francisco\\', \\'region\\': \\'California\\', \\'country\\': \\'United States of America\\', \\'lat\\': 37.775, \\'lon\\': -122.4183, \\'tz_id\\': \\'America/Los_Angeles\\', \\'localtime_epoch\\': 1734644608, \\'localtime\\': \\'2024-12-19 13:43\\'}, \\'current\\': {\\'last_updated_epoch\\': 1734643800, \\'last_updated\\': \\'2024-12-19 13:30\\', \\'temp_c\\': 8.8, \\'temp_f\\': 47.9, \\'is_day\\': 1, \\'condition\\': {\\'text\\': \\'Overcast\\', \\'icon\\': \\'//cdn.weatherapi.com/weather/64x64/day/122.png\\', \\'code\\': 1009}, \\'wind_mph\\': 8.1, \\'wind_kph\\': 13.0, \\'wind_degree\\': 31, \\'wind_dir\\': \\'NNE\\', \\'pressure_mb\\': 1021.0, \\'pressure_in\\': 30.16, \\'precip_mm\\': 0.0, \\'precip_in\\': 0.0, \\'humidity\\': 97, \\'cloud\\': 99, \\'feelslike_c\\': 6.2, \\'feelslike_f\\': 43.2, \\'windchill_c\\': 6.2, \\'windchill_f\\': 43.2, \\'heatindex_c\\': 8.8, \\'heatindex_f\\': 47.9, \\'dewpoint_c\\': 8.2, \\'dewpoint_f\\': 46.7, \\'vis_km\\': 10.0, \\'vis_miles\\': 6.0, \\'uv\\': 2.2, \\'gust_mph\\': 11.5, \\'gust_kph\\': 18.5}}\"}, {\"url\": \"https://www.timeanddate.com/weather/usa/san-francisco\", \"content\": \"Home \\xa0 Weather \\xa0 USA \\xa0 San Francisco Weather in San Francisco, California, USA Weather 58\\xa0°F Forecast: 60 / 47\\xa0°F Current Time:   Nov 18, 2024 at 11:27:22 am See more hour-by-hour weather Forecast for the next 48 hours Forecast                           ↑   WNW ↑   WNW * Updated Monday, November 18, 2024 5:02:53 am San Francisco time - Weather by CustomWeather, © 2024 59 / 46\\xa0°F More weather last week 59\\xa0°F 59\\xa0°F 57\\xa0°F More weather in USA 60 / 47\\xa0°F 58 / 43\\xa0°F 60 / 53\\xa0°F 64 / 57\\xa0°F 64 / 58\\xa0°F 60 / 47\\xa0°F 54 / 47\\xa0°F 53 / 47\\xa0°F Sun & Moon times precise to the second. Privacy Policy Weather\"}]', name='tavily_search_results_json', id='34f4115e-4c77-48c6-a3c9-a79936aa01f0', tool_call_id='call_8QGhEPAyoQoi7OKoFViyefsO', artifact={'query': 'current weather San Francisco', 'follow_up_questions': None, 'answer': None, 'images': [], 'results': [{'title': 'Weather in San Francisco', 'url': 'https://www.weatherapi.com/', 'content': \"{'location': {'name': 'San Francisco', 'region': 'California', 'country': 'United States of America', 'lat': 37.775, 'lon': -122.4183, 'tz_id': 'America/Los_Angeles', 'localtime_epoch': 1734644608, 'localtime': '2024-12-19 13:43'}, 'current': {'last_updated_epoch': 1734643800, 'last_updated': '2024-12-19 13:30', 'temp_c': 8.8, 'temp_f': 47.9, 'is_day': 1, 'condition': {'text': 'Overcast', 'icon': '//cdn.weatherapi.com/weather/64x64/day/122.png', 'code': 1009}, 'wind_mph': 8.1, 'wind_kph': 13.0, 'wind_degree': 31, 'wind_dir': 'NNE', 'pressure_mb': 1021.0, 'pressure_in': 30.16, 'precip_mm': 0.0, 'precip_in': 0.0, 'humidity': 97, 'cloud': 99, 'feelslike_c': 6.2, 'feelslike_f': 43.2, 'windchill_c': 6.2, 'windchill_f': 43.2, 'heatindex_c': 8.8, 'heatindex_f': 47.9, 'dewpoint_c': 8.2, 'dewpoint_f': 46.7, 'vis_km': 10.0, 'vis_miles': 6.0, 'uv': 2.2, 'gust_mph': 11.5, 'gust_kph': 18.5}}\", 'score': 0.7181051, 'raw_content': None}, {'title': 'Weather in San Francisco, California, USA - timeanddate.com', 'url': 'https://www.timeanddate.com/weather/usa/san-francisco', 'content': 'Home \\xa0 Weather \\xa0 USA \\xa0 San Francisco Weather in San Francisco, California, USA Weather 58\\xa0°F Forecast: 60 / 47\\xa0°F Current Time:   Nov 18, 2024 at 11:27:22 am See more hour-by-hour weather Forecast for the next 48 hours Forecast                           ↑   WNW ↑   WNW * Updated Monday, November 18, 2024 5:02:53 am San Francisco time - Weather by CustomWeather, © 2024 59 / 46\\xa0°F More weather last week 59\\xa0°F 59\\xa0°F 57\\xa0°F More weather in USA 60 / 47\\xa0°F 58 / 43\\xa0°F 60 / 53\\xa0°F 64 / 57\\xa0°F 64 / 58\\xa0°F 60 / 47\\xa0°F 54 / 47\\xa0°F 53 / 47\\xa0°F Sun & Moon times precise to the second. Privacy Policy Weather', 'score': 0.32566044, 'raw_content': None}], 'response_time': 2.44})]}}\n",
      "----\n",
      "{'agent': {'messages': [AIMessage(content='The current weather in San Francisco is as follows:\\n\\n- **Temperature**: 58°F (about 14°C)\\n- **Condition**: Overcast\\n- **Wind**: 8.1 mph (NNE)\\n- **Humidity**: 97%\\n- **Visibility**: 6.0 miles\\n\\nThe forecast for today shows a high of 60°F and a low of 47°F. \\n\\nFor more details, you can check the full report [here](https://www.weatherapi.com/) or [here](https://www.timeanddate.com/weather/usa/san-francisco).', additional_kwargs={'refusal': None}, response_metadata={'token_usage': {'completion_tokens': 127, 'prompt_tokens': 748, 'total_tokens': 875, 'completion_tokens_details': {'accepted_prediction_tokens': 0, 'audio_tokens': 0, 'reasoning_tokens': 0, 'rejected_prediction_tokens': 0}, 'prompt_tokens_details': {'audio_tokens': 0, 'cached_tokens': 0}}, 'model_name': 'gpt-4o-mini-2024-07-18', 'system_fingerprint': 'fp_d02d531b47', 'finish_reason': 'stop', 'logprobs': None}, id='run-38dde6ca-c73f-410b-8d1b-3a9d7e355f3e-0', usage_metadata={'input_tokens': 748, 'output_tokens': 127, 'total_tokens': 875, 'input_token_details': {'audio': 0, 'cache_read': 0}, 'output_token_details': {'audio': 0, 'reasoning': 0}})]}}\n",
      "----\n"
     ]
    }
   ],
   "source": [
    "for chunk in agent_executor.stream(\n",
    "    {\"messages\": [HumanMessage(content=\"whats the weather in sf?\")]}\n",
    "):\n",
    "    print(chunk)\n",
    "    print(\"----\")"
   ]
  },
  {
   "cell_type": "code",
   "execution_count": 34,
   "metadata": {},
   "outputs": [
    {
     "name": "stdout",
     "output_type": "stream",
     "text": [
      "--\n",
      "Starting tool: tavily_search_results_json with inputs: {'query': 'current weather in San Francisco'}\n",
      "Done tool: tavily_search_results_json\n",
      "Tool output was: content='[{\"url\": \"https://www.weatherapi.com/\", \"content\": \"{\\'location\\': {\\'name\\': \\'San Francisco\\', \\'region\\': \\'California\\', \\'country\\': \\'United States of America\\', \\'lat\\': 37.775, \\'lon\\': -122.4183, \\'tz_id\\': \\'America/Los_Angeles\\', \\'localtime_epoch\\': 1734644608, \\'localtime\\': \\'2024-12-19 13:43\\'}, \\'current\\': {\\'last_updated_epoch\\': 1734643800, \\'last_updated\\': \\'2024-12-19 13:30\\', \\'temp_c\\': 8.8, \\'temp_f\\': 47.9, \\'is_day\\': 1, \\'condition\\': {\\'text\\': \\'Overcast\\', \\'icon\\': \\'//cdn.weatherapi.com/weather/64x64/day/122.png\\', \\'code\\': 1009}, \\'wind_mph\\': 8.1, \\'wind_kph\\': 13.0, \\'wind_degree\\': 31, \\'wind_dir\\': \\'NNE\\', \\'pressure_mb\\': 1021.0, \\'pressure_in\\': 30.16, \\'precip_mm\\': 0.0, \\'precip_in\\': 0.0, \\'humidity\\': 97, \\'cloud\\': 99, \\'feelslike_c\\': 6.2, \\'feelslike_f\\': 43.2, \\'windchill_c\\': 6.2, \\'windchill_f\\': 43.2, \\'heatindex_c\\': 8.8, \\'heatindex_f\\': 47.9, \\'dewpoint_c\\': 8.2, \\'dewpoint_f\\': 46.7, \\'vis_km\\': 10.0, \\'vis_miles\\': 6.0, \\'uv\\': 2.2, \\'gust_mph\\': 11.5, \\'gust_kph\\': 18.5}}\"}, {\"url\": \"https://www.msn.com/en-us/weather/topstories/december-19-2024-san-francisco-bay-area-weather-forecast/vi-AA1waa2B\", \"content\": \"December 19, 2024 San Francisco Bay Area weather forecast. Posted: December 19, 2024 | Last updated: December 19, 2024\"}]' name='tavily_search_results_json' tool_call_id='call_5DTb95e40589ud53Vza2CTAr' artifact={'query': 'current weather in San Francisco', 'follow_up_questions': None, 'answer': None, 'images': [], 'results': [{'title': 'Weather in San Francisco', 'url': 'https://www.weatherapi.com/', 'content': \"{'location': {'name': 'San Francisco', 'region': 'California', 'country': 'United States of America', 'lat': 37.775, 'lon': -122.4183, 'tz_id': 'America/Los_Angeles', 'localtime_epoch': 1734644608, 'localtime': '2024-12-19 13:43'}, 'current': {'last_updated_epoch': 1734643800, 'last_updated': '2024-12-19 13:30', 'temp_c': 8.8, 'temp_f': 47.9, 'is_day': 1, 'condition': {'text': 'Overcast', 'icon': '//cdn.weatherapi.com/weather/64x64/day/122.png', 'code': 1009}, 'wind_mph': 8.1, 'wind_kph': 13.0, 'wind_degree': 31, 'wind_dir': 'NNE', 'pressure_mb': 1021.0, 'pressure_in': 30.16, 'precip_mm': 0.0, 'precip_in': 0.0, 'humidity': 97, 'cloud': 99, 'feelslike_c': 6.2, 'feelslike_f': 43.2, 'windchill_c': 6.2, 'windchill_f': 43.2, 'heatindex_c': 8.8, 'heatindex_f': 47.9, 'dewpoint_c': 8.2, 'dewpoint_f': 46.7, 'vis_km': 10.0, 'vis_miles': 6.0, 'uv': 2.2, 'gust_mph': 11.5, 'gust_kph': 18.5}}\", 'score': 0.7882787, 'raw_content': None}, {'title': 'December 19, 2024 San Francisco Bay Area weather forecast - MSN', 'url': 'https://www.msn.com/en-us/weather/topstories/december-19-2024-san-francisco-bay-area-weather-forecast/vi-AA1waa2B', 'content': 'December 19, 2024 San Francisco Bay Area weather forecast. Posted: December 19, 2024 | Last updated: December 19, 2024', 'score': 0.7803451, 'raw_content': None}], 'response_time': 2.91}\n",
      "--\n",
      "The| current| weather| in| San| Francisco| is| as| follows|:\n",
      "\n",
      "|-| **|Temperature|**|:| |8|.|8|°C| (|47|.|9|°F|)\n",
      "|-| **|Condition|**|:| Over|cast|\n",
      "|-| **|Wind|**|:| |8|.|1| mph| (|13|.|0| k|ph|)| from| the| N|NE|\n",
      "|-| **|Humidity|**|:| |97|%\n",
      "|-| **|Visibility|**|:| |10| km| (|6| miles|)\n",
      "\n",
      "|For| more| details|,| you| can| check| the| full| report| [|here|](|https|://|www|.weather|api|.com|/|).|"
     ]
    }
   ],
   "source": [
    "async for event in agent_executor.astream_events(\n",
    "    {\"messages\": [HumanMessage(content=\"whats the weather in sf?\")]}, version=\"v1\"\n",
    "):\n",
    "    kind = event[\"event\"]\n",
    "    if kind == \"on_chain_start\":\n",
    "        if (\n",
    "            event[\"name\"] == \"Agent\"\n",
    "        ):  # Was assigned when creating the agent with `.with_config({\"run_name\": \"Agent\"})`\n",
    "            print(\n",
    "                f\"Starting agent: {event['name']} with input: {event['data'].get('input')}\"\n",
    "            )\n",
    "    elif kind == \"on_chain_end\":\n",
    "        if (\n",
    "            event[\"name\"] == \"Agent\"\n",
    "        ):  # Was assigned when creating the agent with `.with_config({\"run_name\": \"Agent\"})`\n",
    "            print()\n",
    "            print(\"--\")\n",
    "            print(\n",
    "                f\"Done agent: {event['name']} with output: {event['data'].get('output')['output']}\"\n",
    "            )\n",
    "    if kind == \"on_chat_model_stream\":\n",
    "        content = event[\"data\"][\"chunk\"].content\n",
    "        if content:\n",
    "            # Empty content in the context of OpenAI means\n",
    "            # that the model is asking for a tool to be invoked.\n",
    "            # So we only print non-empty content\n",
    "            print(content, end=\"|\")\n",
    "    elif kind == \"on_tool_start\":\n",
    "        print(\"--\")\n",
    "        print(\n",
    "            f\"Starting tool: {event['name']} with inputs: {event['data'].get('input')}\"\n",
    "        )\n",
    "    elif kind == \"on_tool_end\":\n",
    "        print(f\"Done tool: {event['name']}\")\n",
    "        print(f\"Tool output was: {event['data'].get('output')}\")\n",
    "        print(\"--\")"
   ]
  },
  {
   "cell_type": "markdown",
   "metadata": {},
   "source": [
    "#### E. Memoria"
   ]
  },
  {
   "cell_type": "code",
   "execution_count": 35,
   "metadata": {},
   "outputs": [],
   "source": [
    "from langgraph.checkpoint.memory import MemorySaver\n",
    "\n",
    "memory = MemorySaver()"
   ]
  },
  {
   "cell_type": "code",
   "execution_count": 36,
   "metadata": {},
   "outputs": [],
   "source": [
    "agent_executor = create_react_agent(model, tools, checkpointer=memory)\n",
    "\n",
    "config = {\"configurable\": {\"thread_id\": \"abc123\"}}"
   ]
  },
  {
   "cell_type": "code",
   "execution_count": 37,
   "metadata": {},
   "outputs": [
    {
     "name": "stdout",
     "output_type": "stream",
     "text": [
      "{'agent': {'messages': [AIMessage(content='Hello Bob! How can I assist you today?', additional_kwargs={'refusal': None}, response_metadata={'token_usage': {'completion_tokens': 12, 'prompt_tokens': 83, 'total_tokens': 95, 'completion_tokens_details': {'accepted_prediction_tokens': 0, 'audio_tokens': 0, 'reasoning_tokens': 0, 'rejected_prediction_tokens': 0}, 'prompt_tokens_details': {'audio_tokens': 0, 'cached_tokens': 0}}, 'model_name': 'gpt-4o-mini-2024-07-18', 'system_fingerprint': 'fp_39a40c96a0', 'finish_reason': 'stop', 'logprobs': None}, id='run-f522c340-df84-401f-bf18-7ef6ea2ce8a1-0', usage_metadata={'input_tokens': 83, 'output_tokens': 12, 'total_tokens': 95, 'input_token_details': {'audio': 0, 'cache_read': 0}, 'output_token_details': {'audio': 0, 'reasoning': 0}})]}}\n",
      "----\n"
     ]
    }
   ],
   "source": [
    "for chunk in agent_executor.stream(\n",
    "    {\"messages\": [HumanMessage(content=\"hi im bob!\")]}, config\n",
    "):\n",
    "    print(chunk)\n",
    "    print(\"----\")"
   ]
  },
  {
   "cell_type": "code",
   "execution_count": 38,
   "metadata": {},
   "outputs": [
    {
     "name": "stdout",
     "output_type": "stream",
     "text": [
      "{'agent': {'messages': [AIMessage(content='Your name is Bob! How can I help you today?', additional_kwargs={'refusal': None}, response_metadata={'token_usage': {'completion_tokens': 14, 'prompt_tokens': 106, 'total_tokens': 120, 'completion_tokens_details': {'accepted_prediction_tokens': 0, 'audio_tokens': 0, 'reasoning_tokens': 0, 'rejected_prediction_tokens': 0}, 'prompt_tokens_details': {'audio_tokens': 0, 'cached_tokens': 0}}, 'model_name': 'gpt-4o-mini-2024-07-18', 'system_fingerprint': 'fp_39a40c96a0', 'finish_reason': 'stop', 'logprobs': None}, id='run-5b4040e4-6334-486b-ba9d-1220e18a665b-0', usage_metadata={'input_tokens': 106, 'output_tokens': 14, 'total_tokens': 120, 'input_token_details': {'audio': 0, 'cache_read': 0}, 'output_token_details': {'audio': 0, 'reasoning': 0}})]}}\n",
      "----\n"
     ]
    }
   ],
   "source": [
    "for chunk in agent_executor.stream(\n",
    "    {\"messages\": [HumanMessage(content=\"whats my name?\")]}, config\n",
    "):\n",
    "    print(chunk)\n",
    "    print(\"----\")"
   ]
  },
  {
   "cell_type": "code",
   "execution_count": 39,
   "metadata": {},
   "outputs": [
    {
     "name": "stdout",
     "output_type": "stream",
     "text": [
      "{'agent': {'messages': [AIMessage(content=\"I don't have access to personal data about individuals unless it has been shared during our conversation. Therefore, I don't know your name. If you'd like to tell me, feel free!\", additional_kwargs={'refusal': None}, response_metadata={'token_usage': {'completion_tokens': 38, 'prompt_tokens': 84, 'total_tokens': 122, 'completion_tokens_details': {'accepted_prediction_tokens': 0, 'audio_tokens': 0, 'reasoning_tokens': 0, 'rejected_prediction_tokens': 0}, 'prompt_tokens_details': {'audio_tokens': 0, 'cached_tokens': 0}}, 'model_name': 'gpt-4o-mini-2024-07-18', 'system_fingerprint': 'fp_0aa8d3e20b', 'finish_reason': 'stop', 'logprobs': None}, id='run-bc16ef6d-b457-4a66-a6db-76512ff56176-0', usage_metadata={'input_tokens': 84, 'output_tokens': 38, 'total_tokens': 122, 'input_token_details': {'audio': 0, 'cache_read': 0}, 'output_token_details': {'audio': 0, 'reasoning': 0}})]}}\n",
      "----\n"
     ]
    }
   ],
   "source": [
    "config = {\"configurable\": {\"thread_id\": \"xyz123\"}}\n",
    "for chunk in agent_executor.stream(\n",
    "    {\"messages\": [HumanMessage(content=\"whats my name?\")]}, config\n",
    "):\n",
    "    print(chunk)\n",
    "    print(\"----\")"
   ]
  },
  {
   "cell_type": "code",
   "execution_count": null,
   "metadata": {},
   "outputs": [],
   "source": []
  }
 ],
 "metadata": {
  "kernelspec": {
   "display_name": "venv_langchain_px",
   "language": "python",
   "name": "python3"
  },
  "language_info": {
   "codemirror_mode": {
    "name": "ipython",
    "version": 3
   },
   "file_extension": ".py",
   "mimetype": "text/x-python",
   "name": "python",
   "nbconvert_exporter": "python",
   "pygments_lexer": "ipython3",
   "version": "3.10.16"
  }
 },
 "nbformat": 4,
 "nbformat_minor": 2
}
