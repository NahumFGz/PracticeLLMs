{
 "cells": [
  {
   "cell_type": "markdown",
   "metadata": {},
   "source": [
    "### [How to stream chat model responses](https://python.langchain.com/docs/how_to/chat_streaming/)"
   ]
  },
  {
   "cell_type": "code",
   "execution_count": 1,
   "metadata": {},
   "outputs": [],
   "source": [
    "import getpass\n",
    "import os\n",
    "\n",
    "if \"LANGCHAIN_API_KEY\" not in os.environ:\n",
    "    os.environ[\"LANGCHAIN_TRACING_V2\"] = \"true\"\n",
    "    os.environ[\"LANGCHAIN_API_KEY\"] = getpass.getpass()"
   ]
  },
  {
   "cell_type": "code",
   "execution_count": 2,
   "metadata": {},
   "outputs": [],
   "source": [
    "if not os.environ.get(\"OPENAI_API_KEY\"):\n",
    "    os.environ[\"OPENAI_API_KEY\"] = getpass.getpass()"
   ]
  },
  {
   "cell_type": "markdown",
   "metadata": {},
   "source": [
    "#### A. Sync streaming"
   ]
  },
  {
   "cell_type": "code",
   "execution_count": 4,
   "metadata": {},
   "outputs": [
    {
     "name": "stdout",
     "output_type": "stream",
     "text": [
      "|(|Verse|)|  \n",
      "|Swimming| through| the| st|arl|it| skies|,|  \n",
      "|Gold|fish| dance| where| the| silence| lies|,|  \n",
      "|With| shimmering| scales| and| dreams| so| bright|,|  \n",
      "|They| glide| on| moon|be|ams|,| a| cosmic| flight|.|  \n",
      "|In| a| bowl| of| dreams|,| they| tw|irl| and| sway|,|  \n",
      "|On| the| lunar| waves|,| they| play| all| day|,|  \n",
      "|B|ubbles| rise| like| wishes| in| the| night|,|  \n",
      "|Gold|fish| on| the| moon|,| a| whimsical| sight|.|  ||"
     ]
    }
   ],
   "source": [
    "from langchain_openai import ChatOpenAI\n",
    "\n",
    "chat = ChatOpenAI(model=\"gpt-4o-mini\")\n",
    "for chunk in chat.stream(\"Write me a 1 verse song about goldfish on the moon\"):\n",
    "    print(chunk.content, end=\"|\", flush=True)"
   ]
  },
  {
   "cell_type": "markdown",
   "metadata": {},
   "source": [
    "#### B. Async Streaming"
   ]
  },
  {
   "cell_type": "code",
   "execution_count": 5,
   "metadata": {},
   "outputs": [
    {
     "name": "stdout",
     "output_type": "stream",
     "text": [
      "|(|Verse|)|  \n",
      "|Swimming| in| the| st|arl|it| sea|,| where| the| silver| shadows| play|,|  \n",
      "|Gold|fish| glide| through| lunar| tides|,| in| a| cosmic| ballet|,|  \n",
      "|With| their| shimmering| scales| ag|low|,| like| dreams| that| drift| and| roam|,|  \n",
      "|In| the| weight|less|,| silent| night|,| they|’ve| found| their| tranquil| home|.|  ||"
     ]
    }
   ],
   "source": [
    "from langchain_openai import ChatOpenAI\n",
    "\n",
    "chat = ChatOpenAI(model=\"gpt-4o-mini\")\n",
    "async for chunk in chat.astream(\"Write me a 1 verse song about goldfish on the moon\"):\n",
    "    print(chunk.content, end=\"|\", flush=True)"
   ]
  },
  {
   "cell_type": "markdown",
   "metadata": {},
   "source": [
    "#### C. Astream events"
   ]
  },
  {
   "cell_type": "code",
   "execution_count": 7,
   "metadata": {},
   "outputs": [
    {
     "name": "stdout",
     "output_type": "stream",
     "text": [
      "{'event': 'on_chat_model_start', 'run_id': 'b3bb0a4c-2849-4314-a8c4-c7281a531fb6', 'name': 'ChatOpenAI', 'tags': [], 'metadata': {}, 'data': {'input': 'Write me a 1 verse song about goldfish on the moon'}, 'parent_ids': []}\n",
      "{'event': 'on_chat_model_stream', 'run_id': 'b3bb0a4c-2849-4314-a8c4-c7281a531fb6', 'tags': [], 'metadata': {}, 'name': 'ChatOpenAI', 'data': {'chunk': AIMessageChunk(content='', additional_kwargs={}, response_metadata={}, id='run-b3bb0a4c-2849-4314-a8c4-c7281a531fb6')}, 'parent_ids': []}\n",
      "{'event': 'on_chat_model_stream', 'run_id': 'b3bb0a4c-2849-4314-a8c4-c7281a531fb6', 'tags': [], 'metadata': {}, 'name': 'ChatOpenAI', 'data': {'chunk': AIMessageChunk(content='(', additional_kwargs={}, response_metadata={}, id='run-b3bb0a4c-2849-4314-a8c4-c7281a531fb6')}, 'parent_ids': []}\n",
      "{'event': 'on_chat_model_stream', 'run_id': 'b3bb0a4c-2849-4314-a8c4-c7281a531fb6', 'tags': [], 'metadata': {}, 'name': 'ChatOpenAI', 'data': {'chunk': AIMessageChunk(content='Verse', additional_kwargs={}, response_metadata={}, id='run-b3bb0a4c-2849-4314-a8c4-c7281a531fb6')}, 'parent_ids': []}\n",
      "...Truncated\n"
     ]
    }
   ],
   "source": [
    "from langchain_openai import ChatOpenAI\n",
    "\n",
    "chat = ChatOpenAI(model=\"gpt-4o-mini\")\n",
    "idx = 0\n",
    "\n",
    "async for event in chat.astream_events(\n",
    "    \"Write me a 1 verse song about goldfish on the moon\", version=\"v1\"\n",
    "):\n",
    "    idx += 1\n",
    "    if idx >= 5:  # Truncate the output\n",
    "        print(\"...Truncated\")\n",
    "        break\n",
    "    print(event)"
   ]
  },
  {
   "cell_type": "code",
   "execution_count": null,
   "metadata": {},
   "outputs": [],
   "source": []
  }
 ],
 "metadata": {
  "kernelspec": {
   "display_name": "venv_langchain_px",
   "language": "python",
   "name": "python3"
  },
  "language_info": {
   "codemirror_mode": {
    "name": "ipython",
    "version": 3
   },
   "file_extension": ".py",
   "mimetype": "text/x-python",
   "name": "python",
   "nbconvert_exporter": "python",
   "pygments_lexer": "ipython3",
   "version": "3.10.16"
  }
 },
 "nbformat": 4,
 "nbformat_minor": 2
}
