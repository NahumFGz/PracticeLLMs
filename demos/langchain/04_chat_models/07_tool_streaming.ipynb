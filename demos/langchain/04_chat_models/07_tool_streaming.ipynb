{
 "cells": [
  {
   "cell_type": "markdown",
   "metadata": {},
   "source": [
    "### [How to stream tool calls](https://python.langchain.com/docs/how_to/tool_streaming/)"
   ]
  },
  {
   "cell_type": "code",
   "execution_count": 1,
   "metadata": {},
   "outputs": [],
   "source": [
    "import getpass\n",
    "import os\n",
    "\n",
    "if \"LANGCHAIN_API_KEY\" not in os.environ:\n",
    "    os.environ[\"LANGCHAIN_TRACING_V2\"] = \"true\"\n",
    "    os.environ[\"LANGCHAIN_API_KEY\"] = getpass.getpass()"
   ]
  },
  {
   "cell_type": "code",
   "execution_count": 2,
   "metadata": {},
   "outputs": [],
   "source": [
    "if not os.environ.get(\"OPENAI_API_KEY\"):\n",
    "    os.environ[\"OPENAI_API_KEY\"] = getpass.getpass()"
   ]
  },
  {
   "cell_type": "markdown",
   "metadata": {},
   "source": [
    "#### A. Model"
   ]
  },
  {
   "cell_type": "code",
   "execution_count": 2,
   "metadata": {},
   "outputs": [],
   "source": [
    "from langchain_core.tools import tool\n",
    "from langchain_openai import ChatOpenAI\n",
    "\n",
    "\n",
    "@tool\n",
    "def add(a: int, b: int) -> int:\n",
    "    \"\"\"Adds a and b.\"\"\"\n",
    "    return a + b\n",
    "\n",
    "\n",
    "@tool\n",
    "def multiply(a: int, b: int) -> int:\n",
    "    \"\"\"Multiplies a and b.\"\"\"\n",
    "    return a * b\n",
    "\n",
    "\n",
    "tools = [add, multiply]"
   ]
  },
  {
   "cell_type": "code",
   "execution_count": 3,
   "metadata": {},
   "outputs": [],
   "source": [
    "llm = ChatOpenAI(model=\"gpt-4o-mini\", temperature=0)\n",
    "llm_with_tools = llm.bind_tools(tools)"
   ]
  },
  {
   "cell_type": "code",
   "execution_count": 4,
   "metadata": {},
   "outputs": [
    {
     "name": "stdout",
     "output_type": "stream",
     "text": [
      "[]\n",
      "[{'name': 'multiply', 'args': '', 'id': 'call_GGiL6SYnIAsBo0wxV7GvdQtb', 'index': 0, 'type': 'tool_call_chunk'}]\n",
      "[{'name': None, 'args': '{\"a\"', 'id': None, 'index': 0, 'type': 'tool_call_chunk'}]\n",
      "[{'name': None, 'args': ': 3, ', 'id': None, 'index': 0, 'type': 'tool_call_chunk'}]\n",
      "[{'name': None, 'args': '\"b\": 1', 'id': None, 'index': 0, 'type': 'tool_call_chunk'}]\n",
      "[{'name': None, 'args': '2}', 'id': None, 'index': 0, 'type': 'tool_call_chunk'}]\n",
      "[{'name': 'add', 'args': '', 'id': 'call_cAdl1lOvsAWWUv1gZNRfJUq3', 'index': 1, 'type': 'tool_call_chunk'}]\n",
      "[{'name': None, 'args': '{\"a\"', 'id': None, 'index': 1, 'type': 'tool_call_chunk'}]\n",
      "[{'name': None, 'args': ': 11,', 'id': None, 'index': 1, 'type': 'tool_call_chunk'}]\n",
      "[{'name': None, 'args': ' \"b\": ', 'id': None, 'index': 1, 'type': 'tool_call_chunk'}]\n",
      "[{'name': None, 'args': '49}', 'id': None, 'index': 1, 'type': 'tool_call_chunk'}]\n",
      "[]\n"
     ]
    }
   ],
   "source": [
    "query = \"What is 3 * 12? Also, what is 11 + 49?\"\n",
    "\n",
    "async for chunk in llm_with_tools.astream(query):\n",
    "    print(chunk.tool_call_chunks)"
   ]
  },
  {
   "cell_type": "code",
   "execution_count": 5,
   "metadata": {},
   "outputs": [
    {
     "name": "stdout",
     "output_type": "stream",
     "text": [
      "[]\n",
      "[{'name': 'multiply', 'args': '', 'id': 'call_BfZqQkIoEQxJlOB3gb2yz4Lv', 'index': 0, 'type': 'tool_call_chunk'}]\n",
      "[{'name': 'multiply', 'args': '{\"a\"', 'id': 'call_BfZqQkIoEQxJlOB3gb2yz4Lv', 'index': 0, 'type': 'tool_call_chunk'}]\n",
      "[{'name': 'multiply', 'args': '{\"a\": 3, ', 'id': 'call_BfZqQkIoEQxJlOB3gb2yz4Lv', 'index': 0, 'type': 'tool_call_chunk'}]\n",
      "[{'name': 'multiply', 'args': '{\"a\": 3, \"b\": 1', 'id': 'call_BfZqQkIoEQxJlOB3gb2yz4Lv', 'index': 0, 'type': 'tool_call_chunk'}]\n",
      "[{'name': 'multiply', 'args': '{\"a\": 3, \"b\": 12}', 'id': 'call_BfZqQkIoEQxJlOB3gb2yz4Lv', 'index': 0, 'type': 'tool_call_chunk'}]\n",
      "[{'name': 'multiply', 'args': '{\"a\": 3, \"b\": 12}', 'id': 'call_BfZqQkIoEQxJlOB3gb2yz4Lv', 'index': 0, 'type': 'tool_call_chunk'}, {'name': 'add', 'args': '', 'id': 'call_8YDI3Oyk9Y0ccwsZr8vvTWNn', 'index': 1, 'type': 'tool_call_chunk'}]\n",
      "[{'name': 'multiply', 'args': '{\"a\": 3, \"b\": 12}', 'id': 'call_BfZqQkIoEQxJlOB3gb2yz4Lv', 'index': 0, 'type': 'tool_call_chunk'}, {'name': 'add', 'args': '{\"a\"', 'id': 'call_8YDI3Oyk9Y0ccwsZr8vvTWNn', 'index': 1, 'type': 'tool_call_chunk'}]\n",
      "[{'name': 'multiply', 'args': '{\"a\": 3, \"b\": 12}', 'id': 'call_BfZqQkIoEQxJlOB3gb2yz4Lv', 'index': 0, 'type': 'tool_call_chunk'}, {'name': 'add', 'args': '{\"a\": 11,', 'id': 'call_8YDI3Oyk9Y0ccwsZr8vvTWNn', 'index': 1, 'type': 'tool_call_chunk'}]\n",
      "[{'name': 'multiply', 'args': '{\"a\": 3, \"b\": 12}', 'id': 'call_BfZqQkIoEQxJlOB3gb2yz4Lv', 'index': 0, 'type': 'tool_call_chunk'}, {'name': 'add', 'args': '{\"a\": 11, \"b\": ', 'id': 'call_8YDI3Oyk9Y0ccwsZr8vvTWNn', 'index': 1, 'type': 'tool_call_chunk'}]\n",
      "[{'name': 'multiply', 'args': '{\"a\": 3, \"b\": 12}', 'id': 'call_BfZqQkIoEQxJlOB3gb2yz4Lv', 'index': 0, 'type': 'tool_call_chunk'}, {'name': 'add', 'args': '{\"a\": 11, \"b\": 49}', 'id': 'call_8YDI3Oyk9Y0ccwsZr8vvTWNn', 'index': 1, 'type': 'tool_call_chunk'}]\n",
      "[{'name': 'multiply', 'args': '{\"a\": 3, \"b\": 12}', 'id': 'call_BfZqQkIoEQxJlOB3gb2yz4Lv', 'index': 0, 'type': 'tool_call_chunk'}, {'name': 'add', 'args': '{\"a\": 11, \"b\": 49}', 'id': 'call_8YDI3Oyk9Y0ccwsZr8vvTWNn', 'index': 1, 'type': 'tool_call_chunk'}]\n"
     ]
    }
   ],
   "source": [
    "first = True\n",
    "async for chunk in llm_with_tools.astream(query):\n",
    "    if first:\n",
    "        gathered = chunk\n",
    "        first = False\n",
    "    else:\n",
    "        gathered = gathered + chunk\n",
    "\n",
    "    print(gathered.tool_call_chunks)"
   ]
  },
  {
   "cell_type": "code",
   "execution_count": 6,
   "metadata": {},
   "outputs": [
    {
     "name": "stdout",
     "output_type": "stream",
     "text": [
      "<class 'str'>\n"
     ]
    }
   ],
   "source": [
    "print(type(gathered.tool_call_chunks[0][\"args\"]))"
   ]
  },
  {
   "cell_type": "code",
   "execution_count": 7,
   "metadata": {},
   "outputs": [
    {
     "name": "stdout",
     "output_type": "stream",
     "text": [
      "[]\n",
      "[{'name': 'multiply', 'args': {}, 'id': 'call_qd1d3a2AOc1A6AqDJyEHfo3P', 'type': 'tool_call'}]\n",
      "[{'name': 'multiply', 'args': {}, 'id': 'call_qd1d3a2AOc1A6AqDJyEHfo3P', 'type': 'tool_call'}]\n",
      "[{'name': 'multiply', 'args': {'a': 3}, 'id': 'call_qd1d3a2AOc1A6AqDJyEHfo3P', 'type': 'tool_call'}]\n",
      "[{'name': 'multiply', 'args': {'a': 3, 'b': 1}, 'id': 'call_qd1d3a2AOc1A6AqDJyEHfo3P', 'type': 'tool_call'}]\n",
      "[{'name': 'multiply', 'args': {'a': 3, 'b': 12}, 'id': 'call_qd1d3a2AOc1A6AqDJyEHfo3P', 'type': 'tool_call'}]\n",
      "[{'name': 'multiply', 'args': {'a': 3, 'b': 12}, 'id': 'call_qd1d3a2AOc1A6AqDJyEHfo3P', 'type': 'tool_call'}, {'name': 'add', 'args': {}, 'id': 'call_bNvqeLfo9pf90BZwvGAGG5jl', 'type': 'tool_call'}]\n",
      "[{'name': 'multiply', 'args': {'a': 3, 'b': 12}, 'id': 'call_qd1d3a2AOc1A6AqDJyEHfo3P', 'type': 'tool_call'}, {'name': 'add', 'args': {}, 'id': 'call_bNvqeLfo9pf90BZwvGAGG5jl', 'type': 'tool_call'}]\n",
      "[{'name': 'multiply', 'args': {'a': 3, 'b': 12}, 'id': 'call_qd1d3a2AOc1A6AqDJyEHfo3P', 'type': 'tool_call'}, {'name': 'add', 'args': {'a': 11}, 'id': 'call_bNvqeLfo9pf90BZwvGAGG5jl', 'type': 'tool_call'}]\n",
      "[{'name': 'multiply', 'args': {'a': 3, 'b': 12}, 'id': 'call_qd1d3a2AOc1A6AqDJyEHfo3P', 'type': 'tool_call'}, {'name': 'add', 'args': {'a': 11}, 'id': 'call_bNvqeLfo9pf90BZwvGAGG5jl', 'type': 'tool_call'}]\n",
      "[{'name': 'multiply', 'args': {'a': 3, 'b': 12}, 'id': 'call_qd1d3a2AOc1A6AqDJyEHfo3P', 'type': 'tool_call'}, {'name': 'add', 'args': {'a': 11, 'b': 49}, 'id': 'call_bNvqeLfo9pf90BZwvGAGG5jl', 'type': 'tool_call'}]\n",
      "[{'name': 'multiply', 'args': {'a': 3, 'b': 12}, 'id': 'call_qd1d3a2AOc1A6AqDJyEHfo3P', 'type': 'tool_call'}, {'name': 'add', 'args': {'a': 11, 'b': 49}, 'id': 'call_bNvqeLfo9pf90BZwvGAGG5jl', 'type': 'tool_call'}]\n"
     ]
    }
   ],
   "source": [
    "first = True\n",
    "async for chunk in llm_with_tools.astream(query):\n",
    "    if first:\n",
    "        gathered = chunk\n",
    "        first = False\n",
    "    else:\n",
    "        gathered = gathered + chunk\n",
    "\n",
    "    print(gathered.tool_calls)"
   ]
  },
  {
   "cell_type": "code",
   "execution_count": 8,
   "metadata": {},
   "outputs": [
    {
     "name": "stdout",
     "output_type": "stream",
     "text": [
      "<class 'dict'>\n"
     ]
    }
   ],
   "source": [
    "print(type(gathered.tool_calls[0][\"args\"]))"
   ]
  },
  {
   "cell_type": "code",
   "execution_count": null,
   "metadata": {},
   "outputs": [],
   "source": []
  }
 ],
 "metadata": {
  "kernelspec": {
   "display_name": "venv_langchain_px",
   "language": "python",
   "name": "python3"
  },
  "language_info": {
   "codemirror_mode": {
    "name": "ipython",
    "version": 3
   },
   "file_extension": ".py",
   "mimetype": "text/x-python",
   "name": "python",
   "nbconvert_exporter": "python",
   "pygments_lexer": "ipython3",
   "version": "3.10.16"
  }
 },
 "nbformat": 4,
 "nbformat_minor": 2
}
