{
 "cells": [
  {
   "cell_type": "code",
   "execution_count": 1,
   "metadata": {},
   "outputs": [],
   "source": [
    "import getpass\n",
    "import os\n",
    "\n",
    "if \"LANGCHAIN_API_KEY\" not in os.environ:\n",
    "    os.environ[\"LANGCHAIN_TRACING_V2\"] = \"true\"\n",
    "    os.environ[\"LANGCHAIN_API_KEY\"] = getpass.getpass()"
   ]
  },
  {
   "cell_type": "code",
   "execution_count": 2,
   "metadata": {},
   "outputs": [],
   "source": [
    "if not os.environ.get(\"OPENAI_API_KEY\"):\n",
    "    os.environ[\"OPENAI_API_KEY\"] = getpass.getpass()"
   ]
  },
  {
   "cell_type": "markdown",
   "metadata": {},
   "source": [
    "#### A. Demo end-to-end de un agente"
   ]
  },
  {
   "cell_type": "code",
   "execution_count": 2,
   "metadata": {},
   "outputs": [
    {
     "name": "stdout",
     "output_type": "stream",
     "text": [
      "{'agent': {'messages': [AIMessage(content=\"Hi Bob! It's great to meet you. How's life in San Francisco?\", additional_kwargs={'refusal': None}, response_metadata={'token_usage': {'completion_tokens': 18, 'prompt_tokens': 88, 'total_tokens': 106, 'completion_tokens_details': {'accepted_prediction_tokens': 0, 'audio_tokens': 0, 'reasoning_tokens': 0, 'rejected_prediction_tokens': 0}, 'prompt_tokens_details': {'audio_tokens': 0, 'cached_tokens': 0}}, 'model_name': 'gpt-4o-mini-2024-07-18', 'system_fingerprint': 'fp_d02d531b47', 'finish_reason': 'stop', 'logprobs': None}, id='run-597063a4-55f2-4d84-a1e3-d4476e619dd8-0', usage_metadata={'input_tokens': 88, 'output_tokens': 18, 'total_tokens': 106, 'input_token_details': {'audio': 0, 'cache_read': 0}, 'output_token_details': {'audio': 0, 'reasoning': 0}})]}}\n",
      "----\n",
      "------------\n",
      "{'agent': {'messages': [AIMessage(content='', additional_kwargs={'tool_calls': [{'id': 'call_ovA7inUMwKySx8FfewRBjImL', 'function': {'arguments': '{\"query\":\"San Francisco weather\"}', 'name': 'tavily_search_results_json'}, 'type': 'function'}], 'refusal': None}, response_metadata={'token_usage': {'completion_tokens': 21, 'prompt_tokens': 121, 'total_tokens': 142, 'completion_tokens_details': {'accepted_prediction_tokens': 0, 'audio_tokens': 0, 'reasoning_tokens': 0, 'rejected_prediction_tokens': 0}, 'prompt_tokens_details': {'audio_tokens': 0, 'cached_tokens': 0}}, 'model_name': 'gpt-4o-mini-2024-07-18', 'system_fingerprint': 'fp_0aa8d3e20b', 'finish_reason': 'tool_calls', 'logprobs': None}, id='run-ed05732b-af6b-46ce-9c0a-c93d4965a8b0-0', tool_calls=[{'name': 'tavily_search_results_json', 'args': {'query': 'San Francisco weather'}, 'id': 'call_ovA7inUMwKySx8FfewRBjImL', 'type': 'tool_call'}], usage_metadata={'input_tokens': 121, 'output_tokens': 21, 'total_tokens': 142, 'input_token_details': {'audio': 0, 'cache_read': 0}, 'output_token_details': {'audio': 0, 'reasoning': 0}})]}}\n",
      "----\n",
      "{'tools': {'messages': [ToolMessage(content='[{\"url\": \"https://www.weatherapi.com/\", \"content\": \"{\\'location\\': {\\'name\\': \\'San Francisco\\', \\'region\\': \\'California\\', \\'country\\': \\'United States of America\\', \\'lat\\': 37.775, \\'lon\\': -122.4183, \\'tz_id\\': \\'America/Los_Angeles\\', \\'localtime_epoch\\': 1734940637, \\'localtime\\': \\'2024-12-22 23:57\\'}, \\'current\\': {\\'last_updated_epoch\\': 1734939900, \\'last_updated\\': \\'2024-12-22 23:45\\', \\'temp_c\\': 13.7, \\'temp_f\\': 56.7, \\'is_day\\': 0, \\'condition\\': {\\'text\\': \\'Fog\\', \\'icon\\': \\'//cdn.weatherapi.com/weather/64x64/night/248.png\\', \\'code\\': 1135}, \\'wind_mph\\': 4.7, \\'wind_kph\\': 7.6, \\'wind_degree\\': 173, \\'wind_dir\\': \\'S\\', \\'pressure_mb\\': 1021.0, \\'pressure_in\\': 30.14, \\'precip_mm\\': 0.0, \\'precip_in\\': 0.0, \\'humidity\\': 98, \\'cloud\\': 100, \\'feelslike_c\\': 13.5, \\'feelslike_f\\': 56.3, \\'windchill_c\\': 13.5, \\'windchill_f\\': 56.3, \\'heatindex_c\\': 13.7, \\'heatindex_f\\': 56.7, \\'dewpoint_c\\': 13.6, \\'dewpoint_f\\': 56.4, \\'vis_km\\': 2.0, \\'vis_miles\\': 1.0, \\'uv\\': 0.0, \\'gust_mph\\': 8.6, \\'gust_kph\\': 13.9}}\"}, {\"url\": \"https://world-weather.info/forecast/usa/san_francisco/december-2024/\", \"content\": \"Detailed ⚡ San Francisco Weather Forecast for December 2024 - day/night 🌡️ temperatures, precipitations - World-Weather.info ... Add the current city. Search. Weather; Archive; Widgets °F. World; United States; California; Weather in San Francisco; Weather in San Francisco in December 2024. ... 23 +59° +55° 24 +59° +55° 25\"}]', name='tavily_search_results_json', id='4ca130a4-cff2-422e-9f42-c6691de73f79', tool_call_id='call_ovA7inUMwKySx8FfewRBjImL', artifact={'query': 'San Francisco weather', 'follow_up_questions': None, 'answer': None, 'images': [], 'results': [{'title': 'Weather in San Francisco', 'url': 'https://www.weatherapi.com/', 'content': \"{'location': {'name': 'San Francisco', 'region': 'California', 'country': 'United States of America', 'lat': 37.775, 'lon': -122.4183, 'tz_id': 'America/Los_Angeles', 'localtime_epoch': 1734940637, 'localtime': '2024-12-22 23:57'}, 'current': {'last_updated_epoch': 1734939900, 'last_updated': '2024-12-22 23:45', 'temp_c': 13.7, 'temp_f': 56.7, 'is_day': 0, 'condition': {'text': 'Fog', 'icon': '//cdn.weatherapi.com/weather/64x64/night/248.png', 'code': 1135}, 'wind_mph': 4.7, 'wind_kph': 7.6, 'wind_degree': 173, 'wind_dir': 'S', 'pressure_mb': 1021.0, 'pressure_in': 30.14, 'precip_mm': 0.0, 'precip_in': 0.0, 'humidity': 98, 'cloud': 100, 'feelslike_c': 13.5, 'feelslike_f': 56.3, 'windchill_c': 13.5, 'windchill_f': 56.3, 'heatindex_c': 13.7, 'heatindex_f': 56.7, 'dewpoint_c': 13.6, 'dewpoint_f': 56.4, 'vis_km': 2.0, 'vis_miles': 1.0, 'uv': 0.0, 'gust_mph': 8.6, 'gust_kph': 13.9}}\", 'score': 0.988173, 'raw_content': None}, {'title': 'Weather in San Francisco in December 2024', 'url': 'https://world-weather.info/forecast/usa/san_francisco/december-2024/', 'content': 'Detailed ⚡ San Francisco Weather Forecast for December 2024 - day/night 🌡️ temperatures, precipitations - World-Weather.info ... Add the current city. Search. Weather; Archive; Widgets °F. World; United States; California; Weather in San Francisco; Weather in San Francisco in December 2024. ... 23 +59° +55° 24 +59° +55° 25', 'score': 0.92491204, 'raw_content': None}], 'response_time': 2.61})]}}\n",
      "----\n",
      "{'agent': {'messages': [AIMessage(content='The current weather in San Francisco is around 13.7°C (56.7°F) with foggy conditions. The wind is coming from the south at about 4.7 mph, and humidity is quite high at 98%. There are no precipitation reports at the moment.\\n\\nIf you need more detailed forecasts or updates, you can check [Weather API](https://www.weatherapi.com/) or [World Weather Info](https://world-weather.info/forecast/usa/san_francisco/december-2024/).', additional_kwargs={'refusal': None}, response_metadata={'token_usage': {'completion_tokens': 109, 'prompt_tokens': 671, 'total_tokens': 780, 'completion_tokens_details': {'accepted_prediction_tokens': 0, 'audio_tokens': 0, 'reasoning_tokens': 0, 'rejected_prediction_tokens': 0}, 'prompt_tokens_details': {'audio_tokens': 0, 'cached_tokens': 0}}, 'model_name': 'gpt-4o-mini-2024-07-18', 'system_fingerprint': 'fp_0aa8d3e20b', 'finish_reason': 'stop', 'logprobs': None}, id='run-f4a338c6-9294-45bb-b91c-09c96f2dd8c9-0', usage_metadata={'input_tokens': 671, 'output_tokens': 109, 'total_tokens': 780, 'input_token_details': {'audio': 0, 'cache_read': 0}, 'output_token_details': {'audio': 0, 'reasoning': 0}})]}}\n",
      "----\n"
     ]
    }
   ],
   "source": [
    "from langchain_openai import ChatOpenAI\n",
    "from langchain_community.tools.tavily_search import TavilySearchResults\n",
    "from langchain_core.messages import HumanMessage\n",
    "from langgraph.checkpoint.memory import MemorySaver\n",
    "from langgraph.prebuilt import create_react_agent\n",
    "\n",
    "#! Crear el agente\n",
    "memory = MemorySaver()\n",
    "model = ChatOpenAI(model_name=\"gpt-4o-mini\")\n",
    "search = TavilySearchResults(max_results=2)\n",
    "tools = [search]\n",
    "agent_executor = create_react_agent(model, tools, checkpointer=memory)\n",
    "\n",
    "#! Usar el agente\n",
    "config = {\"configurable\": {\"thread_id\": \"abc123\"}}\n",
    "\n",
    "for chunk in agent_executor.stream(\n",
    "    {\"messages\": [HumanMessage(content=\"hi im bob! and i live in sf\")]}, config\n",
    "): \n",
    "    print(chunk)\n",
    "    print(\"----\")\n",
    "\n",
    "print(\"----\"*3)\n",
    "\n",
    "for chunk in agent_executor.stream(\n",
    "    {\"messages\": [HumanMessage(content=\"what is the weather in san francisco?\")]}, config\n",
    "): \n",
    "    print(chunk)\n",
    "    print(\"----\")"
   ]
  },
  {
   "cell_type": "markdown",
   "metadata": {},
   "source": [
    "#### B. Paso a paso"
   ]
  },
  {
   "cell_type": "code",
   "execution_count": 12,
   "metadata": {},
   "outputs": [
    {
     "name": "stdout",
     "output_type": "stream",
     "text": [
      "[{'url': 'https://www.weatheravenue.com/es/america/pe/lima/chorrillos-tiempo.html', 'content': '☁ Previsiones meteorológicas de Chorrillos Lima Perú para 5 días. Hoy en Chorrillos Lima Perú: Ligeramente nublado con una temperatura de 19°C y un viento Suroeste con una velocidad de 12 Km/h. El grado de humedad será del 76% y habrá 0.0 mm de precipitaciones. ... Puesta del sol: 18:21 Salida de la luna : 04:53 - Puesta de la luna: 18'}, {'url': 'https://weather.com/es-US/tiempo/10dias/l/Chorrillos+Provincia+de+Lima+Perú?canonicalCityId=2fd625a064357d82aad8ee43b24d98072b1c1317be5b5b66de5020c6ddc7ca81', 'content': 'Consulta la temperatura máxima y mínima y la probabilidad de lluvia en The Weather Channel y Weather.com Pronóstico del tiempo para 10 días para Chorrillos, Provincia de Lima, Perú - The'}]\n"
     ]
    }
   ],
   "source": [
    "from langchain_community.tools.tavily_search import TavilySearchResults\n",
    "\n",
    "search = TavilySearchResults(max_results=2)\n",
    "search_results = search.invoke(\"Cual es la temperatura en Chorrillos lima peru?\")\n",
    "print(search_results)\n",
    "\n",
    "tools = [search]"
   ]
  },
  {
   "cell_type": "code",
   "execution_count": 13,
   "metadata": {},
   "outputs": [
    {
     "name": "stdout",
     "output_type": "stream",
     "text": [
      "¡Hola! ¿Cómo puedo ayudarte hoy?\n"
     ]
    }
   ],
   "source": [
    "from langchain_openai import ChatOpenAI\n",
    "from langchain_core.messages import HumanMessage\n",
    "\n",
    "#! Definir el modelo\n",
    "model = ChatOpenAI(model_name=\"gpt-4o-mini\")\n",
    "\n",
    "#! Usar el modelo\n",
    "response = model.invoke([HumanMessage(content=\"Hola!\")])\n",
    "print(response.content)"
   ]
  },
  {
   "cell_type": "code",
   "execution_count": 14,
   "metadata": {},
   "outputs": [
    {
     "name": "stdout",
     "output_type": "stream",
     "text": [
      "ContentString: ¡Hola! ¿Cómo puedo ayudarte hoy?\n",
      "ToolCalls: []\n"
     ]
    }
   ],
   "source": [
    "model_with_tools = model.bind_tools(tools)\n",
    "response = model_with_tools.invoke([HumanMessage(content=\"Hola!\")])\n",
    "\n",
    "print(f\"ContentString: {response.content}\")\n",
    "print(f\"ToolCalls: {response.tool_calls}\")"
   ]
  },
  {
   "cell_type": "code",
   "execution_count": 15,
   "metadata": {},
   "outputs": [
    {
     "name": "stdout",
     "output_type": "stream",
     "text": [
      "ContentString: \n",
      "ToolCalls: [{'name': 'tavily_search_results_json', 'args': {'query': 'temperatura Chorrillos Lima Peru'}, 'id': 'call_BDqZNXhXe2qGH9OWg0s3C7bN', 'type': 'tool_call'}]\n"
     ]
    }
   ],
   "source": [
    "response = model_with_tools.invoke([HumanMessage(content=\"Cual es la temperatura en Chorrillos lima peru?\")])\n",
    "\n",
    "print(f\"ContentString: {response.content}\")\n",
    "print(f\"ToolCalls: {response.tool_calls}\")"
   ]
  },
  {
   "cell_type": "code",
   "execution_count": 17,
   "metadata": {},
   "outputs": [
    {
     "data": {
      "text/plain": [
       "[HumanMessage(content='Hola!', additional_kwargs={}, response_metadata={}, id='2d90ca16-de9b-4fd1-ad8a-c54bda0762c7'),\n",
       " AIMessage(content='¡Hola! ¿Cómo puedo ayudarte hoy?', additional_kwargs={'refusal': None}, response_metadata={'token_usage': {'completion_tokens': 11, 'prompt_tokens': 81, 'total_tokens': 92, 'completion_tokens_details': {'accepted_prediction_tokens': 0, 'audio_tokens': 0, 'reasoning_tokens': 0, 'rejected_prediction_tokens': 0}, 'prompt_tokens_details': {'audio_tokens': 0, 'cached_tokens': 0}}, 'model_name': 'gpt-4o-mini-2024-07-18', 'system_fingerprint': 'fp_0aa8d3e20b', 'finish_reason': 'stop', 'logprobs': None}, id='run-620900de-d4a6-44d0-9db0-70f7e0c6856d-0', usage_metadata={'input_tokens': 81, 'output_tokens': 11, 'total_tokens': 92, 'input_token_details': {'audio': 0, 'cache_read': 0}, 'output_token_details': {'audio': 0, 'reasoning': 0}})]"
      ]
     },
     "execution_count": 17,
     "metadata": {},
     "output_type": "execute_result"
    }
   ],
   "source": [
    "from langgraph.prebuilt import create_react_agent\n",
    "\n",
    "agent_executor = create_react_agent(model_with_tools, tools)\n",
    "\n",
    "response = agent_executor.invoke({\"messages\": [HumanMessage(content=\"Hola!\")]})\n",
    "response[\"messages\"]"
   ]
  },
  {
   "cell_type": "code",
   "execution_count": 19,
   "metadata": {},
   "outputs": [
    {
     "data": {
      "text/plain": [
       "[HumanMessage(content='Cual es la temperatura en Lima Peru?', additional_kwargs={}, response_metadata={}, id='273c3a30-65be-49da-b4fa-5ed0a6534769'),\n",
       " AIMessage(content='', additional_kwargs={'tool_calls': [{'id': 'call_bqvqAH1vRFx6LtyAtm2bimc9', 'function': {'arguments': '{\"query\":\"temperatura en Lima Peru\"}', 'name': 'tavily_search_results_json'}, 'type': 'function'}], 'refusal': None}, response_metadata={'token_usage': {'completion_tokens': 23, 'prompt_tokens': 88, 'total_tokens': 111, 'completion_tokens_details': {'accepted_prediction_tokens': 0, 'audio_tokens': 0, 'reasoning_tokens': 0, 'rejected_prediction_tokens': 0}, 'prompt_tokens_details': {'audio_tokens': 0, 'cached_tokens': 0}}, 'model_name': 'gpt-4o-mini-2024-07-18', 'system_fingerprint': 'fp_0aa8d3e20b', 'finish_reason': 'tool_calls', 'logprobs': None}, id='run-b11028c1-4b2a-4eb8-85f0-95b74a8f933b-0', tool_calls=[{'name': 'tavily_search_results_json', 'args': {'query': 'temperatura en Lima Peru'}, 'id': 'call_bqvqAH1vRFx6LtyAtm2bimc9', 'type': 'tool_call'}], usage_metadata={'input_tokens': 88, 'output_tokens': 23, 'total_tokens': 111, 'input_token_details': {'audio': 0, 'cache_read': 0}, 'output_token_details': {'audio': 0, 'reasoning': 0}}),\n",
       " ToolMessage(content='[{\"url\": \"https://www.senamhi.gob.pe/main.php?p=pronostico-detalle&dp=lima&localidad=0001\", \"content\": \"Pronóstico del tiempo para LIMA OESTE (Lima) Cielo cubierto en las primeras horas de la mañana variando a cielo con nubes dispersas entre cielo nublado parcial hacia el mediodía con tendencia a cielo nublado por la tarde , viento moderado. Cielo nublado por la mañana variando a cielo con nubes dispersas entre cielo nublado parcial hacia el mediodía con tendencia a cielo nublado por la tarde , viento moderado. Cielo nublado por la mañana variando a cielo nublado parcial hacia el mediodía con tendencia a cielo nublado al atardecer , viento moderado. Para LIMA OESTE, el mes con temperatura más alta es febrero (26.5°C); la temperatura más baja se da en los meses de agosto y setiembre (14.6°C); y llueve con mayor intensidad en el mes de julio (1.8 mm/mes)\"}, {\"url\": \"https://www.clima.com/peru/lima/lima\", \"content\": \"de Tormenta\\\\n0%\\\\nHumedad\\\\n81%\\\\nPresión\\\\n1014 hPa\\\\nAmanecer\\\\n06:12\\\\nAnochecer\\\\n18:13\\\\nFase Lunar\\\\nGibosa Menguante\\\\n21\\\\nkm/h\\\\n21\\\\nkm/h\\\\n18\\\\nkm/h\\\\n19\\\\nkm/h\\\\n18\\\\nkm/h\\\\n18\\\\nkm/h\\\\n17\\\\nkm/h\\\\n17\\\\nkm/h\\\\n19\\\\nkm/h\\\\n20\\\\nkm/h\\\\n17\\\\nkm/h\\\\n20\\\\nkm/h\\\\n19\\\\nkm/h\\\\n19\\\\nkm/h Previsión\\\\nPOR TIPO DE MAPA\\\\nPOR REGIONES\\\\nPRINCIPALES CIUDADES\\\\nAjuste de medidas\\\\nServicios\\\\nOtros productos\\\\nContáctanos\\\\nLegal\\\\nClima en\\\\nActualizado 14:26\\\\nLima\\\\nLima\\\\n22\\\\nkm/h\\\\n25°\\\\nDías\\\\nHoras\\\\nFin de semana\\\\nPróxima semana\\\\n20 de MAR\\\\nMañana a las 08:00\\\\nViento\\\\n21\\\\nkm/h\\\\nRáfagas\\\\n31\\\\nkm/h\\\\nSensación térmica\\\\n22°\\\\nLluvia\\\\n0\\\\nmm\\\\nNieve\\\\n0\\\\ncm\\\\nNubes\\\\n56%\\\\nProb. de Tormenta\\\\n0%\\\\nHumedad\\\\n74%\\\\nPresión\\\\n1011 hPa\\\\nAmanecer\\\\n06:12\\\\nAnochecer\\\\n18:16\\\\nFase Lunar\\\\nGibosa Creciente\\\\n25 de MAR\\\\nLunes a las 14:00\\\\nViento\\\\n17\\\\nkm/h\\\\nRáfagas\\\\n26\\\\nkm/h\\\\nSensación térmica\\\\n25°\\\\nLluvia\\\\n0\\\\nmm\\\\nNieve\\\\n0\\\\ncm\\\\nNubes\\\\n70%\\\\nProb. de Tormenta\\\\n0%\\\\nHumedad\\\\n81%\\\\nPresión\\\\n1013 hPa\\\\nAmanecer\\\\n06:12\\\\nAnochecer\\\\n18:13\\\\nFase Lunar\\\\nGibosa Menguante\\\\n30 de MAR\\\\nSábado a las 14:00\\\\nViento\\\\n20\\\\nkm/h\\\\nRáfagas\\\\n29\\\\nkm/h\\\\nSensación térmica\\\\n26°\\\\nLluvia\\\\n0\\\\nmm\\\\nNieve\\\\n0\\\\ncm\\\\nNubes\\\\n67%\\\\nProb. de Tormenta\\\\n0%\\\\nHumedad\\\\n83%\\\\nPresión\\\\n1013 hPa\\\\nAmanecer\\\\n06:12\\\\nAnochecer\\\\n18:13\\\\nFase Lunar\\\\nGibosa Menguante\\\\n20 de MAR\\\\nMañana a las 14:00\\\\nViento\\\\n21\\\\nkm/h\\\\nRáfagas\\\\n31\\\\nkm/h\\\\nSensación térmica\\\\n25°\\\\nLluvia\\\\n0\\\\nmm\\\\nNieve\\\\n0\\\\ncm\\\\nNubes\\\\n68%\\\\nProb.\"}]', name='tavily_search_results_json', id='e69bbf34-4386-4ceb-9f95-df5ec0e21bfb', tool_call_id='call_bqvqAH1vRFx6LtyAtm2bimc9', artifact={'query': 'temperatura en Lima Peru', 'follow_up_questions': None, 'answer': None, 'images': [], 'results': [{'title': 'SENAMHI Lima - Pronostico Detalle', 'url': 'https://www.senamhi.gob.pe/main.php?p=pronostico-detalle&dp=lima&localidad=0001', 'content': 'Pronóstico del tiempo para LIMA OESTE (Lima) Cielo cubierto en las primeras horas de la mañana variando a cielo con nubes dispersas entre cielo nublado parcial hacia el mediodía con tendencia a cielo nublado por la tarde , viento moderado. Cielo nublado por la mañana variando a cielo con nubes dispersas entre cielo nublado parcial hacia el mediodía con tendencia a cielo nublado por la tarde , viento moderado. Cielo nublado por la mañana variando a cielo nublado parcial hacia el mediodía con tendencia a cielo nublado al atardecer , viento moderado. Para LIMA OESTE, el mes con temperatura más alta es febrero (26.5°C); la temperatura más baja se da en los meses de agosto y setiembre (14.6°C); y llueve con mayor intensidad en el mes de julio (1.8 mm/mes)', 'score': 0.72629017, 'raw_content': None}, {'title': 'El tiempo en Lima, Lima hoy - Temperatura a 14 días | Clima', 'url': 'https://www.clima.com/peru/lima/lima', 'content': 'de Tormenta\\n0%\\nHumedad\\n81%\\nPresión\\n1014 hPa\\nAmanecer\\n06:12\\nAnochecer\\n18:13\\nFase Lunar\\nGibosa Menguante\\n21\\nkm/h\\n21\\nkm/h\\n18\\nkm/h\\n19\\nkm/h\\n18\\nkm/h\\n18\\nkm/h\\n17\\nkm/h\\n17\\nkm/h\\n19\\nkm/h\\n20\\nkm/h\\n17\\nkm/h\\n20\\nkm/h\\n19\\nkm/h\\n19\\nkm/h Previsión\\nPOR TIPO DE MAPA\\nPOR REGIONES\\nPRINCIPALES CIUDADES\\nAjuste de medidas\\nServicios\\nOtros productos\\nContáctanos\\nLegal\\nClima en\\nActualizado 14:26\\nLima\\nLima\\n22\\nkm/h\\n25°\\nDías\\nHoras\\nFin de semana\\nPróxima semana\\n20 de MAR\\nMañana a las 08:00\\nViento\\n21\\nkm/h\\nRáfagas\\n31\\nkm/h\\nSensación térmica\\n22°\\nLluvia\\n0\\nmm\\nNieve\\n0\\ncm\\nNubes\\n56%\\nProb. de Tormenta\\n0%\\nHumedad\\n74%\\nPresión\\n1011 hPa\\nAmanecer\\n06:12\\nAnochecer\\n18:16\\nFase Lunar\\nGibosa Creciente\\n25 de MAR\\nLunes a las 14:00\\nViento\\n17\\nkm/h\\nRáfagas\\n26\\nkm/h\\nSensación térmica\\n25°\\nLluvia\\n0\\nmm\\nNieve\\n0\\ncm\\nNubes\\n70%\\nProb. de Tormenta\\n0%\\nHumedad\\n81%\\nPresión\\n1013 hPa\\nAmanecer\\n06:12\\nAnochecer\\n18:13\\nFase Lunar\\nGibosa Menguante\\n30 de MAR\\nSábado a las 14:00\\nViento\\n20\\nkm/h\\nRáfagas\\n29\\nkm/h\\nSensación térmica\\n26°\\nLluvia\\n0\\nmm\\nNieve\\n0\\ncm\\nNubes\\n67%\\nProb. de Tormenta\\n0%\\nHumedad\\n83%\\nPresión\\n1013 hPa\\nAmanecer\\n06:12\\nAnochecer\\n18:13\\nFase Lunar\\nGibosa Menguante\\n20 de MAR\\nMañana a las 14:00\\nViento\\n21\\nkm/h\\nRáfagas\\n31\\nkm/h\\nSensación térmica\\n25°\\nLluvia\\n0\\nmm\\nNieve\\n0\\ncm\\nNubes\\n68%\\nProb.', 'score': 0.57408494, 'raw_content': None}], 'response_time': 1.78}),\n",
       " AIMessage(content='La temperatura actual en Lima, Perú, es de aproximadamente **25°C**. El clima se caracteriza por un cielo con nubes dispersas y una humedad del **81%**. Además, se reporta un viento moderado de **21 km/h**. \\n\\nPara más detalles, puedes consultar el pronóstico del tiempo en [Senamhi](https://www.senamhi.gob.pe/main.php?p=pronostico-detalle&dp=lima&localidad=0001) o en [Clima.com](https://www.clima.com/peru/lima/lima).', additional_kwargs={'refusal': None}, response_metadata={'token_usage': {'completion_tokens': 122, 'prompt_tokens': 977, 'total_tokens': 1099, 'completion_tokens_details': {'accepted_prediction_tokens': 0, 'audio_tokens': 0, 'reasoning_tokens': 0, 'rejected_prediction_tokens': 0}, 'prompt_tokens_details': {'audio_tokens': 0, 'cached_tokens': 0}}, 'model_name': 'gpt-4o-mini-2024-07-18', 'system_fingerprint': 'fp_0aa8d3e20b', 'finish_reason': 'stop', 'logprobs': None}, id='run-b636948d-eb22-4712-9e1a-712844dae113-0', usage_metadata={'input_tokens': 977, 'output_tokens': 122, 'total_tokens': 1099, 'input_token_details': {'audio': 0, 'cache_read': 0}, 'output_token_details': {'audio': 0, 'reasoning': 0}})]"
      ]
     },
     "execution_count": 19,
     "metadata": {},
     "output_type": "execute_result"
    }
   ],
   "source": [
    "response = agent_executor.invoke({\"messages\": [HumanMessage(content=\"Cual es la temperatura en Lima Peru?\")]})\n",
    "response[\"messages\"]"
   ]
  },
  {
   "cell_type": "code",
   "execution_count": 20,
   "metadata": {},
   "outputs": [
    {
     "name": "stdout",
     "output_type": "stream",
     "text": [
      "{'agent': {'messages': [AIMessage(content='', additional_kwargs={'tool_calls': [{'id': 'call_WVcEYvsGGDsJ1jnU1QmudJz6', 'function': {'arguments': '{\"query\":\"temperatura actual en Lima Peru\"}', 'name': 'tavily_search_results_json'}, 'type': 'function'}], 'refusal': None}, response_metadata={'token_usage': {'completion_tokens': 23, 'prompt_tokens': 88, 'total_tokens': 111, 'completion_tokens_details': {'accepted_prediction_tokens': 0, 'audio_tokens': 0, 'reasoning_tokens': 0, 'rejected_prediction_tokens': 0}, 'prompt_tokens_details': {'audio_tokens': 0, 'cached_tokens': 0}}, 'model_name': 'gpt-4o-mini-2024-07-18', 'system_fingerprint': 'fp_d02d531b47', 'finish_reason': 'tool_calls', 'logprobs': None}, id='run-0f280b02-6117-4d8b-aae4-621eb50a1bb1-0', tool_calls=[{'name': 'tavily_search_results_json', 'args': {'query': 'temperatura actual en Lima Peru'}, 'id': 'call_WVcEYvsGGDsJ1jnU1QmudJz6', 'type': 'tool_call'}], usage_metadata={'input_tokens': 88, 'output_tokens': 23, 'total_tokens': 111, 'input_token_details': {'audio': 0, 'cache_read': 0}, 'output_token_details': {'audio': 0, 'reasoning': 0}})]}}\n",
      "----\n",
      "{'tools': {'messages': [ToolMessage(content='[{\"url\": \"https://www.clima.com/peru/lima/lima\", \"content\": \"de Tormenta\\\\n0%\\\\nHumedad\\\\n81%\\\\nPresión\\\\n1014 hPa\\\\nAmanecer\\\\n06:12\\\\nAnochecer\\\\n18:13\\\\nFase Lunar\\\\nGibosa Menguante\\\\n21\\\\nkm/h\\\\n21\\\\nkm/h\\\\n18\\\\nkm/h\\\\n19\\\\nkm/h\\\\n18\\\\nkm/h\\\\n18\\\\nkm/h\\\\n17\\\\nkm/h\\\\n17\\\\nkm/h\\\\n19\\\\nkm/h\\\\n20\\\\nkm/h\\\\n17\\\\nkm/h\\\\n20\\\\nkm/h\\\\n19\\\\nkm/h\\\\n19\\\\nkm/h Previsión\\\\nPOR TIPO DE MAPA\\\\nPOR REGIONES\\\\nPRINCIPALES CIUDADES\\\\nAjuste de medidas\\\\nServicios\\\\nOtros productos\\\\nContáctanos\\\\nLegal\\\\nClima en\\\\nActualizado 14:26\\\\nLima\\\\nLima\\\\n22\\\\nkm/h\\\\n25°\\\\nDías\\\\nHoras\\\\nFin de semana\\\\nPróxima semana\\\\n20 de MAR\\\\nMañana a las 08:00\\\\nViento\\\\n21\\\\nkm/h\\\\nRáfagas\\\\n31\\\\nkm/h\\\\nSensación térmica\\\\n22°\\\\nLluvia\\\\n0\\\\nmm\\\\nNieve\\\\n0\\\\ncm\\\\nNubes\\\\n56%\\\\nProb. de Tormenta\\\\n0%\\\\nHumedad\\\\n74%\\\\nPresión\\\\n1011 hPa\\\\nAmanecer\\\\n06:12\\\\nAnochecer\\\\n18:16\\\\nFase Lunar\\\\nGibosa Creciente\\\\n25 de MAR\\\\nLunes a las 14:00\\\\nViento\\\\n17\\\\nkm/h\\\\nRáfagas\\\\n26\\\\nkm/h\\\\nSensación térmica\\\\n25°\\\\nLluvia\\\\n0\\\\nmm\\\\nNieve\\\\n0\\\\ncm\\\\nNubes\\\\n70%\\\\nProb. de Tormenta\\\\n0%\\\\nHumedad\\\\n81%\\\\nPresión\\\\n1013 hPa\\\\nAmanecer\\\\n06:12\\\\nAnochecer\\\\n18:13\\\\nFase Lunar\\\\nGibosa Menguante\\\\n30 de MAR\\\\nSábado a las 14:00\\\\nViento\\\\n20\\\\nkm/h\\\\nRáfagas\\\\n29\\\\nkm/h\\\\nSensación térmica\\\\n26°\\\\nLluvia\\\\n0\\\\nmm\\\\nNieve\\\\n0\\\\ncm\\\\nNubes\\\\n67%\\\\nProb. de Tormenta\\\\n0%\\\\nHumedad\\\\n83%\\\\nPresión\\\\n1013 hPa\\\\nAmanecer\\\\n06:12\\\\nAnochecer\\\\n18:13\\\\nFase Lunar\\\\nGibosa Menguante\\\\n20 de MAR\\\\nMañana a las 14:00\\\\nViento\\\\n21\\\\nkm/h\\\\nRáfagas\\\\n31\\\\nkm/h\\\\nSensación térmica\\\\n25°\\\\nLluvia\\\\n0\\\\nmm\\\\nNieve\\\\n0\\\\ncm\\\\nNubes\\\\n68%\\\\nProb.\"}, {\"url\": \"https://www.senamhi.gob.pe/main.php?p=pronostico-detalle&dp=lima&localidad=0001\", \"content\": \"Pronóstico del tiempo para LIMA OESTE (Lima) Cielo cubierto en las primeras horas de la mañana variando a cielo con nubes dispersas entre cielo nublado parcial hacia el mediodía con tendencia a cielo nublado por la tarde , viento moderado. Cielo nublado por la mañana variando a cielo con nubes dispersas entre cielo nublado parcial hacia el mediodía con tendencia a cielo nublado por la tarde , viento moderado. Cielo nublado por la mañana variando a cielo nublado parcial hacia el mediodía con tendencia a cielo nublado al atardecer , viento moderado. Para LIMA OESTE, el mes con temperatura más alta es febrero (26.5°C); la temperatura más baja se da en los meses de agosto y setiembre (14.6°C); y llueve con mayor intensidad en el mes de julio (1.8 mm/mes)\"}]', name='tavily_search_results_json', id='33dc2ebf-536e-4a6d-9451-369398ba0c6f', tool_call_id='call_WVcEYvsGGDsJ1jnU1QmudJz6', artifact={'query': 'temperatura actual en Lima Peru', 'follow_up_questions': None, 'answer': None, 'images': [], 'results': [{'title': 'El tiempo en Lima, Lima hoy - Temperatura a 14 días | Clima', 'url': 'https://www.clima.com/peru/lima/lima', 'content': 'de Tormenta\\n0%\\nHumedad\\n81%\\nPresión\\n1014 hPa\\nAmanecer\\n06:12\\nAnochecer\\n18:13\\nFase Lunar\\nGibosa Menguante\\n21\\nkm/h\\n21\\nkm/h\\n18\\nkm/h\\n19\\nkm/h\\n18\\nkm/h\\n18\\nkm/h\\n17\\nkm/h\\n17\\nkm/h\\n19\\nkm/h\\n20\\nkm/h\\n17\\nkm/h\\n20\\nkm/h\\n19\\nkm/h\\n19\\nkm/h Previsión\\nPOR TIPO DE MAPA\\nPOR REGIONES\\nPRINCIPALES CIUDADES\\nAjuste de medidas\\nServicios\\nOtros productos\\nContáctanos\\nLegal\\nClima en\\nActualizado 14:26\\nLima\\nLima\\n22\\nkm/h\\n25°\\nDías\\nHoras\\nFin de semana\\nPróxima semana\\n20 de MAR\\nMañana a las 08:00\\nViento\\n21\\nkm/h\\nRáfagas\\n31\\nkm/h\\nSensación térmica\\n22°\\nLluvia\\n0\\nmm\\nNieve\\n0\\ncm\\nNubes\\n56%\\nProb. de Tormenta\\n0%\\nHumedad\\n74%\\nPresión\\n1011 hPa\\nAmanecer\\n06:12\\nAnochecer\\n18:16\\nFase Lunar\\nGibosa Creciente\\n25 de MAR\\nLunes a las 14:00\\nViento\\n17\\nkm/h\\nRáfagas\\n26\\nkm/h\\nSensación térmica\\n25°\\nLluvia\\n0\\nmm\\nNieve\\n0\\ncm\\nNubes\\n70%\\nProb. de Tormenta\\n0%\\nHumedad\\n81%\\nPresión\\n1013 hPa\\nAmanecer\\n06:12\\nAnochecer\\n18:13\\nFase Lunar\\nGibosa Menguante\\n30 de MAR\\nSábado a las 14:00\\nViento\\n20\\nkm/h\\nRáfagas\\n29\\nkm/h\\nSensación térmica\\n26°\\nLluvia\\n0\\nmm\\nNieve\\n0\\ncm\\nNubes\\n67%\\nProb. de Tormenta\\n0%\\nHumedad\\n83%\\nPresión\\n1013 hPa\\nAmanecer\\n06:12\\nAnochecer\\n18:13\\nFase Lunar\\nGibosa Menguante\\n20 de MAR\\nMañana a las 14:00\\nViento\\n21\\nkm/h\\nRáfagas\\n31\\nkm/h\\nSensación térmica\\n25°\\nLluvia\\n0\\nmm\\nNieve\\n0\\ncm\\nNubes\\n68%\\nProb.', 'score': 0.59457535, 'raw_content': None}, {'title': 'SENAMHI Lima - Pronostico Detalle', 'url': 'https://www.senamhi.gob.pe/main.php?p=pronostico-detalle&dp=lima&localidad=0001', 'content': 'Pronóstico del tiempo para LIMA OESTE (Lima) Cielo cubierto en las primeras horas de la mañana variando a cielo con nubes dispersas entre cielo nublado parcial hacia el mediodía con tendencia a cielo nublado por la tarde , viento moderado. Cielo nublado por la mañana variando a cielo con nubes dispersas entre cielo nublado parcial hacia el mediodía con tendencia a cielo nublado por la tarde , viento moderado. Cielo nublado por la mañana variando a cielo nublado parcial hacia el mediodía con tendencia a cielo nublado al atardecer , viento moderado. Para LIMA OESTE, el mes con temperatura más alta es febrero (26.5°C); la temperatura más baja se da en los meses de agosto y setiembre (14.6°C); y llueve con mayor intensidad en el mes de julio (1.8 mm/mes)', 'score': 0.58408195, 'raw_content': None}], 'response_time': 2.21})]}}\n",
      "----\n",
      "{'agent': {'messages': [AIMessage(content='La temperatura actual en Lima, Perú, es de aproximadamente **25°C**. El clima se presenta mayormente nublado con una sensación térmica de 25°C y una humedad del 74%. Si deseas más información, puedes visitar [Clima.com](https://www.clima.com/peru/lima/lima) o [Senamhi](https://www.senamhi.gob.pe/main.php?p=pronostico-detalle&dp=lima&localidad=0001).', additional_kwargs={'refusal': None}, response_metadata={'token_usage': {'completion_tokens': 102, 'prompt_tokens': 979, 'total_tokens': 1081, 'completion_tokens_details': {'accepted_prediction_tokens': 0, 'audio_tokens': 0, 'reasoning_tokens': 0, 'rejected_prediction_tokens': 0}, 'prompt_tokens_details': {'audio_tokens': 0, 'cached_tokens': 0}}, 'model_name': 'gpt-4o-mini-2024-07-18', 'system_fingerprint': 'fp_0aa8d3e20b', 'finish_reason': 'stop', 'logprobs': None}, id='run-f1c85741-911a-404e-bb3d-cd098afa903a-0', usage_metadata={'input_tokens': 979, 'output_tokens': 102, 'total_tokens': 1081, 'input_token_details': {'audio': 0, 'cache_read': 0}, 'output_token_details': {'audio': 0, 'reasoning': 0}})]}}\n",
      "----\n"
     ]
    }
   ],
   "source": [
    "for chunk in agent_executor.stream(\n",
    "    {\"messages\": [HumanMessage(content=\"Cual es la temperatura en Lima Peru?\")]}\n",
    "):\n",
    "    print(chunk)\n",
    "    print(\"----\")"
   ]
  },
  {
   "cell_type": "markdown",
   "metadata": {},
   "source": [
    "#### C. Agente con memoria"
   ]
  },
  {
   "cell_type": "code",
   "execution_count": 22,
   "metadata": {},
   "outputs": [],
   "source": [
    "from langgraph.checkpoint.memory import MemorySaver\n",
    "\n",
    "memory = MemorySaver()"
   ]
  },
  {
   "cell_type": "code",
   "execution_count": 27,
   "metadata": {},
   "outputs": [
    {
     "name": "stdout",
     "output_type": "stream",
     "text": [
      "{'agent': {'messages': [AIMessage(content='¡Hola de nuevo, Nahum! ¿En qué puedo ayudarte hoy?', additional_kwargs={'refusal': None}, response_metadata={'token_usage': {'completion_tokens': 17, 'prompt_tokens': 155, 'total_tokens': 172, 'completion_tokens_details': {'accepted_prediction_tokens': 0, 'audio_tokens': 0, 'reasoning_tokens': 0, 'rejected_prediction_tokens': 0}, 'prompt_tokens_details': {'audio_tokens': 0, 'cached_tokens': 0}}, 'model_name': 'gpt-4o-mini-2024-07-18', 'system_fingerprint': 'fp_0aa8d3e20b', 'finish_reason': 'stop', 'logprobs': None}, id='run-b27e0bb1-c64d-432b-96d1-6c164bbcee26-0', usage_metadata={'input_tokens': 155, 'output_tokens': 17, 'total_tokens': 172, 'input_token_details': {'audio': 0, 'cache_read': 0}, 'output_token_details': {'audio': 0, 'reasoning': 0}})]}}\n",
      "----\n"
     ]
    }
   ],
   "source": [
    "agent_executor = create_react_agent(model, tools, checkpointer=memory)\n",
    "\n",
    "config = {\"configurable\": {\"thread_id\": \"abc123\"}}\n",
    "for chunk in agent_executor.stream(\n",
    "    {\"messages\": [HumanMessage(content=\"Hola soy Nahum!\")]}, config\n",
    "):\n",
    "    print(chunk)\n",
    "    print(\"----\")"
   ]
  },
  {
   "cell_type": "code",
   "execution_count": 28,
   "metadata": {},
   "outputs": [
    {
     "name": "stdout",
     "output_type": "stream",
     "text": [
      "{'agent': {'messages': [AIMessage(content='Tu nombre es Nahum. ¿Hay algo más en lo que te pueda ayudar?', additional_kwargs={'refusal': None}, response_metadata={'token_usage': {'completion_tokens': 19, 'prompt_tokens': 184, 'total_tokens': 203, 'completion_tokens_details': {'accepted_prediction_tokens': 0, 'audio_tokens': 0, 'reasoning_tokens': 0, 'rejected_prediction_tokens': 0}, 'prompt_tokens_details': {'audio_tokens': 0, 'cached_tokens': 0}}, 'model_name': 'gpt-4o-mini-2024-07-18', 'system_fingerprint': 'fp_0aa8d3e20b', 'finish_reason': 'stop', 'logprobs': None}, id='run-2d441edd-e08c-41a6-97c8-766386b61692-0', usage_metadata={'input_tokens': 184, 'output_tokens': 19, 'total_tokens': 203, 'input_token_details': {'audio': 0, 'cache_read': 0}, 'output_token_details': {'audio': 0, 'reasoning': 0}})]}}\n",
      "----\n"
     ]
    }
   ],
   "source": [
    "for chunk in agent_executor.stream(\n",
    "    {\"messages\": [HumanMessage(content=\"Cual es mi nombre?\")]}, config\n",
    "):\n",
    "    print(chunk)\n",
    "    print(\"----\")"
   ]
  },
  {
   "cell_type": "code",
   "execution_count": 29,
   "metadata": {},
   "outputs": [
    {
     "name": "stdout",
     "output_type": "stream",
     "text": [
      "{'agent': {'messages': [AIMessage(content='No tengo acceso a tu información personal, así que no sé tu nombre. Si deseas, puedes decírmelo.', additional_kwargs={'refusal': None}, response_metadata={'token_usage': {'completion_tokens': 26, 'prompt_tokens': 123, 'total_tokens': 149, 'completion_tokens_details': {'accepted_prediction_tokens': 0, 'audio_tokens': 0, 'reasoning_tokens': 0, 'rejected_prediction_tokens': 0}, 'prompt_tokens_details': {'audio_tokens': 0, 'cached_tokens': 0}}, 'model_name': 'gpt-4o-mini-2024-07-18', 'system_fingerprint': 'fp_0aa8d3e20b', 'finish_reason': 'stop', 'logprobs': None}, id='run-fbfebf6a-50e9-41ac-bb8e-7110fa1203d6-0', usage_metadata={'input_tokens': 123, 'output_tokens': 26, 'total_tokens': 149, 'input_token_details': {'audio': 0, 'cache_read': 0}, 'output_token_details': {'audio': 0, 'reasoning': 0}})]}}\n",
      "----\n"
     ]
    }
   ],
   "source": [
    "config = {\"configurable\": {\"thread_id\": \"xyz123\"}}\n",
    "for chunk in agent_executor.stream(\n",
    "    {\"messages\": [HumanMessage(content=\"Cual es mi nombre?\")]}, config\n",
    "):\n",
    "    print(chunk)\n",
    "    print(\"----\")"
   ]
  },
  {
   "cell_type": "code",
   "execution_count": null,
   "metadata": {},
   "outputs": [],
   "source": []
  }
 ],
 "metadata": {
  "kernelspec": {
   "display_name": "venv_langchain",
   "language": "python",
   "name": "python3"
  },
  "language_info": {
   "codemirror_mode": {
    "name": "ipython",
    "version": 3
   },
   "file_extension": ".py",
   "mimetype": "text/x-python",
   "name": "python",
   "nbconvert_exporter": "python",
   "pygments_lexer": "ipython3",
   "version": "3.11.11"
  }
 },
 "nbformat": 4,
 "nbformat_minor": 2
}
