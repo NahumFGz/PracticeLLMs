{
 "cells": [
  {
   "cell_type": "code",
   "execution_count": 13,
   "metadata": {},
   "outputs": [],
   "source": [
    "import getpass\n",
    "import os\n",
    "\n",
    "if \"LANGCHAIN_API_KEY\" not in os.environ:\n",
    "    os.environ[\"LANGCHAIN_TRACING_V2\"] = \"true\"\n",
    "    os.environ[\"LANGCHAIN_API_KEY\"] = getpass.getpass()"
   ]
  },
  {
   "cell_type": "code",
   "execution_count": 14,
   "metadata": {},
   "outputs": [],
   "source": [
    "if not os.environ.get(\"OPENAI_API_KEY\"):\n",
    "    os.environ[\"OPENAI_API_KEY\"] = getpass.getpass()"
   ]
  },
  {
   "cell_type": "markdown",
   "metadata": {},
   "source": [
    "#### A. Datos de ejemplo"
   ]
  },
  {
   "cell_type": "code",
   "execution_count": 15,
   "metadata": {},
   "outputs": [],
   "source": [
    "import os\n",
    "import re\n",
    "from pydantic import BaseModel, ValidationError\n",
    "from langchain_openai import ChatOpenAI\n",
    "from langchain_community.utilities import SQLDatabase\n",
    "from langchain import hub"
   ]
  },
  {
   "cell_type": "code",
   "execution_count": 16,
   "metadata": {},
   "outputs": [
    {
     "name": "stdout",
     "output_type": "stream",
     "text": [
      "Dialect: sqlite\n",
      "Tablas disponibles: ['Album', 'Artist', 'Customer', 'Employee', 'Genre', 'Invoice', 'InvoiceLine', 'MediaType', 'Playlist', 'PlaylistTrack', 'Track']\n"
     ]
    }
   ],
   "source": [
    "# Conectar a la base de datos de ejemplo\n",
    "db = SQLDatabase.from_uri(\"sqlite:///Chinook.db\")\n",
    "print(\"Dialect:\", db.dialect)\n",
    "print(\"Tablas disponibles:\", db.get_usable_table_names())"
   ]
  },
  {
   "cell_type": "code",
   "execution_count": 17,
   "metadata": {},
   "outputs": [],
   "source": [
    "# Modelo y plantilla de LangChain\n",
    "llm = ChatOpenAI(model=\"gpt-4o-mini\")\n",
    "query_prompt_template = hub.pull(\"langchain-ai/sql-query-system-prompt\")\n",
    "\n",
    "# Modelo estructurado para la validación\n",
    "class QueryOutput(BaseModel):\n",
    "    query: str"
   ]
  },
  {
   "cell_type": "code",
   "execution_count": 18,
   "metadata": {},
   "outputs": [],
   "source": [
    "# Limpieza de resultados en streaming\n",
    "def clean_streamed_output(raw_output: str) -> str:\n",
    "    \"\"\"\n",
    "    Limpia los decoradores de bloques de código (como ```sql) de un texto.\n",
    "    \"\"\"\n",
    "    cleaned_output = re.sub(r\"```[\\w]*\\n|```\", \"\", raw_output).strip()\n",
    "    return cleaned_output\n",
    "\n",
    "# Función de streaming\n",
    "def write_query_streaming(state: dict) -> str:\n",
    "    \"\"\"\n",
    "    Genera un SQL query en streaming basado en el estado proporcionado.\n",
    "    \"\"\"\n",
    "    # Crear el prompt inicial\n",
    "    prompt = query_prompt_template.invoke({\n",
    "        \"dialect\": db.dialect,\n",
    "        \"top_k\": 10,\n",
    "        \"table_info\": db.get_table_info(),\n",
    "        \"input\": state[\"question\"],\n",
    "    })\n",
    "\n",
    "    # Configuración del modelo en streaming\n",
    "    streaming_llm = ChatOpenAI(model=\"gpt-4o-mini\", streaming=True)\n",
    "\n",
    "    # Acumular el resultado generado\n",
    "    raw_output = \"\"\n",
    "    print(\"Generando respuesta en streaming:\")\n",
    "    for token in streaming_llm.stream(prompt):\n",
    "        raw_output += token.content\n",
    "        print(token.content, end=\"\")  # Mostrar token en tiempo real\n",
    "\n",
    "    print(\"\\n\\nLimpieza de la salida...\")\n",
    "    cleaned_output = clean_streamed_output(raw_output)\n",
    "\n",
    "    print(\"\\nQuery limpio:\")\n",
    "    print(cleaned_output)\n",
    "    return cleaned_output\n"
   ]
  },
  {
   "cell_type": "code",
   "execution_count": 19,
   "metadata": {},
   "outputs": [],
   "source": [
    "# Función estructurada\n",
    "def write_query_structured(state: dict) -> str:\n",
    "    \"\"\"\n",
    "    Genera un SQL query usando with_structured_output para validación automática.\n",
    "    \"\"\"\n",
    "    # Crear el prompt inicial\n",
    "    prompt = query_prompt_template.invoke({\n",
    "        \"dialect\": db.dialect,\n",
    "        \"top_k\": 10,\n",
    "        \"table_info\": db.get_table_info(),\n",
    "        \"input\": state[\"question\"],\n",
    "    })\n",
    "\n",
    "    # Configuración de LLM con esquema estructurado\n",
    "    structured_llm = llm.with_structured_output(QueryOutput)\n",
    "\n",
    "    # Invocación del modelo\n",
    "    result = structured_llm.invoke(prompt)\n",
    "\n",
    "    # Acceso al atributo query del objeto\n",
    "    return result.query"
   ]
  },
  {
   "cell_type": "code",
   "execution_count": 20,
   "metadata": {},
   "outputs": [],
   "source": [
    "# Orquestación combinada\n",
    "def orchestrate_query(state: dict) -> str:\n",
    "    \"\"\"\n",
    "    Combina streaming para feedback en tiempo real y structured output para validación.\n",
    "    \"\"\"\n",
    "    # Paso 1: Generar query en streaming\n",
    "    raw_query = write_query_streaming(state)\n",
    "\n",
    "    # Paso 2: Validar query con structured output\n",
    "    try:\n",
    "        validated_query = write_query_structured({\"question\": raw_query})\n",
    "        print(\"\\nConsulta validada:\", validated_query)\n",
    "        return validated_query\n",
    "    except ValidationError as e:\n",
    "        print(\"\\nError de validación:\", e)\n",
    "        raise ValueError(\"La consulta generada no es válida.\")"
   ]
  },
  {
   "cell_type": "code",
   "execution_count": 23,
   "metadata": {},
   "outputs": [
    {
     "name": "stdout",
     "output_type": "stream",
     "text": [
      "Generando respuesta en streaming:\n",
      "```sql\n",
      "SELECT COUNT(*) AS EmployeeCount \n",
      "FROM Employee \n",
      "WHERE FirstName LIKE 'W%' \n",
      "LIMIT 10;\n",
      "```\n",
      "\n",
      "Limpieza de la salida...\n",
      "\n",
      "Query limpio:\n",
      "SELECT COUNT(*) AS EmployeeCount \n",
      "FROM Employee \n",
      "WHERE FirstName LIKE 'W%' \n",
      "LIMIT 10;\n",
      "\n",
      "Consulta validada: SELECT COUNT(*) AS EmployeeCount \n",
      "FROM Employee \n",
      "WHERE FirstName LIKE 'W%' \n",
      "LIMIT 10;\n",
      "\n",
      "Query final: SELECT COUNT(*) AS EmployeeCount \n",
      "FROM Employee \n",
      "WHERE FirstName LIKE 'W%' \n",
      "LIMIT 10;\n"
     ]
    }
   ],
   "source": [
    "question = \"¿Cuántos empleados hay que su nombre empiece con w?\"\n",
    "try:\n",
    "    result = orchestrate_query({\"question\": question})\n",
    "    print(\"\\nQuery final:\", result)\n",
    "except Exception as e:\n",
    "    print(\"\\nError:\", e)    "
   ]
  },
  {
   "cell_type": "code",
   "execution_count": null,
   "metadata": {},
   "outputs": [],
   "source": []
  }
 ],
 "metadata": {
  "kernelspec": {
   "display_name": "venv_langchain",
   "language": "python",
   "name": "python3"
  },
  "language_info": {
   "codemirror_mode": {
    "name": "ipython",
    "version": 3
   },
   "file_extension": ".py",
   "mimetype": "text/x-python",
   "name": "python",
   "nbconvert_exporter": "python",
   "pygments_lexer": "ipython3",
   "version": "3.12.3"
  }
 },
 "nbformat": 4,
 "nbformat_minor": 2
}
