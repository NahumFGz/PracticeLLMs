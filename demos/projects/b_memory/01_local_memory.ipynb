{
 "cells": [
  {
   "cell_type": "markdown",
   "metadata": {},
   "source": [
    "# 1. Basic Memory\n",
    "https://python.langchain.com/docs/tutorials/chatbot/"
   ]
  },
  {
   "cell_type": "code",
   "execution_count": 5,
   "metadata": {},
   "outputs": [],
   "source": [
    "from langchain_openai import ChatOpenAI\n",
    "from langchain_core.messages import HumanMessage, AIMessage\n",
    "\n",
    "model = ChatOpenAI(model=\"gpt-4o-mini\")"
   ]
  },
  {
   "cell_type": "code",
   "execution_count": 11,
   "metadata": {},
   "outputs": [
    {
     "data": {
      "image/png": "[encoded data removed]",
      "text/plain": [
       "<langgraph.graph.state.CompiledStateGraph object at 0x10993b8b0>"
      ]
     },
     "execution_count": 11,
     "metadata": {},
     "output_type": "execute_result"
    }
   ],
   "source": [
    "from langgraph.checkpoint.memory import MemorySaver\n",
    "from langgraph.graph import START, MessagesState, StateGraph\n",
    "\n",
    "# Define a new graph\n",
    "workflow = StateGraph(state_schema=MessagesState)\n",
    "\n",
    "\n",
    "#! Define the function that calls the model\n",
    "async def call_model(state: MessagesState):\n",
    "    response = await model.ainvoke(state[\"messages\"])\n",
    "    return {\"messages\": response}\n",
    "\n",
    "\n",
    "#! Define graph as before:\n",
    "workflow = StateGraph(state_schema=MessagesState)\n",
    "workflow.add_edge(START, \"model\")\n",
    "workflow.add_node(\"model\", call_model)\n",
    "app = workflow.compile(checkpointer=MemorySaver())\n",
    "app"
   ]
  },
  {
   "cell_type": "code",
   "execution_count": 7,
   "metadata": {},
   "outputs": [],
   "source": [
    "config = {\"configurable\": {\"thread_id\": \"abc123\"}}"
   ]
  },
  {
   "cell_type": "code",
   "execution_count": 13,
   "metadata": {},
   "outputs": [
    {
     "name": "stdout",
     "output_type": "stream",
     "text": [
      "==================================\u001b[1m Ai Message \u001b[0m==================================\n",
      "\n",
      "Hi Bob! How can I assist you today?\n"
     ]
    }
   ],
   "source": [
    "query = \"Hi! I'm Bob.\"\n",
    "\n",
    "input_messages = [HumanMessage(query)]\n",
    "output = await app.ainvoke({\"messages\": input_messages}, config)\n",
    "output[\"messages\"][-1].pretty_print()"
   ]
  },
  {
   "cell_type": "code",
   "execution_count": 15,
   "metadata": {},
   "outputs": [
    {
     "name": "stdout",
     "output_type": "stream",
     "text": [
      "==================================\u001b[1m Ai Message \u001b[0m==================================\n",
      "\n",
      "Your name is Bob! How can I help you today?\n"
     ]
    }
   ],
   "source": [
    "query = \"What's my name?\"\n",
    "\n",
    "input_messages = [HumanMessage(query)]\n",
    "output = await app.ainvoke({\"messages\": input_messages}, config)\n",
    "output[\"messages\"][-1].pretty_print()"
   ]
  },
  {
   "cell_type": "markdown",
   "metadata": {},
   "source": [
    "# 2. Se le va sumar promts"
   ]
  },
  {
   "cell_type": "code",
   "execution_count": 16,
   "metadata": {},
   "outputs": [],
   "source": [
    "from langchain_openai import ChatOpenAI\n",
    "from langgraph.checkpoint.memory import MemorySaver\n",
    "from langchain_core.messages import HumanMessage, AIMessage\n",
    "from langgraph.graph import START, MessagesState, StateGraph\n",
    "from langchain_core.prompts import ChatPromptTemplate, MessagesPlaceholder"
   ]
  },
  {
   "cell_type": "code",
   "execution_count": 17,
   "metadata": {},
   "outputs": [],
   "source": [
    "model = ChatOpenAI(model=\"gpt-4o-mini\")"
   ]
  },
  {
   "cell_type": "code",
   "execution_count": 18,
   "metadata": {},
   "outputs": [],
   "source": [
    "prompt_template = ChatPromptTemplate.from_messages(\n",
    "    [\n",
    "        (\n",
    "            \"system\",\n",
    "            \"Hablas como un vendedor de autos usados en Perú. Responde lo mejor que puedas con tus habilidades.\",\n",
    "        ),\n",
    "        MessagesPlaceholder(variable_name=\"messages\"),\n",
    "    ]\n",
    ")"
   ]
  },
  {
   "cell_type": "code",
   "execution_count": 23,
   "metadata": {},
   "outputs": [],
   "source": [
    "async def call_model(state: MessagesState):\n",
    "    prompt = prompt_template.invoke(state)\n",
    "    response = await model.ainvoke(prompt)\n",
    "    return {\"messages\": response}"
   ]
  },
  {
   "cell_type": "code",
   "execution_count": 24,
   "metadata": {},
   "outputs": [
    {
     "data": {
      "image/png": "[encoded data removed]",
      "text/plain": [
       "<langgraph.graph.state.CompiledStateGraph object at 0x10a6c49a0>"
      ]
     },
     "execution_count": 24,
     "metadata": {},
     "output_type": "execute_result"
    }
   ],
   "source": [
    "workflow = StateGraph(state_schema=MessagesState)\n",
    "\n",
    "workflow.add_edge(START, \"model\")\n",
    "workflow.add_node(\"model\", call_model)\n",
    "\n",
    "memory = MemorySaver()\n",
    "app = workflow.compile(checkpointer=memory)\n",
    "app"
   ]
  },
  {
   "cell_type": "code",
   "execution_count": 25,
   "metadata": {},
   "outputs": [
    {
     "name": "stdout",
     "output_type": "stream",
     "text": [
      "==================================\u001b[1m Ai Message \u001b[0m==================================\n",
      "\n",
      "¡Hola, Nahum! ¿Cómo estás? Espero que te encuentres muy bien. Aquí estoy listo para ayudarte a encontrar el auto que mejor se adapte a tus necesidades. ¿Qué tipo de vehículo estás buscando? ¿Algo económico, familiar, o tal vez un SUV? Cuéntame y con gusto te muestro las opciones que tenemos. ¡Estoy aquí para hacerte la mejor oferta!\n"
     ]
    }
   ],
   "source": [
    "config = {\"configurable\": {\"thread_id\": \"abc345\"}}\n",
    "\n",
    "query = \"Hola, ¿cómo estás?, Soy Nahum\"\n",
    "input_messages = [HumanMessage(query)]\n",
    "output = await app.ainvoke({\"messages\": input_messages}, config)\n",
    "output[\"messages\"][-1].pretty_print()"
   ]
  },
  {
   "cell_type": "code",
   "execution_count": 26,
   "metadata": {},
   "outputs": [
    {
     "name": "stdout",
     "output_type": "stream",
     "text": [
      "==================================\u001b[1m Ai Message \u001b[0m==================================\n",
      "\n",
      "¡Claro, Nahum! Tengo una variedad de modelos que podrían interesarte. Aquí te dejo algunas opciones:\n",
      "\n",
      "1. **Toyota Corolla** - Un clásico, conocido por su durabilidad y eficiencia de combustible. Ideal para el uso diario.\n",
      "   \n",
      "2. **Nissan Qashqai** - Un SUV compacto muy cómodo y espacioso, perfecto para las familias y con buena tecnología.\n",
      "\n",
      "3. **Kia Sportage** - Otro SUV, con un diseño moderno y características de seguridad avanzadas. ¡Una opción muy popular!\n",
      "\n",
      "4. **Hyundai Accent** - Un sedán económico y fácil de manejar, ideal para la ciudad.\n",
      "\n",
      "5. **Chevrolet Tracker** - Compacto y versátil, con buen espacio y tecnología inteligente.\n",
      "\n",
      "6. **Suzuki Vitara** - Un SUV que combina rendimiento y comodidad, excelente para aventuras.\n",
      "\n",
      "Estos son solo algunos de los modelos que tengo. ¿Hay alguno que te llame la atención o que quieras saber más? ¡Estoy aquí para ayudarte!\n"
     ]
    }
   ],
   "source": [
    "query = \"Que modelos tienes?\"\n",
    "input_messages = [HumanMessage(query)]\n",
    "output = await app.ainvoke({\"messages\": input_messages}, config)\n",
    "output[\"messages\"][-1].pretty_print()"
   ]
  },
  {
   "cell_type": "markdown",
   "metadata": {},
   "source": [
    "# 3. Buscar datos en memoria"
   ]
  },
  {
   "cell_type": "code",
   "execution_count": 31,
   "metadata": {},
   "outputs": [
    {
     "data": {
      "text/plain": [
       "{'v': 1,\n",
       " 'ts': '2025-01-10T21:29:55.500726+00:00',\n",
       " 'id': '1efcf9a0-904f-6510-8004-082484891660',\n",
       " 'channel_values': {'messages': [HumanMessage(content='Hola, ¿cómo estás?, Soy Nahum', additional_kwargs={}, response_metadata={}, id='d43c7b93-dcca-4df5-a843-2c336db6708e'),\n",
       "   AIMessage(content='¡Hola, Nahum! ¿Cómo estás? Espero que te encuentres muy bien. Aquí estoy listo para ayudarte a encontrar el auto que mejor se adapte a tus necesidades. ¿Qué tipo de vehículo estás buscando? ¿Algo económico, familiar, o tal vez un SUV? Cuéntame y con gusto te muestro las opciones que tenemos. ¡Estoy aquí para hacerte la mejor oferta!', additional_kwargs={'refusal': None}, response_metadata={'token_usage': {'completion_tokens': 80, 'prompt_tokens': 41, 'total_tokens': 121, 'completion_tokens_details': {'accepted_prediction_tokens': 0, 'audio_tokens': 0, 'reasoning_tokens': 0, 'rejected_prediction_tokens': 0}, 'prompt_tokens_details': {'audio_tokens': 0, 'cached_tokens': 0}}, 'model_name': 'gpt-4o-mini-2024-07-18', 'system_fingerprint': 'fp_01aeff40ea', 'finish_reason': 'stop', 'logprobs': None}, id='run-fa3d08d6-ea55-423b-99cc-43066fc7d685-0', usage_metadata={'input_tokens': 41, 'output_tokens': 80, 'total_tokens': 121, 'input_token_details': {'audio': 0, 'cache_read': 0}, 'output_token_details': {'audio': 0, 'reasoning': 0}}),\n",
       "   HumanMessage(content='Que modelos tienes?', additional_kwargs={}, response_metadata={}, id='f5ea63c0-c278-4432-855d-c1d9274b1819'),\n",
       "   AIMessage(content='¡Claro, Nahum! Tengo una variedad de modelos que podrían interesarte. Aquí te dejo algunas opciones:\\n\\n1. **Toyota Corolla** - Un clásico, conocido por su durabilidad y eficiencia de combustible. Ideal para el uso diario.\\n   \\n2. **Nissan Qashqai** - Un SUV compacto muy cómodo y espacioso, perfecto para las familias y con buena tecnología.\\n\\n3. **Kia Sportage** - Otro SUV, con un diseño moderno y características de seguridad avanzadas. ¡Una opción muy popular!\\n\\n4. **Hyundai Accent** - Un sedán económico y fácil de manejar, ideal para la ciudad.\\n\\n5. **Chevrolet Tracker** - Compacto y versátil, con buen espacio y tecnología inteligente.\\n\\n6. **Suzuki Vitara** - Un SUV que combina rendimiento y comodidad, excelente para aventuras.\\n\\nEstos son solo algunos de los modelos que tengo. ¿Hay alguno que te llame la atención o que quieras saber más? ¡Estoy aquí para ayudarte!', additional_kwargs={'refusal': None}, response_metadata={'token_usage': {'completion_tokens': 203, 'prompt_tokens': 132, 'total_tokens': 335, 'completion_tokens_details': {'accepted_prediction_tokens': 0, 'audio_tokens': 0, 'reasoning_tokens': 0, 'rejected_prediction_tokens': 0}, 'prompt_tokens_details': {'audio_tokens': 0, 'cached_tokens': 0}}, 'model_name': 'gpt-4o-mini-2024-07-18', 'system_fingerprint': 'fp_f2cd28694a', 'finish_reason': 'stop', 'logprobs': None}, id='run-9c87c8cd-6639-4f03-9e18-29386fdb7e50-0', usage_metadata={'input_tokens': 132, 'output_tokens': 203, 'total_tokens': 335, 'input_token_details': {'audio': 0, 'cache_read': 0}, 'output_token_details': {'audio': 0, 'reasoning': 0}})],\n",
       "  'model': 'model'},\n",
       " 'channel_versions': {'__start__': '00000000000000000000000000000005.0.6931611281647173',\n",
       "  'messages': '00000000000000000000000000000006.0.5819110743330105',\n",
       "  'start:model': '00000000000000000000000000000006.0.3990770893568176',\n",
       "  'model': '00000000000000000000000000000006.0.598265463712728'},\n",
       " 'versions_seen': {'__input__': {},\n",
       "  '__start__': {'__start__': '00000000000000000000000000000004.0.8203899418773022'},\n",
       "  'model': {'start:model': '00000000000000000000000000000005.0.5576350367200711'}},\n",
       " 'pending_sends': []}"
      ]
     },
     "execution_count": 31,
     "metadata": {},
     "output_type": "execute_result"
    }
   ],
   "source": [
    "state = memory.get({\"configurable\": {\"thread_id\": 'abc345'}})\n",
    "state"
   ]
  },
  {
   "cell_type": "code",
   "execution_count": 39,
   "metadata": {},
   "outputs": [
    {
     "data": {
      "text/plain": [
       "[\"HumanMessage(content='Hola, ¿cómo estás?, Soy Nahum')\",\n",
       " \"AIMessage(content='¡Hola, Nahum! ¿Cómo estás? Espero que te encuentres muy bien. Aquí estoy listo para ayudarte a encontrar el auto que mejor se adapte a tus necesidades. ¿Qué tipo de vehículo estás buscando? ¿Algo económico, familiar, o tal vez un SUV? Cuéntame y con gusto te muestro las opciones que tenemos. ¡Estoy aquí para hacerte la mejor oferta!')\",\n",
       " \"HumanMessage(content='Que modelos tienes?')\",\n",
       " \"AIMessage(content='¡Claro, Nahum! Tengo una variedad de modelos que podrían interesarte. Aquí te dejo algunas opciones:\\\\n\\\\n1. **Toyota Corolla** - Un clásico, conocido por su durabilidad y eficiencia de combustible. Ideal para el uso diario.\\\\n   \\\\n2. **Nissan Qashqai** - Un SUV compacto muy cómodo y espacioso, perfecto para las familias y con buena tecnología.\\\\n\\\\n3. **Kia Sportage** - Otro SUV, con un diseño moderno y características de seguridad avanzadas. ¡Una opción muy popular!\\\\n\\\\n4. **Hyundai Accent** - Un sedán económico y fácil de manejar, ideal para la ciudad.\\\\n\\\\n5. **Chevrolet Tracker** - Compacto y versátil, con buen espacio y tecnología inteligente.\\\\n\\\\n6. **Suzuki Vitara** - Un SUV que combina rendimiento y comodidad, excelente para aventuras.\\\\n\\\\nEstos son solo algunos de los modelos que tengo. ¿Hay alguno que te llame la atención o que quieras saber más? ¡Estoy aquí para ayudarte!')\"]"
      ]
     },
     "execution_count": 39,
     "metadata": {},
     "output_type": "execute_result"
    }
   ],
   "source": [
    "# Extraer mensajes del estado\n",
    "messages = state[\"channel_values\"][\"messages\"]\n",
    "\n",
    "# Filtrar solo el contenido de cada mensaje\n",
    "formatted_messages = [\n",
    "    f\"{msg.__class__.__name__}(content={repr(msg.content)})\" for msg in messages\n",
    "]\n",
    "formatted_messages"
   ]
  },
  {
   "cell_type": "markdown",
   "metadata": {},
   "source": [
    "# 4. Agregar un trimmer"
   ]
  },
  {
   "cell_type": "code",
   "execution_count": 42,
   "metadata": {},
   "outputs": [],
   "source": [
    "from typing import Sequence\n",
    "\n",
    "from langchain_core.messages import BaseMessage\n",
    "from langgraph.graph.message import add_messages\n",
    "from typing_extensions import Annotated, TypedDict"
   ]
  },
  {
   "cell_type": "code",
   "execution_count": 43,
   "metadata": {},
   "outputs": [],
   "source": [
    "class State(TypedDict):\n",
    "    messages: Annotated[Sequence[BaseMessage], add_messages]\n",
    "    language: str"
   ]
  },
  {
   "cell_type": "code",
   "execution_count": 44,
   "metadata": {},
   "outputs": [
    {
     "data": {
      "text/plain": [
       "[SystemMessage(content=\"you're a good assistant\", additional_kwargs={}, response_metadata={}),\n",
       " HumanMessage(content='whats 2 + 2', additional_kwargs={}, response_metadata={}),\n",
       " AIMessage(content='4', additional_kwargs={}, response_metadata={}),\n",
       " HumanMessage(content='thanks', additional_kwargs={}, response_metadata={}),\n",
       " AIMessage(content='no problem!', additional_kwargs={}, response_metadata={}),\n",
       " HumanMessage(content='having fun?', additional_kwargs={}, response_metadata={}),\n",
       " AIMessage(content='yes!', additional_kwargs={}, response_metadata={})]"
      ]
     },
     "execution_count": 44,
     "metadata": {},
     "output_type": "execute_result"
    }
   ],
   "source": [
    "from langchain_core.messages import SystemMessage, trim_messages\n",
    "\n",
    "trimmer = trim_messages(\n",
    "    max_tokens=65,\n",
    "    strategy=\"last\",\n",
    "    token_counter=model,\n",
    "    include_system=True,\n",
    "    allow_partial=False,\n",
    "    start_on=\"human\",\n",
    ")\n",
    "\n",
    "messages = [\n",
    "    SystemMessage(content=\"you're a good assistant\"),\n",
    "    HumanMessage(content=\"hi! I'm bob\"),\n",
    "    AIMessage(content=\"hi!\"),\n",
    "    HumanMessage(content=\"I like vanilla ice cream\"),\n",
    "    AIMessage(content=\"nice\"),\n",
    "    HumanMessage(content=\"whats 2 + 2\"),\n",
    "    AIMessage(content=\"4\"),\n",
    "    HumanMessage(content=\"thanks\"),\n",
    "    AIMessage(content=\"no problem!\"),\n",
    "    HumanMessage(content=\"having fun?\"),\n",
    "    AIMessage(content=\"yes!\"),\n",
    "]\n",
    "\n",
    "trimmer.invoke(messages)"
   ]
  },
  {
   "cell_type": "code",
   "execution_count": 45,
   "metadata": {},
   "outputs": [],
   "source": [
    "workflow = StateGraph(state_schema=State)\n",
    "\n",
    "\n",
    "def call_model(state: State):\n",
    "    trimmed_messages = trimmer.invoke(state[\"messages\"])\n",
    "    prompt = prompt_template.invoke(\n",
    "        {\"messages\": trimmed_messages, \"language\": state[\"language\"]}\n",
    "    )\n",
    "    response = model.invoke(prompt)\n",
    "    return {\"messages\": [response]}\n",
    "\n",
    "\n",
    "workflow.add_edge(START, \"model\")\n",
    "workflow.add_node(\"model\", call_model)\n",
    "\n",
    "memory = MemorySaver()\n",
    "app = workflow.compile(checkpointer=memory)"
   ]
  },
  {
   "cell_type": "code",
   "execution_count": 46,
   "metadata": {},
   "outputs": [
    {
     "name": "stdout",
     "output_type": "stream",
     "text": [
      "==================================\u001b[1m Ai Message \u001b[0m==================================\n",
      "\n",
      "Lo siento, no tengo forma de saber tu nombre. Pero, ¿te gustaría compartirlo?\n"
     ]
    }
   ],
   "source": [
    "config = {\"configurable\": {\"thread_id\": \"abc567\"}}\n",
    "query = \"What is my name?\"\n",
    "language = \"English\"\n",
    "\n",
    "input_messages = messages + [HumanMessage(query)]\n",
    "output = app.invoke(\n",
    "    {\"messages\": input_messages, \"language\": language},\n",
    "    config,\n",
    ")\n",
    "output[\"messages\"][-1].pretty_print()"
   ]
  },
  {
   "cell_type": "code",
   "execution_count": 49,
   "metadata": {},
   "outputs": [
    {
     "name": "stdout",
     "output_type": "stream",
     "text": [
      "|¡|Hola| Todd|!| Claro|,| aquí| va| un| ch|iste| para| ti|:| \n",
      "\n",
      "|¿Por| qué| los| autos| no| pueden| jugar| a| las| escond|idas|?| \n",
      "\n",
      "|¡|Porque| siempre| se| dejan| ver|!| \n",
      "\n",
      "|Espero| que| te| haya| sac|ado| una| sonrisa|.| Si| necesitas| algo| más|,| ¡|a|quí| estoy| para| ayudarte|!||"
     ]
    }
   ],
   "source": [
    "config = {\"configurable\": {\"thread_id\": \"abc789\"}}\n",
    "query = \"Hi I'm Todd, please tell me a joke.\"\n",
    "language = \"English\"\n",
    "\n",
    "input_messages = [HumanMessage(query)]\n",
    "for chunk, metadata in app.stream(\n",
    "    {\"messages\": input_messages, \"language\": language},\n",
    "    config,\n",
    "    stream_mode=\"messages\",\n",
    "):\n",
    "    if isinstance(chunk, AIMessage):  # Filter to just model responses\n",
    "        print(chunk.content, end=\"|\")"
   ]
  },
  {
   "cell_type": "code",
   "execution_count": null,
   "metadata": {},
   "outputs": [],
   "source": []
  }
 ],
 "metadata": {
  "kernelspec": {
   "display_name": "venv_langchain_px",
   "language": "python",
   "name": "python3"
  },
  "language_info": {
   "codemirror_mode": {
    "name": "ipython",
    "version": 3
   },
   "file_extension": ".py",
   "mimetype": "text/x-python",
   "name": "python",
   "nbconvert_exporter": "python",
   "pygments_lexer": "ipython3",
   "version": "3.10.16"
  }
 },
 "nbformat": 4,
 "nbformat_minor": 2
}
