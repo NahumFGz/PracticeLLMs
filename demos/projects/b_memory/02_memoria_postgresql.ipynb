{
 "cells": [
  {
   "cell_type": "markdown",
   "metadata": {},
   "source": [
    "# 1. Memoria con PostgreSQL\n",
    "https://langchain-ai.github.io/langgraph/how-tos/persistence_postgres/"
   ]
  },
  {
   "cell_type": "code",
   "execution_count": 30,
   "metadata": {},
   "outputs": [],
   "source": [
    "from decouple import config\n",
    "\n",
    "DB_HOST = config(\"DB_HOST\")\n",
    "DB_PORT= config(\"DB_PORT\")\n",
    "DB_NAME= config(\"DB_NAME\")\n",
    "DB_USER= config(\"DB_USER\")\n",
    "DB_PASSWORD= config(\"DB_PASSWORD\")"
   ]
  },
  {
   "cell_type": "code",
   "execution_count": 31,
   "metadata": {},
   "outputs": [],
   "source": [
    "DB_URI = f\"postgresql://{DB_USER}:{DB_PASSWORD}@{DB_HOST}:{DB_PORT}/{DB_NAME}?sslmode=disable\""
   ]
  },
  {
   "cell_type": "code",
   "execution_count": 32,
   "metadata": {},
   "outputs": [],
   "source": [
    "connection_kwargs = {\n",
    "    \"autocommit\": True,\n",
    "    \"prepare_threshold\": 0,\n",
    "}"
   ]
  },
  {
   "cell_type": "markdown",
   "metadata": {},
   "source": [
    "## Define model and tools for the graph\n"
   ]
  },
  {
   "cell_type": "code",
   "execution_count": 33,
   "metadata": {},
   "outputs": [],
   "source": [
    "from typing import Literal\n",
    "\n",
    "from langchain_core.tools import tool\n",
    "from langchain_openai import ChatOpenAI\n",
    "from langgraph.prebuilt import create_react_agent\n",
    "from langgraph.checkpoint.postgres import PostgresSaver\n",
    "from langgraph.checkpoint.postgres.aio import AsyncPostgresSaver\n",
    "\n",
    "\n",
    "@tool\n",
    "def get_weather(city: Literal[\"nyc\", \"sf\"]):\n",
    "    \"\"\"Use this to get weather information.\"\"\"\n",
    "    if city == \"nyc\":\n",
    "        return \"It might be cloudy in nyc\"\n",
    "    elif city == \"sf\":\n",
    "        return \"It's always sunny in sf\"\n",
    "    else:\n",
    "        raise AssertionError(\"Unknown city\")\n",
    "\n",
    "\n",
    "tools = [get_weather]\n",
    "model = ChatOpenAI(model_name=\"gpt-4o-mini\", temperature=0)"
   ]
  },
  {
   "cell_type": "markdown",
   "metadata": {},
   "source": [
    "## Use sync connection\n"
   ]
  },
  {
   "cell_type": "code",
   "execution_count": 34,
   "metadata": {},
   "outputs": [],
   "source": [
    "from psycopg_pool import ConnectionPool\n",
    "\n",
    "with ConnectionPool(\n",
    "    # Example configuration\n",
    "    conninfo=DB_URI,\n",
    "    max_size=20,\n",
    "    kwargs=connection_kwargs,\n",
    ") as pool:\n",
    "    checkpointer = PostgresSaver(pool)\n",
    "\n",
    "    # NOTE: you need to call .setup() the first time you're using your checkpointer\n",
    "    checkpointer.setup()\n",
    "\n",
    "    graph = create_react_agent(model, tools=tools, checkpointer=checkpointer)\n",
    "    config = {\"configurable\": {\"thread_id\": \"1\"}}\n",
    "    res = graph.invoke({\"messages\": [(\"human\", \"what's the weather in sf\")]}, config)\n",
    "    checkpoint = checkpointer.get(config)"
   ]
  },
  {
   "cell_type": "code",
   "execution_count": 35,
   "metadata": {},
   "outputs": [
    {
     "data": {
      "text/plain": [
       "{'messages': [HumanMessage(content=\"what's the weather in sf\", additional_kwargs={}, response_metadata={}, id='d9a8e7db-0166-4b95-939f-ddebc4c78074'),\n",
       "  AIMessage(content='', additional_kwargs={'tool_calls': [{'id': 'call_KKcWgCvP3ILv7DU18dGRdfUv', 'function': {'arguments': '{\"city\":\"sf\"}', 'name': 'get_weather'}, 'type': 'function'}], 'refusal': None}, response_metadata={'token_usage': {'completion_tokens': 15, 'prompt_tokens': 57, 'total_tokens': 72, 'completion_tokens_details': {'accepted_prediction_tokens': 0, 'audio_tokens': 0, 'reasoning_tokens': 0, 'rejected_prediction_tokens': 0}, 'prompt_tokens_details': {'audio_tokens': 0, 'cached_tokens': 0}}, 'model_name': 'gpt-4o-mini-2024-07-18', 'system_fingerprint': 'fp_bd83329f63', 'finish_reason': 'tool_calls', 'logprobs': None}, id='run-31200184-08e2-4731-bf9e-c7be3cebac38-0', tool_calls=[{'name': 'get_weather', 'args': {'city': 'sf'}, 'id': 'call_KKcWgCvP3ILv7DU18dGRdfUv', 'type': 'tool_call'}], usage_metadata={'input_tokens': 57, 'output_tokens': 15, 'total_tokens': 72, 'input_token_details': {'audio': 0, 'cache_read': 0}, 'output_token_details': {'audio': 0, 'reasoning': 0}}),\n",
       "  ToolMessage(content=\"It's always sunny in sf\", name='get_weather', id='f081cc0c-6008-45af-b973-14b55aef5bf1', tool_call_id='call_KKcWgCvP3ILv7DU18dGRdfUv'),\n",
       "  AIMessage(content='The weather in San Francisco is always sunny!', additional_kwargs={'refusal': None}, response_metadata={'token_usage': {'completion_tokens': 11, 'prompt_tokens': 84, 'total_tokens': 95, 'completion_tokens_details': {'accepted_prediction_tokens': 0, 'audio_tokens': 0, 'reasoning_tokens': 0, 'rejected_prediction_tokens': 0}, 'prompt_tokens_details': {'audio_tokens': 0, 'cached_tokens': 0}}, 'model_name': 'gpt-4o-mini-2024-07-18', 'system_fingerprint': 'fp_72ed7ab54c', 'finish_reason': 'stop', 'logprobs': None}, id='run-add530d7-6821-4da1-994f-3d47b5cd95b0-0', usage_metadata={'input_tokens': 84, 'output_tokens': 11, 'total_tokens': 95, 'input_token_details': {'audio': 0, 'cache_read': 0}, 'output_token_details': {'audio': 0, 'reasoning': 0}}),\n",
       "  HumanMessage(content=\"what's the weather in sf\", additional_kwargs={}, response_metadata={}, id='dfc8aba6-6f08-4344-8b22-70e6608ef58d'),\n",
       "  AIMessage(content='', additional_kwargs={'tool_calls': [{'id': 'call_sc8K5fN54tkOLHynH820EtXN', 'function': {'arguments': '{\"city\":\"sf\"}', 'name': 'get_weather'}, 'type': 'function'}], 'refusal': None}, response_metadata={'token_usage': {'completion_tokens': 15, 'prompt_tokens': 107, 'total_tokens': 122, 'completion_tokens_details': {'accepted_prediction_tokens': 0, 'audio_tokens': 0, 'reasoning_tokens': 0, 'rejected_prediction_tokens': 0}, 'prompt_tokens_details': {'audio_tokens': 0, 'cached_tokens': 0}}, 'model_name': 'gpt-4o-mini-2024-07-18', 'system_fingerprint': 'fp_72ed7ab54c', 'finish_reason': 'tool_calls', 'logprobs': None}, id='run-81b25489-4335-436f-83aa-7cfa573eefa4-0', tool_calls=[{'name': 'get_weather', 'args': {'city': 'sf'}, 'id': 'call_sc8K5fN54tkOLHynH820EtXN', 'type': 'tool_call'}], usage_metadata={'input_tokens': 107, 'output_tokens': 15, 'total_tokens': 122, 'input_token_details': {'audio': 0, 'cache_read': 0}, 'output_token_details': {'audio': 0, 'reasoning': 0}}),\n",
       "  ToolMessage(content=\"It's always sunny in sf\", name='get_weather', id='75d209cd-5964-47cd-97b1-843617f9e979', tool_call_id='call_sc8K5fN54tkOLHynH820EtXN'),\n",
       "  AIMessage(content='The weather in San Francisco is always sunny!', additional_kwargs={'refusal': None}, response_metadata={'token_usage': {'completion_tokens': 11, 'prompt_tokens': 134, 'total_tokens': 145, 'completion_tokens_details': {'accepted_prediction_tokens': 0, 'audio_tokens': 0, 'reasoning_tokens': 0, 'rejected_prediction_tokens': 0}, 'prompt_tokens_details': {'audio_tokens': 0, 'cached_tokens': 0}}, 'model_name': 'gpt-4o-mini-2024-07-18', 'system_fingerprint': 'fp_72ed7ab54c', 'finish_reason': 'stop', 'logprobs': None}, id='run-512189ce-86ab-4f65-be83-fcd3372ccf76-0', usage_metadata={'input_tokens': 134, 'output_tokens': 11, 'total_tokens': 145, 'input_token_details': {'audio': 0, 'cache_read': 0}, 'output_token_details': {'audio': 0, 'reasoning': 0}}),\n",
       "  HumanMessage(content=\"what's the weather in sf\", additional_kwargs={}, response_metadata={}, id='fb939978-ef68-4a8f-80b8-aca65dfb1129'),\n",
       "  AIMessage(content='', additional_kwargs={'tool_calls': [{'id': 'call_1K8dCNAo2qPk5KpofF4v8VIn', 'function': {'arguments': '{\"city\":\"sf\"}', 'name': 'get_weather'}, 'type': 'function'}], 'refusal': None}, response_metadata={'token_usage': {'completion_tokens': 15, 'prompt_tokens': 157, 'total_tokens': 172, 'completion_tokens_details': {'accepted_prediction_tokens': 0, 'audio_tokens': 0, 'reasoning_tokens': 0, 'rejected_prediction_tokens': 0}, 'prompt_tokens_details': {'audio_tokens': 0, 'cached_tokens': 0}}, 'model_name': 'gpt-4o-mini-2024-07-18', 'system_fingerprint': 'fp_72ed7ab54c', 'finish_reason': 'tool_calls', 'logprobs': None}, id='run-ce79e857-44aa-4814-9352-9f78845ad659-0', tool_calls=[{'name': 'get_weather', 'args': {'city': 'sf'}, 'id': 'call_1K8dCNAo2qPk5KpofF4v8VIn', 'type': 'tool_call'}], usage_metadata={'input_tokens': 157, 'output_tokens': 15, 'total_tokens': 172, 'input_token_details': {'audio': 0, 'cache_read': 0}, 'output_token_details': {'audio': 0, 'reasoning': 0}}),\n",
       "  ToolMessage(content=\"It's always sunny in sf\", name='get_weather', id='51398e7a-1e98-442c-a72e-2075d65fe1c5', tool_call_id='call_1K8dCNAo2qPk5KpofF4v8VIn'),\n",
       "  AIMessage(content='The weather in San Francisco is always sunny!', additional_kwargs={'refusal': None}, response_metadata={'token_usage': {'completion_tokens': 11, 'prompt_tokens': 184, 'total_tokens': 195, 'completion_tokens_details': {'accepted_prediction_tokens': 0, 'audio_tokens': 0, 'reasoning_tokens': 0, 'rejected_prediction_tokens': 0}, 'prompt_tokens_details': {'audio_tokens': 0, 'cached_tokens': 0}}, 'model_name': 'gpt-4o-mini-2024-07-18', 'system_fingerprint': 'fp_bd83329f63', 'finish_reason': 'stop', 'logprobs': None}, id='run-c9cccd61-2483-4ac0-9edf-15f8c9b901d5-0', usage_metadata={'input_tokens': 184, 'output_tokens': 11, 'total_tokens': 195, 'input_token_details': {'audio': 0, 'cache_read': 0}, 'output_token_details': {'audio': 0, 'reasoning': 0}}),\n",
       "  HumanMessage(content=\"what's the weather in sf\", additional_kwargs={}, response_metadata={}, id='84189972-2f70-40ea-8a35-0f0a066fe885'),\n",
       "  AIMessage(content='', additional_kwargs={'tool_calls': [{'id': 'call_ZXoOD7I2CPSwKCz6lht7Prmn', 'function': {'arguments': '{\"city\":\"sf\"}', 'name': 'get_weather'}, 'type': 'function'}], 'refusal': None}, response_metadata={'token_usage': {'completion_tokens': 15, 'prompt_tokens': 207, 'total_tokens': 222, 'completion_tokens_details': {'accepted_prediction_tokens': 0, 'audio_tokens': 0, 'reasoning_tokens': 0, 'rejected_prediction_tokens': 0}, 'prompt_tokens_details': {'audio_tokens': 0, 'cached_tokens': 0}}, 'model_name': 'gpt-4o-mini-2024-07-18', 'system_fingerprint': 'fp_bd83329f63', 'finish_reason': 'tool_calls', 'logprobs': None}, id='run-fc61ca42-ef23-416a-bef1-9d9dead95c7d-0', tool_calls=[{'name': 'get_weather', 'args': {'city': 'sf'}, 'id': 'call_ZXoOD7I2CPSwKCz6lht7Prmn', 'type': 'tool_call'}], usage_metadata={'input_tokens': 207, 'output_tokens': 15, 'total_tokens': 222, 'input_token_details': {'audio': 0, 'cache_read': 0}, 'output_token_details': {'audio': 0, 'reasoning': 0}}),\n",
       "  ToolMessage(content=\"It's always sunny in sf\", name='get_weather', id='a1b9de25-02f6-42c1-b480-9f6f9574106f', tool_call_id='call_ZXoOD7I2CPSwKCz6lht7Prmn'),\n",
       "  AIMessage(content='The weather in San Francisco is always sunny!', additional_kwargs={'refusal': None}, response_metadata={'token_usage': {'completion_tokens': 11, 'prompt_tokens': 234, 'total_tokens': 245, 'completion_tokens_details': {'accepted_prediction_tokens': 0, 'audio_tokens': 0, 'reasoning_tokens': 0, 'rejected_prediction_tokens': 0}, 'prompt_tokens_details': {'audio_tokens': 0, 'cached_tokens': 0}}, 'model_name': 'gpt-4o-mini-2024-07-18', 'system_fingerprint': 'fp_bd83329f63', 'finish_reason': 'stop', 'logprobs': None}, id='run-1f9bac7d-ed2d-41be-9ca8-fc32327661d2-0', usage_metadata={'input_tokens': 234, 'output_tokens': 11, 'total_tokens': 245, 'input_token_details': {'audio': 0, 'cache_read': 0}, 'output_token_details': {'audio': 0, 'reasoning': 0}})]}"
      ]
     },
     "execution_count": 35,
     "metadata": {},
     "output_type": "execute_result"
    }
   ],
   "source": [
    "res"
   ]
  },
  {
   "cell_type": "code",
   "execution_count": 36,
   "metadata": {},
   "outputs": [
    {
     "data": {
      "text/plain": [
       "{'v': 1,\n",
       " 'id': '1efcfda1-44ca-69e6-8012-0f89ad01f512',\n",
       " 'ts': '2025-01-11T05:08:22.216285+00:00',\n",
       " 'pending_sends': [],\n",
       " 'versions_seen': {'agent': {'tools': '00000000000000000000000000000019.0.7194019897358124',\n",
       "   'start:agent': '00000000000000000000000000000017.0.2592669383603905'},\n",
       "  'tools': {'branch:agent:should_continue:tools': '00000000000000000000000000000018.0.8686643368804985'},\n",
       "  '__input__': {},\n",
       "  '__start__': {'__start__': '00000000000000000000000000000016.0.16288013815677638'}},\n",
       " 'channel_versions': {'agent': '00000000000000000000000000000020.0.9516154216152956',\n",
       "  'tools': '00000000000000000000000000000020.0.7580221657107787',\n",
       "  'messages': '00000000000000000000000000000020.0.5200829379257798',\n",
       "  '__start__': '00000000000000000000000000000017.0.14581068488974636',\n",
       "  'start:agent': '00000000000000000000000000000018.0.8171452088729027',\n",
       "  'branch:agent:should_continue:tools': '00000000000000000000000000000019.0.389313083226011'},\n",
       " 'channel_values': {'agent': 'agent',\n",
       "  'messages': [HumanMessage(content=\"what's the weather in sf\", additional_kwargs={}, response_metadata={}, id='d9a8e7db-0166-4b95-939f-ddebc4c78074'),\n",
       "   AIMessage(content='', additional_kwargs={'tool_calls': [{'id': 'call_KKcWgCvP3ILv7DU18dGRdfUv', 'function': {'arguments': '{\"city\":\"sf\"}', 'name': 'get_weather'}, 'type': 'function'}], 'refusal': None}, response_metadata={'token_usage': {'completion_tokens': 15, 'prompt_tokens': 57, 'total_tokens': 72, 'completion_tokens_details': {'accepted_prediction_tokens': 0, 'audio_tokens': 0, 'reasoning_tokens': 0, 'rejected_prediction_tokens': 0}, 'prompt_tokens_details': {'audio_tokens': 0, 'cached_tokens': 0}}, 'model_name': 'gpt-4o-mini-2024-07-18', 'system_fingerprint': 'fp_bd83329f63', 'finish_reason': 'tool_calls', 'logprobs': None}, id='run-31200184-08e2-4731-bf9e-c7be3cebac38-0', tool_calls=[{'name': 'get_weather', 'args': {'city': 'sf'}, 'id': 'call_KKcWgCvP3ILv7DU18dGRdfUv', 'type': 'tool_call'}], usage_metadata={'input_tokens': 57, 'output_tokens': 15, 'total_tokens': 72, 'input_token_details': {'audio': 0, 'cache_read': 0}, 'output_token_details': {'audio': 0, 'reasoning': 0}}),\n",
       "   ToolMessage(content=\"It's always sunny in sf\", name='get_weather', id='f081cc0c-6008-45af-b973-14b55aef5bf1', tool_call_id='call_KKcWgCvP3ILv7DU18dGRdfUv'),\n",
       "   AIMessage(content='The weather in San Francisco is always sunny!', additional_kwargs={'refusal': None}, response_metadata={'token_usage': {'completion_tokens': 11, 'prompt_tokens': 84, 'total_tokens': 95, 'completion_tokens_details': {'accepted_prediction_tokens': 0, 'audio_tokens': 0, 'reasoning_tokens': 0, 'rejected_prediction_tokens': 0}, 'prompt_tokens_details': {'audio_tokens': 0, 'cached_tokens': 0}}, 'model_name': 'gpt-4o-mini-2024-07-18', 'system_fingerprint': 'fp_72ed7ab54c', 'finish_reason': 'stop', 'logprobs': None}, id='run-add530d7-6821-4da1-994f-3d47b5cd95b0-0', usage_metadata={'input_tokens': 84, 'output_tokens': 11, 'total_tokens': 95, 'input_token_details': {'audio': 0, 'cache_read': 0}, 'output_token_details': {'audio': 0, 'reasoning': 0}}),\n",
       "   HumanMessage(content=\"what's the weather in sf\", additional_kwargs={}, response_metadata={}, id='dfc8aba6-6f08-4344-8b22-70e6608ef58d'),\n",
       "   AIMessage(content='', additional_kwargs={'tool_calls': [{'id': 'call_sc8K5fN54tkOLHynH820EtXN', 'function': {'arguments': '{\"city\":\"sf\"}', 'name': 'get_weather'}, 'type': 'function'}], 'refusal': None}, response_metadata={'token_usage': {'completion_tokens': 15, 'prompt_tokens': 107, 'total_tokens': 122, 'completion_tokens_details': {'accepted_prediction_tokens': 0, 'audio_tokens': 0, 'reasoning_tokens': 0, 'rejected_prediction_tokens': 0}, 'prompt_tokens_details': {'audio_tokens': 0, 'cached_tokens': 0}}, 'model_name': 'gpt-4o-mini-2024-07-18', 'system_fingerprint': 'fp_72ed7ab54c', 'finish_reason': 'tool_calls', 'logprobs': None}, id='run-81b25489-4335-436f-83aa-7cfa573eefa4-0', tool_calls=[{'name': 'get_weather', 'args': {'city': 'sf'}, 'id': 'call_sc8K5fN54tkOLHynH820EtXN', 'type': 'tool_call'}], usage_metadata={'input_tokens': 107, 'output_tokens': 15, 'total_tokens': 122, 'input_token_details': {'audio': 0, 'cache_read': 0}, 'output_token_details': {'audio': 0, 'reasoning': 0}}),\n",
       "   ToolMessage(content=\"It's always sunny in sf\", name='get_weather', id='75d209cd-5964-47cd-97b1-843617f9e979', tool_call_id='call_sc8K5fN54tkOLHynH820EtXN'),\n",
       "   AIMessage(content='The weather in San Francisco is always sunny!', additional_kwargs={'refusal': None}, response_metadata={'token_usage': {'completion_tokens': 11, 'prompt_tokens': 134, 'total_tokens': 145, 'completion_tokens_details': {'accepted_prediction_tokens': 0, 'audio_tokens': 0, 'reasoning_tokens': 0, 'rejected_prediction_tokens': 0}, 'prompt_tokens_details': {'audio_tokens': 0, 'cached_tokens': 0}}, 'model_name': 'gpt-4o-mini-2024-07-18', 'system_fingerprint': 'fp_72ed7ab54c', 'finish_reason': 'stop', 'logprobs': None}, id='run-512189ce-86ab-4f65-be83-fcd3372ccf76-0', usage_metadata={'input_tokens': 134, 'output_tokens': 11, 'total_tokens': 145, 'input_token_details': {'audio': 0, 'cache_read': 0}, 'output_token_details': {'audio': 0, 'reasoning': 0}}),\n",
       "   HumanMessage(content=\"what's the weather in sf\", additional_kwargs={}, response_metadata={}, id='fb939978-ef68-4a8f-80b8-aca65dfb1129'),\n",
       "   AIMessage(content='', additional_kwargs={'tool_calls': [{'id': 'call_1K8dCNAo2qPk5KpofF4v8VIn', 'function': {'arguments': '{\"city\":\"sf\"}', 'name': 'get_weather'}, 'type': 'function'}], 'refusal': None}, response_metadata={'token_usage': {'completion_tokens': 15, 'prompt_tokens': 157, 'total_tokens': 172, 'completion_tokens_details': {'accepted_prediction_tokens': 0, 'audio_tokens': 0, 'reasoning_tokens': 0, 'rejected_prediction_tokens': 0}, 'prompt_tokens_details': {'audio_tokens': 0, 'cached_tokens': 0}}, 'model_name': 'gpt-4o-mini-2024-07-18', 'system_fingerprint': 'fp_72ed7ab54c', 'finish_reason': 'tool_calls', 'logprobs': None}, id='run-ce79e857-44aa-4814-9352-9f78845ad659-0', tool_calls=[{'name': 'get_weather', 'args': {'city': 'sf'}, 'id': 'call_1K8dCNAo2qPk5KpofF4v8VIn', 'type': 'tool_call'}], usage_metadata={'input_tokens': 157, 'output_tokens': 15, 'total_tokens': 172, 'input_token_details': {'audio': 0, 'cache_read': 0}, 'output_token_details': {'audio': 0, 'reasoning': 0}}),\n",
       "   ToolMessage(content=\"It's always sunny in sf\", name='get_weather', id='51398e7a-1e98-442c-a72e-2075d65fe1c5', tool_call_id='call_1K8dCNAo2qPk5KpofF4v8VIn'),\n",
       "   AIMessage(content='The weather in San Francisco is always sunny!', additional_kwargs={'refusal': None}, response_metadata={'token_usage': {'completion_tokens': 11, 'prompt_tokens': 184, 'total_tokens': 195, 'completion_tokens_details': {'accepted_prediction_tokens': 0, 'audio_tokens': 0, 'reasoning_tokens': 0, 'rejected_prediction_tokens': 0}, 'prompt_tokens_details': {'audio_tokens': 0, 'cached_tokens': 0}}, 'model_name': 'gpt-4o-mini-2024-07-18', 'system_fingerprint': 'fp_bd83329f63', 'finish_reason': 'stop', 'logprobs': None}, id='run-c9cccd61-2483-4ac0-9edf-15f8c9b901d5-0', usage_metadata={'input_tokens': 184, 'output_tokens': 11, 'total_tokens': 195, 'input_token_details': {'audio': 0, 'cache_read': 0}, 'output_token_details': {'audio': 0, 'reasoning': 0}}),\n",
       "   HumanMessage(content=\"what's the weather in sf\", additional_kwargs={}, response_metadata={}, id='84189972-2f70-40ea-8a35-0f0a066fe885'),\n",
       "   AIMessage(content='', additional_kwargs={'tool_calls': [{'id': 'call_ZXoOD7I2CPSwKCz6lht7Prmn', 'function': {'arguments': '{\"city\":\"sf\"}', 'name': 'get_weather'}, 'type': 'function'}], 'refusal': None}, response_metadata={'token_usage': {'completion_tokens': 15, 'prompt_tokens': 207, 'total_tokens': 222, 'completion_tokens_details': {'accepted_prediction_tokens': 0, 'audio_tokens': 0, 'reasoning_tokens': 0, 'rejected_prediction_tokens': 0}, 'prompt_tokens_details': {'audio_tokens': 0, 'cached_tokens': 0}}, 'model_name': 'gpt-4o-mini-2024-07-18', 'system_fingerprint': 'fp_bd83329f63', 'finish_reason': 'tool_calls', 'logprobs': None}, id='run-fc61ca42-ef23-416a-bef1-9d9dead95c7d-0', tool_calls=[{'name': 'get_weather', 'args': {'city': 'sf'}, 'id': 'call_ZXoOD7I2CPSwKCz6lht7Prmn', 'type': 'tool_call'}], usage_metadata={'input_tokens': 207, 'output_tokens': 15, 'total_tokens': 222, 'input_token_details': {'audio': 0, 'cache_read': 0}, 'output_token_details': {'audio': 0, 'reasoning': 0}}),\n",
       "   ToolMessage(content=\"It's always sunny in sf\", name='get_weather', id='a1b9de25-02f6-42c1-b480-9f6f9574106f', tool_call_id='call_ZXoOD7I2CPSwKCz6lht7Prmn'),\n",
       "   AIMessage(content='The weather in San Francisco is always sunny!', additional_kwargs={'refusal': None}, response_metadata={'token_usage': {'completion_tokens': 11, 'prompt_tokens': 234, 'total_tokens': 245, 'completion_tokens_details': {'accepted_prediction_tokens': 0, 'audio_tokens': 0, 'reasoning_tokens': 0, 'rejected_prediction_tokens': 0}, 'prompt_tokens_details': {'audio_tokens': 0, 'cached_tokens': 0}}, 'model_name': 'gpt-4o-mini-2024-07-18', 'system_fingerprint': 'fp_bd83329f63', 'finish_reason': 'stop', 'logprobs': None}, id='run-1f9bac7d-ed2d-41be-9ca8-fc32327661d2-0', usage_metadata={'input_tokens': 234, 'output_tokens': 11, 'total_tokens': 245, 'input_token_details': {'audio': 0, 'cache_read': 0}, 'output_token_details': {'audio': 0, 'reasoning': 0}})]}}"
      ]
     },
     "execution_count": 36,
     "metadata": {},
     "output_type": "execute_result"
    }
   ],
   "source": [
    "checkpoint"
   ]
  },
  {
   "cell_type": "markdown",
   "metadata": {},
   "source": [
    "## Use async connection"
   ]
  },
  {
   "cell_type": "code",
   "execution_count": 44,
   "metadata": {},
   "outputs": [],
   "source": [
    "from psycopg_pool import AsyncConnectionPool\n",
    "\n",
    "async with AsyncConnectionPool(\n",
    "    # Example configuration\n",
    "    conninfo=DB_URI,\n",
    "    max_size=20,\n",
    "    kwargs=connection_kwargs,\n",
    ") as pool:\n",
    "    checkpointer = AsyncPostgresSaver(pool)\n",
    "\n",
    "    # NOTE: you need to call .setup() the first time you're using your checkpointer\n",
    "    await checkpointer.setup()\n",
    "\n",
    "    graph = create_react_agent(model, tools=tools, checkpointer=checkpointer)\n",
    "    config = {\"configurable\": {\"thread_id\": \"8\"}}\n",
    "    res = await graph.ainvoke(\n",
    "        {\"messages\": [(\"human\", \"what's the weather in nyc\")]}, config\n",
    "    )\n",
    "\n",
    "    checkpoint = await checkpointer.aget(config)"
   ]
  },
  {
   "cell_type": "code",
   "execution_count": 45,
   "metadata": {},
   "outputs": [
    {
     "data": {
      "text/plain": [
       "{'messages': [HumanMessage(content=\"what's the weather in nyc\", additional_kwargs={}, response_metadata={}, id='357752e6-ed47-4ed5-9006-ff8ccb0e36e9'),\n",
       "  AIMessage(content='', additional_kwargs={'tool_calls': [{'id': 'call_4OXh9ddkXe4XhnEnLxDMO390', 'function': {'arguments': '{\"city\":\"nyc\"}', 'name': 'get_weather'}, 'type': 'function'}], 'refusal': None}, response_metadata={'token_usage': {'completion_tokens': 16, 'prompt_tokens': 58, 'total_tokens': 74, 'completion_tokens_details': {'accepted_prediction_tokens': 0, 'audio_tokens': 0, 'reasoning_tokens': 0, 'rejected_prediction_tokens': 0}, 'prompt_tokens_details': {'audio_tokens': 0, 'cached_tokens': 0}}, 'model_name': 'gpt-4o-mini-2024-07-18', 'system_fingerprint': 'fp_72ed7ab54c', 'finish_reason': 'tool_calls', 'logprobs': None}, id='run-3a5be048-3713-4f00-a194-4f3b747e8aad-0', tool_calls=[{'name': 'get_weather', 'args': {'city': 'nyc'}, 'id': 'call_4OXh9ddkXe4XhnEnLxDMO390', 'type': 'tool_call'}], usage_metadata={'input_tokens': 58, 'output_tokens': 16, 'total_tokens': 74, 'input_token_details': {'audio': 0, 'cache_read': 0}, 'output_token_details': {'audio': 0, 'reasoning': 0}}),\n",
       "  ToolMessage(content='It might be cloudy in nyc', name='get_weather', id='def2d34d-1208-4a63-98d5-8c8a18660912', tool_call_id='call_4OXh9ddkXe4XhnEnLxDMO390'),\n",
       "  AIMessage(content='The weather in NYC might be cloudy.', additional_kwargs={'refusal': None}, response_metadata={'token_usage': {'completion_tokens': 10, 'prompt_tokens': 88, 'total_tokens': 98, 'completion_tokens_details': {'accepted_prediction_tokens': 0, 'audio_tokens': 0, 'reasoning_tokens': 0, 'rejected_prediction_tokens': 0}, 'prompt_tokens_details': {'audio_tokens': 0, 'cached_tokens': 0}}, 'model_name': 'gpt-4o-mini-2024-07-18', 'system_fingerprint': 'fp_72ed7ab54c', 'finish_reason': 'stop', 'logprobs': None}, id='run-d03c4bbd-98b8-45ff-8824-33c72cfd4eeb-0', usage_metadata={'input_tokens': 88, 'output_tokens': 10, 'total_tokens': 98, 'input_token_details': {'audio': 0, 'cache_read': 0}, 'output_token_details': {'audio': 0, 'reasoning': 0}})]}"
      ]
     },
     "execution_count": 45,
     "metadata": {},
     "output_type": "execute_result"
    }
   ],
   "source": [
    "res"
   ]
  },
  {
   "cell_type": "code",
   "execution_count": 47,
   "metadata": {},
   "outputs": [
    {
     "data": {
      "text/plain": [
       "{'v': 1,\n",
       " 'id': '1efcfeed-f67a-6194-8003-d0a575a29a90',\n",
       " 'ts': '2025-01-11T07:37:12.905123+00:00',\n",
       " 'pending_sends': [],\n",
       " 'versions_seen': {'agent': {'tools': '00000000000000000000000000000004.0.4934158829986399',\n",
       "   'start:agent': '00000000000000000000000000000002.0.3802465834231634'},\n",
       "  'tools': {'branch:agent:should_continue:tools': '00000000000000000000000000000003.0.596339409483013'},\n",
       "  '__input__': {},\n",
       "  '__start__': {'__start__': '00000000000000000000000000000001.0.3689151538392933'}},\n",
       " 'channel_versions': {'agent': '00000000000000000000000000000005.0.24301487924279597',\n",
       "  'tools': '00000000000000000000000000000005.0.14344479701080493',\n",
       "  'messages': '00000000000000000000000000000005.0.9197836540655787',\n",
       "  '__start__': '00000000000000000000000000000002.0.35088172412270713',\n",
       "  'start:agent': '00000000000000000000000000000003.0.19100607466503583',\n",
       "  'branch:agent:should_continue:tools': '00000000000000000000000000000004.0.17745408896865644'},\n",
       " 'channel_values': {'agent': 'agent',\n",
       "  'messages': [HumanMessage(content=\"what's the weather in nyc\", additional_kwargs={}, response_metadata={}, id='357752e6-ed47-4ed5-9006-ff8ccb0e36e9'),\n",
       "   AIMessage(content='', additional_kwargs={'tool_calls': [{'id': 'call_4OXh9ddkXe4XhnEnLxDMO390', 'function': {'arguments': '{\"city\":\"nyc\"}', 'name': 'get_weather'}, 'type': 'function'}], 'refusal': None}, response_metadata={'token_usage': {'completion_tokens': 16, 'prompt_tokens': 58, 'total_tokens': 74, 'completion_tokens_details': {'accepted_prediction_tokens': 0, 'audio_tokens': 0, 'reasoning_tokens': 0, 'rejected_prediction_tokens': 0}, 'prompt_tokens_details': {'audio_tokens': 0, 'cached_tokens': 0}}, 'model_name': 'gpt-4o-mini-2024-07-18', 'system_fingerprint': 'fp_72ed7ab54c', 'finish_reason': 'tool_calls', 'logprobs': None}, id='run-3a5be048-3713-4f00-a194-4f3b747e8aad-0', tool_calls=[{'name': 'get_weather', 'args': {'city': 'nyc'}, 'id': 'call_4OXh9ddkXe4XhnEnLxDMO390', 'type': 'tool_call'}], usage_metadata={'input_tokens': 58, 'output_tokens': 16, 'total_tokens': 74, 'input_token_details': {'audio': 0, 'cache_read': 0}, 'output_token_details': {'audio': 0, 'reasoning': 0}}),\n",
       "   ToolMessage(content='It might be cloudy in nyc', name='get_weather', id='def2d34d-1208-4a63-98d5-8c8a18660912', tool_call_id='call_4OXh9ddkXe4XhnEnLxDMO390'),\n",
       "   AIMessage(content='The weather in NYC might be cloudy.', additional_kwargs={'refusal': None}, response_metadata={'token_usage': {'completion_tokens': 10, 'prompt_tokens': 88, 'total_tokens': 98, 'completion_tokens_details': {'accepted_prediction_tokens': 0, 'audio_tokens': 0, 'reasoning_tokens': 0, 'rejected_prediction_tokens': 0}, 'prompt_tokens_details': {'audio_tokens': 0, 'cached_tokens': 0}}, 'model_name': 'gpt-4o-mini-2024-07-18', 'system_fingerprint': 'fp_72ed7ab54c', 'finish_reason': 'stop', 'logprobs': None}, id='run-d03c4bbd-98b8-45ff-8824-33c72cfd4eeb-0', usage_metadata={'input_tokens': 88, 'output_tokens': 10, 'total_tokens': 98, 'input_token_details': {'audio': 0, 'cache_read': 0}, 'output_token_details': {'audio': 0, 'reasoning': 0}})]}}"
      ]
     },
     "execution_count": 47,
     "metadata": {},
     "output_type": "execute_result"
    }
   ],
   "source": [
    "checkpoint"
   ]
  },
  {
   "cell_type": "markdown",
   "metadata": {},
   "source": [
    "# Pruebas extra"
   ]
  },
  {
   "cell_type": "code",
   "execution_count": 52,
   "metadata": {},
   "outputs": [],
   "source": [
    "async with AsyncConnectionPool(\n",
    "    # Example configuration\n",
    "    conninfo=DB_URI,\n",
    "    max_size=20,\n",
    "    kwargs=connection_kwargs,\n",
    ") as pool:\n",
    "    checkpointer = AsyncPostgresSaver(pool)\n",
    "\n",
    "    config = {\"configurable\": {\"thread_id\": \"8\"}}\n",
    "\n",
    "    checkpoints = []\n",
    "    async for checkpoint in checkpointer.alist(config):\n",
    "        checkpoints.append(checkpoint)"
   ]
  },
  {
   "cell_type": "code",
   "execution_count": 49,
   "metadata": {},
   "outputs": [
    {
     "data": {
      "text/plain": [
       "[CheckpointTuple(config={'configurable': {'thread_id': '8', 'checkpoint_ns': '', 'checkpoint_id': '1efcfeed-f67a-6194-8003-d0a575a29a90'}}, checkpoint={'v': 1, 'id': '1efcfeed-f67a-6194-8003-d0a575a29a90', 'ts': '2025-01-11T07:37:12.905123+00:00', 'pending_sends': [], 'versions_seen': {'agent': {'tools': '00000000000000000000000000000004.0.4934158829986399', 'start:agent': '00000000000000000000000000000002.0.3802465834231634'}, 'tools': {'branch:agent:should_continue:tools': '00000000000000000000000000000003.0.596339409483013'}, '__input__': {}, '__start__': {'__start__': '00000000000000000000000000000001.0.3689151538392933'}}, 'channel_versions': {'agent': '00000000000000000000000000000005.0.24301487924279597', 'tools': '00000000000000000000000000000005.0.14344479701080493', 'messages': '00000000000000000000000000000005.0.9197836540655787', '__start__': '00000000000000000000000000000002.0.35088172412270713', 'start:agent': '00000000000000000000000000000003.0.19100607466503583', 'branch:agent:should_continue:tools': '00000000000000000000000000000004.0.17745408896865644'}, 'channel_values': {'agent': 'agent', 'messages': [HumanMessage(content=\"what's the weather in nyc\", additional_kwargs={}, response_metadata={}, id='357752e6-ed47-4ed5-9006-ff8ccb0e36e9'), AIMessage(content='', additional_kwargs={'tool_calls': [{'id': 'call_4OXh9ddkXe4XhnEnLxDMO390', 'function': {'arguments': '{\"city\":\"nyc\"}', 'name': 'get_weather'}, 'type': 'function'}], 'refusal': None}, response_metadata={'token_usage': {'completion_tokens': 16, 'prompt_tokens': 58, 'total_tokens': 74, 'completion_tokens_details': {'accepted_prediction_tokens': 0, 'audio_tokens': 0, 'reasoning_tokens': 0, 'rejected_prediction_tokens': 0}, 'prompt_tokens_details': {'audio_tokens': 0, 'cached_tokens': 0}}, 'model_name': 'gpt-4o-mini-2024-07-18', 'system_fingerprint': 'fp_72ed7ab54c', 'finish_reason': 'tool_calls', 'logprobs': None}, id='run-3a5be048-3713-4f00-a194-4f3b747e8aad-0', tool_calls=[{'name': 'get_weather', 'args': {'city': 'nyc'}, 'id': 'call_4OXh9ddkXe4XhnEnLxDMO390', 'type': 'tool_call'}], usage_metadata={'input_tokens': 58, 'output_tokens': 16, 'total_tokens': 74, 'input_token_details': {'audio': 0, 'cache_read': 0}, 'output_token_details': {'audio': 0, 'reasoning': 0}}), ToolMessage(content='It might be cloudy in nyc', name='get_weather', id='def2d34d-1208-4a63-98d5-8c8a18660912', tool_call_id='call_4OXh9ddkXe4XhnEnLxDMO390'), AIMessage(content='The weather in NYC might be cloudy.', additional_kwargs={'refusal': None}, response_metadata={'token_usage': {'completion_tokens': 10, 'prompt_tokens': 88, 'total_tokens': 98, 'completion_tokens_details': {'accepted_prediction_tokens': 0, 'audio_tokens': 0, 'reasoning_tokens': 0, 'rejected_prediction_tokens': 0}, 'prompt_tokens_details': {'audio_tokens': 0, 'cached_tokens': 0}}, 'model_name': 'gpt-4o-mini-2024-07-18', 'system_fingerprint': 'fp_72ed7ab54c', 'finish_reason': 'stop', 'logprobs': None}, id='run-d03c4bbd-98b8-45ff-8824-33c72cfd4eeb-0', usage_metadata={'input_tokens': 88, 'output_tokens': 10, 'total_tokens': 98, 'input_token_details': {'audio': 0, 'cache_read': 0}, 'output_token_details': {'audio': 0, 'reasoning': 0}})]}}, metadata={'step': 3, 'source': 'loop', 'writes': {'agent': {'messages': [AIMessage(content='The weather in NYC might be cloudy.', additional_kwargs={'refusal': None}, response_metadata={'logprobs': None, 'model_name': 'gpt-4o-mini-2024-07-18', 'token_usage': {'total_tokens': 98, 'prompt_tokens': 88, 'completion_tokens': 10, 'prompt_tokens_details': {'audio_tokens': 0, 'cached_tokens': 0}, 'completion_tokens_details': {'audio_tokens': 0, 'reasoning_tokens': 0, 'accepted_prediction_tokens': 0, 'rejected_prediction_tokens': 0}}, 'finish_reason': 'stop', 'system_fingerprint': 'fp_72ed7ab54c'}, id='run-d03c4bbd-98b8-45ff-8824-33c72cfd4eeb-0', usage_metadata={'input_tokens': 88, 'output_tokens': 10, 'total_tokens': 98, 'input_token_details': {'audio': 0, 'cache_read': 0}, 'output_token_details': {'audio': 0, 'reasoning': 0}})]}}, 'parents': {}, 'thread_id': '8'}, parent_config={'configurable': {'thread_id': '8', 'checkpoint_ns': '', 'checkpoint_id': '1efcfeed-f0c4-63a8-8002-a1b4084d832a'}}, pending_writes=[]),\n",
       " CheckpointTuple(config={'configurable': {'thread_id': '8', 'checkpoint_ns': '', 'checkpoint_id': '1efcfeed-f0c4-63a8-8002-a1b4084d832a'}}, checkpoint={'v': 1, 'id': '1efcfeed-f0c4-63a8-8002-a1b4084d832a', 'ts': '2025-01-11T07:37:12.306331+00:00', 'pending_sends': [], 'versions_seen': {'agent': {'start:agent': '00000000000000000000000000000002.0.3802465834231634'}, 'tools': {'branch:agent:should_continue:tools': '00000000000000000000000000000003.0.596339409483013'}, '__input__': {}, '__start__': {'__start__': '00000000000000000000000000000001.0.3689151538392933'}}, 'channel_versions': {'agent': '00000000000000000000000000000004.0.7148250192590601', 'tools': '00000000000000000000000000000004.0.4934158829986399', 'messages': '00000000000000000000000000000004.0.8711338448280798', '__start__': '00000000000000000000000000000002.0.35088172412270713', 'start:agent': '00000000000000000000000000000003.0.19100607466503583', 'branch:agent:should_continue:tools': '00000000000000000000000000000004.0.17745408896865644'}, 'channel_values': {'tools': 'tools', 'messages': [HumanMessage(content=\"what's the weather in nyc\", additional_kwargs={}, response_metadata={}, id='357752e6-ed47-4ed5-9006-ff8ccb0e36e9'), AIMessage(content='', additional_kwargs={'tool_calls': [{'id': 'call_4OXh9ddkXe4XhnEnLxDMO390', 'function': {'arguments': '{\"city\":\"nyc\"}', 'name': 'get_weather'}, 'type': 'function'}], 'refusal': None}, response_metadata={'token_usage': {'completion_tokens': 16, 'prompt_tokens': 58, 'total_tokens': 74, 'completion_tokens_details': {'accepted_prediction_tokens': 0, 'audio_tokens': 0, 'reasoning_tokens': 0, 'rejected_prediction_tokens': 0}, 'prompt_tokens_details': {'audio_tokens': 0, 'cached_tokens': 0}}, 'model_name': 'gpt-4o-mini-2024-07-18', 'system_fingerprint': 'fp_72ed7ab54c', 'finish_reason': 'tool_calls', 'logprobs': None}, id='run-3a5be048-3713-4f00-a194-4f3b747e8aad-0', tool_calls=[{'name': 'get_weather', 'args': {'city': 'nyc'}, 'id': 'call_4OXh9ddkXe4XhnEnLxDMO390', 'type': 'tool_call'}], usage_metadata={'input_tokens': 58, 'output_tokens': 16, 'total_tokens': 74, 'input_token_details': {'audio': 0, 'cache_read': 0}, 'output_token_details': {'audio': 0, 'reasoning': 0}}), ToolMessage(content='It might be cloudy in nyc', name='get_weather', id='def2d34d-1208-4a63-98d5-8c8a18660912', tool_call_id='call_4OXh9ddkXe4XhnEnLxDMO390')]}}, metadata={'step': 2, 'source': 'loop', 'writes': {'tools': {'messages': [ToolMessage(content='It might be cloudy in nyc', name='get_weather', id='def2d34d-1208-4a63-98d5-8c8a18660912', tool_call_id='call_4OXh9ddkXe4XhnEnLxDMO390')]}}, 'parents': {}, 'thread_id': '8'}, parent_config={'configurable': {'thread_id': '8', 'checkpoint_ns': '', 'checkpoint_id': '1efcfeed-f0bc-604a-8001-1c1cf6d44394'}}, pending_writes=[('a86937bf-384a-c814-b519-b5c28106ffc1', 'messages', [AIMessage(content='The weather in NYC might be cloudy.', additional_kwargs={'refusal': None}, response_metadata={'token_usage': {'completion_tokens': 10, 'prompt_tokens': 88, 'total_tokens': 98, 'completion_tokens_details': {'accepted_prediction_tokens': 0, 'audio_tokens': 0, 'reasoning_tokens': 0, 'rejected_prediction_tokens': 0}, 'prompt_tokens_details': {'audio_tokens': 0, 'cached_tokens': 0}}, 'model_name': 'gpt-4o-mini-2024-07-18', 'system_fingerprint': 'fp_72ed7ab54c', 'finish_reason': 'stop', 'logprobs': None}, id='run-d03c4bbd-98b8-45ff-8824-33c72cfd4eeb-0', usage_metadata={'input_tokens': 88, 'output_tokens': 10, 'total_tokens': 98, 'input_token_details': {'audio': 0, 'cache_read': 0}, 'output_token_details': {'audio': 0, 'reasoning': 0}})]), ('a86937bf-384a-c814-b519-b5c28106ffc1', 'agent', 'agent')]),\n",
       " CheckpointTuple(config={'configurable': {'thread_id': '8', 'checkpoint_ns': '', 'checkpoint_id': '1efcfeed-f0bc-604a-8001-1c1cf6d44394'}}, checkpoint={'v': 1, 'id': '1efcfeed-f0bc-604a-8001-1c1cf6d44394', 'ts': '2025-01-11T07:37:12.302961+00:00', 'pending_sends': [], 'versions_seen': {'agent': {'start:agent': '00000000000000000000000000000002.0.3802465834231634'}, '__input__': {}, '__start__': {'__start__': '00000000000000000000000000000001.0.3689151538392933'}}, 'channel_versions': {'agent': '00000000000000000000000000000003.0.6961504985861692', 'messages': '00000000000000000000000000000003.0.44761332092235284', '__start__': '00000000000000000000000000000002.0.35088172412270713', 'start:agent': '00000000000000000000000000000003.0.19100607466503583', 'branch:agent:should_continue:tools': '00000000000000000000000000000003.0.596339409483013'}, 'channel_values': {'agent': 'agent', 'messages': [HumanMessage(content=\"what's the weather in nyc\", additional_kwargs={}, response_metadata={}, id='357752e6-ed47-4ed5-9006-ff8ccb0e36e9'), AIMessage(content='', additional_kwargs={'tool_calls': [{'id': 'call_4OXh9ddkXe4XhnEnLxDMO390', 'function': {'arguments': '{\"city\":\"nyc\"}', 'name': 'get_weather'}, 'type': 'function'}], 'refusal': None}, response_metadata={'token_usage': {'completion_tokens': 16, 'prompt_tokens': 58, 'total_tokens': 74, 'completion_tokens_details': {'accepted_prediction_tokens': 0, 'audio_tokens': 0, 'reasoning_tokens': 0, 'rejected_prediction_tokens': 0}, 'prompt_tokens_details': {'audio_tokens': 0, 'cached_tokens': 0}}, 'model_name': 'gpt-4o-mini-2024-07-18', 'system_fingerprint': 'fp_72ed7ab54c', 'finish_reason': 'tool_calls', 'logprobs': None}, id='run-3a5be048-3713-4f00-a194-4f3b747e8aad-0', tool_calls=[{'name': 'get_weather', 'args': {'city': 'nyc'}, 'id': 'call_4OXh9ddkXe4XhnEnLxDMO390', 'type': 'tool_call'}], usage_metadata={'input_tokens': 58, 'output_tokens': 16, 'total_tokens': 74, 'input_token_details': {'audio': 0, 'cache_read': 0}, 'output_token_details': {'audio': 0, 'reasoning': 0}})], 'branch:agent:should_continue:tools': 'agent'}}, metadata={'step': 1, 'source': 'loop', 'writes': {'agent': {'messages': [AIMessage(content='', additional_kwargs={'refusal': None, 'tool_calls': [{'id': 'call_4OXh9ddkXe4XhnEnLxDMO390', 'type': 'function', 'function': {'name': 'get_weather', 'arguments': '{\"city\":\"nyc\"}'}}]}, response_metadata={'logprobs': None, 'model_name': 'gpt-4o-mini-2024-07-18', 'token_usage': {'total_tokens': 74, 'prompt_tokens': 58, 'completion_tokens': 16, 'prompt_tokens_details': {'audio_tokens': 0, 'cached_tokens': 0}, 'completion_tokens_details': {'audio_tokens': 0, 'reasoning_tokens': 0, 'accepted_prediction_tokens': 0, 'rejected_prediction_tokens': 0}}, 'finish_reason': 'tool_calls', 'system_fingerprint': 'fp_72ed7ab54c'}, id='run-3a5be048-3713-4f00-a194-4f3b747e8aad-0', tool_calls=[{'name': 'get_weather', 'args': {'city': 'nyc'}, 'id': 'call_4OXh9ddkXe4XhnEnLxDMO390', 'type': 'tool_call'}], usage_metadata={'input_tokens': 58, 'output_tokens': 16, 'total_tokens': 74, 'input_token_details': {'audio': 0, 'cache_read': 0}, 'output_token_details': {'audio': 0, 'reasoning': 0}})]}}, 'parents': {}, 'thread_id': '8'}, parent_config={'configurable': {'thread_id': '8', 'checkpoint_ns': '', 'checkpoint_id': '1efcfeed-e43e-628c-8000-2c2152476815'}}, pending_writes=[('c2391e93-dfc5-66ed-1fab-fef7d3d5cc34', 'messages', [ToolMessage(content='It might be cloudy in nyc', name='get_weather', id='def2d34d-1208-4a63-98d5-8c8a18660912', tool_call_id='call_4OXh9ddkXe4XhnEnLxDMO390')]), ('c2391e93-dfc5-66ed-1fab-fef7d3d5cc34', 'tools', 'tools')]),\n",
       " CheckpointTuple(config={'configurable': {'thread_id': '8', 'checkpoint_ns': '', 'checkpoint_id': '1efcfeed-e43e-628c-8000-2c2152476815'}}, checkpoint={'v': 1, 'id': '1efcfeed-e43e-628c-8000-2c2152476815', 'ts': '2025-01-11T07:37:10.993158+00:00', 'pending_sends': [], 'versions_seen': {'__input__': {}, '__start__': {'__start__': '00000000000000000000000000000001.0.3689151538392933'}}, 'channel_versions': {'messages': '00000000000000000000000000000002.0.5874492337737727', '__start__': '00000000000000000000000000000002.0.35088172412270713', 'start:agent': '00000000000000000000000000000002.0.3802465834231634'}, 'channel_values': {'messages': [HumanMessage(content=\"what's the weather in nyc\", additional_kwargs={}, response_metadata={}, id='357752e6-ed47-4ed5-9006-ff8ccb0e36e9')], 'start:agent': '__start__'}}, metadata={'step': 0, 'source': 'loop', 'writes': None, 'parents': {}, 'thread_id': '8'}, parent_config={'configurable': {'thread_id': '8', 'checkpoint_ns': '', 'checkpoint_id': '1efcfeed-e43c-62ac-bfff-b5a04da5e3d8'}}, pending_writes=[('61d19f80-700b-3ec8-e051-e9f65066dc00', 'messages', [AIMessage(content='', additional_kwargs={'tool_calls': [{'id': 'call_4OXh9ddkXe4XhnEnLxDMO390', 'function': {'arguments': '{\"city\":\"nyc\"}', 'name': 'get_weather'}, 'type': 'function'}], 'refusal': None}, response_metadata={'token_usage': {'completion_tokens': 16, 'prompt_tokens': 58, 'total_tokens': 74, 'completion_tokens_details': {'accepted_prediction_tokens': 0, 'audio_tokens': 0, 'reasoning_tokens': 0, 'rejected_prediction_tokens': 0}, 'prompt_tokens_details': {'audio_tokens': 0, 'cached_tokens': 0}}, 'model_name': 'gpt-4o-mini-2024-07-18', 'system_fingerprint': 'fp_72ed7ab54c', 'finish_reason': 'tool_calls', 'logprobs': None}, id='run-3a5be048-3713-4f00-a194-4f3b747e8aad-0', tool_calls=[{'name': 'get_weather', 'args': {'city': 'nyc'}, 'id': 'call_4OXh9ddkXe4XhnEnLxDMO390', 'type': 'tool_call'}], usage_metadata={'input_tokens': 58, 'output_tokens': 16, 'total_tokens': 74, 'input_token_details': {'audio': 0, 'cache_read': 0}, 'output_token_details': {'audio': 0, 'reasoning': 0}})]), ('61d19f80-700b-3ec8-e051-e9f65066dc00', 'agent', 'agent'), ('61d19f80-700b-3ec8-e051-e9f65066dc00', 'branch:agent:should_continue:tools', 'agent')]),\n",
       " CheckpointTuple(config={'configurable': {'thread_id': '8', 'checkpoint_ns': '', 'checkpoint_id': '1efcfeed-e43c-62ac-bfff-b5a04da5e3d8'}}, checkpoint={'v': 1, 'id': '1efcfeed-e43c-62ac-bfff-b5a04da5e3d8', 'ts': '2025-01-11T07:37:10.992341+00:00', 'pending_sends': [], 'versions_seen': {'__input__': {}}, 'channel_versions': {'__start__': '00000000000000000000000000000001.0.3689151538392933'}, 'channel_values': {'__start__': {'messages': [['human', \"what's the weather in nyc\"]]}}}, metadata={'step': -1, 'source': 'input', 'writes': {'__start__': {'messages': [['human', \"what's the weather in nyc\"]]}}, 'parents': {}, 'thread_id': '8'}, parent_config=None, pending_writes=[('0ff91a00-1052-8f37-1272-a0387d348e77', 'messages', [['human', \"what's the weather in nyc\"]]), ('0ff91a00-1052-8f37-1272-a0387d348e77', 'start:agent', '__start__')])]"
      ]
     },
     "execution_count": 49,
     "metadata": {},
     "output_type": "execute_result"
    }
   ],
   "source": [
    "checkpoints"
   ]
  },
  {
   "cell_type": "code",
   "execution_count": 60,
   "metadata": {},
   "outputs": [
    {
     "name": "stdout",
     "output_type": "stream",
     "text": [
      "Checkpoint encontrado: {'v': 1, 'id': '1efcfeed-f67a-6194-8003-d0a575a29a90', 'ts': '2025-01-11T07:37:12.905123+00:00', 'pending_sends': [], 'versions_seen': {'agent': {'tools': '00000000000000000000000000000004.0.4934158829986399', 'start:agent': '00000000000000000000000000000002.0.3802465834231634'}, 'tools': {'branch:agent:should_continue:tools': '00000000000000000000000000000003.0.596339409483013'}, '__input__': {}, '__start__': {'__start__': '00000000000000000000000000000001.0.3689151538392933'}}, 'channel_versions': {'agent': '00000000000000000000000000000005.0.24301487924279597', 'tools': '00000000000000000000000000000005.0.14344479701080493', 'messages': '00000000000000000000000000000005.0.9197836540655787', '__start__': '00000000000000000000000000000002.0.35088172412270713', 'start:agent': '00000000000000000000000000000003.0.19100607466503583', 'branch:agent:should_continue:tools': '00000000000000000000000000000004.0.17745408896865644'}, 'channel_values': {'agent': 'agent', 'messages': [HumanMessage(content=\"what's the weather in nyc\", additional_kwargs={}, response_metadata={}, id='357752e6-ed47-4ed5-9006-ff8ccb0e36e9'), AIMessage(content='', additional_kwargs={'tool_calls': [{'id': 'call_4OXh9ddkXe4XhnEnLxDMO390', 'function': {'arguments': '{\"city\":\"nyc\"}', 'name': 'get_weather'}, 'type': 'function'}], 'refusal': None}, response_metadata={'token_usage': {'completion_tokens': 16, 'prompt_tokens': 58, 'total_tokens': 74, 'completion_tokens_details': {'accepted_prediction_tokens': 0, 'audio_tokens': 0, 'reasoning_tokens': 0, 'rejected_prediction_tokens': 0}, 'prompt_tokens_details': {'audio_tokens': 0, 'cached_tokens': 0}}, 'model_name': 'gpt-4o-mini-2024-07-18', 'system_fingerprint': 'fp_72ed7ab54c', 'finish_reason': 'tool_calls', 'logprobs': None}, id='run-3a5be048-3713-4f00-a194-4f3b747e8aad-0', tool_calls=[{'name': 'get_weather', 'args': {'city': 'nyc'}, 'id': 'call_4OXh9ddkXe4XhnEnLxDMO390', 'type': 'tool_call'}], usage_metadata={'input_tokens': 58, 'output_tokens': 16, 'total_tokens': 74, 'input_token_details': {'audio': 0, 'cache_read': 0}, 'output_token_details': {'audio': 0, 'reasoning': 0}}), ToolMessage(content='It might be cloudy in nyc', name='get_weather', id='def2d34d-1208-4a63-98d5-8c8a18660912', tool_call_id='call_4OXh9ddkXe4XhnEnLxDMO390'), AIMessage(content='The weather in NYC might be cloudy.', additional_kwargs={'refusal': None}, response_metadata={'token_usage': {'completion_tokens': 10, 'prompt_tokens': 88, 'total_tokens': 98, 'completion_tokens_details': {'accepted_prediction_tokens': 0, 'audio_tokens': 0, 'reasoning_tokens': 0, 'rejected_prediction_tokens': 0}, 'prompt_tokens_details': {'audio_tokens': 0, 'cached_tokens': 0}}, 'model_name': 'gpt-4o-mini-2024-07-18', 'system_fingerprint': 'fp_72ed7ab54c', 'finish_reason': 'stop', 'logprobs': None}, id='run-d03c4bbd-98b8-45ff-8824-33c72cfd4eeb-0', usage_metadata={'input_tokens': 88, 'output_tokens': 10, 'total_tokens': 98, 'input_token_details': {'audio': 0, 'cache_read': 0}, 'output_token_details': {'audio': 0, 'reasoning': 0}})]}}\n"
     ]
    }
   ],
   "source": [
    "async with AsyncConnectionPool(\n",
    "    conninfo=DB_URI,\n",
    "    max_size=20,\n",
    "    kwargs=connection_kwargs,\n",
    ") as pool:\n",
    "    checkpointer = AsyncPostgresSaver(pool)\n",
    "\n",
    "    config = {\"configurable\": {\"thread_id\": \"8\"}}\n",
    "\n",
    "    checkpoint = await checkpointer.aget(config)\n",
    "\n",
    "    if checkpoint:\n",
    "        print(\"Checkpoint encontrado:\", checkpoint)\n",
    "    else:\n",
    "        print(\"No se encontró ningún checkpoint.\")\n"
   ]
  },
  {
   "cell_type": "code",
   "execution_count": 61,
   "metadata": {},
   "outputs": [
    {
     "data": {
      "text/plain": [
       "{'v': 1,\n",
       " 'id': '1efcfeed-f67a-6194-8003-d0a575a29a90',\n",
       " 'ts': '2025-01-11T07:37:12.905123+00:00',\n",
       " 'pending_sends': [],\n",
       " 'versions_seen': {'agent': {'tools': '00000000000000000000000000000004.0.4934158829986399',\n",
       "   'start:agent': '00000000000000000000000000000002.0.3802465834231634'},\n",
       "  'tools': {'branch:agent:should_continue:tools': '00000000000000000000000000000003.0.596339409483013'},\n",
       "  '__input__': {},\n",
       "  '__start__': {'__start__': '00000000000000000000000000000001.0.3689151538392933'}},\n",
       " 'channel_versions': {'agent': '00000000000000000000000000000005.0.24301487924279597',\n",
       "  'tools': '00000000000000000000000000000005.0.14344479701080493',\n",
       "  'messages': '00000000000000000000000000000005.0.9197836540655787',\n",
       "  '__start__': '00000000000000000000000000000002.0.35088172412270713',\n",
       "  'start:agent': '00000000000000000000000000000003.0.19100607466503583',\n",
       "  'branch:agent:should_continue:tools': '00000000000000000000000000000004.0.17745408896865644'},\n",
       " 'channel_values': {'agent': 'agent',\n",
       "  'messages': [HumanMessage(content=\"what's the weather in nyc\", additional_kwargs={}, response_metadata={}, id='357752e6-ed47-4ed5-9006-ff8ccb0e36e9'),\n",
       "   AIMessage(content='', additional_kwargs={'tool_calls': [{'id': 'call_4OXh9ddkXe4XhnEnLxDMO390', 'function': {'arguments': '{\"city\":\"nyc\"}', 'name': 'get_weather'}, 'type': 'function'}], 'refusal': None}, response_metadata={'token_usage': {'completion_tokens': 16, 'prompt_tokens': 58, 'total_tokens': 74, 'completion_tokens_details': {'accepted_prediction_tokens': 0, 'audio_tokens': 0, 'reasoning_tokens': 0, 'rejected_prediction_tokens': 0}, 'prompt_tokens_details': {'audio_tokens': 0, 'cached_tokens': 0}}, 'model_name': 'gpt-4o-mini-2024-07-18', 'system_fingerprint': 'fp_72ed7ab54c', 'finish_reason': 'tool_calls', 'logprobs': None}, id='run-3a5be048-3713-4f00-a194-4f3b747e8aad-0', tool_calls=[{'name': 'get_weather', 'args': {'city': 'nyc'}, 'id': 'call_4OXh9ddkXe4XhnEnLxDMO390', 'type': 'tool_call'}], usage_metadata={'input_tokens': 58, 'output_tokens': 16, 'total_tokens': 74, 'input_token_details': {'audio': 0, 'cache_read': 0}, 'output_token_details': {'audio': 0, 'reasoning': 0}}),\n",
       "   ToolMessage(content='It might be cloudy in nyc', name='get_weather', id='def2d34d-1208-4a63-98d5-8c8a18660912', tool_call_id='call_4OXh9ddkXe4XhnEnLxDMO390'),\n",
       "   AIMessage(content='The weather in NYC might be cloudy.', additional_kwargs={'refusal': None}, response_metadata={'token_usage': {'completion_tokens': 10, 'prompt_tokens': 88, 'total_tokens': 98, 'completion_tokens_details': {'accepted_prediction_tokens': 0, 'audio_tokens': 0, 'reasoning_tokens': 0, 'rejected_prediction_tokens': 0}, 'prompt_tokens_details': {'audio_tokens': 0, 'cached_tokens': 0}}, 'model_name': 'gpt-4o-mini-2024-07-18', 'system_fingerprint': 'fp_72ed7ab54c', 'finish_reason': 'stop', 'logprobs': None}, id='run-d03c4bbd-98b8-45ff-8824-33c72cfd4eeb-0', usage_metadata={'input_tokens': 88, 'output_tokens': 10, 'total_tokens': 98, 'input_token_details': {'audio': 0, 'cache_read': 0}, 'output_token_details': {'audio': 0, 'reasoning': 0}})]}}"
      ]
     },
     "execution_count": 61,
     "metadata": {},
     "output_type": "execute_result"
    }
   ],
   "source": [
    "checkpoint"
   ]
  },
  {
   "cell_type": "code",
   "execution_count": null,
   "metadata": {},
   "outputs": [],
   "source": []
  }
 ],
 "metadata": {
  "kernelspec": {
   "display_name": "venv_langchain_px",
   "language": "python",
   "name": "python3"
  },
  "language_info": {
   "codemirror_mode": {
    "name": "ipython",
    "version": 3
   },
   "file_extension": ".py",
   "mimetype": "text/x-python",
   "name": "python",
   "nbconvert_exporter": "python",
   "pygments_lexer": "ipython3",
   "version": "3.10.16"
  }
 },
 "nbformat": 4,
 "nbformat_minor": 2
}
