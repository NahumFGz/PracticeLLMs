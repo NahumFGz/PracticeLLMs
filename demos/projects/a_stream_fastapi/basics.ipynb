{
 "cells": [
  {
   "cell_type": "code",
   "execution_count": 1,
   "metadata": {},
   "outputs": [],
   "source": [
    "from langchain_core.output_parsers import StrOutputParser\n",
    "from langchain_core.prompts import ChatPromptTemplate\n",
    "from langchain_openai import ChatOpenAI\n",
    "from dotenv import load_dotenv\n",
    "\n",
    "load_dotenv()\n",
    "\n",
    "model = ChatOpenAI(temperature=0, streaming=True)\n",
    "prompt = ChatPromptTemplate.from_template(\"Cuentame un chiste acerca de {topic}. 200 palabras\")\n",
    "parser = StrOutputParser()\n",
    "\n",
    "chain = prompt | model | parser"
   ]
  },
  {
   "cell_type": "code",
   "execution_count": 2,
   "metadata": {},
   "outputs": [
    {
     "name": "stdout",
     "output_type": "stream",
     "text": [
      "¿Por qué los programadores odian las fiestas de cumpleaños?\n",
      "\n",
      "Porque siempre terminan en un bucle infinito de \"Feliz Cumpleaños\" y nunca llegan al pastel.\n",
      "\n",
      "Además, cuando van a cortar el pastel, siempre les sale un error diciendo \"No se puede dividir entre cero\".\n",
      "\n",
      "Y si por casualidad logran llegar al pastel, siempre terminan discutiendo sobre cuál es la mejor forma de cortarlo, si en forma de matriz o en forma de árbol binario.\n",
      "\n",
      "Y cuando finalmente logran cortar el pastel, se dan cuenta de que olvidaron la función para comerlo y terminan buscando en Google cómo hacerlo.\n",
      "\n",
      "En resumen, para un programador, una fiesta de cumpleaños es como un código mal escrito: lleno de bugs, errores y problemas que parecen no tener solución.\n",
      "\n",
      "Así que la próxima vez que invites a un programador a tu fiesta de cumpleaños, asegúrate de tener un buen pastel y un manual de instrucciones detallado sobre cómo cortarlo. ¡Y no olvides hacer un backup de los regalos por si acaso!"
     ]
    }
   ],
   "source": [
    "for chunk in chain.stream(\"programacion\"):\n",
    "    print(chunk, end=\"\", flush=True)"
   ]
  },
  {
   "cell_type": "code",
   "execution_count": 4,
   "metadata": {},
   "outputs": [
    {
     "name": "stdout",
     "output_type": "stream",
     "text": [
      "¿Por qué los programadores odian las fiestas en la playa? Porque siempre terminan con un error de sintaxis: ¡arena en el código!\n",
      "\n",
      "Este chiste juega con el doble sentido de la palabra \"arena\", que puede referirse tanto a la playa como a un error común en la programación. Los programadores suelen ser muy meticulosos con la sintaxis de su código, por lo que cualquier error, por pequeño que sea, puede resultar en un problema grave en el funcionamiento del programa.\n",
      "\n",
      "Además, la idea de una fiesta en la playa puede resultar atractiva para muchas personas, pero para un programador, la perspectiva de tener que lidiar con problemas de código en un entorno tan poco propicio como la arena puede resultar desalentadora.\n",
      "\n",
      "En resumen, este chiste combina el mundo de la programación con una situación cotidiana como una fiesta en la playa para crear un humor inteligente y divertido que seguramente hará reír a cualquier persona familiarizada con el mundo de la informática."
     ]
    }
   ],
   "source": [
    "async for chunk in chain.astream(\"programacion\"):\n",
    "    print(chunk, end=\"\", flush=True)"
   ]
  },
  {
   "cell_type": "code",
   "execution_count": null,
   "metadata": {},
   "outputs": [],
   "source": []
  }
 ],
 "metadata": {
  "kernelspec": {
   "display_name": "venv_langchain",
   "language": "python",
   "name": "python3"
  },
  "language_info": {
   "codemirror_mode": {
    "name": "ipython",
    "version": 3
   },
   "file_extension": ".py",
   "mimetype": "text/x-python",
   "name": "python",
   "nbconvert_exporter": "python",
   "pygments_lexer": "ipython3",
   "version": "3.10.16"
  }
 },
 "nbformat": 4,
 "nbformat_minor": 2
}
