{
 "cells": [
  {
   "cell_type": "code",
   "execution_count": 6,
   "metadata": {},
   "outputs": [],
   "source": [
    "from langchain_core.output_parsers import StrOutputParser\n",
    "from langchain_core.prompts import ChatPromptTemplate\n",
    "from langchain_openai import ChatOpenAI\n",
    "from dotenv import load_dotenv\n",
    "\n",
    "load_dotenv()\n",
    "\n",
    "model = ChatOpenAI(temperature=0, streaming=True, model='gpt-4o-mini')\n",
    "prompt = ChatPromptTemplate.from_template(\"Cuentame un chiste acerca de {topic}. 200 palabras\")\n",
    "parser = StrOutputParser()\n",
    "\n",
    "chain = prompt | model | parser"
   ]
  },
  {
   "cell_type": "code",
   "execution_count": 7,
   "metadata": {},
   "outputs": [
    {
     "name": "stdout",
     "output_type": "stream",
     "text": [
      "Claro, aquí tienes un chiste sobre programación:\n",
      "\n",
      "Un programador está en un bar y pide una cerveza. El bartender le dice: \"¿Quieres una cerveza fría o caliente?\" El programador responde: \"¡Ambas! Y asegúrate de que la fría esté en un vaso y la caliente en otro, pero que ambos vasos estén en la misma mesa.\"\n",
      "\n",
      "El bartender, confundido, le pregunta: \"¿Por qué harías eso?\" El programador sonríe y dice: \"Porque así puedo hacer un 'debug' de la temperatura.\"\n",
      "\n",
      "Un poco más tarde, el programador ve a un amigo y le dice: \"¡Oye! ¿Sabías que tengo un nuevo proyecto en el que estoy trabajando?\" Su amigo, curioso, pregunta: \"¿De qué se trata?\" El programador responde: \"Es una aplicación que te dice si debes llevar paraguas o no.\"\n",
      "\n",
      "El amigo, intrigado, pregunta: \"¿Y cómo funciona?\" El programador responde: \"Simple, si llueve, te dice que lleves paraguas. Si no llueve, te dice que no lo lleves. Pero si hay un error en el código, ¡te dice que lleves un sombrero!\"\n",
      "\n",
      "Ambos se ríen y el amigo dice: \"¡Eso suena como un verdadero 'bug' en el sistema!\" \n",
      "\n",
      "Y así, entre risas, el programador sigue disfrutando de su cerveza."
     ]
    }
   ],
   "source": [
    "for chunk in chain.stream(\"programacion\"):\n",
    "    print(chunk, end=\"\", flush=True)"
   ]
  },
  {
   "cell_type": "code",
   "execution_count": 8,
   "metadata": {},
   "outputs": [
    {
     "name": "stdout",
     "output_type": "stream",
     "text": [
      "Claro, aquí tienes un chiste sobre programación:\n",
      "\n",
      "Un programador está en un bar y pide una cerveza. El bartender le dice: \"¿Quieres una cerveza fría o caliente?\" El programador responde: \"¡Ambas! Y asegúrate de que la fría esté en un vaso y la caliente en otro, pero que ambos vasos estén en la misma mesa.\"\n",
      "\n",
      "El bartender, confundido, le pregunta: \"¿Por qué harías eso?\" El programador sonríe y dice: \"Porque así puedo hacer un 'debug' de la temperatura de la cerveza.\"\n",
      "\n",
      "Mientras el bartender prepara las cervezas, el programador saca su laptop y comienza a escribir código. Después de un rato, el bartender le pregunta: \"¿Qué estás haciendo?\" El programador responde: \"Estoy creando un programa que me diga cuál de las dos cervezas es mejor.\"\n",
      "\n",
      "El bartender, curioso, le pregunta: \"¿Y cómo lo harás?\" El programador responde: \"Simple, voy a hacer un 'if' para la fría y un 'else' para la caliente. Si la fría es mejor, la bebo. Si no, ¡pido otra ronda!\"\n",
      "\n",
      "El bartender se ríe y dice: \"¡Eso suena como un buen plan! Pero recuerda, en la vida real, a veces no hay un 'else'.\" \n",
      "\n",
      "Y así, el programador aprendió que no todo se puede codificar. ¡Salud!"
     ]
    }
   ],
   "source": [
    "async for chunk in chain.astream(\"programacion\"):\n",
    "    print(chunk, end=\"\", flush=True)"
   ]
  },
  {
   "cell_type": "markdown",
   "metadata": {},
   "source": [
    "### Events"
   ]
  },
  {
   "cell_type": "code",
   "execution_count": 9,
   "metadata": {},
   "outputs": [
    {
     "name": "stdout",
     "output_type": "stream",
     "text": [
      "{'event': 'on_chat_model_start', 'data': {'input': 'perros'}, 'name': 'ChatOpenAI', 'tags': [], 'run_id': '97986691-4ca7-4793-9364-750159326a9c', 'metadata': {'ls_provider': 'openai', 'ls_model_name': 'gpt-4o-mini', 'ls_model_type': 'chat', 'ls_temperature': 0.0}, 'parent_ids': []}\n",
      "{'event': 'on_chat_model_stream', 'run_id': '97986691-4ca7-4793-9364-750159326a9c', 'name': 'ChatOpenAI', 'tags': [], 'metadata': {'ls_provider': 'openai', 'ls_model_name': 'gpt-4o-mini', 'ls_model_type': 'chat', 'ls_temperature': 0.0}, 'data': {'chunk': AIMessageChunk(content='', additional_kwargs={}, response_metadata={}, id='run-97986691-4ca7-4793-9364-750159326a9c')}, 'parent_ids': []}\n",
      "{'event': 'on_chat_model_stream', 'run_id': '97986691-4ca7-4793-9364-750159326a9c', 'name': 'ChatOpenAI', 'tags': [], 'metadata': {'ls_provider': 'openai', 'ls_model_name': 'gpt-4o-mini', 'ls_model_type': 'chat', 'ls_temperature': 0.0}, 'data': {'chunk': AIMessageChunk(content='¡', additional_kwargs={}, response_metadata={}, id='run-97986691-4ca7-4793-9364-750159326a9c')}, 'parent_ids': []}\n",
      "{'event': 'on_chat_model_stream', 'run_id': '97986691-4ca7-4793-9364-750159326a9c', 'name': 'ChatOpenAI', 'tags': [], 'metadata': {'ls_provider': 'openai', 'ls_model_name': 'gpt-4o-mini', 'ls_model_type': 'chat', 'ls_temperature': 0.0}, 'data': {'chunk': AIMessageChunk(content='Claro', additional_kwargs={}, response_metadata={}, id='run-97986691-4ca7-4793-9364-750159326a9c')}, 'parent_ids': []}\n",
      "{'event': 'on_chat_model_stream', 'run_id': '97986691-4ca7-4793-9364-750159326a9c', 'name': 'ChatOpenAI', 'tags': [], 'metadata': {'ls_provider': 'openai', 'ls_model_name': 'gpt-4o-mini', 'ls_model_type': 'chat', 'ls_temperature': 0.0}, 'data': {'chunk': AIMessageChunk(content='!', additional_kwargs={}, response_metadata={}, id='run-97986691-4ca7-4793-9364-750159326a9c')}, 'parent_ids': []}\n",
      "{'event': 'on_chat_model_stream', 'run_id': '97986691-4ca7-4793-9364-750159326a9c', 'name': 'ChatOpenAI', 'tags': [], 'metadata': {'ls_provider': 'openai', 'ls_model_name': 'gpt-4o-mini', 'ls_model_type': 'chat', 'ls_temperature': 0.0}, 'data': {'chunk': AIMessageChunk(content=' Los', additional_kwargs={}, response_metadata={}, id='run-97986691-4ca7-4793-9364-750159326a9c')}, 'parent_ids': []}\n",
      "{'event': 'on_chat_model_stream', 'run_id': '97986691-4ca7-4793-9364-750159326a9c', 'name': 'ChatOpenAI', 'tags': [], 'metadata': {'ls_provider': 'openai', 'ls_model_name': 'gpt-4o-mini', 'ls_model_type': 'chat', 'ls_temperature': 0.0}, 'data': {'chunk': AIMessageChunk(content=' perros', additional_kwargs={}, response_metadata={}, id='run-97986691-4ca7-4793-9364-750159326a9c')}, 'parent_ids': []}\n",
      "{'event': 'on_chat_model_stream', 'run_id': '97986691-4ca7-4793-9364-750159326a9c', 'name': 'ChatOpenAI', 'tags': [], 'metadata': {'ls_provider': 'openai', 'ls_model_name': 'gpt-4o-mini', 'ls_model_type': 'chat', 'ls_temperature': 0.0}, 'data': {'chunk': AIMessageChunk(content=' son', additional_kwargs={}, response_metadata={}, id='run-97986691-4ca7-4793-9364-750159326a9c')}, 'parent_ids': []}\n",
      "{'event': 'on_chat_model_stream', 'run_id': '97986691-4ca7-4793-9364-750159326a9c', 'name': 'ChatOpenAI', 'tags': [], 'metadata': {'ls_provider': 'openai', 'ls_model_name': 'gpt-4o-mini', 'ls_model_type': 'chat', 'ls_temperature': 0.0}, 'data': {'chunk': AIMessageChunk(content=' animales', additional_kwargs={}, response_metadata={}, id='run-97986691-4ca7-4793-9364-750159326a9c')}, 'parent_ids': []}\n",
      "{'event': 'on_chat_model_stream', 'run_id': '97986691-4ca7-4793-9364-750159326a9c', 'name': 'ChatOpenAI', 'tags': [], 'metadata': {'ls_provider': 'openai', 'ls_model_name': 'gpt-4o-mini', 'ls_model_type': 'chat', 'ls_temperature': 0.0}, 'data': {'chunk': AIMessageChunk(content=' domést', additional_kwargs={}, response_metadata={}, id='run-97986691-4ca7-4793-9364-750159326a9c')}, 'parent_ids': []}\n",
      "{'event': 'on_chat_model_stream', 'run_id': '97986691-4ca7-4793-9364-750159326a9c', 'name': 'ChatOpenAI', 'tags': [], 'metadata': {'ls_provider': 'openai', 'ls_model_name': 'gpt-4o-mini', 'ls_model_type': 'chat', 'ls_temperature': 0.0}, 'data': {'chunk': AIMessageChunk(content='icos', additional_kwargs={}, response_metadata={}, id='run-97986691-4ca7-4793-9364-750159326a9c')}, 'parent_ids': []}\n",
      "{'event': 'on_chat_model_stream', 'run_id': '97986691-4ca7-4793-9364-750159326a9c', 'name': 'ChatOpenAI', 'tags': [], 'metadata': {'ls_provider': 'openai', 'ls_model_name': 'gpt-4o-mini', 'ls_model_type': 'chat', 'ls_temperature': 0.0}, 'data': {'chunk': AIMessageChunk(content=' muy', additional_kwargs={}, response_metadata={}, id='run-97986691-4ca7-4793-9364-750159326a9c')}, 'parent_ids': []}\n",
      "{'event': 'on_chat_model_stream', 'run_id': '97986691-4ca7-4793-9364-750159326a9c', 'name': 'ChatOpenAI', 'tags': [], 'metadata': {'ls_provider': 'openai', 'ls_model_name': 'gpt-4o-mini', 'ls_model_type': 'chat', 'ls_temperature': 0.0}, 'data': {'chunk': AIMessageChunk(content=' queridos', additional_kwargs={}, response_metadata={}, id='run-97986691-4ca7-4793-9364-750159326a9c')}, 'parent_ids': []}\n",
      "{'event': 'on_chat_model_stream', 'run_id': '97986691-4ca7-4793-9364-750159326a9c', 'name': 'ChatOpenAI', 'tags': [], 'metadata': {'ls_provider': 'openai', 'ls_model_name': 'gpt-4o-mini', 'ls_model_type': 'chat', 'ls_temperature': 0.0}, 'data': {'chunk': AIMessageChunk(content=' y', additional_kwargs={}, response_metadata={}, id='run-97986691-4ca7-4793-9364-750159326a9c')}, 'parent_ids': []}\n",
      "{'event': 'on_chat_model_stream', 'run_id': '97986691-4ca7-4793-9364-750159326a9c', 'name': 'ChatOpenAI', 'tags': [], 'metadata': {'ls_provider': 'openai', 'ls_model_name': 'gpt-4o-mini', 'ls_model_type': 'chat', 'ls_temperature': 0.0}, 'data': {'chunk': AIMessageChunk(content=' populares', additional_kwargs={}, response_metadata={}, id='run-97986691-4ca7-4793-9364-750159326a9c')}, 'parent_ids': []}\n",
      "{'event': 'on_chat_model_stream', 'run_id': '97986691-4ca7-4793-9364-750159326a9c', 'name': 'ChatOpenAI', 'tags': [], 'metadata': {'ls_provider': 'openai', 'ls_model_name': 'gpt-4o-mini', 'ls_model_type': 'chat', 'ls_temperature': 0.0}, 'data': {'chunk': AIMessageChunk(content=' en', additional_kwargs={}, response_metadata={}, id='run-97986691-4ca7-4793-9364-750159326a9c')}, 'parent_ids': []}\n",
      "{'event': 'on_chat_model_stream', 'run_id': '97986691-4ca7-4793-9364-750159326a9c', 'name': 'ChatOpenAI', 'tags': [], 'metadata': {'ls_provider': 'openai', 'ls_model_name': 'gpt-4o-mini', 'ls_model_type': 'chat', 'ls_temperature': 0.0}, 'data': {'chunk': AIMessageChunk(content=' todo', additional_kwargs={}, response_metadata={}, id='run-97986691-4ca7-4793-9364-750159326a9c')}, 'parent_ids': []}\n",
      "{'event': 'on_chat_model_stream', 'run_id': '97986691-4ca7-4793-9364-750159326a9c', 'name': 'ChatOpenAI', 'tags': [], 'metadata': {'ls_provider': 'openai', 'ls_model_name': 'gpt-4o-mini', 'ls_model_type': 'chat', 'ls_temperature': 0.0}, 'data': {'chunk': AIMessageChunk(content=' el', additional_kwargs={}, response_metadata={}, id='run-97986691-4ca7-4793-9364-750159326a9c')}, 'parent_ids': []}\n",
      "{'event': 'on_chat_model_stream', 'run_id': '97986691-4ca7-4793-9364-750159326a9c', 'name': 'ChatOpenAI', 'tags': [], 'metadata': {'ls_provider': 'openai', 'ls_model_name': 'gpt-4o-mini', 'ls_model_type': 'chat', 'ls_temperature': 0.0}, 'data': {'chunk': AIMessageChunk(content=' mundo', additional_kwargs={}, response_metadata={}, id='run-97986691-4ca7-4793-9364-750159326a9c')}, 'parent_ids': []}\n",
      "{'event': 'on_chat_model_stream', 'run_id': '97986691-4ca7-4793-9364-750159326a9c', 'name': 'ChatOpenAI', 'tags': [], 'metadata': {'ls_provider': 'openai', 'ls_model_name': 'gpt-4o-mini', 'ls_model_type': 'chat', 'ls_temperature': 0.0}, 'data': {'chunk': AIMessageChunk(content='.', additional_kwargs={}, response_metadata={}, id='run-97986691-4ca7-4793-9364-750159326a9c')}, 'parent_ids': []}\n",
      "{'event': 'on_chat_model_stream', 'run_id': '97986691-4ca7-4793-9364-750159326a9c', 'name': 'ChatOpenAI', 'tags': [], 'metadata': {'ls_provider': 'openai', 'ls_model_name': 'gpt-4o-mini', 'ls_model_type': 'chat', 'ls_temperature': 0.0}, 'data': {'chunk': AIMessageChunk(content=' Son', additional_kwargs={}, response_metadata={}, id='run-97986691-4ca7-4793-9364-750159326a9c')}, 'parent_ids': []}\n",
      "{'event': 'on_chat_model_stream', 'run_id': '97986691-4ca7-4793-9364-750159326a9c', 'name': 'ChatOpenAI', 'tags': [], 'metadata': {'ls_provider': 'openai', 'ls_model_name': 'gpt-4o-mini', 'ls_model_type': 'chat', 'ls_temperature': 0.0}, 'data': {'chunk': AIMessageChunk(content=' conocidos', additional_kwargs={}, response_metadata={}, id='run-97986691-4ca7-4793-9364-750159326a9c')}, 'parent_ids': []}\n",
      "{'event': 'on_chat_model_stream', 'run_id': '97986691-4ca7-4793-9364-750159326a9c', 'name': 'ChatOpenAI', 'tags': [], 'metadata': {'ls_provider': 'openai', 'ls_model_name': 'gpt-4o-mini', 'ls_model_type': 'chat', 'ls_temperature': 0.0}, 'data': {'chunk': AIMessageChunk(content=' por', additional_kwargs={}, response_metadata={}, id='run-97986691-4ca7-4793-9364-750159326a9c')}, 'parent_ids': []}\n",
      "{'event': 'on_chat_model_stream', 'run_id': '97986691-4ca7-4793-9364-750159326a9c', 'name': 'ChatOpenAI', 'tags': [], 'metadata': {'ls_provider': 'openai', 'ls_model_name': 'gpt-4o-mini', 'ls_model_type': 'chat', 'ls_temperature': 0.0}, 'data': {'chunk': AIMessageChunk(content=' su', additional_kwargs={}, response_metadata={}, id='run-97986691-4ca7-4793-9364-750159326a9c')}, 'parent_ids': []}\n",
      "{'event': 'on_chat_model_stream', 'run_id': '97986691-4ca7-4793-9364-750159326a9c', 'name': 'ChatOpenAI', 'tags': [], 'metadata': {'ls_provider': 'openai', 'ls_model_name': 'gpt-4o-mini', 'ls_model_type': 'chat', 'ls_temperature': 0.0}, 'data': {'chunk': AIMessageChunk(content=' le', additional_kwargs={}, response_metadata={}, id='run-97986691-4ca7-4793-9364-750159326a9c')}, 'parent_ids': []}\n",
      "{'event': 'on_chat_model_stream', 'run_id': '97986691-4ca7-4793-9364-750159326a9c', 'name': 'ChatOpenAI', 'tags': [], 'metadata': {'ls_provider': 'openai', 'ls_model_name': 'gpt-4o-mini', 'ls_model_type': 'chat', 'ls_temperature': 0.0}, 'data': {'chunk': AIMessageChunk(content='alt', additional_kwargs={}, response_metadata={}, id='run-97986691-4ca7-4793-9364-750159326a9c')}, 'parent_ids': []}\n",
      "{'event': 'on_chat_model_stream', 'run_id': '97986691-4ca7-4793-9364-750159326a9c', 'name': 'ChatOpenAI', 'tags': [], 'metadata': {'ls_provider': 'openai', 'ls_model_name': 'gpt-4o-mini', 'ls_model_type': 'chat', 'ls_temperature': 0.0}, 'data': {'chunk': AIMessageChunk(content='ad', additional_kwargs={}, response_metadata={}, id='run-97986691-4ca7-4793-9364-750159326a9c')}, 'parent_ids': []}\n",
      "{'event': 'on_chat_model_stream', 'run_id': '97986691-4ca7-4793-9364-750159326a9c', 'name': 'ChatOpenAI', 'tags': [], 'metadata': {'ls_provider': 'openai', 'ls_model_name': 'gpt-4o-mini', 'ls_model_type': 'chat', 'ls_temperature': 0.0}, 'data': {'chunk': AIMessageChunk(content=',', additional_kwargs={}, response_metadata={}, id='run-97986691-4ca7-4793-9364-750159326a9c')}, 'parent_ids': []}\n",
      "{'event': 'on_chat_model_stream', 'run_id': '97986691-4ca7-4793-9364-750159326a9c', 'name': 'ChatOpenAI', 'tags': [], 'metadata': {'ls_provider': 'openai', 'ls_model_name': 'gpt-4o-mini', 'ls_model_type': 'chat', 'ls_temperature': 0.0}, 'data': {'chunk': AIMessageChunk(content=' inteligencia', additional_kwargs={}, response_metadata={}, id='run-97986691-4ca7-4793-9364-750159326a9c')}, 'parent_ids': []}\n",
      "{'event': 'on_chat_model_stream', 'run_id': '97986691-4ca7-4793-9364-750159326a9c', 'name': 'ChatOpenAI', 'tags': [], 'metadata': {'ls_provider': 'openai', 'ls_model_name': 'gpt-4o-mini', 'ls_model_type': 'chat', 'ls_temperature': 0.0}, 'data': {'chunk': AIMessageChunk(content=' y', additional_kwargs={}, response_metadata={}, id='run-97986691-4ca7-4793-9364-750159326a9c')}, 'parent_ids': []}\n",
      "{'event': 'on_chat_model_stream', 'run_id': '97986691-4ca7-4793-9364-750159326a9c', 'name': 'ChatOpenAI', 'tags': [], 'metadata': {'ls_provider': 'openai', 'ls_model_name': 'gpt-4o-mini', 'ls_model_type': 'chat', 'ls_temperature': 0.0}, 'data': {'chunk': AIMessageChunk(content=' capacidad', additional_kwargs={}, response_metadata={}, id='run-97986691-4ca7-4793-9364-750159326a9c')}, 'parent_ids': []}\n",
      "{'event': 'on_chat_model_stream', 'run_id': '97986691-4ca7-4793-9364-750159326a9c', 'name': 'ChatOpenAI', 'tags': [], 'metadata': {'ls_provider': 'openai', 'ls_model_name': 'gpt-4o-mini', 'ls_model_type': 'chat', 'ls_temperature': 0.0}, 'data': {'chunk': AIMessageChunk(content=' para', additional_kwargs={}, response_metadata={}, id='run-97986691-4ca7-4793-9364-750159326a9c')}, 'parent_ids': []}\n",
      "{'event': 'on_chat_model_stream', 'run_id': '97986691-4ca7-4793-9364-750159326a9c', 'name': 'ChatOpenAI', 'tags': [], 'metadata': {'ls_provider': 'openai', 'ls_model_name': 'gpt-4o-mini', 'ls_model_type': 'chat', 'ls_temperature': 0.0}, 'data': {'chunk': AIMessageChunk(content=' formar', additional_kwargs={}, response_metadata={}, id='run-97986691-4ca7-4793-9364-750159326a9c')}, 'parent_ids': []}\n",
      "{'event': 'on_chat_model_stream', 'run_id': '97986691-4ca7-4793-9364-750159326a9c', 'name': 'ChatOpenAI', 'tags': [], 'metadata': {'ls_provider': 'openai', 'ls_model_name': 'gpt-4o-mini', 'ls_model_type': 'chat', 'ls_temperature': 0.0}, 'data': {'chunk': AIMessageChunk(content=' fuertes', additional_kwargs={}, response_metadata={}, id='run-97986691-4ca7-4793-9364-750159326a9c')}, 'parent_ids': []}\n",
      "{'event': 'on_chat_model_stream', 'run_id': '97986691-4ca7-4793-9364-750159326a9c', 'name': 'ChatOpenAI', 'tags': [], 'metadata': {'ls_provider': 'openai', 'ls_model_name': 'gpt-4o-mini', 'ls_model_type': 'chat', 'ls_temperature': 0.0}, 'data': {'chunk': AIMessageChunk(content=' la', additional_kwargs={}, response_metadata={}, id='run-97986691-4ca7-4793-9364-750159326a9c')}, 'parent_ids': []}\n",
      "{'event': 'on_chat_model_stream', 'run_id': '97986691-4ca7-4793-9364-750159326a9c', 'name': 'ChatOpenAI', 'tags': [], 'metadata': {'ls_provider': 'openai', 'ls_model_name': 'gpt-4o-mini', 'ls_model_type': 'chat', 'ls_temperature': 0.0}, 'data': {'chunk': AIMessageChunk(content='zos', additional_kwargs={}, response_metadata={}, id='run-97986691-4ca7-4793-9364-750159326a9c')}, 'parent_ids': []}\n",
      "{'event': 'on_chat_model_stream', 'run_id': '97986691-4ca7-4793-9364-750159326a9c', 'name': 'ChatOpenAI', 'tags': [], 'metadata': {'ls_provider': 'openai', 'ls_model_name': 'gpt-4o-mini', 'ls_model_type': 'chat', 'ls_temperature': 0.0}, 'data': {'chunk': AIMessageChunk(content=' con', additional_kwargs={}, response_metadata={}, id='run-97986691-4ca7-4793-9364-750159326a9c')}, 'parent_ids': []}\n",
      "{'event': 'on_chat_model_stream', 'run_id': '97986691-4ca7-4793-9364-750159326a9c', 'name': 'ChatOpenAI', 'tags': [], 'metadata': {'ls_provider': 'openai', 'ls_model_name': 'gpt-4o-mini', 'ls_model_type': 'chat', 'ls_temperature': 0.0}, 'data': {'chunk': AIMessageChunk(content=' los', additional_kwargs={}, response_metadata={}, id='run-97986691-4ca7-4793-9364-750159326a9c')}, 'parent_ids': []}\n",
      "{'event': 'on_chat_model_stream', 'run_id': '97986691-4ca7-4793-9364-750159326a9c', 'name': 'ChatOpenAI', 'tags': [], 'metadata': {'ls_provider': 'openai', 'ls_model_name': 'gpt-4o-mini', 'ls_model_type': 'chat', 'ls_temperature': 0.0}, 'data': {'chunk': AIMessageChunk(content=' humanos', additional_kwargs={}, response_metadata={}, id='run-97986691-4ca7-4793-9364-750159326a9c')}, 'parent_ids': []}\n",
      "{'event': 'on_chat_model_stream', 'run_id': '97986691-4ca7-4793-9364-750159326a9c', 'name': 'ChatOpenAI', 'tags': [], 'metadata': {'ls_provider': 'openai', 'ls_model_name': 'gpt-4o-mini', 'ls_model_type': 'chat', 'ls_temperature': 0.0}, 'data': {'chunk': AIMessageChunk(content='.', additional_kwargs={}, response_metadata={}, id='run-97986691-4ca7-4793-9364-750159326a9c')}, 'parent_ids': []}\n",
      "{'event': 'on_chat_model_stream', 'run_id': '97986691-4ca7-4793-9364-750159326a9c', 'name': 'ChatOpenAI', 'tags': [], 'metadata': {'ls_provider': 'openai', 'ls_model_name': 'gpt-4o-mini', 'ls_model_type': 'chat', 'ls_temperature': 0.0}, 'data': {'chunk': AIMessageChunk(content=' Ex', additional_kwargs={}, response_metadata={}, id='run-97986691-4ca7-4793-9364-750159326a9c')}, 'parent_ids': []}\n",
      "{'event': 'on_chat_model_stream', 'run_id': '97986691-4ca7-4793-9364-750159326a9c', 'name': 'ChatOpenAI', 'tags': [], 'metadata': {'ls_provider': 'openai', 'ls_model_name': 'gpt-4o-mini', 'ls_model_type': 'chat', 'ls_temperature': 0.0}, 'data': {'chunk': AIMessageChunk(content='isten', additional_kwargs={}, response_metadata={}, id='run-97986691-4ca7-4793-9364-750159326a9c')}, 'parent_ids': []}\n",
      "{'event': 'on_chat_model_stream', 'run_id': '97986691-4ca7-4793-9364-750159326a9c', 'name': 'ChatOpenAI', 'tags': [], 'metadata': {'ls_provider': 'openai', 'ls_model_name': 'gpt-4o-mini', 'ls_model_type': 'chat', 'ls_temperature': 0.0}, 'data': {'chunk': AIMessageChunk(content=' muchas', additional_kwargs={}, response_metadata={}, id='run-97986691-4ca7-4793-9364-750159326a9c')}, 'parent_ids': []}\n",
      "{'event': 'on_chat_model_stream', 'run_id': '97986691-4ca7-4793-9364-750159326a9c', 'name': 'ChatOpenAI', 'tags': [], 'metadata': {'ls_provider': 'openai', 'ls_model_name': 'gpt-4o-mini', 'ls_model_type': 'chat', 'ls_temperature': 0.0}, 'data': {'chunk': AIMessageChunk(content=' raz', additional_kwargs={}, response_metadata={}, id='run-97986691-4ca7-4793-9364-750159326a9c')}, 'parent_ids': []}\n",
      "{'event': 'on_chat_model_stream', 'run_id': '97986691-4ca7-4793-9364-750159326a9c', 'name': 'ChatOpenAI', 'tags': [], 'metadata': {'ls_provider': 'openai', 'ls_model_name': 'gpt-4o-mini', 'ls_model_type': 'chat', 'ls_temperature': 0.0}, 'data': {'chunk': AIMessageChunk(content='as', additional_kwargs={}, response_metadata={}, id='run-97986691-4ca7-4793-9364-750159326a9c')}, 'parent_ids': []}\n",
      "{'event': 'on_chat_model_stream', 'run_id': '97986691-4ca7-4793-9364-750159326a9c', 'name': 'ChatOpenAI', 'tags': [], 'metadata': {'ls_provider': 'openai', 'ls_model_name': 'gpt-4o-mini', 'ls_model_type': 'chat', 'ls_temperature': 0.0}, 'data': {'chunk': AIMessageChunk(content=' de', additional_kwargs={}, response_metadata={}, id='run-97986691-4ca7-4793-9364-750159326a9c')}, 'parent_ids': []}\n",
      "{'event': 'on_chat_model_stream', 'run_id': '97986691-4ca7-4793-9364-750159326a9c', 'name': 'ChatOpenAI', 'tags': [], 'metadata': {'ls_provider': 'openai', 'ls_model_name': 'gpt-4o-mini', 'ls_model_type': 'chat', 'ls_temperature': 0.0}, 'data': {'chunk': AIMessageChunk(content=' perros', additional_kwargs={}, response_metadata={}, id='run-97986691-4ca7-4793-9364-750159326a9c')}, 'parent_ids': []}\n",
      "{'event': 'on_chat_model_stream', 'run_id': '97986691-4ca7-4793-9364-750159326a9c', 'name': 'ChatOpenAI', 'tags': [], 'metadata': {'ls_provider': 'openai', 'ls_model_name': 'gpt-4o-mini', 'ls_model_type': 'chat', 'ls_temperature': 0.0}, 'data': {'chunk': AIMessageChunk(content=',', additional_kwargs={}, response_metadata={}, id='run-97986691-4ca7-4793-9364-750159326a9c')}, 'parent_ids': []}\n",
      "{'event': 'on_chat_model_stream', 'run_id': '97986691-4ca7-4793-9364-750159326a9c', 'name': 'ChatOpenAI', 'tags': [], 'metadata': {'ls_provider': 'openai', 'ls_model_name': 'gpt-4o-mini', 'ls_model_type': 'chat', 'ls_temperature': 0.0}, 'data': {'chunk': AIMessageChunk(content=' cada', additional_kwargs={}, response_metadata={}, id='run-97986691-4ca7-4793-9364-750159326a9c')}, 'parent_ids': []}\n",
      "{'event': 'on_chat_model_stream', 'run_id': '97986691-4ca7-4793-9364-750159326a9c', 'name': 'ChatOpenAI', 'tags': [], 'metadata': {'ls_provider': 'openai', 'ls_model_name': 'gpt-4o-mini', 'ls_model_type': 'chat', 'ls_temperature': 0.0}, 'data': {'chunk': AIMessageChunk(content=' una', additional_kwargs={}, response_metadata={}, id='run-97986691-4ca7-4793-9364-750159326a9c')}, 'parent_ids': []}\n",
      "{'event': 'on_chat_model_stream', 'run_id': '97986691-4ca7-4793-9364-750159326a9c', 'name': 'ChatOpenAI', 'tags': [], 'metadata': {'ls_provider': 'openai', 'ls_model_name': 'gpt-4o-mini', 'ls_model_type': 'chat', 'ls_temperature': 0.0}, 'data': {'chunk': AIMessageChunk(content=' con', additional_kwargs={}, response_metadata={}, id='run-97986691-4ca7-4793-9364-750159326a9c')}, 'parent_ids': []}\n",
      "{'event': 'on_chat_model_stream', 'run_id': '97986691-4ca7-4793-9364-750159326a9c', 'name': 'ChatOpenAI', 'tags': [], 'metadata': {'ls_provider': 'openai', 'ls_model_name': 'gpt-4o-mini', 'ls_model_type': 'chat', 'ls_temperature': 0.0}, 'data': {'chunk': AIMessageChunk(content=' sus', additional_kwargs={}, response_metadata={}, id='run-97986691-4ca7-4793-9364-750159326a9c')}, 'parent_ids': []}\n",
      "{'event': 'on_chat_model_stream', 'run_id': '97986691-4ca7-4793-9364-750159326a9c', 'name': 'ChatOpenAI', 'tags': [], 'metadata': {'ls_provider': 'openai', 'ls_model_name': 'gpt-4o-mini', 'ls_model_type': 'chat', 'ls_temperature': 0.0}, 'data': {'chunk': AIMessageChunk(content=' propias', additional_kwargs={}, response_metadata={}, id='run-97986691-4ca7-4793-9364-750159326a9c')}, 'parent_ids': []}\n",
      "{'event': 'on_chat_model_stream', 'run_id': '97986691-4ca7-4793-9364-750159326a9c', 'name': 'ChatOpenAI', 'tags': [], 'metadata': {'ls_provider': 'openai', 'ls_model_name': 'gpt-4o-mini', 'ls_model_type': 'chat', 'ls_temperature': 0.0}, 'data': {'chunk': AIMessageChunk(content=' características', additional_kwargs={}, response_metadata={}, id='run-97986691-4ca7-4793-9364-750159326a9c')}, 'parent_ids': []}\n",
      "{'event': 'on_chat_model_stream', 'run_id': '97986691-4ca7-4793-9364-750159326a9c', 'name': 'ChatOpenAI', 'tags': [], 'metadata': {'ls_provider': 'openai', 'ls_model_name': 'gpt-4o-mini', 'ls_model_type': 'chat', 'ls_temperature': 0.0}, 'data': {'chunk': AIMessageChunk(content=' y', additional_kwargs={}, response_metadata={}, id='run-97986691-4ca7-4793-9364-750159326a9c')}, 'parent_ids': []}\n",
      "{'event': 'on_chat_model_stream', 'run_id': '97986691-4ca7-4793-9364-750159326a9c', 'name': 'ChatOpenAI', 'tags': [], 'metadata': {'ls_provider': 'openai', 'ls_model_name': 'gpt-4o-mini', 'ls_model_type': 'chat', 'ls_temperature': 0.0}, 'data': {'chunk': AIMessageChunk(content=' temper', additional_kwargs={}, response_metadata={}, id='run-97986691-4ca7-4793-9364-750159326a9c')}, 'parent_ids': []}\n",
      "{'event': 'on_chat_model_stream', 'run_id': '97986691-4ca7-4793-9364-750159326a9c', 'name': 'ChatOpenAI', 'tags': [], 'metadata': {'ls_provider': 'openai', 'ls_model_name': 'gpt-4o-mini', 'ls_model_type': 'chat', 'ls_temperature': 0.0}, 'data': {'chunk': AIMessageChunk(content='amentos', additional_kwargs={}, response_metadata={}, id='run-97986691-4ca7-4793-9364-750159326a9c')}, 'parent_ids': []}\n",
      "{'event': 'on_chat_model_stream', 'run_id': '97986691-4ca7-4793-9364-750159326a9c', 'name': 'ChatOpenAI', 'tags': [], 'metadata': {'ls_provider': 'openai', 'ls_model_name': 'gpt-4o-mini', 'ls_model_type': 'chat', 'ls_temperature': 0.0}, 'data': {'chunk': AIMessageChunk(content='.', additional_kwargs={}, response_metadata={}, id='run-97986691-4ca7-4793-9364-750159326a9c')}, 'parent_ids': []}\n",
      "{'event': 'on_chat_model_stream', 'run_id': '97986691-4ca7-4793-9364-750159326a9c', 'name': 'ChatOpenAI', 'tags': [], 'metadata': {'ls_provider': 'openai', 'ls_model_name': 'gpt-4o-mini', 'ls_model_type': 'chat', 'ls_temperature': 0.0}, 'data': {'chunk': AIMessageChunk(content=' \\n\\n', additional_kwargs={}, response_metadata={}, id='run-97986691-4ca7-4793-9364-750159326a9c')}, 'parent_ids': []}\n",
      "{'event': 'on_chat_model_stream', 'run_id': '97986691-4ca7-4793-9364-750159326a9c', 'name': 'ChatOpenAI', 'tags': [], 'metadata': {'ls_provider': 'openai', 'ls_model_name': 'gpt-4o-mini', 'ls_model_type': 'chat', 'ls_temperature': 0.0}, 'data': {'chunk': AIMessageChunk(content='Si', additional_kwargs={}, response_metadata={}, id='run-97986691-4ca7-4793-9364-750159326a9c')}, 'parent_ids': []}\n",
      "{'event': 'on_chat_model_stream', 'run_id': '97986691-4ca7-4793-9364-750159326a9c', 'name': 'ChatOpenAI', 'tags': [], 'metadata': {'ls_provider': 'openai', 'ls_model_name': 'gpt-4o-mini', 'ls_model_type': 'chat', 'ls_temperature': 0.0}, 'data': {'chunk': AIMessageChunk(content=' tienes', additional_kwargs={}, response_metadata={}, id='run-97986691-4ca7-4793-9364-750159326a9c')}, 'parent_ids': []}\n",
      "{'event': 'on_chat_model_stream', 'run_id': '97986691-4ca7-4793-9364-750159326a9c', 'name': 'ChatOpenAI', 'tags': [], 'metadata': {'ls_provider': 'openai', 'ls_model_name': 'gpt-4o-mini', 'ls_model_type': 'chat', 'ls_temperature': 0.0}, 'data': {'chunk': AIMessageChunk(content=' alguna', additional_kwargs={}, response_metadata={}, id='run-97986691-4ca7-4793-9364-750159326a9c')}, 'parent_ids': []}\n",
      "{'event': 'on_chat_model_stream', 'run_id': '97986691-4ca7-4793-9364-750159326a9c', 'name': 'ChatOpenAI', 'tags': [], 'metadata': {'ls_provider': 'openai', 'ls_model_name': 'gpt-4o-mini', 'ls_model_type': 'chat', 'ls_temperature': 0.0}, 'data': {'chunk': AIMessageChunk(content=' pregunta', additional_kwargs={}, response_metadata={}, id='run-97986691-4ca7-4793-9364-750159326a9c')}, 'parent_ids': []}\n",
      "{'event': 'on_chat_model_stream', 'run_id': '97986691-4ca7-4793-9364-750159326a9c', 'name': 'ChatOpenAI', 'tags': [], 'metadata': {'ls_provider': 'openai', 'ls_model_name': 'gpt-4o-mini', 'ls_model_type': 'chat', 'ls_temperature': 0.0}, 'data': {'chunk': AIMessageChunk(content=' específica', additional_kwargs={}, response_metadata={}, id='run-97986691-4ca7-4793-9364-750159326a9c')}, 'parent_ids': []}\n",
      "{'event': 'on_chat_model_stream', 'run_id': '97986691-4ca7-4793-9364-750159326a9c', 'name': 'ChatOpenAI', 'tags': [], 'metadata': {'ls_provider': 'openai', 'ls_model_name': 'gpt-4o-mini', 'ls_model_type': 'chat', 'ls_temperature': 0.0}, 'data': {'chunk': AIMessageChunk(content=' sobre', additional_kwargs={}, response_metadata={}, id='run-97986691-4ca7-4793-9364-750159326a9c')}, 'parent_ids': []}\n",
      "{'event': 'on_chat_model_stream', 'run_id': '97986691-4ca7-4793-9364-750159326a9c', 'name': 'ChatOpenAI', 'tags': [], 'metadata': {'ls_provider': 'openai', 'ls_model_name': 'gpt-4o-mini', 'ls_model_type': 'chat', 'ls_temperature': 0.0}, 'data': {'chunk': AIMessageChunk(content=' perros', additional_kwargs={}, response_metadata={}, id='run-97986691-4ca7-4793-9364-750159326a9c')}, 'parent_ids': []}\n",
      "{'event': 'on_chat_model_stream', 'run_id': '97986691-4ca7-4793-9364-750159326a9c', 'name': 'ChatOpenAI', 'tags': [], 'metadata': {'ls_provider': 'openai', 'ls_model_name': 'gpt-4o-mini', 'ls_model_type': 'chat', 'ls_temperature': 0.0}, 'data': {'chunk': AIMessageChunk(content=',', additional_kwargs={}, response_metadata={}, id='run-97986691-4ca7-4793-9364-750159326a9c')}, 'parent_ids': []}\n",
      "{'event': 'on_chat_model_stream', 'run_id': '97986691-4ca7-4793-9364-750159326a9c', 'name': 'ChatOpenAI', 'tags': [], 'metadata': {'ls_provider': 'openai', 'ls_model_name': 'gpt-4o-mini', 'ls_model_type': 'chat', 'ls_temperature': 0.0}, 'data': {'chunk': AIMessageChunk(content=' como', additional_kwargs={}, response_metadata={}, id='run-97986691-4ca7-4793-9364-750159326a9c')}, 'parent_ids': []}\n",
      "{'event': 'on_chat_model_stream', 'run_id': '97986691-4ca7-4793-9364-750159326a9c', 'name': 'ChatOpenAI', 'tags': [], 'metadata': {'ls_provider': 'openai', 'ls_model_name': 'gpt-4o-mini', 'ls_model_type': 'chat', 'ls_temperature': 0.0}, 'data': {'chunk': AIMessageChunk(content=' cuidados', additional_kwargs={}, response_metadata={}, id='run-97986691-4ca7-4793-9364-750159326a9c')}, 'parent_ids': []}\n",
      "{'event': 'on_chat_model_stream', 'run_id': '97986691-4ca7-4793-9364-750159326a9c', 'name': 'ChatOpenAI', 'tags': [], 'metadata': {'ls_provider': 'openai', 'ls_model_name': 'gpt-4o-mini', 'ls_model_type': 'chat', 'ls_temperature': 0.0}, 'data': {'chunk': AIMessageChunk(content=',', additional_kwargs={}, response_metadata={}, id='run-97986691-4ca7-4793-9364-750159326a9c')}, 'parent_ids': []}\n",
      "{'event': 'on_chat_model_stream', 'run_id': '97986691-4ca7-4793-9364-750159326a9c', 'name': 'ChatOpenAI', 'tags': [], 'metadata': {'ls_provider': 'openai', 'ls_model_name': 'gpt-4o-mini', 'ls_model_type': 'chat', 'ls_temperature': 0.0}, 'data': {'chunk': AIMessageChunk(content=' entrenamiento', additional_kwargs={}, response_metadata={}, id='run-97986691-4ca7-4793-9364-750159326a9c')}, 'parent_ids': []}\n",
      "{'event': 'on_chat_model_stream', 'run_id': '97986691-4ca7-4793-9364-750159326a9c', 'name': 'ChatOpenAI', 'tags': [], 'metadata': {'ls_provider': 'openai', 'ls_model_name': 'gpt-4o-mini', 'ls_model_type': 'chat', 'ls_temperature': 0.0}, 'data': {'chunk': AIMessageChunk(content=',', additional_kwargs={}, response_metadata={}, id='run-97986691-4ca7-4793-9364-750159326a9c')}, 'parent_ids': []}\n",
      "{'event': 'on_chat_model_stream', 'run_id': '97986691-4ca7-4793-9364-750159326a9c', 'name': 'ChatOpenAI', 'tags': [], 'metadata': {'ls_provider': 'openai', 'ls_model_name': 'gpt-4o-mini', 'ls_model_type': 'chat', 'ls_temperature': 0.0}, 'data': {'chunk': AIMessageChunk(content=' raz', additional_kwargs={}, response_metadata={}, id='run-97986691-4ca7-4793-9364-750159326a9c')}, 'parent_ids': []}\n",
      "{'event': 'on_chat_model_stream', 'run_id': '97986691-4ca7-4793-9364-750159326a9c', 'name': 'ChatOpenAI', 'tags': [], 'metadata': {'ls_provider': 'openai', 'ls_model_name': 'gpt-4o-mini', 'ls_model_type': 'chat', 'ls_temperature': 0.0}, 'data': {'chunk': AIMessageChunk(content='as', additional_kwargs={}, response_metadata={}, id='run-97986691-4ca7-4793-9364-750159326a9c')}, 'parent_ids': []}\n",
      "{'event': 'on_chat_model_stream', 'run_id': '97986691-4ca7-4793-9364-750159326a9c', 'name': 'ChatOpenAI', 'tags': [], 'metadata': {'ls_provider': 'openai', 'ls_model_name': 'gpt-4o-mini', 'ls_model_type': 'chat', 'ls_temperature': 0.0}, 'data': {'chunk': AIMessageChunk(content=' o', additional_kwargs={}, response_metadata={}, id='run-97986691-4ca7-4793-9364-750159326a9c')}, 'parent_ids': []}\n",
      "{'event': 'on_chat_model_stream', 'run_id': '97986691-4ca7-4793-9364-750159326a9c', 'name': 'ChatOpenAI', 'tags': [], 'metadata': {'ls_provider': 'openai', 'ls_model_name': 'gpt-4o-mini', 'ls_model_type': 'chat', 'ls_temperature': 0.0}, 'data': {'chunk': AIMessageChunk(content=' comportamiento', additional_kwargs={}, response_metadata={}, id='run-97986691-4ca7-4793-9364-750159326a9c')}, 'parent_ids': []}\n",
      "{'event': 'on_chat_model_stream', 'run_id': '97986691-4ca7-4793-9364-750159326a9c', 'name': 'ChatOpenAI', 'tags': [], 'metadata': {'ls_provider': 'openai', 'ls_model_name': 'gpt-4o-mini', 'ls_model_type': 'chat', 'ls_temperature': 0.0}, 'data': {'chunk': AIMessageChunk(content=',', additional_kwargs={}, response_metadata={}, id='run-97986691-4ca7-4793-9364-750159326a9c')}, 'parent_ids': []}\n",
      "{'event': 'on_chat_model_stream', 'run_id': '97986691-4ca7-4793-9364-750159326a9c', 'name': 'ChatOpenAI', 'tags': [], 'metadata': {'ls_provider': 'openai', 'ls_model_name': 'gpt-4o-mini', 'ls_model_type': 'chat', 'ls_temperature': 0.0}, 'data': {'chunk': AIMessageChunk(content=' ¡', additional_kwargs={}, response_metadata={}, id='run-97986691-4ca7-4793-9364-750159326a9c')}, 'parent_ids': []}\n",
      "{'event': 'on_chat_model_stream', 'run_id': '97986691-4ca7-4793-9364-750159326a9c', 'name': 'ChatOpenAI', 'tags': [], 'metadata': {'ls_provider': 'openai', 'ls_model_name': 'gpt-4o-mini', 'ls_model_type': 'chat', 'ls_temperature': 0.0}, 'data': {'chunk': AIMessageChunk(content='estar', additional_kwargs={}, response_metadata={}, id='run-97986691-4ca7-4793-9364-750159326a9c')}, 'parent_ids': []}\n",
      "{'event': 'on_chat_model_stream', 'run_id': '97986691-4ca7-4793-9364-750159326a9c', 'name': 'ChatOpenAI', 'tags': [], 'metadata': {'ls_provider': 'openai', 'ls_model_name': 'gpt-4o-mini', 'ls_model_type': 'chat', 'ls_temperature': 0.0}, 'data': {'chunk': AIMessageChunk(content='é', additional_kwargs={}, response_metadata={}, id='run-97986691-4ca7-4793-9364-750159326a9c')}, 'parent_ids': []}\n",
      "{'event': 'on_chat_model_stream', 'run_id': '97986691-4ca7-4793-9364-750159326a9c', 'name': 'ChatOpenAI', 'tags': [], 'metadata': {'ls_provider': 'openai', 'ls_model_name': 'gpt-4o-mini', 'ls_model_type': 'chat', 'ls_temperature': 0.0}, 'data': {'chunk': AIMessageChunk(content=' encant', additional_kwargs={}, response_metadata={}, id='run-97986691-4ca7-4793-9364-750159326a9c')}, 'parent_ids': []}\n",
      "{'event': 'on_chat_model_stream', 'run_id': '97986691-4ca7-4793-9364-750159326a9c', 'name': 'ChatOpenAI', 'tags': [], 'metadata': {'ls_provider': 'openai', 'ls_model_name': 'gpt-4o-mini', 'ls_model_type': 'chat', 'ls_temperature': 0.0}, 'data': {'chunk': AIMessageChunk(content='ado', additional_kwargs={}, response_metadata={}, id='run-97986691-4ca7-4793-9364-750159326a9c')}, 'parent_ids': []}\n",
      "{'event': 'on_chat_model_stream', 'run_id': '97986691-4ca7-4793-9364-750159326a9c', 'name': 'ChatOpenAI', 'tags': [], 'metadata': {'ls_provider': 'openai', 'ls_model_name': 'gpt-4o-mini', 'ls_model_type': 'chat', 'ls_temperature': 0.0}, 'data': {'chunk': AIMessageChunk(content=' de', additional_kwargs={}, response_metadata={}, id='run-97986691-4ca7-4793-9364-750159326a9c')}, 'parent_ids': []}\n",
      "{'event': 'on_chat_model_stream', 'run_id': '97986691-4ca7-4793-9364-750159326a9c', 'name': 'ChatOpenAI', 'tags': [], 'metadata': {'ls_provider': 'openai', 'ls_model_name': 'gpt-4o-mini', 'ls_model_type': 'chat', 'ls_temperature': 0.0}, 'data': {'chunk': AIMessageChunk(content=' ayudarte', additional_kwargs={}, response_metadata={}, id='run-97986691-4ca7-4793-9364-750159326a9c')}, 'parent_ids': []}\n",
      "{'event': 'on_chat_model_stream', 'run_id': '97986691-4ca7-4793-9364-750159326a9c', 'name': 'ChatOpenAI', 'tags': [], 'metadata': {'ls_provider': 'openai', 'ls_model_name': 'gpt-4o-mini', 'ls_model_type': 'chat', 'ls_temperature': 0.0}, 'data': {'chunk': AIMessageChunk(content='!', additional_kwargs={}, response_metadata={}, id='run-97986691-4ca7-4793-9364-750159326a9c')}, 'parent_ids': []}\n",
      "{'event': 'on_chat_model_stream', 'run_id': '97986691-4ca7-4793-9364-750159326a9c', 'name': 'ChatOpenAI', 'tags': [], 'metadata': {'ls_provider': 'openai', 'ls_model_name': 'gpt-4o-mini', 'ls_model_type': 'chat', 'ls_temperature': 0.0}, 'data': {'chunk': AIMessageChunk(content='', additional_kwargs={}, response_metadata={'finish_reason': 'stop', 'model_name': 'gpt-4o-mini-2024-07-18', 'system_fingerprint': 'fp_0aa8d3e20b'}, id='run-97986691-4ca7-4793-9364-750159326a9c')}, 'parent_ids': []}\n",
      "{'event': 'on_chat_model_end', 'data': {'output': AIMessageChunk(content='¡Claro! Los perros son animales domésticos muy queridos y populares en todo el mundo. Son conocidos por su lealtad, inteligencia y capacidad para formar fuertes lazos con los humanos. Existen muchas razas de perros, cada una con sus propias características y temperamentos. \\n\\nSi tienes alguna pregunta específica sobre perros, como cuidados, entrenamiento, razas o comportamiento, ¡estaré encantado de ayudarte!', additional_kwargs={}, response_metadata={'finish_reason': 'stop', 'model_name': 'gpt-4o-mini-2024-07-18', 'system_fingerprint': 'fp_0aa8d3e20b'}, id='run-97986691-4ca7-4793-9364-750159326a9c')}, 'run_id': '97986691-4ca7-4793-9364-750159326a9c', 'name': 'ChatOpenAI', 'tags': [], 'metadata': {'ls_provider': 'openai', 'ls_model_name': 'gpt-4o-mini', 'ls_model_type': 'chat', 'ls_temperature': 0.0}, 'parent_ids': []}\n"
     ]
    }
   ],
   "source": [
    "async for event in model.astream_events(\"perros\", version=\"v2\"):\n",
    "    print(event, flush=True)\n"
   ]
  },
  {
   "cell_type": "code",
   "execution_count": 10,
   "metadata": {},
   "outputs": [
    {
     "name": "stdout",
     "output_type": "stream",
     "text": [
      "Unique event types: {'on_chat_model_end', 'on_chat_model_stream', 'on_chat_model_start'}\n"
     ]
    }
   ],
   "source": [
    "events = []\n",
    "async for event in model.astream_events(\"perros\", version=\"v2\"):\n",
    "    events.append(event)\n",
    "\n",
    "event_types = {event[\"event\"] for event in events}\n",
    "print(\"Unique event types:\", event_types)"
   ]
  },
  {
   "cell_type": "code",
   "execution_count": 12,
   "metadata": {},
   "outputs": [
    {
     "name": "stdout",
     "output_type": "stream",
     "text": [
      "Stream started...\n",
      "|¡|Claro|!| Los| perros| son| animales| domést|icos| muy| queridos| y| populares| en| todo| el| mundo|.| Son| conocidos| por| su| le|alt|ad|,| inteligencia| y| capacidad| para| formar| fuertes| la|zos| con| los| humanos|.| Ex|isten| muchas| raz|as| de| perros|,| cada| una| con| sus| propias| características| y| temper|amentos|.| \n",
      "\n",
      "|Si| tienes| alguna| pregunta| específica| sobre| perros|,| como| cuidados|,| entrenamiento|,| raz|as| o| comportamiento|,| ¡|estar|é| encant|ado| de| ayudarte|!||"
     ]
    }
   ],
   "source": [
    "async for event in model.astream_events(\"perros\", version=\"v2\"):\n",
    "    if event[\"event\"] == \"on_chat_model_start\":\n",
    "        print(\"Stream started...\", flush=True)\n",
    "    elif event[\"event\"] == \"on_chat_model_stream\":\n",
    "        print(event[\"data\"][\"chunk\"].content, end=\"\", flush=True)"
   ]
  },
  {
   "cell_type": "code",
   "execution_count": null,
   "metadata": {},
   "outputs": [],
   "source": []
  }
 ],
 "metadata": {
  "kernelspec": {
   "display_name": "venv_langchain",
   "language": "python",
   "name": "python3"
  },
  "language_info": {
   "codemirror_mode": {
    "name": "ipython",
    "version": 3
   },
   "file_extension": ".py",
   "mimetype": "text/x-python",
   "name": "python",
   "nbconvert_exporter": "python",
   "pygments_lexer": "ipython3",
   "version": "3.10.16"
  }
 },
 "nbformat": 4,
 "nbformat_minor": 2
}
