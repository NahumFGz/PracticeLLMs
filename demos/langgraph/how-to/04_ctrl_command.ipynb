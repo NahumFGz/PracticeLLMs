{
 "cells": [
  {
   "cell_type": "markdown",
   "metadata": {},
   "source": [
    "# [How to combine control flow and state updates with Command](https://langchain-ai.github.io/langgraph/how-tos/command/)"
   ]
  },
  {
   "cell_type": "code",
   "execution_count": null,
   "metadata": {},
   "outputs": [],
   "source": [
    "import random \n",
    "from typing_extensions import TypedDict, Literal\n",
    "\n",
    "from langgraph.graph import StateGraph, START\n",
    "from langgraph.types import Command\n",
    "\n",
    "# Define graph state\n",
    "class State(TypedDict):\n",
    "    foo: str\n",
    "\n",
    "# Define the nodes\n",
    "def node_a(state: State) -> Command[Literal[\"node_b\", \"node_c\"]]:\n",
    "    print(\"Called A\")\n",
    "    value = random.choice([\"a\", \"b\"])\n",
    "    # This is a replacement for a conditional edge function\n",
    "    if value == \"a\":\n",
    "        return \"node_b\"\n",
    "    else:\n",
    "        return \"node_c\"\n",
    "    \n",
    "    # Note how Command allows you to BOTH update the graph state AND route the next node\n",
    "    return Command(\n",
    "        # this is the state update\n",
    "        update={\"foo\": value}\n",
    "    )"
   ]
  },
  {
   "cell_type": "code",
   "execution_count": null,
   "metadata": {},
   "outputs": [],
   "source": []
  },
  {
   "cell_type": "code",
   "execution_count": null,
   "metadata": {},
   "outputs": [],
   "source": []
  },
  {
   "cell_type": "code",
   "execution_count": null,
   "metadata": {},
   "outputs": [],
   "source": []
  }
 ],
 "metadata": {
  "kernelspec": {
   "display_name": "venv_langgraph",
   "language": "python",
   "name": "python3"
  },
  "language_info": {
   "codemirror_mode": {
    "name": "ipython",
    "version": 3
   },
   "file_extension": ".py",
   "mimetype": "text/x-python",
   "name": "python",
   "nbconvert_exporter": "python",
   "pygments_lexer": "ipython3",
   "version": "3.10.16"
  }
 },
 "nbformat": 4,
 "nbformat_minor": 2
}
