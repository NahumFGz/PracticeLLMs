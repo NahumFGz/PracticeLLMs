{
 "cells": [
  {
   "cell_type": "markdown",
   "metadata": {},
   "source": [
    "### Solución **Lanchain**"
   ]
  },
  {
   "cell_type": "code",
   "execution_count": 1,
   "metadata": {},
   "outputs": [],
   "source": [
    "import getpass\n",
    "import os\n",
    "\n",
    "if \"LANGCHAIN_API_KEY\" not in os.environ:\n",
    "    os.environ[\"LANGCHAIN_TRACING_V2\"] = \"true\"\n",
    "    os.environ[\"LANGCHAIN_API_KEY\"] = getpass.getpass()"
   ]
  },
  {
   "cell_type": "code",
   "execution_count": 2,
   "metadata": {},
   "outputs": [],
   "source": [
    "if not os.environ.get(\"OPENAI_API_KEY\"):\n",
    "    os.environ[\"OPENAI_API_KEY\"] = getpass.getpass()"
   ]
  },
  {
   "cell_type": "markdown",
   "metadata": {},
   "source": [
    "#### A. Indexar"
   ]
  },
  {
   "cell_type": "code",
   "execution_count": 3,
   "metadata": {},
   "outputs": [],
   "source": [
    "from langchain_openai import ChatOpenAI\n",
    "from langchain_openai import OpenAIEmbeddings\n",
    "from langchain_core.vectorstores import InMemoryVectorStore\n",
    "\n",
    "llm = ChatOpenAI(model='gpt-4o-mini')\n",
    "embeddings = OpenAIEmbeddings(model='text-embedding-3-large')\n",
    "vector_store = InMemoryVectorStore(embeddings)"
   ]
  },
  {
   "cell_type": "code",
   "execution_count": 4,
   "metadata": {},
   "outputs": [
    {
     "name": "stdout",
     "output_type": "stream",
     "text": [
      "Se cargaron 175 documentos.\n",
      "Los documentos se dividieron en 769 fragmentos.\n",
      "Primeros 3 document IDs añadidos al vector store: ['54231e2a-99eb-427a-9f60-1a22701e8c6b', '14768e30-0e26-4228-a4e4-a72f029477dc', 'd0e6278a-92e7-4ff6-b338-80cd18e6790b']\n"
     ]
    }
   ],
   "source": [
    "from langchain_community.document_loaders import DirectoryLoader, TextLoader, PyPDFLoader, CSVLoader\n",
    "from langchain.text_splitter import RecursiveCharacterTextSplitter\n",
    "from langchain.vectorstores import FAISS  # Usa el vector store FAISS como ejemplo\n",
    "\n",
    "# Función para obtener el loader correspondiente según la extensión del archivo\n",
    "def get_loader(file_extension):\n",
    "    if file_extension == 'txt':\n",
    "        return TextLoader\n",
    "    elif file_extension == 'pdf':\n",
    "        return PyPDFLoader\n",
    "    elif file_extension == 'csv':\n",
    "        return CSVLoader\n",
    "    else:\n",
    "        raise ValueError(f\"Formato no soportado: {file_extension}\")\n",
    "\n",
    "# Definir directorio donde se encuentran los archivos\n",
    "DIRECTORY_PATH = './data'\n",
    "\n",
    "# Extensiones de archivo y sus loaders correspondientes\n",
    "SUPPORTED_FILE_TYPES = [\n",
    "    (\".txt\", TextLoader),\n",
    "    (\".pdf\", PyPDFLoader),\n",
    "    (\".csv\", CSVLoader)\n",
    "]\n",
    "\n",
    "# Crear una lista para almacenar los loaders configurados\n",
    "loaders = []\n",
    "\n",
    "# Configurar loaders para cada tipo de archivo soportado\n",
    "for extension, loader_class in SUPPORTED_FILE_TYPES:\n",
    "    loader = DirectoryLoader(\n",
    "        path=DIRECTORY_PATH,\n",
    "        glob=f\"**/*{extension}\",\n",
    "        loader_cls=loader_class\n",
    "    )\n",
    "    loaders.append(loader)\n",
    "\n",
    "# Lista para almacenar los documentos cargados\n",
    "documents = []\n",
    "\n",
    "# Cargar documentos usando cada loader\n",
    "for loader in loaders:\n",
    "    loaded_documents = loader.load()\n",
    "    documents.extend(loaded_documents)\n",
    "\n",
    "# Imprimir información básica de los documentos cargados\n",
    "print(f\"Se cargaron {len(documents)} documentos.\")\n",
    "\n",
    "# Dividir documentos en fragmentos con RecursiveCharacterTextSplitter\n",
    "text_splitter = RecursiveCharacterTextSplitter(\n",
    "    chunk_size=1000,  # Tamaño de cada fragmento (en caracteres)\n",
    "    chunk_overlap=200,  # Superposición entre fragmentos (en caracteres)\n",
    "    add_start_index=True  # Agregar el índice de inicio en el documento original\n",
    ")\n",
    "\n",
    "# Dividir los documentos en fragmentos más pequeños\n",
    "all_splits = text_splitter.split_documents(documents)\n",
    "\n",
    "print(f\"Los documentos se dividieron en {len(all_splits)} fragmentos.\")\n",
    "\n",
    "# Agregar los fragmentos al vector store\n",
    "document_ids = vector_store.add_documents(documents=all_splits)\n",
    "\n",
    "# Imprimir los primeros tres IDs de documentos añadidos al vector store\n",
    "print(\"Primeros 3 document IDs añadidos al vector store:\", document_ids[:3])\n"
   ]
  },
  {
   "cell_type": "markdown",
   "metadata": {},
   "source": [
    "#### 2. Retrieval and Generation"
   ]
  },
  {
   "cell_type": "code",
   "execution_count": 5,
   "metadata": {},
   "outputs": [
    {
     "name": "stdout",
     "output_type": "stream",
     "text": [
      "You are an assistant for question-answering tasks. Use the following pieces of retrieved context to answer the question. If you don't know the answer, just say that you don't know. Use three sentences maximum and keep the answer concise.\n",
      "Question: (question goes here) \n",
      "Context: (context goes here) \n",
      "Answer:\n"
     ]
    }
   ],
   "source": [
    "from langchain import hub\n",
    "\n",
    "prompt = hub.pull(\"rlm/rag-prompt\")\n",
    "\n",
    "example_messages = prompt.invoke(\n",
    "    {\"context\": \"(context goes here)\", \"question\": \"(question goes here)\"}\n",
    ").to_messages()\n",
    "\n",
    "assert len(example_messages) == 1\n",
    "print(example_messages[0].content)"
   ]
  },
  {
   "cell_type": "code",
   "execution_count": 6,
   "metadata": {},
   "outputs": [],
   "source": [
    "from langchain_core.documents import Document\n",
    "from typing_extensions import List, TypedDict\n",
    "\n",
    "class State(TypedDict):\n",
    "    question: str\n",
    "    context: List[Document]\n",
    "    answer: str\n",
    "\n",
    "def retrieve(state: State):\n",
    "    retrieved_docs = vector_store.similarity_search(state['question'])\n",
    "    return {\"context\": retrieved_docs}\n",
    "\n",
    "def generate(state: State):\n",
    "    content = \"\\n\\n\".join(doc.page_content for doc in state['context'])\n",
    "    messages = prompt.invoke({\"question\": state['question'], \"context\": content})\n",
    "    response = llm.invoke(messages)\n",
    "    return {\"answer\": response.content}"
   ]
  },
  {
   "cell_type": "code",
   "execution_count": 7,
   "metadata": {},
   "outputs": [],
   "source": [
    "from langgraph.graph import START, StateGraph\n",
    "\n",
    "graph_builder = StateGraph(State).add_sequence([retrieve, generate])\n",
    "\n",
    "graph_builder.add_edge(START, \"retrieve\")\n",
    "graph = graph_builder.compile()"
   ]
  },
  {
   "cell_type": "code",
   "execution_count": 8,
   "metadata": {},
   "outputs": [
    {
     "data": {
      "image/png": "[encoded data removed]",
      "text/plain": [
       "<IPython.core.display.Image object>"
      ]
     },
     "metadata": {},
     "output_type": "display_data"
    }
   ],
   "source": [
    "from IPython.display import Image, display\n",
    "\n",
    "display(Image(graph.get_graph().draw_mermaid_png()))"
   ]
  },
  {
   "cell_type": "code",
   "execution_count": 9,
   "metadata": {},
   "outputs": [
    {
     "name": "stdout",
     "output_type": "stream",
     "text": [
      "Context: [Document(id='190d2624-fc95-46bd-bcd5-9c3a8a8404b4', metadata={'source': 'data/Dialnet-LasPreferenciasCiudadanasHaciaAlternativasDePoliti-9416658.pdf', 'page': 10, 'start_index': 2390}, page_content='— «Edad 2»: edad al cuadrado.\\n— «Mujer»: variable discreta que toma un va-\\nlor de 1 si el entrevistado es una mujer, y 0 \\nen otro caso.\\n— «Casado» (o viviendo en pareja): variable \\ndiscreta que toma un valor de 1 si el en-\\ntrevistado está casado o convive de ma-\\nnera estable con una pareja, y 0 en otro \\ncaso.\\n— «Gran ciudad»: variable discreta que \\ntoma un valor de 1 si el entrevistado'), Document(id='bfe4d9fc-e205-4775-868e-1dd9528f3872', metadata={'source': 'data/Dialnet-LasPreferenciasCiudadanasHaciaAlternativasDePoliti-9416658.pdf', 'page': 10, 'start_index': 1591}, page_content='Mujer 3.097   0     1     0,520     0,50 –0,06 1,00\\nCasado 3.097   0     1     0,570     0,49 –0,30 1,09\\nGran ciudad 3.097   0     1     0,340     0,22 0,68 1,46\\nRural 3.097   0     1     0,190     0,39 1,58 3,50\\nEducación Superior 3.097   0     1     0,260     0,25 0,18 1,03\\nEducación Secundaria 3.097   0     1     0,500     0,50 0,00 1,00\\nAsalariado 3.097   0     1     0,300     0,46 0,87 1,76\\nFuente: Elaboración propia.\\nEl segundo conjunto de controles incluye \\nvariables comúnmente consideradas por la \\nliteratura referidas a características sociode-\\nmográficas y socioeconómicas  (Gutiérrez, \\n López-Rodríguez y Tejero, 2023), para los que \\nla evidencia sobre España no es concluyente \\n(Calzada y Pino, 2008, 2019;  Cicuéndez, \\n2018; Sanz, 2022):\\n— «Edad»: edad de la persona entrevistada.\\n— «Edad 2»: edad al cuadrado.\\n— «Mujer»: variable discreta que toma un va-\\nlor de 1 si el entrevistado es una mujer, y 0 \\nen otro caso.\\n— «Casado» (o viviendo en pareja): variable'), Document(id='9f24c0fa-163c-4031-98d5-30baebfc5d51', metadata={'source': 'data/Dialnet-LasPreferenciasCiudadanasHaciaAlternativasDePoliti-9416658.pdf', 'page': 10, 'start_index': 770}, page_content='Nivel competencial alto 3.097   0     1     0,580     0,49 –0,30 1,09\\nNacionalista 3.097   0     1     0,220     0,41 1,38 2,91\\nRegionalista 3.097   0     1     0,040     0,19 4,79 23,92\\nGalicia 3.097   0     1     0,060     0,25 3,55 13,63\\nValencia 3.097   0     1     0,110     0,31 2,53 7,38\\nCataluña 3.097   0     1     0,160     0,37 1,81 4,29\\nNavarra 3.097   0     1     0,010     0,12 8,27 69,41\\nPaís Vasco 3.097   0     1     0,040     0,19 4,86 24,65\\nRicos deberían pagar más 3.097   0     1     0,740     0,44 –1,09 2,18\\nHacienda necesaria 3.097   0     1     0,900     0,30 –2,68 8,19\\nRedistribución 3.097   0     1     0,510     0,50 –0,03 1,00\\nPeor que Europa 3.097   0     1     0,570     0,50 –0,28 1,08\\nEdad 3.097  18    85    49,240    16,50 –0,04 2,02\\nEdad2 3.097 324 7.225 2.696,790 1.636,48 0,46 2,27\\nMujer 3.097   0     1     0,520     0,50 –0,06 1,00\\nCasado 3.097   0     1     0,570     0,49 –0,30 1,09\\nGran ciudad 3.097   0     1     0,340     0,22 0,68 1,46'), Document(id='a070f1a6-c640-4f07-88f2-10e1f9999392', metadata={'source': 'data/Dialnet-LaJuventudValencianaYSuHeterogeneidadAnteLaCuartaO-9416656.pdf', 'page': 5, 'start_index': 2342}, page_content='bres)\\nUtiel, 09/05/19\\nGD8 Masculinidades 24-30 Estudios de Máster, Grado, Grado Superior de FP, Grado Medio FP.\\nEstudiando, trabajando, en búsqueda activa de empleo. Situaciones diversas.\\nOrígenes diversos. (Cri-terio principal: diversidad sexual y de género).\\nUrbano No mixto (8 muje-res)\\nCastelló de la Plana, 04/02/20\\nGD9 Feminidades 24-30 Estudios de Máster, \\nGrado, Grado Superior \\nde FP, Grado Medio FP.\\nEstudiando, trabajando, en \\nbúsqueda activa de empleo. \\nSituaciones diversas.\\nOrígenes diversos. (Cri-\\nterio principal: diversidad \\nsexual y de género).\\nUrbano No mixto (9 hom-\\nbres)\\nCastelló de la Plana, 27/01/20\\nFuente: Elaboración propia.')]\n",
      "\n",
      "\n",
      "Answer: Los datos incluyen variables como edad, estado civil (casado o en pareja), género (mujer), y si el entrevistado vive en una gran ciudad. Se presentan también variables sobre nivel educativo y opiniones sobre temas fiscales y redistributivos. Además, se especifican estadísticas descriptivas de estas variables con información sobre la cantidad de encuestados y sus proporciones.\n"
     ]
    }
   ],
   "source": [
    "result = graph.invoke({\"question\": \"Que datos tienes?\"})\n",
    "\n",
    "print(f'Context: {result[\"context\"]}\\n\\n')\n",
    "print(f'Answer: {result[\"answer\"]}')"
   ]
  },
  {
   "cell_type": "code",
   "execution_count": 13,
   "metadata": {},
   "outputs": [
    {
     "name": "stdout",
     "output_type": "stream",
     "text": [
      "Context: [Document(id='1c213866-655f-4da2-8459-cdb6b9dfa1c8', metadata={'source': 'data/Dialnet-ElNivelEducativoDeLaPoblacionResidenteEnEspanaYSus-9416654.pdf', 'page': 5, 'start_index': 1620}, page_content='valores centrales del índice. En la tabla\\xa0 1 \\nse expone la frecuencia de valores de las \\ncategorías del índice así agrupadas, tanto \\noriginales como estimados, una vez apli-\\ncado el coeficiente de ponderación reco-\\nmendado de la ESE.'), Document(id='869cda86-7675-4d64-92e3-88650c99b701', metadata={'source': 'data/Dialnet-ElNivelEducativoDeLaPoblacionResidenteEnEspanaYSus-9416654.pdf', 'page': 10, 'start_index': 1605}, page_content='30\\n77\\n25,4\\n65,3\\n4,4 118\\nIndiferente\\nA favor\\nTotal\\n Nodo 6\\nCategoría % n\\nEn contra 16,7 12\\n15\\n45\\n20,8\\n62,5\\n2,7 72\\nIndiferente\\nA favor\\nTotal\\n Nodo 5\\nCategoría % n\\nEn contra 32,5 87\\n94\\n87\\n35,1\\n32,5\\n10,0 268\\nIndiferente\\nA favor\\nTotal\\n Nodo 4\\nCategoría % n\\nEn contra 22,2 157\\n268\\n282\\n37,9\\n26,4 707\\nIndiferente\\nA favor\\nTotal\\n Nodo 12\\nCategoría % n\\nEn contra 35,3 41\\n47\\n28\\n40,5\\n24,1\\n4,3 116\\nIndiferente\\nA favor\\nTotal\\n Nodo 13\\nCategoría % n\\nEn contra 17,5 14\\n32\\n34\\n40,0\\n42,5\\n3,0 80\\nIndiferente\\nA favor\\nTotal\\n Nodo 14\\nCategoría % n\\nEn contra 32,0 49\\n53\\n51\\n34,6\\n33,3\\n5,7 153\\nIndiferente\\nA favor\\nTotal\\n Nodo 15\\nCategoría % n\\nEn contra 14,8 53\\n136\\n169\\n38,0\\n47,2\\n13,3 358\\nIndiferente\\nA favor\\nTotal\\n Nodo 16\\nCategoría % n\\nEn contra 43,4 33\\n30\\n13\\n39,5\\n17,1\\n2,8 76\\nIndiferente\\nA favor\\nTotal\\n Nodo 17\\nCategoría % n\\nEn contra 25,7 36\\n40\\n64\\n28,6\\n45,7\\n5,2 140\\nIndiferente\\nA favor\\nTotal\\n Nodo 18\\nCategoría % n\\nEn contra 34,6 18\\n24\\n10\\n46,2\\n19,2\\n1,9 52\\nIndiferente\\nA favor\\nTotal\\n Nodo 1\\nCategoría % n\\nEn contra 24,5 256'), Document(id='5c82be04-c664-44a2-8abd-102525e106ae', metadata={'source': 'data/Dialnet-ElNivelEducativoDeLaPoblacionResidenteEnEspanaYSus-9416654.pdf', 'page': 16, 'start_index': 0}, page_content='Carlos Carvajal-Martín 41\\nReis. Rev.Esp.Investig.Sociol. ISSN-L: 0210-5233. N.º 186, Abril - Junio 2024, pp.\\xa025-42\\nSocieties: Public Views and Perceptions in a Cross-\\nnational Comparative Perspective». International \\nJournal of Comparative Sociology, 49(1): 5-29.\\nValdés, Manuel T. (2020). «Efectos primarios y secunda-\\nrios del origen social en la transición a la educación \\nposobligatoria en España» /«Primary and Secon-\\ndary Effects of Social Origin in theTransition to Post-\\nCompulsory Education in Spain». Revista Española \\nde Investigaciones Sociológicas, 171: 125-144.\\nWaal, Jeroen van der; Achterberg, Peter; Houtman, \\nDick; Koster, Willem de y Manevska, Katerina \\n(2010). «“Some Are More Equal than Others”: \\nEconomic Egalitarianism and Welfare Chauvi-\\nnism in the Netherlands». Journal of European \\nSocial Policy, 20(4): 350-363.\\nWooldridge, Jeffrey M. (2015). Introductory Econo-\\nmetrics: A Modern Approach. Ohio: South-Wes-\\ntern. Cengage Learning.\\nRECEPCIÓN: 05/04/2023'), Document(id='6750e336-2e24-4cec-b5eb-fcdb332479bb', metadata={'source': 'data/Dialnet-LaJuventudValencianaYSuHeterogeneidadAnteLaCuartaO-9416656.pdf', 'page': 16, 'start_index': 3221}, page_content='Take Us: A New Generation Wrestles with the Gen-\\nder Structure. New York: Oxford University Press.\\nRivas, Miguel (2021). «Contra las mujeres: el dis-\\ncurso misógino de Vox. “Palabras gruñido” del \\nnacional-populismo español». Investigaciones \\nFeministas, 12(1): 67-77. doi:\\xa010.5209/infe.69585\\nRottenberg, Catherine A. (2018). The Rise of Neolibe-\\nral Feminism. New York: Oxford University Press. \\ndoi:\\xa010.1093/oso/9780190901226.001.0001\\nSanfélix, Joan (2020). La brújula rota de la masculini-\\ndad. València: Tirant lo Blanch.\\nScharff, Christina M. (2021). «From Unspeakability \\nto Inequality Talk: Why Conversations about In-\\nequalities May Not Lead to Change». Open Li-\\nbrary of Humanities, 7(2). doi: 10.16995/olh.4674\\nTomasini, Marina y Morales, Gabriela (2022). «“La \\nmarea verde violeta”. Feminismo, juventudes y \\nescuela secundaria en Córdoba, Argentina». Re-\\nvista Izquierdas, 51: 1-18.\\nRECEPCIÓN: 12/01/2023\\nREVISIÓN: 08/05/2023\\nAPROBACIÓN: 10/10/2023')]\n",
      "\n",
      "\n",
      "Answer: Los artículos disponibles incluyen: \"Efectos primarios y secundarios del origen social en la transición a la educación posobligatoria en España\" de Manuel T. Valdés, \"Contra las mujeres: el discurso misógino de Vox\" de Miguel Rivas, y \"The Rise of Neoliberal Feminism\" de Catherine A. Rottenberg. También se menciona \"La brújula rota de la masculinidad\" de Joan Sanfélix y \"From Unspeakability to Inequality Talk\" de Christina M. Scharff.\n"
     ]
    }
   ],
   "source": [
    "result = graph.invoke({\"question\": \"Listame los articulos que tengas disponible\"})\n",
    "\n",
    "print(f'Context: {result[\"context\"]}\\n\\n')\n",
    "print(f'Answer: {result[\"answer\"]}')"
   ]
  },
  {
   "cell_type": "code",
   "execution_count": null,
   "metadata": {},
   "outputs": [],
   "source": []
  }
 ],
 "metadata": {
  "kernelspec": {
   "display_name": "venv_langchain",
   "language": "python",
   "name": "python3"
  },
  "language_info": {
   "codemirror_mode": {
    "name": "ipython",
    "version": 3
   },
   "file_extension": ".py",
   "mimetype": "text/x-python",
   "name": "python",
   "nbconvert_exporter": "python",
   "pygments_lexer": "ipython3",
   "version": "3.12.3"
  }
 },
 "nbformat": 4,
 "nbformat_minor": 2
}
